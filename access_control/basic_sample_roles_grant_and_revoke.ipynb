{
 "cells": [
  {
   "cell_type": "markdown",
   "metadata": {},
   "source": [
    "# Trabalhando com Permissoes por meio de Role, Grant e Revoke"
   ]
  },
  {
   "cell_type": "markdown",
   "metadata": {},
   "source": [
    "### Conectando na base de dados e verificando roles existentes"
   ]
  },
  {
   "cell_type": "code",
   "execution_count": 1,
   "metadata": {},
   "outputs": [
    {
     "data": {
      "text/html": [
       "<div>\n",
       "<style scoped>\n",
       "    .dataframe tbody tr th:only-of-type {\n",
       "        vertical-align: middle;\n",
       "    }\n",
       "\n",
       "    .dataframe tbody tr th {\n",
       "        vertical-align: top;\n",
       "    }\n",
       "\n",
       "    .dataframe thead th {\n",
       "        text-align: right;\n",
       "    }\n",
       "</style>\n",
       "<table border=\"1\" class=\"dataframe\">\n",
       "  <thead>\n",
       "    <tr style=\"text-align: right;\">\n",
       "      <th></th>\n",
       "      <th>rolname</th>\n",
       "    </tr>\n",
       "  </thead>\n",
       "  <tbody>\n",
       "    <tr>\n",
       "      <th>0</th>\n",
       "      <td>pg_monitor</td>\n",
       "    </tr>\n",
       "    <tr>\n",
       "      <th>1</th>\n",
       "      <td>pg_read_all_settings</td>\n",
       "    </tr>\n",
       "    <tr>\n",
       "      <th>2</th>\n",
       "      <td>pg_read_all_stats</td>\n",
       "    </tr>\n",
       "    <tr>\n",
       "      <th>3</th>\n",
       "      <td>pg_stat_scan_tables</td>\n",
       "    </tr>\n",
       "    <tr>\n",
       "      <th>4</th>\n",
       "      <td>pg_signal_backend</td>\n",
       "    </tr>\n",
       "    <tr>\n",
       "      <th>5</th>\n",
       "      <td>postgres</td>\n",
       "    </tr>\n",
       "  </tbody>\n",
       "</table>\n",
       "</div>"
      ],
      "text/plain": [
       "                rolname\n",
       "0            pg_monitor\n",
       "1  pg_read_all_settings\n",
       "2     pg_read_all_stats\n",
       "3   pg_stat_scan_tables\n",
       "4     pg_signal_backend\n",
       "5              postgres"
      ]
     },
     "execution_count": 1,
     "metadata": {},
     "output_type": "execute_result"
    }
   ],
   "source": [
    "import psycopg2\n",
    "import pandas as pd\n",
    "conexao = psycopg2.connect(host=\"localhost\",\n",
    "                                database=\"empresa\", \n",
    "                                user=\"postgres\", \n",
    "                                password=\"123456\",\n",
    "                                port=5432)\n",
    "res = pd.read_sql_query(\"\"\"SELECT rolname FROM pg_roles\"\"\",conexao)\n",
    "conexao.close()\n",
    "res"
   ]
  },
  {
   "cell_type": "markdown",
   "metadata": {},
   "source": [
    "## Criando função de gerenciamento de conexao e execucao de códigos com postgres"
   ]
  },
  {
   "cell_type": "markdown",
   "metadata": {},
   "source": [
    "#### O objetivo da função abaixo inclui executar todo processo de controle de erros de código SQL e gerenciamento de conexão, de modo que possamos manter o foco nas novas instruções que serão apresentadas. Observe que somente o Status da execução é retornado, possibilitando avaliar se a instrução foi executada e ter uma ideia do resultado."
   ]
  },
  {
   "cell_type": "code",
   "execution_count": 2,
   "metadata": {},
   "outputs": [],
   "source": [
    "def execute_code_postgres(codigo_sql):\n",
    "    import psycopg2\n",
    "    import pandas as pd\n",
    "    conexao = None\n",
    "    try:\n",
    "        \"\"\" Connect to the PostgreSQL database server \"\"\"\n",
    "        conexao = psycopg2.connect(host=\"localhost\",\n",
    "                                database=\"empresa\", \n",
    "                                user=\"postgres\", \n",
    "                                password =\"123456\",   \n",
    "                                port=5432)\n",
    "        cursor_elephant = conexao.cursor()\n",
    "        cursor_elephant.execute(codigo_sql)\n",
    "        # close the communication with the PostgreSQL\n",
    "        print(cursor_elephant.statusmessage)\n",
    "        cursor_elephant.close()\n",
    "    except (Exception, psycopg2.DatabaseError) as error:\n",
    "        print(error)\n",
    "        if conexao is not None:\n",
    "            conexao.rollback()\n",
    "        print(\"\"\" ==================================\"\"\")\n",
    "        print(\"\"\">>>>>>>   Processing ERROR   <<<<<<\"\"\")\n",
    "        print(\"\"\" ==================================\"\"\")\n",
    "    else:\n",
    "        if conexao is not None:\n",
    "            conexao.commit()\n",
    "        print(\"\"\">>>>>>>    Processing performed correctly     <<<<<<\"\"\")\n",
    "        \n",
    "    finally:\n",
    "        if conexao is not None:\n",
    "            conexao.close()\n",
    "            print('Database connection closed.')\n",
    "            "
   ]
  },
  {
   "cell_type": "markdown",
   "metadata": {},
   "source": [
    "#### Ao executar a função \"execute_code_postgres\" o somente será necessário enviar a instrução a ser executada. Observe que além de informar se tudo ocorreu corretamente ou com algum erro, o conjunto de instruções cursor_elephant.statusmessage possibilita verificar qual foi a instrução executada.  "
   ]
  },
  {
   "cell_type": "code",
   "execution_count": 3,
   "metadata": {},
   "outputs": [
    {
     "name": "stdout",
     "output_type": "stream",
     "text": [
      "SELECT 8\n",
      ">>>>>>>    Processing performed correctly     <<<<<<\n",
      "Database connection closed.\n"
     ]
    }
   ],
   "source": [
    "execute_code_postgres(\"\"\"select * from empregado\"\"\")"
   ]
  },
  {
   "cell_type": "markdown",
   "metadata": {},
   "source": [
    "# Criando Novo usuário no banco de dados."
   ]
  },
  {
   "cell_type": "markdown",
   "metadata": {},
   "source": [
    "### CREATE ROLE role_name;\n",
    "Possibilita criar um grupo ou usuário de acesso ao sistema."
   ]
  },
  {
   "cell_type": "code",
   "execution_count": 4,
   "metadata": {},
   "outputs": [
    {
     "name": "stdout",
     "output_type": "stream",
     "text": [
      "CREATE ROLE\n",
      ">>>>>>>    Processing performed correctly     <<<<<<\n",
      "Database connection closed.\n"
     ]
    }
   ],
   "source": [
    "execute_code_postgres(\"\"\" CREATE ROLE aluno01\n",
    "\"\"\")"
   ]
  },
  {
   "cell_type": "markdown",
   "metadata": {},
   "source": [
    "## Criando função de gerenciamento de conexao e execucao de códigos com usuário criado"
   ]
  },
  {
   "cell_type": "code",
   "execution_count": 5,
   "metadata": {},
   "outputs": [],
   "source": [
    "def execute_code_aluno01(codigo_sql):\n",
    "    import psycopg2\n",
    "    import pandas as pd\n",
    "    conexao = None\n",
    "    try:\n",
    "        \"\"\" Connect to the PostgreSQL database server \"\"\"\n",
    "        conexao = psycopg2.connect(host=\"localhost\",\n",
    "                                database=\"empresa\", \n",
    "                                user=\"aluno01\", \n",
    "                                password =\"101010\",   \n",
    "                                port=5432)\n",
    "        cursor_elephant = conexao.cursor()\n",
    "        cursor_elephant.execute(codigo_sql)\n",
    "        # close the communication with the PostgreSQL\n",
    "        print(cursor_elephant.statusmessage)\n",
    "        cursor_elephant.close()\n",
    "    except (Exception, psycopg2.DatabaseError) as error:\n",
    "        print(error)\n",
    "        if conexao is not None:\n",
    "            conexao.rollback()\n",
    "        print(\"\"\" ==================================\"\"\")\n",
    "        print(\"\"\">>>>>>>   Processing ERROR   <<<<<<\"\"\")\n",
    "        print(\"\"\" ==================================\"\"\")\n",
    "    else:\n",
    "        if conexao is not None:\n",
    "            conexao.commit()\n",
    "        print(\"\"\">>>>>>>    Processing performed correctly     <<<<<<\"\"\")\n",
    "        \n",
    "    finally:\n",
    "        if conexao is not None:\n",
    "            conexao.close()\n",
    "            print('Database connection closed.')\n",
    "            "
   ]
  },
  {
   "cell_type": "markdown",
   "metadata": {},
   "source": [
    "## Tentativa de login com usuário aluno01 para acesso de informações do sistema"
   ]
  },
  {
   "cell_type": "code",
   "execution_count": 6,
   "metadata": {},
   "outputs": [
    {
     "name": "stdout",
     "output_type": "stream",
     "text": [
      "FATAL:  password authentication failed for user \"aluno01\"\n",
      "FATAL:  password authentication failed for user \"aluno01\"\n",
      "\n",
      " ==================================\n",
      ">>>>>>>   Processing ERROR   <<<<<<\n",
      " ==================================\n"
     ]
    }
   ],
   "source": [
    "execute_code_aluno01(\"\"\"select * FROM pg_database\"\"\")"
   ]
  },
  {
   "cell_type": "markdown",
   "metadata": {},
   "source": [
    "> Observe que a role criada não possui permissão de login para autenticar no sistema. Precisamos então atribuir tais permissões."
   ]
  },
  {
   "cell_type": "markdown",
   "metadata": {},
   "source": [
    "# Alterando uma role "
   ]
  },
  {
   "cell_type": "markdown",
   "metadata": {},
   "source": [
    "ALTER ROLE name [ [ WITH ] option [ ... ] ]\n",
    "\n",
    "Algumas opções que podem ser utilizadas:\n",
    "\n",
    "      SUPERUSER | NOSUPERUSER\n",
    "    | CREATEDB | NOCREATEDB\n",
    "    | CREATEROLE | NOCREATEROLE\n",
    "    | CREATEUSER | NOCREATEUSER\n",
    "    | LOGIN | NOLOGIN\n",
    "    | CONNECTION LIMIT connlimit\n",
    "    | PASSWORD 'password'\n",
    "    | VALID UNTIL 'timestamp'"
   ]
  },
  {
   "cell_type": "markdown",
   "metadata": {},
   "source": [
    "## Alterando role e adicionando permissões de login"
   ]
  },
  {
   "cell_type": "code",
   "execution_count": 7,
   "metadata": {},
   "outputs": [
    {
     "name": "stdout",
     "output_type": "stream",
     "text": [
      "ALTER ROLE\n",
      ">>>>>>>    Processing performed correctly     <<<<<<\n",
      "Database connection closed.\n"
     ]
    }
   ],
   "source": [
    "execute_code_postgres(\"\"\" alter role aluno01 with login password '101010'\n",
    "\"\"\")"
   ]
  },
  {
   "cell_type": "markdown",
   "metadata": {},
   "source": [
    "> Neste caso atribuimos ao usuario criado a permissão de login no sistema"
   ]
  },
  {
   "cell_type": "markdown",
   "metadata": {},
   "source": [
    "## Tentativa de login com usuário aluno01 para acesso de informações do sistema SGBD"
   ]
  },
  {
   "cell_type": "markdown",
   "metadata": {},
   "source": [
    "### Verificando bancos de dados existentes no sistema"
   ]
  },
  {
   "cell_type": "code",
   "execution_count": 8,
   "metadata": {},
   "outputs": [
    {
     "name": "stdout",
     "output_type": "stream",
     "text": [
      "SELECT 30\n",
      ">>>>>>>    Processing performed correctly     <<<<<<\n",
      "Database connection closed.\n"
     ]
    }
   ],
   "source": [
    "execute_code_aluno01(\"\"\"select * FROM pg_database\"\"\")"
   ]
  },
  {
   "cell_type": "code",
   "execution_count": 9,
   "metadata": {},
   "outputs": [
    {
     "name": "stdout",
     "output_type": "stream",
     "text": [
      "SELECT 27\n",
      ">>>>>>>    Processing performed correctly     <<<<<<\n",
      "Database connection closed.\n"
     ]
    }
   ],
   "source": [
    "execute_code_aluno01(\"\"\"select * FROM pg_tables where schemaname='public'\"\"\")"
   ]
  },
  {
   "cell_type": "markdown",
   "metadata": {},
   "source": [
    "## Tentativa de acess a uma tabela específica de um determinado banco de dados do sistema"
   ]
  },
  {
   "cell_type": "code",
   "execution_count": 10,
   "metadata": {},
   "outputs": [
    {
     "name": "stdout",
     "output_type": "stream",
     "text": [
      "permission denied for relation empregado\n",
      "\n",
      " ==================================\n",
      ">>>>>>>   Processing ERROR   <<<<<<\n",
      " ==================================\n",
      "Database connection closed.\n"
     ]
    }
   ],
   "source": [
    "execute_code_aluno01(\"\"\"select * from empregado\"\"\")"
   ]
  },
  {
   "cell_type": "markdown",
   "metadata": {},
   "source": [
    "> isto aconteceu, pois apesar de atribuirmos um login ao aluno01 não definimos permissões de acesso para ele para a tabela desejada"
   ]
  },
  {
   "cell_type": "markdown",
   "metadata": {},
   "source": [
    "# Utilizando Grant e Revoke para atribuir permissões"
   ]
  },
  {
   "cell_type": "markdown",
   "metadata": {},
   "source": [
    "Depois de atribuir permissões de login a um novo usuário é possível \"logar\" no banco de dados"
   ]
  },
  {
   "cell_type": "code",
   "execution_count": 11,
   "metadata": {},
   "outputs": [
    {
     "name": "stdout",
     "output_type": "stream",
     "text": [
      "GRANT\n",
      ">>>>>>>    Processing performed correctly     <<<<<<\n",
      "Database connection closed.\n"
     ]
    }
   ],
   "source": [
    "execute_code_postgres(\"\"\"GRANT SELECT\n",
    "ON  empregado\n",
    "TO  aluno01\"\"\")"
   ]
  },
  {
   "cell_type": "markdown",
   "metadata": {},
   "source": [
    "# Acessando a tabela empregado"
   ]
  },
  {
   "cell_type": "markdown",
   "metadata": {},
   "source": [
    "#### Uma vez que as permissões foram atribuídas podemos acessar a tabela conforme observadom"
   ]
  },
  {
   "cell_type": "code",
   "execution_count": 12,
   "metadata": {},
   "outputs": [
    {
     "name": "stdout",
     "output_type": "stream",
     "text": [
      "SELECT 8\n",
      ">>>>>>>    Processing performed correctly     <<<<<<\n",
      "Database connection closed.\n"
     ]
    }
   ],
   "source": [
    "execute_code_aluno01(\"\"\"select * from empregado\"\"\")"
   ]
  },
  {
   "cell_type": "markdown",
   "metadata": {},
   "source": [
    "# DROP ROLE role_name;\n",
    "Possibilita apagar um grupo ou usuário de acesso do sistema."
   ]
  },
  {
   "cell_type": "code",
   "execution_count": 13,
   "metadata": {},
   "outputs": [
    {
     "name": "stdout",
     "output_type": "stream",
     "text": [
      "role \"aluno01\" cannot be dropped because some objects depend on it\n",
      "DETAIL:  privileges for table empregado\n",
      "\n",
      " ==================================\n",
      ">>>>>>>   Processing ERROR   <<<<<<\n",
      " ==================================\n",
      "Database connection closed.\n"
     ]
    }
   ],
   "source": [
    "execute_code_postgres(\"\"\" drop role aluno01\n",
    "\"\"\")"
   ]
  },
  {
   "cell_type": "markdown",
   "metadata": {},
   "source": [
    "> Observe que neste caso precisamos antes remover as permissoes definidas para o usuario aluno01, pois este usuário tem permissões relacionadas a tabela empregado."
   ]
  },
  {
   "cell_type": "markdown",
   "metadata": {},
   "source": [
    "# Removendo permissões do usuário aluno01 relativas a tabela empregado."
   ]
  },
  {
   "cell_type": "code",
   "execution_count": 14,
   "metadata": {},
   "outputs": [
    {
     "name": "stdout",
     "output_type": "stream",
     "text": [
      "REVOKE\n",
      ">>>>>>>    Processing performed correctly     <<<<<<\n",
      "Database connection closed.\n"
     ]
    }
   ],
   "source": [
    "execute_code_postgres(\"\"\" \n",
    "revoke select \n",
    "on empregado \n",
    "from aluno01\n",
    "\"\"\")"
   ]
  },
  {
   "cell_type": "markdown",
   "metadata": {},
   "source": [
    "# DROP ROLE role_name;\n",
    "Possibilita apagar um grupo ou usuário de acesso do sistema."
   ]
  },
  {
   "cell_type": "code",
   "execution_count": 15,
   "metadata": {},
   "outputs": [
    {
     "name": "stdout",
     "output_type": "stream",
     "text": [
      "DROP ROLE\n",
      ">>>>>>>    Processing performed correctly     <<<<<<\n",
      "Database connection closed.\n"
     ]
    }
   ],
   "source": [
    "execute_code_postgres(\"\"\" drop role aluno01\n",
    "\"\"\")"
   ]
  },
  {
   "cell_type": "markdown",
   "metadata": {},
   "source": [
    "### Pronto, agora o usuário/role aluno01 foi excluído do sgbd."
   ]
  }
 ],
 "metadata": {
  "kernelspec": {
   "display_name": "Python 3",
   "language": "python",
   "name": "python3"
  },
  "language_info": {
   "codemirror_mode": {
    "name": "ipython",
    "version": 3
   },
   "file_extension": ".py",
   "mimetype": "text/x-python",
   "name": "python",
   "nbconvert_exporter": "python",
   "pygments_lexer": "ipython3",
   "version": "3.6.7"
  }
 },
 "nbformat": 4,
 "nbformat_minor": 2
}
