{
 "cells": [
  {
   "cell_type": "markdown",
   "metadata": {},
   "source": [
    "# Criando Cópias de segurança e Restaurando Bancos de dados"
   ]
  },
  {
   "cell_type": "markdown",
   "metadata": {},
   "source": [
    "### Criando banco de dados"
   ]
  },
  {
   "cell_type": "code",
   "execution_count": 1,
   "metadata": {},
   "outputs": [],
   "source": [
    "import psycopg2\n",
    "conn = psycopg2.connect(host=\"localhost\",database=\"postgres\", user=\"postgres\", password=\"123456\")\n",
    "cur = conn.cursor()\n",
    "cur.execute('commit')\n",
    "cur.execute(\"drop database if exists bk_estudo\")\n",
    "cur.execute(\"\"\"\n",
    "    CREATE DATABASE bk_estudo\n",
    "    WITH \n",
    "    OWNER = postgres\n",
    "    ENCODING = 'UTF8'\n",
    "    CONNECTION LIMIT = -1;\n",
    "    \"\"\")\n",
    "conn.commit()\n",
    "conn.close()"
   ]
  },
  {
   "cell_type": "markdown",
   "metadata": {},
   "source": [
    "### Criando tabela e registros de exemplo"
   ]
  },
  {
   "cell_type": "code",
   "execution_count": 2,
   "metadata": {},
   "outputs": [],
   "source": [
    "import psycopg2\n",
    "conn = psycopg2.connect(host=\"localhost\",database=\"bk_estudo\", user=\"postgres\", password=\"123456\")\n",
    "cur = conn.cursor()\n",
    "cur.execute(\"start transaction\")\n",
    "cur.execute(\"\"\"\n",
    "            create table table_bk_estudo \n",
    "            (cod_bk integer primary key,\n",
    "            nome_bk varchar(80)); \"\"\")\n",
    "cur.execute(\"\"\" insert into table_bk_estudo \n",
    "            values  (1,'nome01_bk'),\n",
    "                    (2,'nome02_bk'),\n",
    "                    (3,'nome03_bk');\"\"\")\n",
    "cur.execute(\"commit\")\n",
    "cur.close()\n",
    "conn.close()"
   ]
  },
  {
   "cell_type": "markdown",
   "metadata": {},
   "source": [
    "# Criando aquivo de backup no formato plain text"
   ]
  },
  {
   "cell_type": "code",
   "execution_count": 3,
   "metadata": {},
   "outputs": [],
   "source": [
    "!PGPASSWORD=123456 pg_dump --host=localhost --user=postgres --dbname=bk_estudo> bk_estudo/bk_estudo_plain.sql"
   ]
  },
  {
   "cell_type": "code",
   "execution_count": 4,
   "metadata": {},
   "outputs": [
    {
     "name": "stdout",
     "output_type": "stream",
     "text": [
      "total 4\r\n",
      "-rw-r--r-- 1 dbaprof dbaprof 1516 set  8 20:19 bk_estudo_plain.sql\r\n"
     ]
    }
   ],
   "source": [
    "!ls -l bk_estudo/"
   ]
  },
  {
   "cell_type": "markdown",
   "metadata": {},
   "source": [
    "#### Outro exemplo utilizando variaveis de ambiente do postgres"
   ]
  },
  {
   "cell_type": "code",
   "execution_count": 5,
   "metadata": {},
   "outputs": [],
   "source": [
    "!PGHOST=localhost PGPORT=5432  PGDATABASE=bk_estudo  PGUSER=postgres PGPASSWORD=123456 \\\n",
    "pg_dump > bk_estudo/bk_estudo_plain.sql"
   ]
  },
  {
   "cell_type": "markdown",
   "metadata": {},
   "source": [
    "# Verificando arquivo criado e conteúdo SQL"
   ]
  },
  {
   "cell_type": "code",
   "execution_count": 6,
   "metadata": {},
   "outputs": [
    {
     "name": "stdout",
     "output_type": "stream",
     "text": [
      "bk_estudo_plain.sql\r\n"
     ]
    }
   ],
   "source": [
    "!ls  bk_estudo/"
   ]
  },
  {
   "cell_type": "code",
   "execution_count": 7,
   "metadata": {},
   "outputs": [
    {
     "name": "stdout",
     "output_type": "stream",
     "text": [
      "--\r\n",
      "-- PostgreSQL database dump\r\n",
      "--\r\n",
      "\r\n",
      "-- Dumped from database version 10.12 (Ubuntu 10.12-0ubuntu0.18.04.1)\r\n",
      "-- Dumped by pg_dump version 10.12 (Ubuntu 10.12-0ubuntu0.18.04.1)\r\n",
      "\r\n",
      "SET statement_timeout = 0;\r\n",
      "SET lock_timeout = 0;\r\n",
      "SET idle_in_transaction_session_timeout = 0;\r\n",
      "SET client_encoding = 'UTF8';\r\n",
      "SET standard_conforming_strings = on;\r\n",
      "SELECT pg_catalog.set_config('search_path', '', false);\r\n",
      "SET check_function_bodies = false;\r\n",
      "SET xmloption = content;\r\n",
      "SET client_min_messages = warning;\r\n",
      "SET row_security = off;\r\n",
      "\r\n",
      "--\r\n",
      "-- Name: plpgsql; Type: EXTENSION; Schema: -; Owner: \r\n",
      "--\r\n",
      "\r\n",
      "CREATE EXTENSION IF NOT EXISTS plpgsql WITH SCHEMA pg_catalog;\r\n",
      "\r\n",
      "\r\n",
      "--\r\n",
      "-- Name: EXTENSION plpgsql; Type: COMMENT; Schema: -; Owner: \r\n",
      "--\r\n",
      "\r\n",
      "COMMENT ON EXTENSION plpgsql IS 'PL/pgSQL procedural language';\r\n",
      "\r\n",
      "\r\n",
      "SET default_tablespace = '';\r\n",
      "\r\n",
      "SET default_with_oids = false;\r\n",
      "\r\n",
      "--\r\n",
      "-- Name: table_bk_estudo; Type: TABLE; Schema: public; Owner: postgres\r\n",
      "--\r\n",
      "\r\n",
      "CREATE TABLE public.table_bk_estudo (\r\n",
      "    cod_bk integer NOT NULL,\r\n",
      "    nome_bk character varying(80)\r\n",
      ");\r\n",
      "\r\n",
      "\r\n",
      "ALTER TABLE public.table_bk_estudo OWNER TO postgres;\r\n",
      "\r\n",
      "--\r\n",
      "-- Data for Name: table_bk_estudo; Type: TABLE DATA; Schema: public; Owner: postgres\r\n",
      "--\r\n",
      "\r\n",
      "COPY public.table_bk_estudo (cod_bk, nome_bk) FROM stdin;\r\n",
      "1\tnome01_bk\r\n",
      "2\tnome02_bk\r\n",
      "3\tnome03_bk\r\n",
      "\\.\r\n",
      "\r\n",
      "\r\n",
      "--\r\n",
      "-- Name: table_bk_estudo table_bk_estudo_pkey; Type: CONSTRAINT; Schema: public; Owner: postgres\r\n",
      "--\r\n",
      "\r\n",
      "ALTER TABLE ONLY public.table_bk_estudo\r\n",
      "    ADD CONSTRAINT table_bk_estudo_pkey PRIMARY KEY (cod_bk);\r\n",
      "\r\n",
      "\r\n",
      "--\r\n",
      "-- PostgreSQL database dump complete\r\n",
      "--\r\n",
      "\r\n"
     ]
    }
   ],
   "source": [
    "!cat bk_estudo/bk_estudo_plain.sql"
   ]
  },
  {
   "cell_type": "markdown",
   "metadata": {},
   "source": [
    "### O parâmetro \"--data-only\" pode ser utilizado para obter somente o conjunto de dados e o parametro --schema-only pode ser utilizado para obtenção da estrutura do database."
   ]
  },
  {
   "cell_type": "code",
   "execution_count": 8,
   "metadata": {},
   "outputs": [],
   "source": [
    "!PGHOST=localhost PGPORT=5432  PGDATABASE=bk_estudo  PGUSER=postgres PGPASSWORD=123456 \\\n",
    "pg_dump --data-only --file='bk_estudo/bk_estudo_data_only.sql'"
   ]
  },
  {
   "cell_type": "code",
   "execution_count": 9,
   "metadata": {},
   "outputs": [],
   "source": [
    "!PGHOST=localhost PGPORT=5432  PGDATABASE=bk_estudo  PGUSER=postgres PGPASSWORD=123456 \\\n",
    "pg_dump --schema-only --file='bk_estudo/bk_estudo_schema_only.sql'"
   ]
  },
  {
   "cell_type": "code",
   "execution_count": 10,
   "metadata": {},
   "outputs": [
    {
     "name": "stdout",
     "output_type": "stream",
     "text": [
      "total 12\r\n",
      "-rw-r--r-- 1 dbaprof dbaprof 1325 set  8 20:21 bk_estudo_schema_only.sql\r\n",
      "-rw-r--r-- 1 dbaprof dbaprof  746 set  8 20:21 bk_estudo_data_only.sql\r\n",
      "-rw-r--r-- 1 dbaprof dbaprof 1516 set  8 20:20 bk_estudo_plain.sql\r\n"
     ]
    }
   ],
   "source": [
    "!ls -l --sort=time bk_estudo/"
   ]
  },
  {
   "cell_type": "markdown",
   "metadata": {},
   "source": [
    "# Vamos comparar as diferenças entre os aquivos obtidos"
   ]
  },
  {
   "cell_type": "code",
   "execution_count": 11,
   "metadata": {},
   "outputs": [
    {
     "name": "stdout",
     "output_type": "stream",
     "text": [
      "--\t\t\t\t\t\t\t\t--\r\n",
      "-- PostgreSQL database dump\t\t\t\t\t-- PostgreSQL database dump\r\n",
      "--\t\t\t\t\t\t\t\t--\r\n",
      "\r\n",
      "-- Dumped from database version 10.12 (Ubuntu 10.12-0ubuntu0.\t-- Dumped from database version 10.12 (Ubuntu 10.12-0ubuntu0.\r\n",
      "-- Dumped by pg_dump version 10.12 (Ubuntu 10.12-0ubuntu0.18.\t-- Dumped by pg_dump version 10.12 (Ubuntu 10.12-0ubuntu0.18.\r\n",
      "\r\n",
      "SET statement_timeout = 0;\t\t\t\t\tSET statement_timeout = 0;\r\n",
      "SET lock_timeout = 0;\t\t\t\t\t\tSET lock_timeout = 0;\r\n",
      "SET idle_in_transaction_session_timeout = 0;\t\t\tSET idle_in_transaction_session_timeout = 0;\r\n",
      "SET client_encoding = 'UTF8';\t\t\t\t\tSET client_encoding = 'UTF8';\r\n",
      "SET standard_conforming_strings = on;\t\t\t\tSET standard_conforming_strings = on;\r\n",
      "SELECT pg_catalog.set_config('search_path', '', false);\t\tSELECT pg_catalog.set_config('search_path', '', false);\r\n",
      "SET check_function_bodies = false;\t\t\t\tSET check_function_bodies = false;\r\n",
      "SET xmloption = content;\t\t\t\t\tSET xmloption = content;\r\n",
      "SET client_min_messages = warning;\t\t\t\tSET client_min_messages = warning;\r\n",
      "SET row_security = off;\t\t\t\t\t\tSET row_security = off;\r\n",
      "\r\n",
      "--\t\t\t\t\t\t\t\t--\r\n",
      "-- Data for Name: table_bk_estudo; Type: TABLE DATA; Schema:  |\t-- Name: plpgsql; Type: EXTENSION; Schema: -; Owner: \r\n",
      "--\t\t\t\t\t\t\t\t--\r\n",
      "\r\n",
      "COPY public.table_bk_estudo (cod_bk, nome_bk) FROM stdin;     |\tCREATE EXTENSION IF NOT EXISTS plpgsql WITH SCHEMA pg_catalog\r\n",
      "1\tnome01_bk\t\t\t\t\t      |\r\n",
      "2\tnome02_bk\t\t\t\t\t      |\r\n",
      "3\tnome03_bk\t\t\t\t\t      |\t--\r\n",
      "\\.\t\t\t\t\t\t\t      |\t-- Name: EXTENSION plpgsql; Type: COMMENT; Schema: -; Owner: \r\n",
      "\t\t\t\t\t\t\t      >\t--\r\n",
      "\t\t\t\t\t\t\t      >\r\n",
      "\t\t\t\t\t\t\t      >\tCOMMENT ON EXTENSION plpgsql IS 'PL/pgSQL procedural language\r\n",
      "\t\t\t\t\t\t\t      >\r\n",
      "\t\t\t\t\t\t\t      >\r\n",
      "\t\t\t\t\t\t\t      >\tSET default_tablespace = '';\r\n",
      "\t\t\t\t\t\t\t      >\r\n",
      "\t\t\t\t\t\t\t      >\tSET default_with_oids = false;\r\n",
      "\t\t\t\t\t\t\t      >\r\n",
      "\t\t\t\t\t\t\t      >\t--\r\n",
      "\t\t\t\t\t\t\t      >\t-- Name: table_bk_estudo; Type: TABLE; Schema: public; Owner:\r\n",
      "\t\t\t\t\t\t\t      >\t--\r\n",
      "\t\t\t\t\t\t\t      >\r\n",
      "\t\t\t\t\t\t\t      >\tCREATE TABLE public.table_bk_estudo (\r\n",
      "\t\t\t\t\t\t\t      >\t    cod_bk integer NOT NULL,\r\n",
      "\t\t\t\t\t\t\t      >\t    nome_bk character varying(80)\r\n",
      "\t\t\t\t\t\t\t      >\t);\r\n",
      "\t\t\t\t\t\t\t      >\r\n",
      "\t\t\t\t\t\t\t      >\r\n",
      "\t\t\t\t\t\t\t      >\tALTER TABLE public.table_bk_estudo OWNER TO postgres;\r\n",
      "\t\t\t\t\t\t\t      >\r\n",
      "\t\t\t\t\t\t\t      >\t--\r\n",
      "\t\t\t\t\t\t\t      >\t-- Name: table_bk_estudo table_bk_estudo_pkey; Type: CONSTRAI\r\n",
      "\t\t\t\t\t\t\t      >\t--\r\n",
      "\t\t\t\t\t\t\t      >\r\n",
      "\t\t\t\t\t\t\t      >\tALTER TABLE ONLY public.table_bk_estudo\r\n",
      "\t\t\t\t\t\t\t      >\t    ADD CONSTRAINT table_bk_estudo_pkey PRIMARY KEY (cod_bk);\r\n",
      "\r\n",
      "\r\n",
      "--\t\t\t\t\t\t\t\t--\r\n",
      "-- PostgreSQL database dump complete\t\t\t\t-- PostgreSQL database dump complete\r\n",
      "--\t\t\t\t\t\t\t\t--\r\n",
      "\r\n"
     ]
    }
   ],
   "source": [
    "!diff -y bk_estudo/bk_estudo_data_only.sql bk_estudo/bk_estudo_schema_only.sql"
   ]
  },
  {
   "cell_type": "markdown",
   "metadata": {},
   "source": [
    "# Utilizando a opção verbose "
   ]
  },
  {
   "cell_type": "markdown",
   "metadata": {},
   "source": [
    "# Criando aquivo de backup no formato custom e aplicando opção clean (realiza drop antes de reconstruir a base) "
   ]
  },
  {
   "cell_type": "code",
   "execution_count": 12,
   "metadata": {},
   "outputs": [
    {
     "name": "stdout",
     "output_type": "stream",
     "text": [
      "pg_dump: last built-in OID is 16383\n",
      "pg_dump: reading extensions\n",
      "pg_dump: identifying extension members\n",
      "pg_dump: reading schemas\n",
      "pg_dump: reading user-defined tables\n",
      "pg_dump: reading user-defined functions\n",
      "pg_dump: reading user-defined types\n",
      "pg_dump: reading procedural languages\n",
      "pg_dump: reading user-defined aggregate functions\n",
      "pg_dump: reading user-defined operators\n",
      "pg_dump: reading user-defined access methods\n",
      "pg_dump: reading user-defined operator classes\n",
      "pg_dump: reading user-defined operator families\n",
      "pg_dump: reading user-defined text search parsers\n",
      "pg_dump: reading user-defined text search templates\n",
      "pg_dump: reading user-defined text search dictionaries\n",
      "pg_dump: reading user-defined text search configurations\n",
      "pg_dump: reading user-defined foreign-data wrappers\n",
      "pg_dump: reading user-defined foreign servers\n",
      "pg_dump: reading default privileges\n",
      "pg_dump: reading user-defined collations\n",
      "pg_dump: reading user-defined conversions\n",
      "pg_dump: reading type casts\n",
      "pg_dump: reading transforms\n",
      "pg_dump: reading table inheritance information\n",
      "pg_dump: reading event triggers\n",
      "pg_dump: finding extension tables\n",
      "pg_dump: finding inheritance relationships\n",
      "pg_dump: reading column info for interesting tables\n",
      "pg_dump: finding the columns and types of table \"public.table_bk_estudo\"\n",
      "pg_dump: flagging inherited columns in subtables\n",
      "pg_dump: reading indexes\n",
      "pg_dump: reading indexes for table \"public.table_bk_estudo\"\n",
      "pg_dump: reading extended statistics\n",
      "pg_dump: reading constraints\n",
      "pg_dump: reading triggers\n",
      "pg_dump: reading rewrite rules\n",
      "pg_dump: reading policies\n",
      "pg_dump: reading row security enabled for table \"public.table_bk_estudo\"\n",
      "pg_dump: reading policies for table \"public.table_bk_estudo\"\n",
      "pg_dump: reading publications\n",
      "pg_dump: reading publication membership\n",
      "pg_dump: reading publication membership for table \"public.table_bk_estudo\"\n",
      "pg_dump: reading subscriptions\n",
      "pg_dump: reading large objects\n",
      "pg_dump: reading dependency data\n",
      "pg_dump: saving encoding = UTF8\n",
      "pg_dump: saving standard_conforming_strings = on\n",
      "pg_dump: saving search_path = \n",
      "pg_dump: saving database definition\n",
      "pg_dump: dumping contents of table \"public.table_bk_estudo\"\n"
     ]
    }
   ],
   "source": [
    "!PGHOST=localhost PGPORT=5432  PGDATABASE=bk_estudo  PGUSER=postgres PGPASSWORD=123456 \\\n",
    "pg_dump --clean --verbose --format=custom --file='bk_estudo/bk_estudo_clean_dump.custom'"
   ]
  },
  {
   "cell_type": "markdown",
   "metadata": {},
   "source": [
    "# Analisando NJobs e tempo de processamento (utilizando uma base com mais registros e tabelas)"
   ]
  },
  {
   "cell_type": "code",
   "execution_count": 13,
   "metadata": {},
   "outputs": [
    {
     "name": "stdout",
     "output_type": "stream",
     "text": [
      "Duration: 0:00:02.705846\n"
     ]
    }
   ],
   "source": [
    "from datetime import datetime \n",
    "start_time = datetime.now() \n",
    "#-----------------------------------------------------------------------------------------\n",
    "!PGHOST=localhost PGPORT=5432  PGDATABASE=dw_estudo2  PGUSER=postgres PGPASSWORD=123456 \\\n",
    "pg_dump --format=custom --file='bk_estudo/dw_estudo2_file.custom'\n",
    "#-----------------------------------------------------------------------------------------\n",
    "end_time = datetime.now() \n",
    "print('Duration: {}'.format(end_time - start_time))\n"
   ]
  },
  {
   "cell_type": "code",
   "execution_count": 14,
   "metadata": {},
   "outputs": [
    {
     "name": "stdout",
     "output_type": "stream",
     "text": [
      "Duration: 0:00:02.569895\n"
     ]
    }
   ],
   "source": [
    "from datetime import datetime \n",
    "start_time = datetime.now() \n",
    "#-----------------------------------------------------------------------------------------\n",
    "!PGHOST=localhost PGPORT=5432  PGDATABASE=dw_estudo2  PGUSER=postgres PGPASSWORD=123456 \\\n",
    "pg_dump --format=directory --jobs=8 --file='bk_estudo/dw_estudo2_directory_jobs'\n",
    "#-----------------------------------------------------------------------------------------\n",
    "end_time = datetime.now() \n",
    "print('Duration: {}'.format(end_time - start_time))"
   ]
  },
  {
   "cell_type": "code",
   "execution_count": 15,
   "metadata": {},
   "outputs": [
    {
     "name": "stdout",
     "output_type": "stream",
     "text": [
      "total 5200K\r\n",
      "-rw-r--r-- 1 dbaprof dbaprof 5100K set  8 20:24 2945.dat.gz\r\n",
      "-rw-r--r-- 1 dbaprof dbaprof   80K set  8 20:24 2949.dat.gz\r\n",
      "-rw-r--r-- 1 dbaprof dbaprof    1K set  8 20:24 2947.dat.gz\r\n",
      "-rw-r--r-- 1 dbaprof dbaprof    4K set  8 20:24 2951.dat.gz\r\n",
      "-rw-r--r-- 1 dbaprof dbaprof   12K set  8 20:24 toc.dat\r\n"
     ]
    }
   ],
   "source": [
    "!ls -l --sort=time --block-size=k 'bk_estudo/dw_estudo2_directory_jobs'"
   ]
  },
  {
   "cell_type": "markdown",
   "metadata": {},
   "source": [
    "# Acessando opções disponíveis com o --help"
   ]
  },
  {
   "cell_type": "code",
   "execution_count": 16,
   "metadata": {},
   "outputs": [
    {
     "name": "stdout",
     "output_type": "stream",
     "text": [
      "pg_dump dumps a database as a text file or to other formats.\r\n",
      "\r\n",
      "Usage:\r\n",
      "  pg_dump [OPTION]... [DBNAME]\r\n",
      "\r\n",
      "General options:\r\n",
      "  -f, --file=FILENAME          output file or directory name\r\n",
      "  -F, --format=c|d|t|p         output file format (custom, directory, tar,\r\n",
      "                               plain text (default))\r\n",
      "  -j, --jobs=NUM               use this many parallel jobs to dump\r\n",
      "  -v, --verbose                verbose mode\r\n",
      "  -V, --version                output version information, then exit\r\n",
      "  -Z, --compress=0-9           compression level for compressed formats\r\n",
      "  --lock-wait-timeout=TIMEOUT  fail after waiting TIMEOUT for a table lock\r\n",
      "  --no-sync                    do not wait for changes to be written safely to disk\r\n",
      "  -?, --help                   show this help, then exit\r\n",
      "\r\n",
      "Options controlling the output content:\r\n",
      "  -a, --data-only              dump only the data, not the schema\r\n",
      "  -b, --blobs                  include large objects in dump\r\n",
      "  -B, --no-blobs               exclude large objects in dump\r\n",
      "  -c, --clean                  clean (drop) database objects before recreating\r\n",
      "  -C, --create                 include commands to create database in dump\r\n",
      "  -E, --encoding=ENCODING      dump the data in encoding ENCODING\r\n",
      "  -n, --schema=SCHEMA          dump the named schema(s) only\r\n",
      "  -N, --exclude-schema=SCHEMA  do NOT dump the named schema(s)\r\n",
      "  -o, --oids                   include OIDs in dump\r\n",
      "  -O, --no-owner               skip restoration of object ownership in\r\n",
      "                               plain-text format\r\n",
      "  -s, --schema-only            dump only the schema, no data\r\n",
      "  -S, --superuser=NAME         superuser user name to use in plain-text format\r\n",
      "  -t, --table=TABLE            dump the named table(s) only\r\n",
      "  -T, --exclude-table=TABLE    do NOT dump the named table(s)\r\n",
      "  -x, --no-privileges          do not dump privileges (grant/revoke)\r\n",
      "  --binary-upgrade             for use by upgrade utilities only\r\n",
      "  --column-inserts             dump data as INSERT commands with column names\r\n",
      "  --disable-dollar-quoting     disable dollar quoting, use SQL standard quoting\r\n",
      "  --disable-triggers           disable triggers during data-only restore\r\n",
      "  --enable-row-security        enable row security (dump only content user has\r\n",
      "                               access to)\r\n",
      "  --exclude-table-data=TABLE   do NOT dump data for the named table(s)\r\n",
      "  --if-exists                  use IF EXISTS when dropping objects\r\n",
      "  --inserts                    dump data as INSERT commands, rather than COPY\r\n",
      "  --no-publications            do not dump publications\r\n",
      "  --no-security-labels         do not dump security label assignments\r\n",
      "  --no-subscriptions           do not dump subscriptions\r\n",
      "  --no-synchronized-snapshots  do not use synchronized snapshots in parallel jobs\r\n",
      "  --no-tablespaces             do not dump tablespace assignments\r\n",
      "  --no-unlogged-table-data     do not dump unlogged table data\r\n",
      "  --quote-all-identifiers      quote all identifiers, even if not key words\r\n",
      "  --section=SECTION            dump named section (pre-data, data, or post-data)\r\n",
      "  --serializable-deferrable    wait until the dump can run without anomalies\r\n",
      "  --snapshot=SNAPSHOT          use given snapshot for the dump\r\n",
      "  --strict-names               require table and/or schema include patterns to\r\n",
      "                               match at least one entity each\r\n",
      "  --use-set-session-authorization\r\n",
      "                               use SET SESSION AUTHORIZATION commands instead of\r\n",
      "                               ALTER OWNER commands to set ownership\r\n",
      "\r\n",
      "Connection options:\r\n",
      "  -d, --dbname=DBNAME      database to dump\r\n",
      "  -h, --host=HOSTNAME      database server host or socket directory\r\n",
      "  -p, --port=PORT          database server port number\r\n",
      "  -U, --username=NAME      connect as specified database user\r\n",
      "  -w, --no-password        never prompt for password\r\n",
      "  -W, --password           force password prompt (should happen automatically)\r\n",
      "  --role=ROLENAME          do SET ROLE before dump\r\n",
      "\r\n",
      "If no database name is supplied, then the PGDATABASE environment\r\n",
      "variable value is used.\r\n",
      "\r\n",
      "Report bugs to <pgsql-bugs@postgresql.org>.\r\n"
     ]
    }
   ],
   "source": [
    "!pg_dump --help"
   ]
  },
  {
   "cell_type": "markdown",
   "metadata": {},
   "source": [
    "# Restaurando uma base de dados com PG_RESTORE"
   ]
  },
  {
   "cell_type": "markdown",
   "metadata": {},
   "source": [
    "### Conectando no database e criando o banco de dados onde será feita restauração"
   ]
  },
  {
   "cell_type": "code",
   "execution_count": 17,
   "metadata": {},
   "outputs": [],
   "source": [
    "import psycopg2\n",
    "conn = psycopg2.connect(host=\"localhost\",database=\"postgres\", user=\"postgres\", password=\"123456\")\n",
    "cur = conn.cursor()\n",
    "cur.execute('commit')\n",
    "cur.execute(\"drop database if exists bk_estudo_restore\")\n",
    "cur.execute(\"\"\"\n",
    "    CREATE DATABASE bk_estudo_restore\n",
    "    WITH \n",
    "    OWNER = postgres\n",
    "    ENCODING = 'UTF8'\n",
    "    CONNECTION LIMIT = -1;\n",
    "    \"\"\")\n",
    "conn.close()"
   ]
  },
  {
   "cell_type": "markdown",
   "metadata": {},
   "source": [
    "### Verificando o arquivos criados anteriormente"
   ]
  },
  {
   "cell_type": "code",
   "execution_count": 18,
   "metadata": {},
   "outputs": [
    {
     "name": "stdout",
     "output_type": "stream",
     "text": [
      "total 5224\r\n",
      "-rw-r--r-- 1 dbaprof dbaprof    2638 set  8 20:23 bk_estudo_clean_dump.custom\r\n",
      "-rw-r--r-- 1 dbaprof dbaprof     746 set  8 20:21 bk_estudo_data_only.sql\r\n",
      "-rw-r--r-- 1 dbaprof dbaprof    1516 set  8 20:20 bk_estudo_plain.sql\r\n",
      "-rw-r--r-- 1 dbaprof dbaprof    1325 set  8 20:21 bk_estudo_schema_only.sql\r\n",
      "drwx------ 2 dbaprof dbaprof    4096 set  8 20:24 dw_estudo2_directory_jobs\r\n",
      "-rw-r--r-- 1 dbaprof dbaprof 5326319 set  8 20:24 dw_estudo2_file.custom\r\n"
     ]
    }
   ],
   "source": [
    "!ls -l bk_estudo/"
   ]
  },
  {
   "cell_type": "markdown",
   "metadata": {},
   "source": [
    "### Escolheremos o arquivo 'bk_estudo_clean_dump.custom' e também vamos aplicar a opção verbose para acompanhar-mos o resultado"
   ]
  },
  {
   "cell_type": "code",
   "execution_count": 19,
   "metadata": {},
   "outputs": [
    {
     "name": "stdout",
     "output_type": "stream",
     "text": [
      "pg_restore: connecting to database for restore\n",
      "pg_restore: creating SCHEMA \"public\"\n",
      "pg_restore: creating COMMENT \"SCHEMA public\"\n",
      "pg_restore: creating EXTENSION \"plpgsql\"\n",
      "pg_restore: creating COMMENT \"EXTENSION plpgsql\"\n",
      "pg_restore: creating TABLE \"public.table_bk_estudo\"\n",
      "pg_restore: processing data for table \"public.table_bk_estudo\"\n",
      "pg_restore: creating CONSTRAINT \"public.table_bk_estudo table_bk_estudo_pkey\"\n",
      "pg_restore: creating ACL \"SCHEMA public\"\n"
     ]
    }
   ],
   "source": [
    "!PGHOST=localhost PGPORT=5432  PGDATABASE=bk_estudo_restore  PGUSER=postgres PGPASSWORD=123456 \\\n",
    "pg_restore --dbname 'bk_estudo_restore' --verbose bk_estudo/bk_estudo_clean_dump.custom"
   ]
  },
  {
   "cell_type": "markdown",
   "metadata": {},
   "source": [
    "### Conectando a base de dados onde ocorreu restauração e aplicando select para verificar os dados"
   ]
  },
  {
   "cell_type": "code",
   "execution_count": 20,
   "metadata": {},
   "outputs": [
    {
     "name": "stdout",
     "output_type": "stream",
     "text": [
      "(1, 'nome01_bk')\n",
      "(2, 'nome02_bk')\n",
      "(3, 'nome03_bk')\n"
     ]
    }
   ],
   "source": [
    "import psycopg2\n",
    "conn = psycopg2.connect(host=\"localhost\",database=\"bk_estudo_restore\", user=\"postgres\", password=\"123456\")\n",
    "cur = conn.cursor()\n",
    "cur.execute(\"select * from table_bk_estudo\")\n",
    "for i in cur:\n",
    "    print(i)\n",
    "conn.close()"
   ]
  }
 ],
 "metadata": {
  "kernelspec": {
   "display_name": "Python 3",
   "language": "python",
   "name": "python3"
  },
  "language_info": {
   "codemirror_mode": {
    "name": "ipython",
    "version": 3
   },
   "file_extension": ".py",
   "mimetype": "text/x-python",
   "name": "python",
   "nbconvert_exporter": "python",
   "pygments_lexer": "ipython3",
   "version": "3.6.9"
  }
 },
 "nbformat": 4,
 "nbformat_minor": 4
}
