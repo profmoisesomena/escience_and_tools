{
 "cells": [
  {
   "cell_type": "markdown",
   "metadata": {},
   "source": [
    "# Este exemplo contém apenas 1000 registros Covid19-ES\n",
    "\n",
    "Criando Sessão"
   ]
  },
  {
   "cell_type": "code",
   "execution_count": 1,
   "metadata": {},
   "outputs": [
    {
     "name": "stderr",
     "output_type": "stream",
     "text": [
      "/media/msonl2/DATA/Backups_dinamicos/mv_permanentes_linux/ambientes_teste/olap/lib/python3.8/site-packages/pandas/compat/__init__.py:97: UserWarning: Could not import the lzma module. Your installed Python is incomplete. Attempting to use lzma compression will result in a RuntimeError.\n",
      "  warnings.warn(msg)\n"
     ]
    }
   ],
   "source": [
    "import atoti as tt\n",
    "\n",
    "session = tt.create_session()"
   ]
  },
  {
   "cell_type": "markdown",
   "metadata": {},
   "source": [
    "A tabela dim_data possui mais de 1000 registros, nestes casos é presciso aplicar a instrução \"session.load_all_data()\""
   ]
  },
  {
   "cell_type": "code",
   "execution_count": 2,
   "metadata": {},
   "outputs": [],
   "source": [
    "session.load_all_data()"
   ]
  },
  {
   "cell_type": "markdown",
   "metadata": {},
   "source": [
    "Carregando dados do arquivo csv para a store \"fato_store\""
   ]
  },
  {
   "cell_type": "code",
   "execution_count": 3,
   "metadata": {},
   "outputs": [],
   "source": [
    "fato_store = session.read_csv(\"fato_covid19.csv\", keys=[\"id\"])"
   ]
  },
  {
   "cell_type": "markdown",
   "metadata": {},
   "source": [
    "Visualizando o que foi carregado na Store"
   ]
  },
  {
   "cell_type": "code",
   "execution_count": 4,
   "metadata": {},
   "outputs": [
    {
     "data": {
      "application/json": {
       "dcod_individuo": {
        "key": false,
        "nullable": true,
        "type": "int"
       },
       "dcod_local": {
        "key": false,
        "nullable": true,
        "type": "int"
       },
       "dcod_sint_cmorb": {
        "key": false,
        "nullable": true,
        "type": "int"
       },
       "dim_id_data_not": {
        "key": false,
        "nullable": true,
        "type": "int"
       },
       "id": {
        "key": true,
        "nullable": false,
        "type": "int"
       },
       "qtd": {
        "key": false,
        "nullable": true,
        "type": "double"
       }
      },
      "text/html": [
       "<ul>\n",
       "<li>Fato_covid19\n",
       "  <ul>\n",
       "  <li>id\n",
       "    <ul>\n",
       "    <li>key: True</li>\n",
       "    <li>nullable: False</li>\n",
       "    <li>type: int</li>\n",
       "    </ul>\n",
       "  </li>\n",
       "  <li>dcod_local\n",
       "    <ul>\n",
       "    <li>key: False</li>\n",
       "    <li>nullable: True</li>\n",
       "    <li>type: int</li>\n",
       "    </ul>\n",
       "  </li>\n",
       "  <li>dcod_individuo\n",
       "    <ul>\n",
       "    <li>key: False</li>\n",
       "    <li>nullable: True</li>\n",
       "    <li>type: int</li>\n",
       "    </ul>\n",
       "  </li>\n",
       "  <li>dcod_sint_cmorb\n",
       "    <ul>\n",
       "    <li>key: False</li>\n",
       "    <li>nullable: True</li>\n",
       "    <li>type: int</li>\n",
       "    </ul>\n",
       "  </li>\n",
       "  <li>dim_id_data_not\n",
       "    <ul>\n",
       "    <li>key: False</li>\n",
       "    <li>nullable: True</li>\n",
       "    <li>type: int</li>\n",
       "    </ul>\n",
       "  </li>\n",
       "  <li>qtd\n",
       "    <ul>\n",
       "    <li>key: False</li>\n",
       "    <li>nullable: True</li>\n",
       "    <li>type: double</li>\n",
       "    </ul>\n",
       "  </li>\n",
       "  </ul>\n",
       "</li>\n",
       "</ul>\n"
      ],
      "text/plain": [
       "Store(_name='Fato_covid19', _scenario='Base', _columns={'id': Column(name='id', data_type=DataType(java_type='int', nullable=False)), 'dcod_local': Column(name='dcod_local', data_type=DataType(java_type='int', nullable=True)), 'dcod_individuo': Column(name='dcod_individuo', data_type=DataType(java_type='int', nullable=True)), 'dcod_sint_cmorb': Column(name='dcod_sint_cmorb', data_type=DataType(java_type='int', nullable=True)), 'dim_id_data_not': Column(name='dim_id_data_not', data_type=DataType(java_type='int', nullable=True)), 'qtd': Column(name='qtd', data_type=DataType(java_type='double', nullable=True))})"
      ]
     },
     "execution_count": 4,
     "metadata": {
      "application/json": {
       "expanded": true,
       "root": "Fato_covid19"
      }
     },
     "output_type": "execute_result"
    }
   ],
   "source": [
    "fato_store"
   ]
  },
  {
   "cell_type": "code",
   "execution_count": 5,
   "metadata": {},
   "outputs": [
    {
     "data": {
      "text/html": [
       "<div>\n",
       "<style scoped>\n",
       "    .dataframe tbody tr th:only-of-type {\n",
       "        vertical-align: middle;\n",
       "    }\n",
       "\n",
       "    .dataframe tbody tr th {\n",
       "        vertical-align: top;\n",
       "    }\n",
       "\n",
       "    .dataframe thead th {\n",
       "        text-align: right;\n",
       "    }\n",
       "</style>\n",
       "<table border=\"1\" class=\"dataframe\">\n",
       "  <thead>\n",
       "    <tr style=\"text-align: right;\">\n",
       "      <th></th>\n",
       "      <th>dcod_local</th>\n",
       "      <th>dcod_individuo</th>\n",
       "      <th>dcod_sint_cmorb</th>\n",
       "      <th>dim_id_data_not</th>\n",
       "      <th>qtd</th>\n",
       "    </tr>\n",
       "    <tr>\n",
       "      <th>id</th>\n",
       "      <th></th>\n",
       "      <th></th>\n",
       "      <th></th>\n",
       "      <th></th>\n",
       "      <th></th>\n",
       "    </tr>\n",
       "  </thead>\n",
       "  <tbody>\n",
       "    <tr>\n",
       "      <th>1.0</th>\n",
       "      <td>1.0</td>\n",
       "      <td>1.0</td>\n",
       "      <td>1.0</td>\n",
       "      <td>875.0</td>\n",
       "      <td>1.0</td>\n",
       "    </tr>\n",
       "    <tr>\n",
       "      <th>6.0</th>\n",
       "      <td>2.0</td>\n",
       "      <td>2.0</td>\n",
       "      <td>2.0</td>\n",
       "      <td>875.0</td>\n",
       "      <td>1.0</td>\n",
       "    </tr>\n",
       "    <tr>\n",
       "      <th>16.0</th>\n",
       "      <td>3.0</td>\n",
       "      <td>3.0</td>\n",
       "      <td>3.0</td>\n",
       "      <td>875.0</td>\n",
       "      <td>1.0</td>\n",
       "    </tr>\n",
       "    <tr>\n",
       "      <th>30.0</th>\n",
       "      <td>4.0</td>\n",
       "      <td>4.0</td>\n",
       "      <td>4.0</td>\n",
       "      <td>875.0</td>\n",
       "      <td>1.0</td>\n",
       "    </tr>\n",
       "    <tr>\n",
       "      <th>41.0</th>\n",
       "      <td>5.0</td>\n",
       "      <td>5.0</td>\n",
       "      <td>5.0</td>\n",
       "      <td>875.0</td>\n",
       "      <td>1.0</td>\n",
       "    </tr>\n",
       "  </tbody>\n",
       "</table>\n",
       "</div>"
      ],
      "text/plain": [
       "      dcod_local  dcod_individuo  dcod_sint_cmorb  dim_id_data_not  qtd\n",
       "id                                                                     \n",
       "1.0          1.0             1.0              1.0            875.0  1.0\n",
       "6.0          2.0             2.0              2.0            875.0  1.0\n",
       "16.0         3.0             3.0              3.0            875.0  1.0\n",
       "30.0         4.0             4.0              4.0            875.0  1.0\n",
       "41.0         5.0             5.0              5.0            875.0  1.0"
      ]
     },
     "execution_count": 5,
     "metadata": {},
     "output_type": "execute_result"
    }
   ],
   "source": [
    "fato_store.head()"
   ]
  },
  {
   "cell_type": "markdown",
   "metadata": {},
   "source": [
    "Criando um Cubo:"
   ]
  },
  {
   "cell_type": "code",
   "execution_count": 6,
   "metadata": {},
   "outputs": [],
   "source": [
    "cube = session.create_cube(fato_store)"
   ]
  },
  {
   "cell_type": "markdown",
   "metadata": {},
   "source": [
    "Listando hierarquias (eixos do cubo). Lembre que o propósito do cubo é visualizar alguns indicadores numéricos em específicos contexto do cubo. Estes indicadores são denominados medidas. "
   ]
  },
  {
   "cell_type": "code",
   "execution_count": 7,
   "metadata": {},
   "outputs": [
    {
     "data": {
      "application/json": {
       "Fato_covid19": {
        "dcod_individuo": [
         "dcod_individuo"
        ],
        "dcod_local": [
         "dcod_local"
        ],
        "dcod_sint_cmorb": [
         "dcod_sint_cmorb"
        ],
        "dim_id_data_not": [
         "dim_id_data_not"
        ],
        "id": [
         "id"
        ]
       }
      },
      "text/html": [
       "<ul>\n",
       "<li>Dimensions\n",
       "  <ul>\n",
       "  <li>Fato_covid19\n",
       "    <ul>\n",
       "    <li>dcod_individuo\n",
       "      <ol>\n",
       "      <li>dcod_individuo</li>\n",
       "      </ol>    </li>\n",
       "    <li>dcod_local\n",
       "      <ol>\n",
       "      <li>dcod_local</li>\n",
       "      </ol>    </li>\n",
       "    <li>dcod_sint_cmorb\n",
       "      <ol>\n",
       "      <li>dcod_sint_cmorb</li>\n",
       "      </ol>    </li>\n",
       "    <li>dim_id_data_not\n",
       "      <ol>\n",
       "      <li>dim_id_data_not</li>\n",
       "      </ol>    </li>\n",
       "    <li>id\n",
       "      <ol>\n",
       "      <li>id</li>\n",
       "      </ol>    </li>\n",
       "    </ul>\n",
       "  </li>\n",
       "  </ul>\n",
       "</li>\n",
       "</ul>\n"
      ],
      "text/plain": [
       "Hierarchies()"
      ]
     },
     "execution_count": 7,
     "metadata": {
      "application/json": {
       "expanded": true,
       "root": "Dimensions"
      }
     },
     "output_type": "execute_result"
    }
   ],
   "source": [
    "# Aliasing the hierarchies property to a shorter variable name because we will use it a lot.\n",
    "h = cube.hierarchies\n",
    "h"
   ]
  },
  {
   "cell_type": "markdown",
   "metadata": {},
   "source": [
    "No cubo foram criadas automaticamente hierarquias para cada campo que não é uma medida"
   ]
  },
  {
   "cell_type": "markdown",
   "metadata": {},
   "source": [
    "As hierarquias são agrupadas em dimensões. Mais a frente iremos ver como mover hierarquias entre dimensões. Hiearquias são feitas e níveis. Níveis da mesma hierarquia são atributos com relacionamento pai/filho. Podemos por exemplo ter bairros, municipios e estados."
   ]
  },
  {
   "cell_type": "code",
   "execution_count": 8,
   "metadata": {},
   "outputs": [
    {
     "data": {
      "application/json": {
       "dcod_individuo (Fato_covid19/dcod_individuo/dcod_individuo)": {
        "dimension": "Fato_covid19",
        "hierarchy": "dcod_individuo",
        "type": "int (nullable)"
       },
       "dcod_local (Fato_covid19/dcod_local/dcod_local)": {
        "dimension": "Fato_covid19",
        "hierarchy": "dcod_local",
        "type": "int (nullable)"
       },
       "dcod_sint_cmorb (Fato_covid19/dcod_sint_cmorb/dcod_sint_cmorb)": {
        "dimension": "Fato_covid19",
        "hierarchy": "dcod_sint_cmorb",
        "type": "int (nullable)"
       },
       "dim_id_data_not (Fato_covid19/dim_id_data_not/dim_id_data_not)": {
        "dimension": "Fato_covid19",
        "hierarchy": "dim_id_data_not",
        "type": "int (nullable)"
       },
       "id (Fato_covid19/id/id)": {
        "dimension": "Fato_covid19",
        "hierarchy": "id",
        "type": "int"
       }
      },
      "text/html": [
       "<ul>\n",
       "<li>Levels\n",
       "  <ul>\n",
       "  <li>dcod_individuo (Fato_covid19/dcod_individuo/dcod_individuo)\n",
       "    <ul>\n",
       "    <li>dimension: Fato_covid19</li>\n",
       "    <li>hierarchy: dcod_individuo</li>\n",
       "    <li>type: int (nullable)</li>\n",
       "    </ul>\n",
       "  </li>\n",
       "  <li>dcod_local (Fato_covid19/dcod_local/dcod_local)\n",
       "    <ul>\n",
       "    <li>dimension: Fato_covid19</li>\n",
       "    <li>hierarchy: dcod_local</li>\n",
       "    <li>type: int (nullable)</li>\n",
       "    </ul>\n",
       "  </li>\n",
       "  <li>dcod_sint_cmorb (Fato_covid19/dcod_sint_cmorb/dcod_sint_cmorb)\n",
       "    <ul>\n",
       "    <li>dimension: Fato_covid19</li>\n",
       "    <li>hierarchy: dcod_sint_cmorb</li>\n",
       "    <li>type: int (nullable)</li>\n",
       "    </ul>\n",
       "  </li>\n",
       "  <li>dim_id_data_not (Fato_covid19/dim_id_data_not/dim_id_data_not)\n",
       "    <ul>\n",
       "    <li>dimension: Fato_covid19</li>\n",
       "    <li>hierarchy: dim_id_data_not</li>\n",
       "    <li>type: int (nullable)</li>\n",
       "    </ul>\n",
       "  </li>\n",
       "  <li>id (Fato_covid19/id/id)\n",
       "    <ul>\n",
       "    <li>dimension: Fato_covid19</li>\n",
       "    <li>hierarchy: id</li>\n",
       "    <li>type: int</li>\n",
       "    </ul>\n",
       "  </li>\n",
       "  </ul>\n",
       "</li>\n",
       "</ul>\n"
      ],
      "text/plain": [
       "Levels()"
      ]
     },
     "execution_count": 8,
     "metadata": {
      "application/json": {
       "expanded": true,
       "root": "Levels"
      }
     },
     "output_type": "execute_result"
    }
   ],
   "source": [
    "l = cube.levels\n",
    "l"
   ]
  },
  {
   "cell_type": "markdown",
   "metadata": {},
   "source": [
    "Let's have a look at the measures of the cube that have been inferred from the data:"
   ]
  },
  {
   "cell_type": "code",
   "execution_count": 9,
   "metadata": {},
   "outputs": [
    {
     "data": {
      "application/json": {
       "contributors.COUNT": {
        "formatter": "INT[#,###]"
       },
       "qtd.MEAN": {
        "formatter": "DOUBLE[#,###.00]"
       },
       "qtd.SUM": {
        "formatter": "DOUBLE[#,###.00]"
       }
      },
      "text/html": [
       "<ul>\n",
       "<li>Measures\n",
       "  <ul>\n",
       "  <li>contributors.COUNT\n",
       "    <ul>\n",
       "    <li>formatter: INT[#,###]</li>\n",
       "    </ul>\n",
       "  </li>\n",
       "  <li>qtd.MEAN\n",
       "    <ul>\n",
       "    <li>formatter: DOUBLE[#,###.00]</li>\n",
       "    </ul>\n",
       "  </li>\n",
       "  <li>qtd.SUM\n",
       "    <ul>\n",
       "    <li>formatter: DOUBLE[#,###.00]</li>\n",
       "    </ul>\n",
       "  </li>\n",
       "  </ul>\n",
       "</li>\n",
       "</ul>\n"
      ],
      "text/plain": [
       "Measures()"
      ]
     },
     "execution_count": 9,
     "metadata": {
      "application/json": {
       "expanded": false,
       "root": "Measures"
      }
     },
     "output_type": "execute_result"
    }
   ],
   "source": [
    "m = cube.measures\n",
    "m"
   ]
  },
  {
   "cell_type": "markdown",
   "metadata": {},
   "source": [
    "O cubo cria automaticamente agregações de soma e media  para campos numéricos (não identificadores). Perecebe que uma medida pode ser utilizada para avaliar as intersecções do cubo. Podemos por exemplo utilizar a instução .query para obter o valor de soma da medida 'qtd'"
   ]
  },
  {
   "cell_type": "markdown",
   "metadata": {},
   "source": [
    "**Quantity.SUM**:\n",
    "\n",
    "<img alt=\"Grand total\" src=\"images/olap/grand-total.svg\" width=\"400\" />"
   ]
  },
  {
   "cell_type": "code",
   "execution_count": 10,
   "metadata": {},
   "outputs": [
    {
     "data": {
      "application/vnd.atoti.convert-query-result-to-widget.v0+json": {
       "mdx": "SELECT {[Measures].[qtd.SUM]} ON COLUMNS FROM [Fato_covid19]",
       "sessionName": "Unnamed",
       "widgetCreationCode": "session.visualize()"
      },
      "text/html": [
       "<div>\n",
       "<style scoped>\n",
       "    .dataframe tbody tr th:only-of-type {\n",
       "        vertical-align: middle;\n",
       "    }\n",
       "\n",
       "    .dataframe tbody tr th {\n",
       "        vertical-align: top;\n",
       "    }\n",
       "\n",
       "    .dataframe thead th {\n",
       "        text-align: right;\n",
       "    }\n",
       "</style>\n",
       "<table border=\"1\" class=\"dataframe\">\n",
       "  <thead>\n",
       "    <tr style=\"text-align: right;\">\n",
       "      <th></th>\n",
       "      <th>qtd.SUM</th>\n",
       "    </tr>\n",
       "  </thead>\n",
       "  <tbody>\n",
       "    <tr>\n",
       "      <th>0</th>\n",
       "      <td>1,000.00</td>\n",
       "    </tr>\n",
       "  </tbody>\n",
       "</table>\n",
       "</div>"
      ],
      "text/plain": [
       "    qtd.SUM\n",
       "0  1,000.00"
      ]
     },
     "execution_count": 10,
     "metadata": {},
     "output_type": "execute_result"
    }
   ],
   "source": [
    "cube.query(m[\"qtd.SUM\"])"
   ]
  },
  {
   "cell_type": "markdown",
   "metadata": {},
   "source": [
    "But we can also _dice_ the cube to get the quantity for each **Shop**, which means taking one _slice_ of the cube for each **Shop**:\n",
    "\n",
    "<img alt=\"Dicing the cube\" src=\"images/olap/slices.svg\" width=\"400\" />"
   ]
  },
  {
   "cell_type": "code",
   "execution_count": 11,
   "metadata": {},
   "outputs": [
    {
     "data": {
      "application/vnd.atoti.convert-query-result-to-widget.v0+json": {
       "mdx": "SELECT {[Measures].[qtd.SUM]} ON COLUMNS, NON EMPTY [Fato_covid19].[dcod_sint_cmorb].[dcod_sint_cmorb].Members ON ROWS FROM [Fato_covid19]",
       "sessionName": "Unnamed",
       "widgetCreationCode": "session.visualize()"
      },
      "text/html": [
       "<div>\n",
       "<style scoped>\n",
       "    .dataframe tbody tr th:only-of-type {\n",
       "        vertical-align: middle;\n",
       "    }\n",
       "\n",
       "    .dataframe tbody tr th {\n",
       "        vertical-align: top;\n",
       "    }\n",
       "\n",
       "    .dataframe thead th {\n",
       "        text-align: right;\n",
       "    }\n",
       "</style>\n",
       "<table border=\"1\" class=\"dataframe\">\n",
       "  <thead>\n",
       "    <tr style=\"text-align: right;\">\n",
       "      <th></th>\n",
       "      <th>qtd.SUM</th>\n",
       "    </tr>\n",
       "    <tr>\n",
       "      <th>dcod_sint_cmorb</th>\n",
       "      <th></th>\n",
       "    </tr>\n",
       "  </thead>\n",
       "  <tbody>\n",
       "    <tr>\n",
       "      <th>1</th>\n",
       "      <td>9.00</td>\n",
       "    </tr>\n",
       "    <tr>\n",
       "      <th>2</th>\n",
       "      <td>1.00</td>\n",
       "    </tr>\n",
       "    <tr>\n",
       "      <th>3</th>\n",
       "      <td>15.00</td>\n",
       "    </tr>\n",
       "    <tr>\n",
       "      <th>4</th>\n",
       "      <td>12.00</td>\n",
       "    </tr>\n",
       "    <tr>\n",
       "      <th>5</th>\n",
       "      <td>23.00</td>\n",
       "    </tr>\n",
       "    <tr>\n",
       "      <th>...</th>\n",
       "      <td>...</td>\n",
       "    </tr>\n",
       "    <tr>\n",
       "      <th>151</th>\n",
       "      <td>2.00</td>\n",
       "    </tr>\n",
       "    <tr>\n",
       "      <th>152</th>\n",
       "      <td>1.00</td>\n",
       "    </tr>\n",
       "    <tr>\n",
       "      <th>153</th>\n",
       "      <td>1.00</td>\n",
       "    </tr>\n",
       "    <tr>\n",
       "      <th>154</th>\n",
       "      <td>1.00</td>\n",
       "    </tr>\n",
       "    <tr>\n",
       "      <th>155</th>\n",
       "      <td>1.00</td>\n",
       "    </tr>\n",
       "  </tbody>\n",
       "</table>\n",
       "<p>155 rows × 1 columns</p>\n",
       "</div>"
      ],
      "text/plain": [
       "                qtd.SUM\n",
       "dcod_sint_cmorb        \n",
       "1                  9.00\n",
       "2                  1.00\n",
       "3                 15.00\n",
       "4                 12.00\n",
       "5                 23.00\n",
       "...                 ...\n",
       "151                2.00\n",
       "152                1.00\n",
       "153                1.00\n",
       "154                1.00\n",
       "155                1.00\n",
       "\n",
       "[155 rows x 1 columns]"
      ]
     },
     "execution_count": 11,
     "metadata": {},
     "output_type": "execute_result"
    }
   ],
   "source": [
    "cube.query(m[\"qtd.SUM\"], levels=l[\"dcod_sint_cmorb\"])"
   ]
  },
  {
   "cell_type": "markdown",
   "metadata": {},
   "source": [
    "## Visualizando dados"
   ]
  },
  {
   "cell_type": "markdown",
   "metadata": {},
   "source": [
    "Ao utilizar 'cube.query' obtermos uma tabela no formato pandas Dataframe, mas a melhor forma de visualizar dados multidimensionais é utilizando-se de uma pivot table.\n",
    "\n",
    "- Após executar a instrução aplique dois cliques em uma das medidas (measures) e adicione as dimensões desejadas para realizar as análises desejadas.\n",
    "\n",
    "![First pivot table](images/gifs/first-pivot-table.gif)"
   ]
  },
  {
   "cell_type": "code",
   "execution_count": 41,
   "metadata": {
    "atoti": {
     "widget": {
      "mapping": {
       "columns": [
        "ALL_MEASURES"
       ],
       "measures": [
        "[Measures].[qtd.SUM]"
       ],
       "rows": [
        "[Dim_individuo].[racacor].[racacor] => [Dim_individuo].[sexo].[sexo]"
       ]
      },
      "query": {
       "mdx": "SELECT NON EMPTY {[Measures].[qtd.SUM]} ON COLUMNS, NON EMPTY Hierarchize(Union(Crossjoin(Descendants({[Dim_individuo].[racacor].[AllMember]}, 1, SELF_AND_BEFORE), [Dim_individuo].[sexo].DefaultMember), Crossjoin([Dim_individuo].[racacor].[AllMember].[Parda], Hierarchize(Descendants({[Dim_individuo].[sexo].[AllMember]}, 1, SELF_AND_BEFORE))))) ON ROWS FROM [Fato_covid19]",
       "updateMode": "once"
      },
      "serverKey": "default",
      "widgetKey": "pivot-table"
     }
    },
    "tags": []
   },
   "outputs": [
    {
     "data": {
      "application/vnd.atoti.widget.v0+json": {
       "name": null,
       "session": "Unnamed"
      },
      "text/html": [
       "<img src=\"data:image/svg+xml;charset=utf8,%3C%3Fxml%20version%3D%221.0%22%20standalone%3D%22no%22%3F%3E%3Csvg%20xmlns%3D%22http%3A%2F%2Fwww.w3.org%2F2000%2Fsvg%22%20height%3D%22348%22%20width%3D%22936%22%3E%3CforeignObject%20width%3D%22100%25%22%20height%3D%22100%25%22%20x%3D%220%22%20y%3D%220%22%3E%3Cstyle%20xmlns%3D%22http%3A%2F%2Fwww.w3.org%2F1999%2Fxhtml%22%20type%3D%22text%2Fcss%22%3E.anticon%20%7Bdisplay%3A%20inline-block%3B%20color%3A%20inherit%3B%20font-style%3A%20normal%3B%20line-height%3A%200%3B%20text-align%3A%20center%3B%20text-transform%3A%20none%3B%20vertical-align%3A%20-0.125em%3B%20text-rendering%3A%20optimizelegibility%3B%20-webkit-font-smoothing%3A%20antialiased%7D%0A.anticon%20%26gt%3B%20*%20%7Bline-height%3A%201%7D%0A.anticon%20svg%20%7Bdisplay%3A%20inline-block%7D%0A.anticon%5Btabindex%5D%20%7Bcursor%3A%20pointer%7D%0A*%2C%20%3A%3Abefore%2C%20%3A%3Aafter%20%7Bbox-sizing%3A%20unset%7D%0A.ant-root%20%5Bclass%5E%3D%22ant-%22%5D%2C%20.ant-root%20%5Bclass*%3D%22ant-%22%5D%2C%20.ant-root%20%5Bclass%5E%3D%22ant-%22%5D%20*%2C%20.ant-root%20%5Bclass*%3D%22ant-%22%5D%20*%2C%20.ant-root%20%5Bclass%5E%3D%22ant-%22%5D%20%3A%3Abefore%2C%20.ant-root%20%5Bclass*%3D%22ant-%22%5D%20%3A%3Abefore%2C%20.ant-root%20%5Bclass%5E%3D%22ant-%22%5D%20%3A%3Aafter%2C%20.ant-root%20%5Bclass*%3D%22ant-%22%5D%20%3A%3Aafter%20%7Bbox-sizing%3A%20border-box%7D%0A.ant-root%20html%2C%20.ant-root%20%7Bwidth%3A%20100%25%3B%20height%3A%20100%25%7D%0A.ant-root%20*%2C%20.ant-root%20%3A%3Abefore%2C%20.ant-root%20%3A%3Aafter%20%7Bbox-sizing%3A%20border-box%7D%0A.ant-root%20%7Bmargin-top%3A%200px%3B%20margin-right%3A%200px%3B%20margin-bottom%3A%200px%3B%20margin-left%3A%200px%3B%20color%3A%20rgb(89%2C%2089%2C%2089)%3B%20font-size%3A%2012px%3B%20font-family%3A%20-apple-system%2C%20BlinkMacSystemFont%2C%20%22Segoe%20UI%22%2C%20Roboto%2C%20%22Helvetica%20Neue%22%2C%20Arial%2C%20%22Noto%20Sans%22%2C%20sans-serif%2C%20%22Apple%20Color%20Emoji%22%2C%20%22Segoe%20UI%20Emoji%22%2C%20%22Segoe%20UI%20Symbol%22%2C%20%22Noto%20Color%20Emoji%22%3B%20font-variant-ligatures%3A%20normal%3B%20font-variant-numeric%3A%20tabular-nums%3B%20font-variant-east-asian%3A%20normal%3B%20font-variant-caps%3A%20normal%3B%20line-height%3A%201.66667%3B%20background-color%3A%20rgb(255%2C%20255%2C%20255)%3B%20--antd-wave-shadow-color%3A%20undefined%3B%20--scroll-bar%3A%20undefined%7D%0A.ant-root%20svg%3Anot(%3Aroot)%20%7Boverflow-x%3A%20hidden%3B%20overflow-y%3A%20hidden%7D%0A.ant-root%20.anticon%20%7Bdisplay%3A%20inline-block%3B%20color%3A%20inherit%3B%20font-style%3A%20normal%3B%20line-height%3A%200%3B%20text-align%3A%20center%3B%20text-transform%3A%20none%3B%20vertical-align%3A%20-0.125em%3B%20text-rendering%3A%20optimizelegibility%3B%20-webkit-font-smoothing%3A%20antialiased%7D%0A.ant-root%20.anticon%20%26gt%3B%20*%20%7Bline-height%3A%201%7D%0A.ant-root%20.anticon%20svg%20%7Bdisplay%3A%20inline-block%7D%0A.ant-root%20.anticon%5Btabindex%5D%20%7Bcursor%3A%20pointer%7D%0A.ant-root%20.ant-spin%20%7Bbox-sizing%3A%20border-box%3B%20margin-top%3A%200px%3B%20margin-right%3A%200px%3B%20margin-bottom%3A%200px%3B%20margin-left%3A%200px%3B%20padding-top%3A%200px%3B%20padding-right%3A%200px%3B%20padding-bottom%3A%200px%3B%20padding-left%3A%200px%3B%20font-size%3A%2012px%3B%20font-variant-ligatures%3A%20normal%3B%20font-variant-numeric%3A%20tabular-nums%3B%20font-variant-east-asian%3A%20normal%3B%20font-variant-caps%3A%20normal%3B%20line-height%3A%201.66667%3B%20list-style-position%3A%20initial%3B%20list-style-image%3A%20initial%3B%20list-style-type%3A%20none%3B%20position%3A%20absolute%3B%20display%3A%20none%3B%20color%3A%20rgb(0%2C%20174%2C%20239)%3B%20text-align%3A%20center%3B%20vertical-align%3A%20middle%3B%20opacity%3A%200%3B%20transition-duration%3A%200.3s%3B%20transition-timing-function%3A%20cubic-bezier(0.78%2C%200.14%2C%200.15%2C%200.86)%3B%20transition-delay%3A%200s%3B%20transition-property%3A%20transform%7D%0A.ant-root%20.ant-spin-spinning%20%7Bposition%3A%20static%3B%20display%3A%20inline-block%3B%20opacity%3A%201%7D%0A.ant-root%20.ant-spin-dot%20%7Bposition%3A%20relative%3B%20display%3A%20inline-block%3B%20font-size%3A%2020px%3B%20width%3A%201em%3B%20height%3A%201em%7D%0A.ant-root%20.ant-spin-dot-item%20%7Bposition%3A%20absolute%3B%20display%3A%20block%3B%20width%3A%209px%3B%20height%3A%209px%3B%20background-color%3A%20rgb(0%2C%20174%2C%20239)%3B%20border-top-left-radius%3A%20100%25%3B%20border-top-right-radius%3A%20100%25%3B%20border-bottom-right-radius%3A%20100%25%3B%20border-bottom-left-radius%3A%20100%25%3B%20transform%3A%20scale(0.75)%3B%20transform-origin%3A%2050%25%2050%25%3B%20opacity%3A%200.3%3B%20animation-duration%3A%201s%3B%20animation-timing-function%3A%20linear%3B%20animation-delay%3A%200s%3B%20animation-iteration-count%3A%20infinite%3B%20animation-direction%3A%20alternate%3B%20animation-fill-mode%3A%20none%3B%20animation-play-state%3A%20running%3B%20animation-name%3A%20antSpinMove%7D%0A.ant-root%20.ant-spin-dot-item%3Anth-child(1)%20%7Btop%3A%200px%3B%20left%3A%200px%7D%0A.ant-root%20.ant-spin-dot-item%3Anth-child(2)%20%7Btop%3A%200px%3B%20right%3A%200px%3B%20animation-delay%3A%200.4s%7D%0A.ant-root%20.ant-spin-dot-item%3Anth-child(3)%20%7Bright%3A%200px%3B%20bottom%3A%200px%3B%20animation-delay%3A%200.8s%7D%0A.ant-root%20.ant-spin-dot-item%3Anth-child(4)%20%7Bbottom%3A%200px%3B%20left%3A%200px%3B%20animation-delay%3A%201.2s%7D%0A.ant-root%20.ant-spin-dot-spin%20%7Btransform%3A%20rotate(45deg)%3B%20animation-duration%3A%201.2s%3B%20animation-timing-function%3A%20linear%3B%20animation-delay%3A%200s%3B%20animation-iteration-count%3A%20infinite%3B%20animation-direction%3A%20normal%3B%20animation-fill-mode%3A%20none%3B%20animation-play-state%3A%20running%3B%20animation-name%3A%20antRotate%7D%0A.ant-root%20.ant-spin-lg%20.ant-spin-dot%20%7Bfont-size%3A%2032px%7D%0A.ant-root%20.ant-spin-lg%20.ant-spin-dot%20i%20%7Bwidth%3A%2014px%3B%20height%3A%2014px%7D%0A.css-12ebr42-AWidget%20%7Bheight%3A%20100%25%7D%0A.css-ck2xzt-Spinner%20%7B-webkit-box-align%3A%20center%3B%20align-items%3A%20center%3B%20background-image%3A%20initial%3B%20background-position-x%3A%20initial%3B%20background-position-y%3A%20initial%3B%20background-size%3A%20initial%3B%20background-repeat-x%3A%20initial%3B%20background-repeat-y%3A%20initial%3B%20background-attachment%3A%20initial%3B%20background-origin%3A%20initial%3B%20background-clip%3A%20initial%3B%20background-color%3A%20transparent%3B%20display%3A%20flex%3B%20height%3A%20100%25%3B%20-webkit-box-pack%3A%20center%3B%20justify-content%3A%20center%3B%20position%3A%20absolute%3B%20transition-duration%3A%20300ms%3B%20transition-timing-function%3A%20ease%3B%20transition-delay%3A%200s%3B%20transition-property%3A%20opacity%3B%20width%3A%20100%25%3B%20opacity%3A%200%3B%20pointer-events%3A%20none%3B%20z-index%3A%202%7D%0A.css-1e3kjgr-Spinner%20%7Bheight%3A%20100%25%3B%20position%3A%20relative%7D%0A.css-1hwl8p1-Table%20%7Bpadding-bottom%3A%202px%3B%20padding-right%3A%202px%3B%20height%3A%20100%25%7D%0A.css-14ejcn0-Table%20%7Bheight%3A%20calc(100%25%20-%2030px)%3B%20outline-color%3A%20initial%3B%20outline-style%3A%20none%3B%20outline-width%3A%20initial%3B%20position%3A%20relative%7D%0A.css-1rxpjm0-ColumnResizeHint%20%7Bdisplay%3A%20none%3B%20position%3A%20absolute%3B%20z-index%3A%201%7D%0A.css-2vqdc6-ColumnResizeHint%20%7Bheight%3A%2028px%3B%20background-color%3A%20rgb(0%2C%20174%2C%20239)%3B%20width%3A%205px%7D%0A.css-1uww2vi-Table%20%7Bheight%3A%2030px%3B%20text-align%3A%20right%3B%20padding-right%3A%2025px%7D%0A.css-cjaqq6-Table%20%7Bborder-collapse%3A%20collapse%3B%20height%3A%2028px%3B%20width%3A%20240px%7D%0A.css-17cmzye%20%7Bheight%3A%2028px%3B%20width%3A%20240px%7D%0A.css-1uw7a17%20%7Bcursor%3A%20cell%3B%20height%3A%2028px%3B%20overflow-x%3A%20hidden%3B%20overflow-y%3A%20hidden%3B%20position%3A%20relative%3B%20width%3A%20240px%3B%20border-right-width%3A%202px%3B%20border-right-style%3A%20solid%3B%20border-right-color%3A%20rgb(233%2C%20233%2C%20233)%7D%0A.css-1hol363-ResizableCell%20%7Bdisplay%3A%20flex%3B%20flex-direction%3A%20column%3B%20position%3A%20absolute%3B%20top%3A%200px%3B%20left%3A%200px%3B%20height%3A%2028px%3B%20width%3A%20120px%7D%0A.css-xxcrt1-ResizableCell%20%7Bbackground-image%3A%20initial%3B%20background-position-x%3A%20initial%3B%20background-position-y%3A%20initial%3B%20background-size%3A%20initial%3B%20background-repeat-x%3A%20initial%3B%20background-repeat-y%3A%20initial%3B%20background-attachment%3A%20initial%3B%20background-origin%3A%20initial%3B%20background-clip%3A%20initial%3B%20background-color%3A%20transparent%3B%20cursor%3A%20col-resize%3B%20height%3A%20100%25%3B%20position%3A%20absolute%3B%20right%3A%200px%3B%20width%3A%205px%3B%20z-index%3A%201%7D%0A.css-fpuq48-ResizableCell%20%7Bdisplay%3A%20flex%3B%20flex-direction%3A%20column%3B%20position%3A%20absolute%3B%20top%3A%200px%3B%20left%3A%20120px%3B%20height%3A%2028px%3B%20width%3A%20120px%7D%0A.css-5mynfl-Table%20%7Bwidth%3A%20694px%3B%20border-collapse%3A%20collapse%7D%0A.css-drrf9a%20%7Bheight%3A%2028px%3B%20width%3A%20676px%3B%20overflow-x%3A%20auto%3B%20overflow-y%3A%20hidden%7D%0A.css-1toshix%20%7Bcursor%3A%20cell%3B%20height%3A%2028px%3B%20overflow-x%3A%20hidden%3B%20overflow-y%3A%20hidden%3B%20position%3A%20relative%3B%20width%3A%20120px%7D%0A.css-1xeih3r-ColumnResizeHint%20%7Bdisplay%3A%20none%3B%20float%3A%20right%3B%20height%3A%20288px%3B%20background-color%3A%20rgb(0%2C%20174%2C%20239)%3B%20opacity%3A%200.4%3B%20width%3A%202px%7D%0A.css-1em1rjc-Table%20%7Bdisplay%3A%20flex%3B%20height%3A%20316px%7D%0A.css-gec121%20%7Bheight%3A%20288px%3B%20width%3A%20240px%3B%20overflow-x%3A%20hidden%3B%20overflow-y%3A%20auto%7D%0A.css-1va8rn6%20%7Bheight%3A%20288px%3B%20width%3A%20694px%3B%20overflow-x%3A%20auto%3B%20overflow-y%3A%20auto%7D%0A.css-1b2tja%20%7Bcursor%3A%20cell%3B%20height%3A%20252px%3B%20overflow-x%3A%20hidden%3B%20overflow-y%3A%20hidden%3B%20position%3A%20relative%3B%20width%3A%20240px%3B%20border-top-width%3A%202px%3B%20border-top-style%3A%20solid%3B%20border-top-color%3A%20rgb(233%2C%20233%2C%20233)%3B%20border-right-width%3A%202px%3B%20border-right-style%3A%20solid%3B%20border-right-color%3A%20rgb(233%2C%20233%2C%20233)%7D%0A.css-14cc936%20%7Bcursor%3A%20cell%3B%20height%3A%20252px%3B%20overflow-x%3A%20hidden%3B%20overflow-y%3A%20hidden%3B%20position%3A%20relative%3B%20width%3A%20120px%3B%20border-top-width%3A%202px%3B%20border-top-style%3A%20solid%3B%20border-top-color%3A%20rgb(233%2C%20233%2C%20233)%7D%0A*%20%7B-ms-overflow-style%3A%20none%3B%20scrollbar-width%3A%20none%7D%0A*%3A%3A-webkit-scrollbar%20%7Bdisplay%3A%20none%7D%3C%2Fstyle%3E%3Cdiv%20xmlns%3D%22http%3A%2F%2Fwww.w3.org%2F1999%2Fxhtml%22%20style%3D%22height%3A%20348px%3B%20width%3A%20936px%3B%22%3E%3Cdiv%20class%3D%22ant-root%20css-0%22%3E%3Cdiv%20class%3D%22ant-dropdown-trigger%20css-12ebr42-AWidget%22%3E%3Cdiv%20class%3D%22css-1e3kjgr-Spinner%22%3E%3Cdiv%20class%3D%22css-ck2xzt-Spinner%22%3E%3Cdiv%20class%3D%22ant-spin%20ant-spin-lg%20ant-spin-spinning%22%3E%3Cspan%20class%3D%22ant-spin-dot%20ant-spin-dot-spin%22%3E%3Ci%20class%3D%22ant-spin-dot-item%22%3E%3C%2Fi%3E%3Ci%20class%3D%22ant-spin-dot-item%22%3E%3C%2Fi%3E%3Ci%20class%3D%22ant-spin-dot-item%22%3E%3C%2Fi%3E%3Ci%20class%3D%22ant-spin-dot-item%22%3E%3C%2Fi%3E%3C%2Fspan%3E%3C%2Fdiv%3E%3C%2Fdiv%3E%3Cdiv%20class%3D%22css-1hwl8p1-Table%22%3E%3Cdiv%20tabindex%3D%220%22%20class%3D%22css-14ejcn0-Table%22%3E%3Cdiv%20class%3D%22css-1rxpjm0-ColumnResizeHint%22%20style%3D%22display%3A%20none%3B%20left%3A%20115px%3B%22%3E%3Cdiv%20class%3D%22css-2vqdc6-ColumnResizeHint%22%3E%3C%2Fdiv%3E%3Cdiv%20class%3D%22css-1xeih3r-ColumnResizeHint%22%3E%3C%2Fdiv%3E%3C%2Fdiv%3E%3Cdiv%20class%3D%22css-1em1rjc-Table%22%3E%3Cdiv%20class%3D%22css-cjaqq6-Table%22%3E%3Cdiv%20class%3D%22css-17cmzye%22%3E%3Cdiv%20class%3D%22css-1uw7a17%22%3E%3Cdiv%20class%3D%22css-1hol363-ResizableCell%22%3E%3Cdiv%20class%3D%22aui-table-cell%22%20style%3D%22font-size%3A%2012px%3B%20height%3A%2028px%3B%20left%3A%200px%3B%20padding%3A%204px%204px%203px%3B%20overflow%3A%20hidden%3B%20position%3A%20absolute%3B%20text-align%3A%20left%3B%20top%3A%200px%3B%20width%3A%20115px%3B%20font-weight%3A%20600%3B%20display%3A%20flex%3B%20align-items%3A%20center%3B%22%3E%3Cspan%3Eracacor%3C%2Fspan%3E%3C%2Fdiv%3E%3Cdiv%20class%3D%22css-xxcrt1-ResizableCell%22%3E%3C%2Fdiv%3E%3C%2Fdiv%3E%3Cdiv%20class%3D%22css-fpuq48-ResizableCell%22%3E%3Cdiv%20class%3D%22aui-table-cell%22%20style%3D%22font-size%3A%2012px%3B%20height%3A%2028px%3B%20left%3A%200px%3B%20padding%3A%204px%204px%203px%3B%20overflow%3A%20hidden%3B%20position%3A%20absolute%3B%20text-align%3A%20left%3B%20top%3A%200px%3B%20width%3A%20115px%3B%20font-weight%3A%20600%3B%20display%3A%20flex%3B%20align-items%3A%20center%3B%22%3E%3Cspan%3Esexo%3C%2Fspan%3E%3C%2Fdiv%3E%3Cdiv%20class%3D%22css-xxcrt1-ResizableCell%22%3E%3C%2Fdiv%3E%3C%2Fdiv%3E%3C%2Fdiv%3E%3C%2Fdiv%3E%3Cdiv%20class%3D%22css-gec121%22%3E%3Cdiv%20class%3D%22css-1b2tja%22%3E%3Cdiv%20style%3D%22overflow%3A%20hidden%3B%20display%3A%20flex%3B%20align-items%3A%20center%3B%20font-size%3A%2012px%3B%20height%3A%2028px%3B%20left%3A%200px%3B%20padding%3A%204px%204px%203px%3B%20position%3A%20absolute%3B%20text-align%3A%20left%3B%20top%3A%200px%3B%20width%3A%20120px%3B%20font-weight%3A%20600%3B%22%3E%3Cspan%20role%3D%22img%22%20aria-label%3D%22right%22%20tabindex%3D%22-1%22%20class%3D%22anticon%20anticon-right%22%20style%3D%22cursor%3A%20pointer%3B%20font-size%3A%2010px%3B%20margin-right%3A%206px%3B%22%3E%3Csvg%20xmlns%3D%22http%3A%2F%2Fwww.w3.org%2F2000%2Fsvg%22%20viewBox%3D%2264%2064%20896%20896%22%20focusable%3D%22false%22%20data-icon%3D%22right%22%20width%3D%221em%22%20height%3D%221em%22%20fill%3D%22currentColor%22%20aria-hidden%3D%22true%22%3E%3Cpath%20d%3D%22M765.7%20486.8L314.9%20134.7A7.97%207.97%200%2000302%20141v77.3c0%204.9%202.3%209.6%206.1%2012.6l360%20281.1-360%20281.1c-3.9%203-6.1%207.7-6.1%2012.6V883c0%206.7%207.7%2010.4%2012.9%206.3l450.8-352.1a31.96%2031.96%200%20000-50.4z%22%2F%3E%3C%2Fsvg%3E%3C%2Fspan%3E%3Cspan%20style%3D%22text-overflow%3A%20ellipsis%3B%20overflow%3A%20hidden%3B%20white-space%3A%20nowrap%3B%20max-width%3A%20calc((100%25%20-%2016px)%20-%200px)%3B%22%3ETotal%3C%2Fspan%3E%3C%2Fdiv%3E%3Cdiv%20style%3D%22overflow%3A%20hidden%3B%20display%3A%20flex%3B%20align-items%3A%20center%3B%20font-size%3A%2012px%3B%20height%3A%2028px%3B%20left%3A%20120px%3B%20padding%3A%204px%204px%203px%3B%20position%3A%20absolute%3B%20text-align%3A%20left%3B%20top%3A%200px%3B%20width%3A%20120px%3B%20border-right%3A%202px%20solid%20rgb(233%2C%20233%2C%20233)%3B%22%3E%3Cspan%20style%3D%22text-overflow%3A%20ellipsis%3B%20overflow%3A%20hidden%3B%20white-space%3A%20nowrap%3B%20max-width%3A%20calc((100%25%20-%200px)%20-%200px)%3B%22%3E%3C%2Fspan%3E%3C%2Fdiv%3E%3Cdiv%20style%3D%22overflow%3A%20hidden%3B%20display%3A%20flex%3B%20align-items%3A%20center%3B%20font-size%3A%2012px%3B%20height%3A%2028px%3B%20left%3A%200px%3B%20padding%3A%204px%204px%203px%3B%20position%3A%20absolute%3B%20text-align%3A%20left%3B%20top%3A%2028px%3B%20width%3A%20120px%3B%20border-top%3A%201px%20solid%20rgb(233%2C%20233%2C%20233)%3B%20font-weight%3A%20600%3B%22%3E%3Cspan%20role%3D%22img%22%20aria-label%3D%22right%22%20tabindex%3D%22-1%22%20class%3D%22anticon%20anticon-right%22%20style%3D%22cursor%3A%20pointer%3B%20font-size%3A%2010px%3B%20margin-right%3A%206px%3B%22%3E%3Csvg%20xmlns%3D%22http%3A%2F%2Fwww.w3.org%2F2000%2Fsvg%22%20viewBox%3D%2264%2064%20896%20896%22%20focusable%3D%22false%22%20data-icon%3D%22right%22%20width%3D%221em%22%20height%3D%221em%22%20fill%3D%22currentColor%22%20aria-hidden%3D%22true%22%3E%3Cpath%20d%3D%22M765.7%20486.8L314.9%20134.7A7.97%207.97%200%2000302%20141v77.3c0%204.9%202.3%209.6%206.1%2012.6l360%20281.1-360%20281.1c-3.9%203-6.1%207.7-6.1%2012.6V883c0%206.7%207.7%2010.4%2012.9%206.3l450.8-352.1a31.96%2031.96%200%20000-50.4z%22%2F%3E%3C%2Fsvg%3E%3C%2Fspan%3E%3Cspan%20style%3D%22text-overflow%3A%20ellipsis%3B%20overflow%3A%20hidden%3B%20white-space%3A%20nowrap%3B%20max-width%3A%20calc((100%25%20-%2016px)%20-%200px)%3B%22%3EAmarela%3C%2Fspan%3E%3C%2Fdiv%3E%3Cdiv%20style%3D%22overflow%3A%20hidden%3B%20display%3A%20flex%3B%20align-items%3A%20center%3B%20font-size%3A%2012px%3B%20height%3A%2028px%3B%20left%3A%20120px%3B%20padding%3A%204px%204px%203px%3B%20position%3A%20absolute%3B%20text-align%3A%20left%3B%20top%3A%2028px%3B%20width%3A%20120px%3B%20border-right%3A%202px%20solid%20rgb(233%2C%20233%2C%20233)%3B%20border-top%3A%201px%20solid%20rgb(233%2C%20233%2C%20233)%3B%22%3E%3Cspan%20style%3D%22text-overflow%3A%20ellipsis%3B%20overflow%3A%20hidden%3B%20white-space%3A%20nowrap%3B%20max-width%3A%20calc((100%25%20-%200px)%20-%200px)%3B%22%3E%3C%2Fspan%3E%3C%2Fdiv%3E%3Cdiv%20style%3D%22overflow%3A%20hidden%3B%20display%3A%20flex%3B%20align-items%3A%20center%3B%20font-size%3A%2012px%3B%20height%3A%2028px%3B%20left%3A%200px%3B%20padding%3A%204px%204px%203px%3B%20position%3A%20absolute%3B%20text-align%3A%20left%3B%20top%3A%2056px%3B%20width%3A%20120px%3B%20border-top%3A%201px%20solid%20rgb(233%2C%20233%2C%20233)%3B%20font-weight%3A%20600%3B%22%3E%3Cspan%20role%3D%22img%22%20aria-label%3D%22right%22%20tabindex%3D%22-1%22%20class%3D%22anticon%20anticon-right%22%20style%3D%22cursor%3A%20pointer%3B%20font-size%3A%2010px%3B%20margin-right%3A%206px%3B%22%3E%3Csvg%20xmlns%3D%22http%3A%2F%2Fwww.w3.org%2F2000%2Fsvg%22%20viewBox%3D%2264%2064%20896%20896%22%20focusable%3D%22false%22%20data-icon%3D%22right%22%20width%3D%221em%22%20height%3D%221em%22%20fill%3D%22currentColor%22%20aria-hidden%3D%22true%22%3E%3Cpath%20d%3D%22M765.7%20486.8L314.9%20134.7A7.97%207.97%200%2000302%20141v77.3c0%204.9%202.3%209.6%206.1%2012.6l360%20281.1-360%20281.1c-3.9%203-6.1%207.7-6.1%2012.6V883c0%206.7%207.7%2010.4%2012.9%206.3l450.8-352.1a31.96%2031.96%200%20000-50.4z%22%2F%3E%3C%2Fsvg%3E%3C%2Fspan%3E%3Cspan%20style%3D%22text-overflow%3A%20ellipsis%3B%20overflow%3A%20hidden%3B%20white-space%3A%20nowrap%3B%20max-width%3A%20calc((100%25%20-%2016px)%20-%200px)%3B%22%3EBranca%3C%2Fspan%3E%3C%2Fdiv%3E%3Cdiv%20style%3D%22overflow%3A%20hidden%3B%20display%3A%20flex%3B%20align-items%3A%20center%3B%20font-size%3A%2012px%3B%20height%3A%2028px%3B%20left%3A%20120px%3B%20padding%3A%204px%204px%203px%3B%20position%3A%20absolute%3B%20text-align%3A%20left%3B%20top%3A%2056px%3B%20width%3A%20120px%3B%20border-right%3A%202px%20solid%20rgb(233%2C%20233%2C%20233)%3B%20border-top%3A%201px%20solid%20rgb(233%2C%20233%2C%20233)%3B%22%3E%3Cspan%20style%3D%22text-overflow%3A%20ellipsis%3B%20overflow%3A%20hidden%3B%20white-space%3A%20nowrap%3B%20max-width%3A%20calc((100%25%20-%200px)%20-%200px)%3B%22%3E%3C%2Fspan%3E%3C%2Fdiv%3E%3Cdiv%20style%3D%22overflow%3A%20hidden%3B%20display%3A%20flex%3B%20align-items%3A%20center%3B%20font-size%3A%2012px%3B%20height%3A%2028px%3B%20left%3A%200px%3B%20padding%3A%204px%204px%203px%3B%20position%3A%20absolute%3B%20text-align%3A%20left%3B%20top%3A%2084px%3B%20width%3A%20120px%3B%20border-top%3A%201px%20solid%20rgb(233%2C%20233%2C%20233)%3B%20font-weight%3A%20600%3B%22%3E%3Cspan%20role%3D%22img%22%20aria-label%3D%22right%22%20tabindex%3D%22-1%22%20class%3D%22anticon%20anticon-right%22%20style%3D%22cursor%3A%20pointer%3B%20font-size%3A%2010px%3B%20margin-right%3A%206px%3B%22%3E%3Csvg%20xmlns%3D%22http%3A%2F%2Fwww.w3.org%2F2000%2Fsvg%22%20viewBox%3D%2264%2064%20896%20896%22%20focusable%3D%22false%22%20data-icon%3D%22right%22%20width%3D%221em%22%20height%3D%221em%22%20fill%3D%22currentColor%22%20aria-hidden%3D%22true%22%3E%3Cpath%20d%3D%22M765.7%20486.8L314.9%20134.7A7.97%207.97%200%2000302%20141v77.3c0%204.9%202.3%209.6%206.1%2012.6l360%20281.1-360%20281.1c-3.9%203-6.1%207.7-6.1%2012.6V883c0%206.7%207.7%2010.4%2012.9%206.3l450.8-352.1a31.96%2031.96%200%20000-50.4z%22%2F%3E%3C%2Fsvg%3E%3C%2Fspan%3E%3Cspan%20style%3D%22text-overflow%3A%20ellipsis%3B%20overflow%3A%20hidden%3B%20white-space%3A%20nowrap%3B%20max-width%3A%20calc((100%25%20-%2016px)%20-%200px)%3B%22%3EIgnorado%3C%2Fspan%3E%3C%2Fdiv%3E%3Cdiv%20style%3D%22overflow%3A%20hidden%3B%20display%3A%20flex%3B%20align-items%3A%20center%3B%20font-size%3A%2012px%3B%20height%3A%2028px%3B%20left%3A%20120px%3B%20padding%3A%204px%204px%203px%3B%20position%3A%20absolute%3B%20text-align%3A%20left%3B%20top%3A%2084px%3B%20width%3A%20120px%3B%20border-right%3A%202px%20solid%20rgb(233%2C%20233%2C%20233)%3B%20border-top%3A%201px%20solid%20rgb(233%2C%20233%2C%20233)%3B%22%3E%3Cspan%20style%3D%22text-overflow%3A%20ellipsis%3B%20overflow%3A%20hidden%3B%20white-space%3A%20nowrap%3B%20max-width%3A%20calc((100%25%20-%200px)%20-%200px)%3B%22%3E%3C%2Fspan%3E%3C%2Fdiv%3E%3Cdiv%20style%3D%22overflow%3A%20hidden%3B%20display%3A%20flex%3B%20align-items%3A%20center%3B%20font-size%3A%2012px%3B%20height%3A%2028px%3B%20left%3A%200px%3B%20padding%3A%204px%204px%203px%3B%20position%3A%20absolute%3B%20text-align%3A%20left%3B%20top%3A%20112px%3B%20width%3A%20120px%3B%20border-top%3A%201px%20solid%20rgb(233%2C%20233%2C%20233)%3B%20font-weight%3A%20600%3B%22%3E%3Cspan%20role%3D%22img%22%20aria-label%3D%22right%22%20tabindex%3D%22-1%22%20class%3D%22anticon%20anticon-right%22%20style%3D%22cursor%3A%20pointer%3B%20font-size%3A%2010px%3B%20margin-right%3A%206px%3B%22%3E%3Csvg%20xmlns%3D%22http%3A%2F%2Fwww.w3.org%2F2000%2Fsvg%22%20viewBox%3D%2264%2064%20896%20896%22%20focusable%3D%22false%22%20data-icon%3D%22right%22%20width%3D%221em%22%20height%3D%221em%22%20fill%3D%22currentColor%22%20aria-hidden%3D%22true%22%3E%3Cpath%20d%3D%22M765.7%20486.8L314.9%20134.7A7.97%207.97%200%2000302%20141v77.3c0%204.9%202.3%209.6%206.1%2012.6l360%20281.1-360%20281.1c-3.9%203-6.1%207.7-6.1%2012.6V883c0%206.7%207.7%2010.4%2012.9%206.3l450.8-352.1a31.96%2031.96%200%20000-50.4z%22%2F%3E%3C%2Fsvg%3E%3C%2Fspan%3E%3Cspan%20style%3D%22text-overflow%3A%20ellipsis%3B%20overflow%3A%20hidden%3B%20white-space%3A%20nowrap%3B%20max-width%3A%20calc((100%25%20-%2016px)%20-%200px)%3B%22%3EIndigena%3C%2Fspan%3E%3C%2Fdiv%3E%3Cdiv%20style%3D%22overflow%3A%20hidden%3B%20display%3A%20flex%3B%20align-items%3A%20center%3B%20font-size%3A%2012px%3B%20height%3A%2028px%3B%20left%3A%20120px%3B%20padding%3A%204px%204px%203px%3B%20position%3A%20absolute%3B%20text-align%3A%20left%3B%20top%3A%20112px%3B%20width%3A%20120px%3B%20border-right%3A%202px%20solid%20rgb(233%2C%20233%2C%20233)%3B%20border-top%3A%201px%20solid%20rgb(233%2C%20233%2C%20233)%3B%22%3E%3Cspan%20style%3D%22text-overflow%3A%20ellipsis%3B%20overflow%3A%20hidden%3B%20white-space%3A%20nowrap%3B%20max-width%3A%20calc((100%25%20-%200px)%20-%200px)%3B%22%3E%3C%2Fspan%3E%3C%2Fdiv%3E%3Cdiv%20style%3D%22overflow%3A%20hidden%3B%20display%3A%20flex%3B%20align-items%3A%20center%3B%20font-size%3A%2012px%3B%20height%3A%2028px%3B%20left%3A%200px%3B%20padding%3A%204px%204px%203px%3B%20position%3A%20absolute%3B%20text-align%3A%20left%3B%20top%3A%20140px%3B%20width%3A%20120px%3B%20border-top%3A%201px%20solid%20rgb(233%2C%20233%2C%20233)%3B%20font-weight%3A%20600%3B%22%3E%3Cspan%20role%3D%22img%22%20aria-label%3D%22down%22%20tabindex%3D%22-1%22%20class%3D%22anticon%20anticon-down%22%20style%3D%22cursor%3A%20pointer%3B%20font-size%3A%2010px%3B%20margin-right%3A%206px%3B%22%3E%3Csvg%20xmlns%3D%22http%3A%2F%2Fwww.w3.org%2F2000%2Fsvg%22%20viewBox%3D%2264%2064%20896%20896%22%20focusable%3D%22false%22%20data-icon%3D%22down%22%20width%3D%221em%22%20height%3D%221em%22%20fill%3D%22currentColor%22%20aria-hidden%3D%22true%22%3E%3Cpath%20d%3D%22M884%20256h-75c-5.1%200-9.9%202.5-12.9%206.6L512%20654.2%20227.9%20262.6c-3-4.1-7.8-6.6-12.9-6.6h-75c-6.5%200-10.3%207.4-6.5%2012.7l352.6%20486.1c12.8%2017.6%2039%2017.6%2051.7%200l352.6-486.1c3.9-5.3.1-12.7-6.4-12.7z%22%2F%3E%3C%2Fsvg%3E%3C%2Fspan%3E%3Cspan%20style%3D%22text-overflow%3A%20ellipsis%3B%20overflow%3A%20hidden%3B%20white-space%3A%20nowrap%3B%20max-width%3A%20calc((100%25%20-%2016px)%20-%200px)%3B%22%3EParda%3C%2Fspan%3E%3C%2Fdiv%3E%3Cdiv%20style%3D%22overflow%3A%20hidden%3B%20display%3A%20flex%3B%20align-items%3A%20center%3B%20font-size%3A%2012px%3B%20height%3A%2028px%3B%20left%3A%20120px%3B%20padding%3A%204px%204px%203px%3B%20position%3A%20absolute%3B%20text-align%3A%20left%3B%20top%3A%20140px%3B%20width%3A%20120px%3B%20border-right%3A%202px%20solid%20rgb(233%2C%20233%2C%20233)%3B%20border-top%3A%201px%20solid%20rgb(233%2C%20233%2C%20233)%3B%22%3E%3Cspan%20style%3D%22text-overflow%3A%20ellipsis%3B%20overflow%3A%20hidden%3B%20white-space%3A%20nowrap%3B%20max-width%3A%20calc((100%25%20-%200px)%20-%200px)%3B%22%3E%3C%2Fspan%3E%3C%2Fdiv%3E%3Cdiv%20style%3D%22overflow%3A%20hidden%3B%20display%3A%20none%3B%20align-items%3A%20center%3B%20font-size%3A%2012px%3B%20height%3A%2028px%3B%20left%3A%200px%3B%20padding%3A%204px%204px%203px%3B%20position%3A%20absolute%3B%20text-align%3A%20left%3B%20top%3A%20168px%3B%20width%3A%20120px%3B%20font-weight%3A%20600%3B%22%3E%3Cspan%20role%3D%22img%22%20aria-label%3D%22down%22%20tabindex%3D%22-1%22%20class%3D%22anticon%20anticon-down%22%20style%3D%22cursor%3A%20pointer%3B%20font-size%3A%2010px%3B%20margin-right%3A%206px%3B%22%3E%3Csvg%20xmlns%3D%22http%3A%2F%2Fwww.w3.org%2F2000%2Fsvg%22%20viewBox%3D%2264%2064%20896%20896%22%20focusable%3D%22false%22%20data-icon%3D%22down%22%20width%3D%221em%22%20height%3D%221em%22%20fill%3D%22currentColor%22%20aria-hidden%3D%22true%22%3E%3Cpath%20d%3D%22M884%20256h-75c-5.1%200-9.9%202.5-12.9%206.6L512%20654.2%20227.9%20262.6c-3-4.1-7.8-6.6-12.9-6.6h-75c-6.5%200-10.3%207.4-6.5%2012.7l352.6%20486.1c12.8%2017.6%2039%2017.6%2051.7%200l352.6-486.1c3.9-5.3.1-12.7-6.4-12.7z%22%2F%3E%3C%2Fsvg%3E%3C%2Fspan%3E%3Cspan%20style%3D%22text-overflow%3A%20ellipsis%3B%20overflow%3A%20hidden%3B%20white-space%3A%20nowrap%3B%20max-width%3A%20calc((100%25%20-%2016px)%20-%200px)%3B%22%3EParda%3C%2Fspan%3E%3C%2Fdiv%3E%3Cdiv%20style%3D%22overflow%3A%20hidden%3B%20display%3A%20flex%3B%20align-items%3A%20center%3B%20font-size%3A%2012px%3B%20height%3A%2028px%3B%20left%3A%20120px%3B%20padding%3A%204px%204px%203px%3B%20position%3A%20absolute%3B%20text-align%3A%20left%3B%20top%3A%20168px%3B%20width%3A%20120px%3B%20background-color%3A%20rgb(250%2C%20250%2C%20250)%3B%20border-right%3A%202px%20solid%20rgb(233%2C%20233%2C%20233)%3B%22%3E%3Cspan%20style%3D%22text-overflow%3A%20ellipsis%3B%20overflow%3A%20hidden%3B%20white-space%3A%20nowrap%3B%20max-width%3A%20calc((100%25%20-%200px)%20-%200px)%3B%22%3EF%3C%2Fspan%3E%3C%2Fdiv%3E%3Cdiv%20style%3D%22overflow%3A%20hidden%3B%20display%3A%20none%3B%20align-items%3A%20center%3B%20font-size%3A%2012px%3B%20height%3A%2028px%3B%20left%3A%200px%3B%20padding%3A%204px%204px%203px%3B%20position%3A%20absolute%3B%20text-align%3A%20left%3B%20top%3A%20196px%3B%20width%3A%20120px%3B%20font-weight%3A%20600%3B%22%3E%3Cspan%20role%3D%22img%22%20aria-label%3D%22down%22%20tabindex%3D%22-1%22%20class%3D%22anticon%20anticon-down%22%20style%3D%22cursor%3A%20pointer%3B%20font-size%3A%2010px%3B%20margin-right%3A%206px%3B%22%3E%3Csvg%20xmlns%3D%22http%3A%2F%2Fwww.w3.org%2F2000%2Fsvg%22%20viewBox%3D%2264%2064%20896%20896%22%20focusable%3D%22false%22%20data-icon%3D%22down%22%20width%3D%221em%22%20height%3D%221em%22%20fill%3D%22currentColor%22%20aria-hidden%3D%22true%22%3E%3Cpath%20d%3D%22M884%20256h-75c-5.1%200-9.9%202.5-12.9%206.6L512%20654.2%20227.9%20262.6c-3-4.1-7.8-6.6-12.9-6.6h-75c-6.5%200-10.3%207.4-6.5%2012.7l352.6%20486.1c12.8%2017.6%2039%2017.6%2051.7%200l352.6-486.1c3.9-5.3.1-12.7-6.4-12.7z%22%2F%3E%3C%2Fsvg%3E%3C%2Fspan%3E%3Cspan%20style%3D%22text-overflow%3A%20ellipsis%3B%20overflow%3A%20hidden%3B%20white-space%3A%20nowrap%3B%20max-width%3A%20calc((100%25%20-%2016px)%20-%200px)%3B%22%3EParda%3C%2Fspan%3E%3C%2Fdiv%3E%3Cdiv%20style%3D%22overflow%3A%20hidden%3B%20display%3A%20flex%3B%20align-items%3A%20center%3B%20font-size%3A%2012px%3B%20height%3A%2028px%3B%20left%3A%20120px%3B%20padding%3A%204px%204px%203px%3B%20position%3A%20absolute%3B%20text-align%3A%20left%3B%20top%3A%20196px%3B%20width%3A%20120px%3B%20border-right%3A%202px%20solid%20rgb(233%2C%20233%2C%20233)%3B%22%3E%3Cspan%20style%3D%22text-overflow%3A%20ellipsis%3B%20overflow%3A%20hidden%3B%20white-space%3A%20nowrap%3B%20max-width%3A%20calc((100%25%20-%200px)%20-%200px)%3B%22%3EM%3C%2Fspan%3E%3C%2Fdiv%3E%3Cdiv%20style%3D%22overflow%3A%20hidden%3B%20display%3A%20flex%3B%20align-items%3A%20center%3B%20font-size%3A%2012px%3B%20height%3A%2028px%3B%20left%3A%200px%3B%20padding%3A%204px%204px%203px%3B%20position%3A%20absolute%3B%20text-align%3A%20left%3B%20top%3A%20224px%3B%20width%3A%20120px%3B%20border-top%3A%201px%20solid%20rgb(233%2C%20233%2C%20233)%3B%20font-weight%3A%20600%3B%22%3E%3Cspan%20role%3D%22img%22%20aria-label%3D%22right%22%20tabindex%3D%22-1%22%20class%3D%22anticon%20anticon-right%22%20style%3D%22cursor%3A%20pointer%3B%20font-size%3A%2010px%3B%20margin-right%3A%206px%3B%22%3E%3Csvg%20xmlns%3D%22http%3A%2F%2Fwww.w3.org%2F2000%2Fsvg%22%20viewBox%3D%2264%2064%20896%20896%22%20focusable%3D%22false%22%20data-icon%3D%22right%22%20width%3D%221em%22%20height%3D%221em%22%20fill%3D%22currentColor%22%20aria-hidden%3D%22true%22%3E%3Cpath%20d%3D%22M765.7%20486.8L314.9%20134.7A7.97%207.97%200%2000302%20141v77.3c0%204.9%202.3%209.6%206.1%2012.6l360%20281.1-360%20281.1c-3.9%203-6.1%207.7-6.1%2012.6V883c0%206.7%207.7%2010.4%2012.9%206.3l450.8-352.1a31.96%2031.96%200%20000-50.4z%22%2F%3E%3C%2Fsvg%3E%3C%2Fspan%3E%3Cspan%20style%3D%22text-overflow%3A%20ellipsis%3B%20overflow%3A%20hidden%3B%20white-space%3A%20nowrap%3B%20max-width%3A%20calc((100%25%20-%2016px)%20-%200px)%3B%22%3EPreta%3C%2Fspan%3E%3C%2Fdiv%3E%3Cdiv%20style%3D%22overflow%3A%20hidden%3B%20display%3A%20flex%3B%20align-items%3A%20center%3B%20font-size%3A%2012px%3B%20height%3A%2028px%3B%20left%3A%20120px%3B%20padding%3A%204px%204px%203px%3B%20position%3A%20absolute%3B%20text-align%3A%20left%3B%20top%3A%20224px%3B%20width%3A%20120px%3B%20border-right%3A%202px%20solid%20rgb(233%2C%20233%2C%20233)%3B%20border-top%3A%201px%20solid%20rgb(233%2C%20233%2C%20233)%3B%22%3E%3Cspan%20style%3D%22text-overflow%3A%20ellipsis%3B%20overflow%3A%20hidden%3B%20white-space%3A%20nowrap%3B%20max-width%3A%20calc((100%25%20-%200px)%20-%200px)%3B%22%3E%3C%2Fspan%3E%3C%2Fdiv%3E%3C%2Fdiv%3E%3C%2Fdiv%3E%3C%2Fdiv%3E%3Cdiv%20class%3D%22css-5mynfl-Table%22%3E%3Cdiv%20class%3D%22css-drrf9a%22%3E%3Cdiv%20class%3D%22css-1toshix%22%3E%3Cdiv%20class%3D%22css-1hol363-ResizableCell%22%3E%3Cdiv%20style%3D%22overflow%3A%20hidden%3B%20display%3A%20flex%3B%20align-items%3A%20center%3B%20font-size%3A%2012px%3B%20height%3A%2028px%3B%20left%3A%200px%3B%20padding%3A%204px%204px%203px%3B%20position%3A%20absolute%3B%20text-align%3A%20left%3B%20top%3A%200px%3B%20width%3A%20115px%3B%20font-weight%3A%20600%3B%22%3E%3Cspan%20style%3D%22text-overflow%3A%20ellipsis%3B%20overflow%3A%20hidden%3B%20white-space%3A%20nowrap%3B%20max-width%3A%20calc((100%25%20-%200px)%20-%200px)%3B%22%3Eqtd.SUM%3C%2Fspan%3E%3C%2Fdiv%3E%3Cdiv%20class%3D%22css-xxcrt1-ResizableCell%22%3E%3C%2Fdiv%3E%3C%2Fdiv%3E%3C%2Fdiv%3E%3C%2Fdiv%3E%3Cdiv%20class%3D%22css-1va8rn6%22%3E%3Cdiv%20class%3D%22css-14cc936%22%3E%3Cdiv%20class%3D%22aui-table-cell%22%20style%3D%22font-size%3A%2012px%3B%20height%3A%2028px%3B%20left%3A%200px%3B%20padding%3A%204px%204px%203px%3B%20overflow%3A%20hidden%3B%20position%3A%20absolute%3B%20text-align%3A%20right%3B%20top%3A%200px%3B%20width%3A%20120px%3B%20border-right%3A%201px%20solid%20rgb(233%2C%20233%2C%20233)%3B%22%3E1%2C000.00%3C%2Fdiv%3E%3Cdiv%20class%3D%22aui-table-cell%22%20style%3D%22font-size%3A%2012px%3B%20height%3A%2028px%3B%20left%3A%200px%3B%20padding%3A%204px%204px%203px%3B%20overflow%3A%20hidden%3B%20position%3A%20absolute%3B%20text-align%3A%20right%3B%20top%3A%2028px%3B%20width%3A%20120px%3B%20border-right%3A%201px%20solid%20rgb(233%2C%20233%2C%20233)%3B%20border-top%3A%201px%20solid%20rgb(233%2C%20233%2C%20233)%3B%22%3E63.00%3C%2Fdiv%3E%3Cdiv%20class%3D%22aui-table-cell%22%20style%3D%22font-size%3A%2012px%3B%20height%3A%2028px%3B%20left%3A%200px%3B%20padding%3A%204px%204px%203px%3B%20overflow%3A%20hidden%3B%20position%3A%20absolute%3B%20text-align%3A%20right%3B%20top%3A%2056px%3B%20width%3A%20120px%3B%20border-right%3A%201px%20solid%20rgb(233%2C%20233%2C%20233)%3B%20border-top%3A%201px%20solid%20rgb(233%2C%20233%2C%20233)%3B%22%3E279.00%3C%2Fdiv%3E%3Cdiv%20class%3D%22aui-table-cell%22%20style%3D%22font-size%3A%2012px%3B%20height%3A%2028px%3B%20left%3A%200px%3B%20padding%3A%204px%204px%203px%3B%20overflow%3A%20hidden%3B%20position%3A%20absolute%3B%20text-align%3A%20right%3B%20top%3A%2084px%3B%20width%3A%20120px%3B%20border-right%3A%201px%20solid%20rgb(233%2C%20233%2C%20233)%3B%20border-top%3A%201px%20solid%20rgb(233%2C%20233%2C%20233)%3B%22%3E211.00%3C%2Fdiv%3E%3Cdiv%20class%3D%22aui-table-cell%22%20style%3D%22font-size%3A%2012px%3B%20height%3A%2028px%3B%20left%3A%200px%3B%20padding%3A%204px%204px%203px%3B%20overflow%3A%20hidden%3B%20position%3A%20absolute%3B%20text-align%3A%20right%3B%20top%3A%20112px%3B%20width%3A%20120px%3B%20border-right%3A%201px%20solid%20rgb(233%2C%20233%2C%20233)%3B%20border-top%3A%201px%20solid%20rgb(233%2C%20233%2C%20233)%3B%22%3E2.00%3C%2Fdiv%3E%3Cdiv%20class%3D%22aui-table-cell%22%20style%3D%22font-size%3A%2012px%3B%20height%3A%2028px%3B%20left%3A%200px%3B%20padding%3A%204px%204px%203px%3B%20overflow%3A%20hidden%3B%20position%3A%20absolute%3B%20text-align%3A%20right%3B%20top%3A%20140px%3B%20width%3A%20120px%3B%20border-right%3A%201px%20solid%20rgb(233%2C%20233%2C%20233)%3B%20border-top%3A%201px%20solid%20rgb(233%2C%20233%2C%20233)%3B%22%3E373.00%3C%2Fdiv%3E%3Cdiv%20class%3D%22aui-table-cell%22%20style%3D%22font-size%3A%2012px%3B%20height%3A%2028px%3B%20left%3A%200px%3B%20padding%3A%204px%204px%203px%3B%20overflow%3A%20hidden%3B%20position%3A%20absolute%3B%20text-align%3A%20right%3B%20top%3A%20168px%3B%20width%3A%20120px%3B%20background-color%3A%20rgb(250%2C%20250%2C%20250)%3B%20border-right%3A%201px%20solid%20rgb(233%2C%20233%2C%20233)%3B%22%3E187.00%3C%2Fdiv%3E%3Cdiv%20class%3D%22aui-table-cell%22%20style%3D%22font-size%3A%2012px%3B%20height%3A%2028px%3B%20left%3A%200px%3B%20padding%3A%204px%204px%203px%3B%20overflow%3A%20hidden%3B%20position%3A%20absolute%3B%20text-align%3A%20right%3B%20top%3A%20196px%3B%20width%3A%20120px%3B%20border-right%3A%201px%20solid%20rgb(233%2C%20233%2C%20233)%3B%22%3E186.00%3C%2Fdiv%3E%3Cdiv%20class%3D%22aui-table-cell%22%20style%3D%22font-size%3A%2012px%3B%20height%3A%2028px%3B%20left%3A%200px%3B%20padding%3A%204px%204px%203px%3B%20overflow%3A%20hidden%3B%20position%3A%20absolute%3B%20text-align%3A%20right%3B%20top%3A%20224px%3B%20width%3A%20120px%3B%20border-right%3A%201px%20solid%20rgb(233%2C%20233%2C%20233)%3B%20border-top%3A%201px%20solid%20rgb(233%2C%20233%2C%20233)%3B%22%3E72.00%3C%2Fdiv%3E%3C%2Fdiv%3E%3C%2Fdiv%3E%3C%2Fdiv%3E%3C%2Fdiv%3E%3C%2Fdiv%3E%3Cdiv%20class%3D%22css-1uww2vi-Table%22%3E%3C%2Fdiv%3E%3C%2Fdiv%3E%3C%2Fdiv%3E%3C%2Fdiv%3E%3C%2Fdiv%3E%3C%2Fdiv%3E%3C%2FforeignObject%3E%3C%2Fsvg%3E\">"
      ],
      "text/plain": [
       "Open the notebook in JupyterLab with the atoti extension installed and enabled to start editing this widget."
      ]
     },
     "metadata": {},
     "output_type": "display_data"
    }
   ],
   "source": [
    "session.visualize()"
   ]
  },
  {
   "cell_type": "markdown",
   "metadata": {},
   "source": [
    "Podemos mudar a visualização de uma tabela para um gráfico\n"
   ]
  },
  {
   "cell_type": "code",
   "execution_count": 42,
   "metadata": {
    "atoti": {
     "widget": {
      "mapping": {
       "axis": [
        "[Dim_individuo].[racacor].[racacor]",
        "[Dim_individuo].[sexo].[sexo]"
       ],
       "horizontalSubplots": [],
       "splitBy": [
        "ALL_MEASURES"
       ],
       "values": [
        "[Measures].[qtd.SUM]"
       ],
       "verticalSubplots": []
      },
      "query": {
       "mdx": "SELECT NON EMPTY {[Measures].[qtd.SUM]} ON COLUMNS, NON EMPTY Crossjoin(Hierarchize(Descendants({[Dim_individuo].[racacor].[AllMember]}, 1, SELF_AND_BEFORE)), Hierarchize(Descendants({[Dim_individuo].[sexo].[AllMember]}, 1, SELF_AND_BEFORE))) ON ROWS FROM [Fato_covid19]",
       "updateMode": "once"
      },
      "serverKey": "default",
      "widgetKey": "plotly-radar-chart"
     }
    },
    "tags": []
   },
   "outputs": [
    {
     "data": {
      "application/vnd.atoti.widget.v0+json": {
       "name": null,
       "session": "Unnamed"
      },
      "text/html": [
       "<img src=\"data:image/svg+xml;charset=utf8,%3C%3Fxml%20version%3D%221.0%22%20standalone%3D%22no%22%3F%3E%3Csvg%20xmlns%3D%22http%3A%2F%2Fwww.w3.org%2F2000%2Fsvg%22%20xmlns%3Axlink%3D%22http%3A%2F%2Fwww.w3.org%2F1999%2Fxlink%22%20height%3D%22348%22%20width%3D%22936%22%20viewBox%3D%220%200%20936%20348%22%3E%3Cdefs%20id%3D%22defs-6e9ca3%22%3E%3Cg%20class%3D%22clips%22%3E%3CclipPath%20id%3D%22clip6e9ca3polar-for-traces%22%3E%3Cpath%20d%3D%22M119%2C0A119%2C119%200%2C1%2C0%20-119%2C-1.4573296909853505e-14A119%2C119%200%2C1%2C0%20119%2C2.914659381970701e-14Z%22%20transform%3D%22translate(119%2C119)%22%2F%3E%3C%2FclipPath%3E%3C%2Fg%3E%3Cg%20class%3D%22gradients%22%2F%3E%3C%2Fdefs%3E%3Cg%20class%3D%22bglayer%22%2F%3E%3Cg%20class%3D%22draglayer%22%2F%3E%3Cg%20class%3D%22layer-below%22%3E%3Cg%20class%3D%22imagelayer%22%2F%3E%3Cg%20class%3D%22shapelayer%22%2F%3E%3C%2Fg%3E%3Cg%20class%3D%22cartesianlayer%22%2F%3E%3Cg%20class%3D%22polarlayer%22%3E%3Cg%20class%3D%22polar%22%3E%3Cg%20class%3D%22polarsublayer%20draglayer%22%3E%3Cpath%20class%3D%22angulardrag%20drag%20cursor-move%22%20d%3D%22M119%2C0A119%2C119%200%2C1%2C0%20-119%2C-1.4573296909853505e-14A119%2C119%200%2C1%2C0%20119%2C2.914659381970701e-14ZM149%2C0A149%2C149%200%2C1%2C1%20-149%2C-1.8247237307295562e-14A149%2C149%200%2C1%2C1%20149%2C3.6494474614591125e-14Z%22%20transform%3D%22translate(448.5%2C149)%22%20style%3D%22fill%3A%20transparent%3B%20stroke-width%3A%200%3B%20pointer-events%3A%20all%3B%22%2F%3E%3Crect%20class%3D%22radialdrag-inner%20drag%20cursor-crosshair%22%20x%3D%22-25%22%20y%3D%22-25%22%20width%3D%2250%22%20height%3D%2250%22%20transform%3D%22translate(423.5%2C149)%22%20style%3D%22fill%3A%20transparent%3B%20stroke-width%3A%200%3B%20pointer-events%3A%20all%3B%22%2F%3E%3Crect%20class%3D%22radialdrag%20drag%20cursor-crosshair%22%20x%3D%22-25%22%20y%3D%22-25%22%20width%3D%2250%22%20height%3D%2250%22%20transform%3D%22translate(592.5%2C149)%22%20style%3D%22fill%3A%20transparent%3B%20stroke-width%3A%200%3B%20pointer-events%3A%20all%3B%22%2F%3E%3Cpath%20class%3D%22maindrag%20drag%20cursor-crosshair%22%20d%3D%22M119%2C0A119%2C119%200%2C1%2C0%20-119%2C-1.4573296909853505e-14A119%2C119%200%2C1%2C0%20119%2C2.914659381970701e-14Z%22%20transform%3D%22translate(448.5%2C149)%22%20style%3D%22fill%3A%20transparent%3B%20stroke-width%3A%200%3B%20pointer-events%3A%20all%3B%22%2F%3E%3C%2Fg%3E%3Cg%20class%3D%22polarsublayer%20plotbg%22%3E%3Cpath%20d%3D%22M119%2C0A119%2C119%200%2C1%2C0%20-119%2C-1.4573296909853505e-14A119%2C119%200%2C1%2C0%20119%2C2.914659381970701e-14Z%22%20transform%3D%22translate(448.5%2C149)%22%20style%3D%22fill%3A%20rgb(255%2C%20255%2C%20255)%3B%20fill-opacity%3A%201%3B%22%2F%3E%3C%2Fg%3E%3Cg%20class%3D%22polarsublayer%20backplot%22%3E%3Cg%20class%3D%22maplayer%22%2F%3E%3C%2Fg%3E%3Cg%20class%3D%22polarsublayer%20angular-grid%22%20style%3D%22fill%3A%20none%3B%22%3E%3Cpath%20class%3D%22angularaxisgrid%22%20d%3D%22M448.5%2C149L567.5%2C149%22%20style%3D%22stroke%3A%20rgb(180%2C%20180%2C%20180)%3B%20stroke-opacity%3A%201%3B%20stroke-width%3A%201px%3B%22%2F%3E%3Cpath%20class%3D%22angularaxisgrid%22%20d%3D%22M448.5%2C149L553.869267052732%2C93.69794252679155%22%20style%3D%22stroke%3A%20rgb(180%2C%20180%2C%20180)%3B%20stroke-opacity%3A%201%3B%20stroke-width%3A%201px%3B%22%2F%3E%3Cpath%20class%3D%22angularaxisgrid%22%20d%3D%22M448.5%2C149L516.0997048610076%2C51.0649199586549%22%20style%3D%22stroke%3A%20rgb(180%2C%20180%2C%20180)%3B%20stroke-opacity%3A%201%3B%20stroke-width%3A%201px%3B%22%2F%3E%3Cpath%20class%3D%22angularaxisgrid%22%20d%3D%22M448.5%2C149L462.8438649503834%2C30.867643982331572%22%20style%3D%22stroke%3A%20rgb(180%2C%20180%2C%20180)%3B%20stroke-opacity%3A%201%3B%20stroke-width%3A%201px%3B%22%2F%3E%3Cpath%20class%3D%22angularaxisgrid%22%20d%3D%22M448.5%2C149L406.3020184419383%2C37.733067120435635%22%20style%3D%22stroke%3A%20rgb(180%2C%20180%2C%20180)%3B%20stroke-opacity%3A%201%3B%20stroke-width%3A%201px%3B%22%2F%3E%3Cpath%20class%3D%22angularaxisgrid%22%20d%3D%22M448.5%2C149L359.42722096763896%2C70.08840366934537%22%20style%3D%22stroke%3A%20rgb(180%2C%20180%2C%20180)%3B%20stroke-opacity%3A%201%3B%20stroke-width%3A%201px%3B%22%2F%3E%3Cpath%20class%3D%22angularaxisgrid%22%20d%3D%22M448.5%2C149L332.9579237262998%2C120.52143594978064%22%20style%3D%22stroke%3A%20rgb(180%2C%20180%2C%20180)%3B%20stroke-opacity%3A%201%3B%20stroke-width%3A%201px%3B%22%2F%3E%3Cpath%20class%3D%22angularaxisgrid%22%20d%3D%22M448.5%2C149L332.9579237262998%2C177.47856405021935%22%20style%3D%22stroke%3A%20rgb(180%2C%20180%2C%20180)%3B%20stroke-opacity%3A%201%3B%20stroke-width%3A%201px%3B%22%2F%3E%3Cpath%20class%3D%22angularaxisgrid%22%20d%3D%22M448.5%2C149L359.42722096763896%2C227.91159633065462%22%20style%3D%22stroke%3A%20rgb(180%2C%20180%2C%20180)%3B%20stroke-opacity%3A%201%3B%20stroke-width%3A%201px%3B%22%2F%3E%3Cpath%20class%3D%22angularaxisgrid%22%20d%3D%22M448.5%2C149L406.30201844193823%2C260.26693287956437%22%20style%3D%22stroke%3A%20rgb(180%2C%20180%2C%20180)%3B%20stroke-opacity%3A%201%3B%20stroke-width%3A%201px%3B%22%2F%3E%3Cpath%20class%3D%22angularaxisgrid%22%20d%3D%22M448.5%2C149L462.8438649503835%2C267.1323560176684%22%20style%3D%22stroke%3A%20rgb(180%2C%20180%2C%20180)%3B%20stroke-opacity%3A%201%3B%20stroke-width%3A%201px%3B%22%2F%3E%3Cpath%20class%3D%22angularaxisgrid%22%20d%3D%22M448.5%2C149L516.0997048610075%2C246.9350800413452%22%20style%3D%22stroke%3A%20rgb(180%2C%20180%2C%20180)%3B%20stroke-opacity%3A%201%3B%20stroke-width%3A%201px%3B%22%2F%3E%3Cpath%20class%3D%22angularaxisgrid%22%20d%3D%22M448.5%2C149L553.869267052732%2C204.30205747320844%22%20style%3D%22stroke%3A%20rgb(180%2C%20180%2C%20180)%3B%20stroke-opacity%3A%201%3B%20stroke-width%3A%201px%3B%22%2F%3E%3C%2Fg%3E%3Cg%20class%3D%22polarsublayer%20radial-grid%22%20transform%3D%22translate(448.5%2C149)%22%20style%3D%22fill%3A%20none%3B%22%3E%3Cpath%20class%3D%22xgrid%22%20d%3D%22M12.33%2C0A12.33%2C12.33%200%2C1%2C0%20-12.33%2C-1.5099895033486865e-15A12.33%2C12.33%200%2C1%2C0%2012.33%2C3.019979006697373e-15Z%22%20style%3D%22stroke%3A%20rgb(189%2C%20189%2C%20189)%3B%20stroke-opacity%3A%200.7%3B%20stroke-width%3A%201px%3B%22%2F%3E%3Cpath%20class%3D%22xgrid%22%20d%3D%22M24.65%2C0A24.65%2C24.65%200%2C1%2C0%20-24.65%2C-3.0187543598982255e-15A24.65%2C24.65%200%2C1%2C0%2024.65%2C6.037508719796451e-15Z%22%20style%3D%22stroke%3A%20rgb(189%2C%20189%2C%20189)%3B%20stroke-opacity%3A%200.7%3B%20stroke-width%3A%201px%3B%22%2F%3E%3Cpath%20class%3D%22xgrid%22%20d%3D%22M36.98%2C0A36.98%2C36.98%200%2C1%2C0%20-36.98%2C-4.528743863246912e-15A36.98%2C36.98%200%2C1%2C0%2036.98%2C9.057487726493823e-15Z%22%20style%3D%22stroke%3A%20rgb(189%2C%20189%2C%20189)%3B%20stroke-opacity%3A%200.7%3B%20stroke-width%3A%201px%3B%22%2F%3E%3Cpath%20class%3D%22xgrid%22%20d%3D%22M49.3%2C0A49.3%2C49.3%200%2C1%2C0%20-49.3%2C-6.037508719796451e-15A49.3%2C49.3%200%2C1%2C0%2049.3%2C1.2075017439592902e-14Z%22%20style%3D%22stroke%3A%20rgb(189%2C%20189%2C%20189)%3B%20stroke-opacity%3A%200.7%3B%20stroke-width%3A%201px%3B%22%2F%3E%3Cpath%20class%3D%22xgrid%22%20d%3D%22M61.63%2C0A61.63%2C61.63%200%2C1%2C0%20-61.63%2C-7.547498223145139e-15A61.63%2C61.63%200%2C1%2C0%2061.63%2C1.5094996446290277e-14Z%22%20style%3D%22stroke%3A%20rgb(189%2C%20189%2C%20189)%3B%20stroke-opacity%3A%200.7%3B%20stroke-width%3A%201px%3B%22%2F%3E%3Cpath%20class%3D%22xgrid%22%20d%3D%22M73.96%2C0A73.96%2C73.96%200%2C1%2C0%20-73.96%2C-9.057487726493823e-15A73.96%2C73.96%200%2C1%2C0%2073.96%2C1.8114975452987647e-14Z%22%20style%3D%22stroke%3A%20rgb(189%2C%20189%2C%20189)%3B%20stroke-opacity%3A%200.7%3B%20stroke-width%3A%201px%3B%22%2F%3E%3Cpath%20class%3D%22xgrid%22%20d%3D%22M86.28%2C0A86.28%2C86.28%200%2C1%2C0%20-86.28%2C-1.0566252583043364e-14A86.28%2C86.28%200%2C1%2C0%2086.28%2C2.113250516608673e-14Z%22%20style%3D%22stroke%3A%20rgb(189%2C%20189%2C%20189)%3B%20stroke-opacity%3A%200.7%3B%20stroke-width%3A%201px%3B%22%2F%3E%3Cpath%20class%3D%22xgrid%22%20d%3D%22M98.61%2C0A98.61%2C98.61%200%2C1%2C0%20-98.61%2C-1.207624208639205e-14A98.61%2C98.61%200%2C1%2C0%2098.61%2C2.41524841727841e-14Z%22%20style%3D%22stroke%3A%20rgb(189%2C%20189%2C%20189)%3B%20stroke-opacity%3A%200.7%3B%20stroke-width%3A%201px%3B%22%2F%3E%3Cpath%20class%3D%22xgrid%22%20d%3D%22M110.94%2C0A110.94%2C110.94%200%2C1%2C0%20-110.94%2C-1.3586231589740737e-14A110.94%2C110.94%200%2C1%2C0%20110.94%2C2.7172463179481473e-14Z%22%20style%3D%22stroke%3A%20rgb(189%2C%20189%2C%20189)%3B%20stroke-opacity%3A%200.7%3B%20stroke-width%3A%201px%3B%22%2F%3E%3C%2Fg%3E%3Cg%20class%3D%22polarsublayer%20frontplot%22%20transform%3D%22translate(329.5%2C30)%22%3E%3Cg%20class%3D%22barlayer%22%2F%3E%3Cg%20class%3D%22scatterlayer%22%3E%3Cg%20class%3D%22trace%20scatter%20trace7d481b%22%20style%3D%22stroke-miterlimit%3A%202%3B%20opacity%3A%201%3B%22%3E%3Cg%20class%3D%22fills%22%20clip-path%3D%22url('%23clip6e9ca3polar-for-traces')%22%3E%3Cg%3E%3Cpath%20class%3D%22js-fill%22%20d%3D%22M144.27%2C119L131.01%2C112.7L179.92%2C30.74L126.8%2C54.76L96.05%2C58.49L118.54%2C118.59L56.17%2C103.51L118.4%2C119.15L118.54%2C119.41L78.13%2C226.76L132.82%2C232.8L132.3%2C138.27L137.55%2C128.74L144.27%2C119Z%22%20style%3D%22fill%3A%20rgb(78%2C%20121%2C%20167)%3B%20fill-opacity%3A%200.5%3B%20stroke-width%3A%200%3B%22%2F%3E%3C%2Fg%3E%3C%2Fg%3E%3Cg%20class%3D%22errorbars%22%2F%3E%3Cg%20class%3D%22lines%22%3E%3Cpath%20class%3D%22js-line%22%20d%3D%22M144.27%2C119L131.01%2C112.7L179.92%2C30.74L126.8%2C54.76L96.05%2C58.49L118.54%2C118.59L56.17%2C103.51L118.4%2C119.15L118.54%2C119.41L78.13%2C226.76L132.82%2C232.8L132.3%2C138.27L137.55%2C128.74L144.27%2C119%22%20clip-path%3D%22url('%23clip6e9ca3polar-for-traces')%22%20style%3D%22vector-effect%3A%20non-scaling-stroke%3B%20fill%3A%20none%3B%20stroke%3A%20rgb(78%2C%20121%2C%20167)%3B%20stroke-opacity%3A%201%3B%20stroke-width%3A%202px%3B%20opacity%3A%201%3B%22%2F%3E%3C%2Fg%3E%3Cg%20class%3D%22points%22%3E%3Cpath%20class%3D%22point%22%20transform%3D%22translate(144.27%2C119)%22%20d%3D%22M3%2C0A3%2C3%200%201%2C1%200%2C-3A3%2C3%200%200%2C1%203%2C0Z%22%20style%3D%22opacity%3A%201%3B%20stroke-width%3A%200px%3B%20fill%3A%20rgb(78%2C%20121%2C%20167)%3B%20fill-opacity%3A%201%3B%22%2F%3E%3Cpath%20class%3D%22point%22%20transform%3D%22translate(131.01%2C112.7)%22%20d%3D%22M3%2C0A3%2C3%200%201%2C1%200%2C-3A3%2C3%200%200%2C1%203%2C0Z%22%20style%3D%22opacity%3A%201%3B%20stroke-width%3A%200px%3B%20fill%3A%20rgb(78%2C%20121%2C%20167)%3B%20fill-opacity%3A%201%3B%22%2F%3E%3Cpath%20class%3D%22point%22%20transform%3D%22translate(179.92%2C30.74)%22%20d%3D%22M3%2C0A3%2C3%200%201%2C1%200%2C-3A3%2C3%200%200%2C1%203%2C0Z%22%20style%3D%22opacity%3A%201%3B%20stroke-width%3A%200px%3B%20fill%3A%20rgb(78%2C%20121%2C%20167)%3B%20fill-opacity%3A%201%3B%22%2F%3E%3Cpath%20class%3D%22point%22%20transform%3D%22translate(126.8%2C54.76)%22%20d%3D%22M3%2C0A3%2C3%200%201%2C1%200%2C-3A3%2C3%200%200%2C1%203%2C0Z%22%20style%3D%22opacity%3A%201%3B%20stroke-width%3A%200px%3B%20fill%3A%20rgb(78%2C%20121%2C%20167)%3B%20fill-opacity%3A%201%3B%22%2F%3E%3Cpath%20class%3D%22point%22%20transform%3D%22translate(96.05%2C58.49)%22%20d%3D%22M3%2C0A3%2C3%200%201%2C1%200%2C-3A3%2C3%200%200%2C1%203%2C0Z%22%20style%3D%22opacity%3A%201%3B%20stroke-width%3A%200px%3B%20fill%3A%20rgb(78%2C%20121%2C%20167)%3B%20fill-opacity%3A%201%3B%22%2F%3E%3Cpath%20class%3D%22point%22%20transform%3D%22translate(118.54%2C118.59)%22%20d%3D%22M3%2C0A3%2C3%200%201%2C1%200%2C-3A3%2C3%200%200%2C1%203%2C0Z%22%20style%3D%22opacity%3A%201%3B%20stroke-width%3A%200px%3B%20fill%3A%20rgb(78%2C%20121%2C%20167)%3B%20fill-opacity%3A%201%3B%22%2F%3E%3Cpath%20class%3D%22point%22%20transform%3D%22translate(56.17%2C103.51)%22%20d%3D%22M3%2C0A3%2C3%200%201%2C1%200%2C-3A3%2C3%200%200%2C1%203%2C0Z%22%20style%3D%22opacity%3A%201%3B%20stroke-width%3A%200px%3B%20fill%3A%20rgb(78%2C%20121%2C%20167)%3B%20fill-opacity%3A%201%3B%22%2F%3E%3Cpath%20class%3D%22point%22%20transform%3D%22translate(118.4%2C119.15)%22%20d%3D%22M3%2C0A3%2C3%200%201%2C1%200%2C-3A3%2C3%200%200%2C1%203%2C0Z%22%20style%3D%22opacity%3A%201%3B%20stroke-width%3A%200px%3B%20fill%3A%20rgb(78%2C%20121%2C%20167)%3B%20fill-opacity%3A%201%3B%22%2F%3E%3Cpath%20class%3D%22point%22%20transform%3D%22translate(118.54%2C119.41)%22%20d%3D%22M3%2C0A3%2C3%200%201%2C1%200%2C-3A3%2C3%200%200%2C1%203%2C0Z%22%20style%3D%22opacity%3A%201%3B%20stroke-width%3A%200px%3B%20fill%3A%20rgb(78%2C%20121%2C%20167)%3B%20fill-opacity%3A%201%3B%22%2F%3E%3Cpath%20class%3D%22point%22%20transform%3D%22translate(78.13%2C226.76)%22%20d%3D%22M3%2C0A3%2C3%200%201%2C1%200%2C-3A3%2C3%200%200%2C1%203%2C0Z%22%20style%3D%22opacity%3A%201%3B%20stroke-width%3A%200px%3B%20fill%3A%20rgb(78%2C%20121%2C%20167)%3B%20fill-opacity%3A%201%3B%22%2F%3E%3Cpath%20class%3D%22point%22%20transform%3D%22translate(132.82%2C232.8)%22%20d%3D%22M3%2C0A3%2C3%200%201%2C1%200%2C-3A3%2C3%200%200%2C1%203%2C0Z%22%20style%3D%22opacity%3A%201%3B%20stroke-width%3A%200px%3B%20fill%3A%20rgb(78%2C%20121%2C%20167)%3B%20fill-opacity%3A%201%3B%22%2F%3E%3Cpath%20class%3D%22point%22%20transform%3D%22translate(132.3%2C138.27)%22%20d%3D%22M3%2C0A3%2C3%200%201%2C1%200%2C-3A3%2C3%200%200%2C1%203%2C0Z%22%20style%3D%22opacity%3A%201%3B%20stroke-width%3A%200px%3B%20fill%3A%20rgb(78%2C%20121%2C%20167)%3B%20fill-opacity%3A%201%3B%22%2F%3E%3Cpath%20class%3D%22point%22%20transform%3D%22translate(137.55%2C128.74)%22%20d%3D%22M3%2C0A3%2C3%200%201%2C1%200%2C-3A3%2C3%200%200%2C1%203%2C0Z%22%20style%3D%22opacity%3A%201%3B%20stroke-width%3A%200px%3B%20fill%3A%20rgb(78%2C%20121%2C%20167)%3B%20fill-opacity%3A%201%3B%22%2F%3E%3Cpath%20class%3D%22point%22%20transform%3D%22translate(144.27%2C119)%22%20d%3D%22M3%2C0A3%2C3%200%201%2C1%200%2C-3A3%2C3%200%200%2C1%203%2C0Z%22%20style%3D%22opacity%3A%201%3B%20stroke-width%3A%200px%3B%20fill%3A%20rgb(78%2C%20121%2C%20167)%3B%20fill-opacity%3A%201%3B%22%2F%3E%3C%2Fg%3E%3Cg%20class%3D%22text%22%2F%3E%3C%2Fg%3E%3C%2Fg%3E%3C%2Fg%3E%3Cg%20class%3D%22polarsublayer%20angular-line%22%3E%3Cpath%20d%3D%22M119%2C0A119%2C119%200%2C1%2C0%20-119%2C-1.4573296909853505e-14A119%2C119%200%2C1%2C0%20119%2C2.914659381970701e-14Z%22%20transform%3D%22translate(448.5%2C149)%22%20stroke-width%3D%221%22%20style%3D%22fill%3A%20none%3B%20stroke%3A%20rgb(68%2C%2068%2C%2068)%3B%20stroke-opacity%3A%201%3B%22%2F%3E%3C%2Fg%3E%3Cg%20class%3D%22polarsublayer%20radial-line%22%3E%3Cline%20x1%3D%220%22%20y1%3D%220%22%20x2%3D%22119%22%20y2%3D%220%22%20transform%3D%22translate(448.5%2C149)%22%20stroke-width%3D%221%22%20style%3D%22fill%3A%20none%3B%20stroke%3A%20rgb(89%2C%2089%2C%2089)%3B%20stroke-opacity%3A%200.25%3B%22%2F%3E%3C%2Fg%3E%3Cg%20class%3D%22polarsublayer%20angular-axis%22%3E%3Cpath%20class%3D%22angularaxistick%20ticks%22%20d%3D%22M0.5%2C0h5%22%20transform%3D%22translate(567.5%2C149)%22%20style%3D%22stroke%3A%20rgb(68%2C%2068%2C%2068)%3B%20stroke-opacity%3A%201%3B%20stroke-width%3A%201px%3B%22%2F%3E%3Cpath%20class%3D%22angularaxistick%20ticks%22%20d%3D%22M0.5%2C0h5%22%20transform%3D%22translate(553.869267052732%2C93.69794252679155)rotate(-27.69230769230769)%22%20style%3D%22stroke%3A%20rgb(68%2C%2068%2C%2068)%3B%20stroke-opacity%3A%201%3B%20stroke-width%3A%201px%3B%22%2F%3E%3Cpath%20class%3D%22angularaxistick%20ticks%22%20d%3D%22M0.5%2C0h5%22%20transform%3D%22translate(516.0997048610076%2C51.0649199586549)rotate(-55.38461538461538)%22%20style%3D%22stroke%3A%20rgb(68%2C%2068%2C%2068)%3B%20stroke-opacity%3A%201%3B%20stroke-width%3A%201px%3B%22%2F%3E%3Cpath%20class%3D%22angularaxistick%20ticks%22%20d%3D%22M0.5%2C0h5%22%20transform%3D%22translate(462.8438649503834%2C30.867643982331572)rotate(-83.07692307692308)%22%20style%3D%22stroke%3A%20rgb(68%2C%2068%2C%2068)%3B%20stroke-opacity%3A%201%3B%20stroke-width%3A%201px%3B%22%2F%3E%3Cpath%20class%3D%22angularaxistick%20ticks%22%20d%3D%22M0.5%2C0h5%22%20transform%3D%22translate(406.3020184419383%2C37.733067120435635)rotate(-110.76923076923076)%22%20style%3D%22stroke%3A%20rgb(68%2C%2068%2C%2068)%3B%20stroke-opacity%3A%201%3B%20stroke-width%3A%201px%3B%22%2F%3E%3Cpath%20class%3D%22angularaxistick%20ticks%22%20d%3D%22M0.5%2C0h5%22%20transform%3D%22translate(359.42722096763896%2C70.08840366934537)rotate(-138.46153846153848)%22%20style%3D%22stroke%3A%20rgb(68%2C%2068%2C%2068)%3B%20stroke-opacity%3A%201%3B%20stroke-width%3A%201px%3B%22%2F%3E%3Cpath%20class%3D%22angularaxistick%20ticks%22%20d%3D%22M0.5%2C0h5%22%20transform%3D%22translate(332.9579237262998%2C120.52143594978064)rotate(-166.15384615384616)%22%20style%3D%22stroke%3A%20rgb(68%2C%2068%2C%2068)%3B%20stroke-opacity%3A%201%3B%20stroke-width%3A%201px%3B%22%2F%3E%3Cpath%20class%3D%22angularaxistick%20ticks%22%20d%3D%22M0.5%2C0h5%22%20transform%3D%22translate(332.9579237262998%2C177.47856405021935)rotate(-193.84615384615384)%22%20style%3D%22stroke%3A%20rgb(68%2C%2068%2C%2068)%3B%20stroke-opacity%3A%201%3B%20stroke-width%3A%201px%3B%22%2F%3E%3Cpath%20class%3D%22angularaxistick%20ticks%22%20d%3D%22M0.5%2C0h5%22%20transform%3D%22translate(359.42722096763896%2C227.91159633065462)rotate(-221.53846153846152)%22%20style%3D%22stroke%3A%20rgb(68%2C%2068%2C%2068)%3B%20stroke-opacity%3A%201%3B%20stroke-width%3A%201px%3B%22%2F%3E%3Cpath%20class%3D%22angularaxistick%20ticks%22%20d%3D%22M0.5%2C0h5%22%20transform%3D%22translate(406.30201844193823%2C260.26693287956437)rotate(-249.23076923076923)%22%20style%3D%22stroke%3A%20rgb(68%2C%2068%2C%2068)%3B%20stroke-opacity%3A%201%3B%20stroke-width%3A%201px%3B%22%2F%3E%3Cpath%20class%3D%22angularaxistick%20ticks%22%20d%3D%22M0.5%2C0h5%22%20transform%3D%22translate(462.8438649503835%2C267.1323560176684)rotate(-276.92307692307696)%22%20style%3D%22stroke%3A%20rgb(68%2C%2068%2C%2068)%3B%20stroke-opacity%3A%201%3B%20stroke-width%3A%201px%3B%22%2F%3E%3Cpath%20class%3D%22angularaxistick%20ticks%22%20d%3D%22M0.5%2C0h5%22%20transform%3D%22translate(516.0997048610075%2C246.9350800413452)rotate(-304.6153846153846)%22%20style%3D%22stroke%3A%20rgb(68%2C%2068%2C%2068)%3B%20stroke-opacity%3A%201%3B%20stroke-width%3A%201px%3B%22%2F%3E%3Cpath%20class%3D%22angularaxistick%20ticks%22%20d%3D%22M0.5%2C0h5%22%20transform%3D%22translate(553.869267052732%2C204.30205747320844)rotate(-332.3076923076923)%22%20style%3D%22stroke%3A%20rgb(68%2C%2068%2C%2068)%3B%20stroke-opacity%3A%201%3B%20stroke-width%3A%201px%3B%22%2F%3E%3Cg%20class%3D%22angularaxistick%22%3E%3Ctext%20text-anchor%3D%22start%22%20x%3D%227.9%22%20y%3D%224.199999999999999%22%20data-unformatted%3D%22Amarela%2C%20F%22%20data-math%3D%22N%22%20transform%3D%22translate(567.5%2C149)%22%20style%3D%22font-family%3A%20%26quot%3BOpen%20Sans%26quot%3B%2C%20verdana%2C%20arial%2C%20sans-serif%3B%20font-size%3A%2012px%3B%20fill%3A%20rgb(89%2C%2089%2C%2089)%3B%20fill-opacity%3A%201%3B%20white-space%3A%20pre%3B%22%3EAmarela%2C%20F%3C%2Ftext%3E%3C%2Fg%3E%3Cg%20class%3D%22angularaxistick%22%3E%3Ctext%20text-anchor%3D%22start%22%20x%3D%226.995102602660358%22%20y%3D%22-1.0677333643073355%22%20data-unformatted%3D%22Amarela%2C%20M%22%20data-math%3D%22N%22%20transform%3D%22translate(553.869267052732%2C93.69794252679155)%22%20style%3D%22font-family%3A%20%26quot%3BOpen%20Sans%26quot%3B%2C%20verdana%2C%20arial%2C%20sans-serif%3B%20font-size%3A%2012px%3B%20fill%3A%20rgb(89%2C%2089%2C%2089)%3B%20fill-opacity%3A%201%3B%20white-space%3A%20pre%3B%22%3EAmarela%2C%20M%3C%2Ftext%3E%3C%2Fg%3E%3Cg%20class%3D%22angularaxistick%22%3E%3Ctext%20text-anchor%3D%22start%22%20x%3D%224.487711499176132%22%20y%3D%22-6.090861882433806%22%20data-unformatted%3D%22Branca%2C%20F%22%20data-math%3D%22N%22%20transform%3D%22translate(516.0997048610076%2C51.0649199586549)%22%20style%3D%22font-family%3A%20%26quot%3BOpen%20Sans%26quot%3B%2C%20verdana%2C%20arial%2C%20sans-serif%3B%20font-size%3A%2012px%3B%20fill%3A%20rgb(89%2C%2089%2C%2089)%3B%20fill-opacity%3A%201%3B%20white-space%3A%20pre%3B%22%3EBranca%2C%20F%3C%2Ftext%3E%3C%2Fg%3E%3Cg%20class%3D%22angularaxistick%22%3E%3Ctext%20text-anchor%3D%22start%22%20x%3D%220.9522397740170518%22%20y%3D%22-9.718647346137601%22%20data-unformatted%3D%22Branca%2C%20M%22%20data-math%3D%22N%22%20transform%3D%22translate(462.8438649503834%2C30.867643982331572)%22%20style%3D%22font-family%3A%20%26quot%3BOpen%20Sans%26quot%3B%2C%20verdana%2C%20arial%2C%20sans-serif%3B%20font-size%3A%2012px%3B%20fill%3A%20rgb(89%2C%2089%2C%2089)%3B%20fill-opacity%3A%201%3B%20white-space%3A%20pre%3B%22%3EBranca%2C%20M%3C%2Ftext%3E%3C%2Fg%3E%3Cg%20class%3D%22angularaxistick%22%3E%3Ctext%20text-anchor%3D%22end%22%20x%3D%22-2.80137860763603%22%20y%3D%22-8.141326774081124%22%20data-unformatted%3D%22Ignorado%2C%20F%22%20data-math%3D%22N%22%20transform%3D%22translate(406.3020184419383%2C37.733067120435635)%22%20style%3D%22font-family%3A%20%26quot%3BOpen%20Sans%26quot%3B%2C%20verdana%2C%20arial%2C%20sans-serif%3B%20font-size%3A%2012px%3B%20fill%3A%20rgb(89%2C%2089%2C%2089)%3B%20fill-opacity%3A%201%3B%20white-space%3A%20pre%3B%22%3EIgnorado%2C%20F%3C%2Ftext%3E%3C%2Fg%3E%3Cg%20class%3D%22angularaxistick%22%3E%3Ctext%20text-anchor%3D%22end%22%20x%3D%22-5.9132349105517%22%20y%3D%22-3.6864182375615666%22%20data-unformatted%3D%22Ignorado%2C%20I%22%20data-math%3D%22N%22%20transform%3D%22translate(359.42722096763896%2C70.08840366934537)%22%20style%3D%22font-family%3A%20%26quot%3BOpen%20Sans%26quot%3B%2C%20verdana%2C%20arial%2C%20sans-serif%3B%20font-size%3A%2012px%3B%20fill%3A%20rgb(89%2C%2089%2C%2089)%3B%20fill-opacity%3A%201%3B%20white-space%3A%20pre%3B%22%3EIgnorado%2C%20I%3C%2Ftext%3E%3C%2Fg%3E%3Cg%20class%3D%22angularaxistick%22%3E%3Ctext%20text-anchor%3D%22end%22%20x%3D%22-7.670440357665811%22%20y%3D%221.6130042910275733%22%20data-unformatted%3D%22Ignorado%2C%20M%22%20data-math%3D%22N%22%20transform%3D%22translate(332.9579237262998%2C120.52143594978064)%22%20style%3D%22font-family%3A%20%26quot%3BOpen%20Sans%26quot%3B%2C%20verdana%2C%20arial%2C%20sans-serif%3B%20font-size%3A%2012px%3B%20fill%3A%20rgb(89%2C%2089%2C%2089)%3B%20fill-opacity%3A%201%3B%20white-space%3A%20pre%3B%22%3EIgnorado%2C%20M%3C%2Ftext%3E%3C%2Fg%3E%3Cg%20class%3D%22angularaxistick%22%3E%3Ctext%20text-anchor%3D%22end%22%20x%3D%22-7.670440357665812%22%20y%3D%228.84033735251181%22%20data-unformatted%3D%22Indigena%2C%20F%22%20data-math%3D%22N%22%20transform%3D%22translate(332.9579237262998%2C177.47856405021935)%22%20style%3D%22font-family%3A%20%26quot%3BOpen%20Sans%26quot%3B%2C%20verdana%2C%20arial%2C%20sans-serif%3B%20font-size%3A%2012px%3B%20fill%3A%20rgb(89%2C%2089%2C%2089)%3B%20fill-opacity%3A%201%3B%20white-space%3A%20pre%3B%22%3EIndigena%2C%20F%3C%2Ftext%3E%3C%2Fg%3E%3Cg%20class%3D%22angularaxistick%22%3E%3Ctext%20text-anchor%3D%22end%22%20x%3D%22-5.913234910551701%22%20y%3D%2216.339886041310443%22%20data-unformatted%3D%22Indigena%2C%20M%22%20data-math%3D%22N%22%20transform%3D%22translate(359.42722096763896%2C227.91159633065462)%22%20style%3D%22font-family%3A%20%26quot%3BOpen%20Sans%26quot%3B%2C%20verdana%2C%20arial%2C%20sans-serif%3B%20font-size%3A%2012px%3B%20fill%3A%20rgb(89%2C%2089%2C%2089)%3B%20fill-opacity%3A%201%3B%20white-space%3A%20pre%3B%22%3EIndigena%2C%20M%3C%2Ftext%3E%3C%2Fg%3E%3Cg%20class%3D%22angularaxistick%22%3E%3Ctext%20text-anchor%3D%22end%22%20x%3D%22-2.8013786076360336%22%20y%3D%2220.096163755018402%22%20data-unformatted%3D%22Parda%2C%20F%22%20data-math%3D%22N%22%20transform%3D%22translate(406.30201844193823%2C260.26693287956437)%22%20style%3D%22font-family%3A%20%26quot%3BOpen%20Sans%26quot%3B%2C%20verdana%2C%20arial%2C%20sans-serif%3B%20font-size%3A%2012px%3B%20fill%3A%20rgb(89%2C%2089%2C%2089)%3B%20fill-opacity%3A%201%3B%20white-space%3A%20pre%3B%22%3EParda%2C%20F%3C%2Ftext%3E%3C%2Fg%3E%3Cg%20class%3D%22angularaxistick%22%3E%3Ctext%20text-anchor%3D%22start%22%20x%3D%220.9522397740170533%22%20y%3D%2220.26116065162363%22%20data-unformatted%3D%22Parda%2C%20M%22%20data-math%3D%22N%22%20transform%3D%22translate(462.8438649503835%2C267.1323560176684)%22%20style%3D%22font-family%3A%20%26quot%3BOpen%20Sans%26quot%3B%2C%20verdana%2C%20arial%2C%20sans-serif%3B%20font-size%3A%2012px%3B%20fill%3A%20rgb(89%2C%2089%2C%2089)%3B%20fill-opacity%3A%201%3B%20white-space%3A%20pre%3B%22%3EParda%2C%20M%3C%2Ftext%3E%3C%2Fg%3E%3Cg%20class%3D%22angularaxistick%22%3E%3Ctext%20text-anchor%3D%22start%22%20x%3D%224.4877114991761236%22%20y%3D%2218.76325086755462%22%20data-unformatted%3D%22Preta%2C%20F%22%20data-math%3D%22N%22%20transform%3D%22translate(516.0997048610075%2C246.9350800413452)%22%20style%3D%22font-family%3A%20%26quot%3BOpen%20Sans%26quot%3B%2C%20verdana%2C%20arial%2C%20sans-serif%3B%20font-size%3A%2012px%3B%20fill%3A%20rgb(89%2C%2089%2C%2089)%3B%20fill-opacity%3A%201%3B%20white-space%3A%20pre%3B%22%3EPreta%2C%20F%3C%2Ftext%3E%3C%2Fg%3E%3Cg%20class%3D%22angularaxistick%22%3E%3Ctext%20text-anchor%3D%22start%22%20x%3D%226.995102602660359%22%20y%3D%2212.966906431414472%22%20data-unformatted%3D%22Preta%2C%20M%22%20data-math%3D%22N%22%20transform%3D%22translate(553.869267052732%2C204.30205747320844)%22%20style%3D%22font-family%3A%20%26quot%3BOpen%20Sans%26quot%3B%2C%20verdana%2C%20arial%2C%20sans-serif%3B%20font-size%3A%2012px%3B%20fill%3A%20rgb(89%2C%2089%2C%2089)%3B%20fill-opacity%3A%201%3B%20white-space%3A%20pre%3B%22%3EPreta%2C%20M%3C%2Ftext%3E%3C%2Fg%3E%3C%2Fg%3E%3Cg%20class%3D%22polarsublayer%20radial-axis%22%20transform%3D%22translate(448.5%2C149)%22%3E%3Cpath%20class%3D%22xtick%20ticks%22%20d%3D%22M0%2C0.5v5%22%20transform%3D%22%22%20style%3D%22stroke%3A%20rgb(89%2C%2089%2C%2089)%3B%20stroke-opacity%3A%200.25%3B%20stroke-width%3A%201px%3B%22%2F%3E%3Cpath%20class%3D%22xtick%20ticks%22%20d%3D%22M0%2C0.5v5%22%20transform%3D%22translate(12.33%2C0)%22%20style%3D%22stroke%3A%20rgb(89%2C%2089%2C%2089)%3B%20stroke-opacity%3A%200.25%3B%20stroke-width%3A%201px%3B%22%2F%3E%3Cpath%20class%3D%22xtick%20ticks%22%20d%3D%22M0%2C0.5v5%22%20transform%3D%22translate(24.65%2C0)%22%20style%3D%22stroke%3A%20rgb(89%2C%2089%2C%2089)%3B%20stroke-opacity%3A%200.25%3B%20stroke-width%3A%201px%3B%22%2F%3E%3Cpath%20class%3D%22xtick%20ticks%22%20d%3D%22M0%2C0.5v5%22%20transform%3D%22translate(36.98%2C0)%22%20style%3D%22stroke%3A%20rgb(89%2C%2089%2C%2089)%3B%20stroke-opacity%3A%200.25%3B%20stroke-width%3A%201px%3B%22%2F%3E%3Cpath%20class%3D%22xtick%20ticks%22%20d%3D%22M0%2C0.5v5%22%20transform%3D%22translate(49.3%2C0)%22%20style%3D%22stroke%3A%20rgb(89%2C%2089%2C%2089)%3B%20stroke-opacity%3A%200.25%3B%20stroke-width%3A%201px%3B%22%2F%3E%3Cpath%20class%3D%22xtick%20ticks%22%20d%3D%22M0%2C0.5v5%22%20transform%3D%22translate(61.63%2C0)%22%20style%3D%22stroke%3A%20rgb(89%2C%2089%2C%2089)%3B%20stroke-opacity%3A%200.25%3B%20stroke-width%3A%201px%3B%22%2F%3E%3Cpath%20class%3D%22xtick%20ticks%22%20d%3D%22M0%2C0.5v5%22%20transform%3D%22translate(73.96%2C0)%22%20style%3D%22stroke%3A%20rgb(89%2C%2089%2C%2089)%3B%20stroke-opacity%3A%200.25%3B%20stroke-width%3A%201px%3B%22%2F%3E%3Cpath%20class%3D%22xtick%20ticks%22%20d%3D%22M0%2C0.5v5%22%20transform%3D%22translate(86.28%2C0)%22%20style%3D%22stroke%3A%20rgb(89%2C%2089%2C%2089)%3B%20stroke-opacity%3A%200.25%3B%20stroke-width%3A%201px%3B%22%2F%3E%3Cpath%20class%3D%22xtick%20ticks%22%20d%3D%22M0%2C0.5v5%22%20transform%3D%22translate(98.61%2C0)%22%20style%3D%22stroke%3A%20rgb(89%2C%2089%2C%2089)%3B%20stroke-opacity%3A%200.25%3B%20stroke-width%3A%201px%3B%22%2F%3E%3Cpath%20class%3D%22xtick%20ticks%22%20d%3D%22M0%2C0.5v5%22%20transform%3D%22translate(110.94%2C0)%22%20style%3D%22stroke%3A%20rgb(89%2C%2089%2C%2089)%3B%20stroke-opacity%3A%200.25%3B%20stroke-width%3A%201px%3B%22%2F%3E%3Cg%20class%3D%22xtick%22%3E%3Ctext%20text-anchor%3D%22start%22%20x%3D%220%22%20y%3D%2219.9%22%20data-unformatted%3D%220%22%20data-math%3D%22N%22%20transform%3D%22%20rotate(90%2C0%2C13.899999999999999)%22%20style%3D%22font-family%3A%20%26quot%3BOpen%20Sans%26quot%3B%2C%20verdana%2C%20arial%2C%20sans-serif%3B%20font-size%3A%2012px%3B%20fill%3A%20rgb(89%2C%2089%2C%2089)%3B%20fill-opacity%3A%200.25%3B%20white-space%3A%20pre%3B%22%3E0%3C%2Ftext%3E%3C%2Fg%3E%3Cg%20class%3D%22xtick%22%3E%3Ctext%20text-anchor%3D%22start%22%20x%3D%220%22%20y%3D%2219.9%22%20data-unformatted%3D%2220%22%20data-math%3D%22N%22%20transform%3D%22translate(12.33%2C0)%20rotate(90%2C0%2C13.899999999999999)%22%20style%3D%22font-family%3A%20%26quot%3BOpen%20Sans%26quot%3B%2C%20verdana%2C%20arial%2C%20sans-serif%3B%20font-size%3A%2012px%3B%20fill%3A%20rgb(89%2C%2089%2C%2089)%3B%20fill-opacity%3A%200.25%3B%20white-space%3A%20pre%3B%22%3E20%3C%2Ftext%3E%3C%2Fg%3E%3Cg%20class%3D%22xtick%22%3E%3Ctext%20text-anchor%3D%22start%22%20x%3D%220%22%20y%3D%2219.9%22%20data-unformatted%3D%2240%22%20data-math%3D%22N%22%20transform%3D%22translate(24.65%2C0)%20rotate(90%2C0%2C13.899999999999999)%22%20style%3D%22font-family%3A%20%26quot%3BOpen%20Sans%26quot%3B%2C%20verdana%2C%20arial%2C%20sans-serif%3B%20font-size%3A%2012px%3B%20fill%3A%20rgb(89%2C%2089%2C%2089)%3B%20fill-opacity%3A%200.25%3B%20white-space%3A%20pre%3B%22%3E40%3C%2Ftext%3E%3C%2Fg%3E%3Cg%20class%3D%22xtick%22%3E%3Ctext%20text-anchor%3D%22start%22%20x%3D%220%22%20y%3D%2219.9%22%20data-unformatted%3D%2260%22%20data-math%3D%22N%22%20transform%3D%22translate(36.98%2C0)%20rotate(90%2C0%2C13.899999999999999)%22%20style%3D%22font-family%3A%20%26quot%3BOpen%20Sans%26quot%3B%2C%20verdana%2C%20arial%2C%20sans-serif%3B%20font-size%3A%2012px%3B%20fill%3A%20rgb(89%2C%2089%2C%2089)%3B%20fill-opacity%3A%200.25%3B%20white-space%3A%20pre%3B%22%3E60%3C%2Ftext%3E%3C%2Fg%3E%3Cg%20class%3D%22xtick%22%3E%3Ctext%20text-anchor%3D%22start%22%20x%3D%220%22%20y%3D%2219.9%22%20data-unformatted%3D%2280%22%20data-math%3D%22N%22%20transform%3D%22translate(49.3%2C0)%20rotate(90%2C0%2C13.899999999999999)%22%20style%3D%22font-family%3A%20%26quot%3BOpen%20Sans%26quot%3B%2C%20verdana%2C%20arial%2C%20sans-serif%3B%20font-size%3A%2012px%3B%20fill%3A%20rgb(89%2C%2089%2C%2089)%3B%20fill-opacity%3A%200.25%3B%20white-space%3A%20pre%3B%22%3E80%3C%2Ftext%3E%3C%2Fg%3E%3Cg%20class%3D%22xtick%22%3E%3Ctext%20text-anchor%3D%22start%22%20x%3D%220%22%20y%3D%2219.9%22%20data-unformatted%3D%22100%22%20data-math%3D%22N%22%20transform%3D%22translate(61.63%2C0)%20rotate(90%2C0%2C13.899999999999999)%22%20style%3D%22font-family%3A%20%26quot%3BOpen%20Sans%26quot%3B%2C%20verdana%2C%20arial%2C%20sans-serif%3B%20font-size%3A%2012px%3B%20fill%3A%20rgb(89%2C%2089%2C%2089)%3B%20fill-opacity%3A%200.25%3B%20white-space%3A%20pre%3B%22%3E100%3C%2Ftext%3E%3C%2Fg%3E%3Cg%20class%3D%22xtick%22%3E%3Ctext%20text-anchor%3D%22start%22%20x%3D%220%22%20y%3D%2219.9%22%20data-unformatted%3D%22120%22%20data-math%3D%22N%22%20transform%3D%22translate(73.96%2C0)%20rotate(90%2C0%2C13.899999999999999)%22%20style%3D%22font-family%3A%20%26quot%3BOpen%20Sans%26quot%3B%2C%20verdana%2C%20arial%2C%20sans-serif%3B%20font-size%3A%2012px%3B%20fill%3A%20rgb(89%2C%2089%2C%2089)%3B%20fill-opacity%3A%200.25%3B%20white-space%3A%20pre%3B%22%3E120%3C%2Ftext%3E%3C%2Fg%3E%3Cg%20class%3D%22xtick%22%3E%3Ctext%20text-anchor%3D%22start%22%20x%3D%220%22%20y%3D%2219.9%22%20data-unformatted%3D%22140%22%20data-math%3D%22N%22%20transform%3D%22translate(86.28%2C0)%20rotate(90%2C0%2C13.899999999999999)%22%20style%3D%22font-family%3A%20%26quot%3BOpen%20Sans%26quot%3B%2C%20verdana%2C%20arial%2C%20sans-serif%3B%20font-size%3A%2012px%3B%20fill%3A%20rgb(89%2C%2089%2C%2089)%3B%20fill-opacity%3A%200.25%3B%20white-space%3A%20pre%3B%22%3E140%3C%2Ftext%3E%3C%2Fg%3E%3Cg%20class%3D%22xtick%22%3E%3Ctext%20text-anchor%3D%22start%22%20x%3D%220%22%20y%3D%2219.9%22%20data-unformatted%3D%22160%22%20data-math%3D%22N%22%20transform%3D%22translate(98.61%2C0)%20rotate(90%2C0%2C13.899999999999999)%22%20style%3D%22font-family%3A%20%26quot%3BOpen%20Sans%26quot%3B%2C%20verdana%2C%20arial%2C%20sans-serif%3B%20font-size%3A%2012px%3B%20fill%3A%20rgb(89%2C%2089%2C%2089)%3B%20fill-opacity%3A%200.25%3B%20white-space%3A%20pre%3B%22%3E160%3C%2Ftext%3E%3C%2Fg%3E%3Cg%20class%3D%22xtick%22%3E%3Ctext%20text-anchor%3D%22start%22%20x%3D%220%22%20y%3D%2219.9%22%20data-unformatted%3D%22180%22%20data-math%3D%22N%22%20transform%3D%22translate(110.94%2C0)%20rotate(90%2C0%2C13.899999999999999)%22%20style%3D%22font-family%3A%20%26quot%3BOpen%20Sans%26quot%3B%2C%20verdana%2C%20arial%2C%20sans-serif%3B%20font-size%3A%2012px%3B%20fill%3A%20rgb(89%2C%2089%2C%2089)%3B%20fill-opacity%3A%200.25%3B%20white-space%3A%20pre%3B%22%3E180%3C%2Ftext%3E%3C%2Fg%3E%3C%2Fg%3E%3C%2Fg%3E%3C%2Fg%3E%3Cg%20class%3D%22ternarylayer%22%2F%3E%3Cg%20class%3D%22geolayer%22%2F%3E%3Cg%20class%3D%22funnelarealayer%22%2F%3E%3Cg%20class%3D%22pielayer%22%2F%3E%3Cg%20class%3D%22treemaplayer%22%2F%3E%3Cg%20class%3D%22sunburstlayer%22%2F%3E%3Cg%20class%3D%22glimages%22%2F%3E%3Cdefs%20id%3D%22topdefs-6e9ca3%22%3E%3Cg%20class%3D%22clips%22%2F%3E%3CclipPath%20id%3D%22legend6e9ca3%22%3E%3Crect%20width%3D%2292%22%20height%3D%2229%22%20x%3D%220%22%20y%3D%220%22%2F%3E%3C%2FclipPath%3E%3C%2Fdefs%3E%3Cg%20class%3D%22indicatorlayer%22%2F%3E%3Cg%20class%3D%22layer-above%22%3E%3Cg%20class%3D%22imagelayer%22%2F%3E%3Cg%20class%3D%22shapelayer%22%2F%3E%3C%2Fg%3E%3Cg%20class%3D%22infolayer%22%3E%3Cg%20class%3D%22legend%22%20pointer-events%3D%22all%22%20transform%3D%22translate(831.74%2C30)%22%3E%3Crect%20class%3D%22bg%22%20shape-rendering%3D%22crispEdges%22%20width%3D%2292%22%20height%3D%2229%22%20x%3D%220%22%20y%3D%220%22%20style%3D%22stroke%3A%20rgb(68%2C%2068%2C%2068)%3B%20stroke-opacity%3A%201%3B%20fill%3A%20rgb(255%2C%20255%2C%20255)%3B%20fill-opacity%3A%201%3B%20stroke-width%3A%200px%3B%22%2F%3E%3Cg%20class%3D%22scrollbox%22%20transform%3D%22%22%20clip-path%3D%22url('%23legend6e9ca3')%22%3E%3Cg%20class%3D%22groups%22%20transform%3D%22%22%3E%3Cg%20class%3D%22traces%22%20transform%3D%22translate(0%2C14.5)%22%20style%3D%22opacity%3A%201%3B%22%3E%3Ctext%20class%3D%22legendtext%22%20text-anchor%3D%22start%22%20x%3D%2240%22%20y%3D%224.680000000000001%22%20data-unformatted%3D%22qtd.SUM%22%20data-math%3D%22N%22%20style%3D%22font-family%3A%20%26quot%3BOpen%20Sans%26quot%3B%2C%20verdana%2C%20arial%2C%20sans-serif%3B%20font-size%3A%2012px%3B%20fill%3A%20rgb(89%2C%2089%2C%2089)%3B%20fill-opacity%3A%201%3B%20white-space%3A%20pre%3B%22%3Eqtd.SUM%3C%2Ftext%3E%3Cg%20class%3D%22layers%22%20style%3D%22opacity%3A%201%3B%22%3E%3Cg%20class%3D%22legendfill%22%3E%3Cpath%20class%3D%22js-fill%22%20d%3D%22M5%2C0h30v6h-30z%22%20style%3D%22stroke-width%3A%200%3B%20fill%3A%20rgb(78%2C%20121%2C%20167)%3B%20fill-opacity%3A%200.5%3B%22%2F%3E%3C%2Fg%3E%3Cg%20class%3D%22legendlines%22%3E%3Cpath%20class%3D%22js-line%22%20d%3D%22M5%2C0h30%22%20style%3D%22fill%3A%20none%3B%20stroke%3A%20rgb(78%2C%20121%2C%20167)%3B%20stroke-opacity%3A%201%3B%20stroke-width%3A%202px%3B%22%2F%3E%3C%2Fg%3E%3Cg%20class%3D%22legendsymbols%22%3E%3Cg%20class%3D%22legendpoints%22%3E%3Cpath%20class%3D%22scatterpts%22%20transform%3D%22translate(20%2C0)%22%20d%3D%22M3%2C0A3%2C3%200%201%2C1%200%2C-3A3%2C3%200%200%2C1%203%2C0Z%22%20style%3D%22opacity%3A%201%3B%20stroke-width%3A%200px%3B%20fill%3A%20rgb(78%2C%20121%2C%20167)%3B%20fill-opacity%3A%201%3B%22%2F%3E%3C%2Fg%3E%3C%2Fg%3E%3C%2Fg%3E%3Crect%20class%3D%22legendtoggle%22%20pointer-events%3D%22all%22%20x%3D%220%22%20y%3D%22-9.5%22%20width%3D%2286.6875%22%20height%3D%2219%22%20style%3D%22cursor%3A%20pointer%3B%20fill%3A%20rgb(0%2C%200%2C%200)%3B%20fill-opacity%3A%200%3B%22%2F%3E%3C%2Fg%3E%3C%2Fg%3E%3C%2Fg%3E%3Crect%20class%3D%22scrollbar%22%20rx%3D%2220%22%20ry%3D%223%22%20width%3D%220%22%20height%3D%220%22%20x%3D%220%22%20y%3D%220%22%20style%3D%22fill%3A%20rgb(128%2C%20139%2C%20164)%3B%20fill-opacity%3A%201%3B%22%2F%3E%3C%2Fg%3E%3Cg%20class%3D%22g-gtitle%22%2F%3E%3Cg%20class%3D%22g-polartitle%22%2F%3E%3C%2Fg%3E%3Cg%20class%3D%22menulayer%22%2F%3E%3Cg%20class%3D%22zoomlayer%22%2F%3E%3Cg%20class%3D%22hoverlayer%22%2F%3E%3C%2Fsvg%3E\">"
      ],
      "text/plain": [
       "Open the notebook in JupyterLab with the atoti extension installed and enabled to start editing this widget."
      ]
     },
     "metadata": {},
     "output_type": "display_data"
    }
   ],
   "source": [
    "session.visualize()"
   ]
  },
  {
   "cell_type": "markdown",
   "metadata": {},
   "source": [
    "### Drilldown and filters\n",
    "\n",
    "Multidimensional analysis is meant to be done from top to bottom: start by visualizing the indicators at the top level then drilldown to explain the top figures with more details.\n",
    "\n",
    "For instance, we can visualize some measures per date then drilldown on **Shop** for a specific date, then see the products sold by a specific shop on this date.\n",
    "\n",
    "Using the previous cube representation, this is like zooming more and more on a part of the cube.\n",
    "\n",
    "<img alt=\"Drilldown the cube\" src=\"images/olap/drilldown.svg\" width=\"1200\" />\n"
   ]
  },
  {
   "cell_type": "code",
   "execution_count": 43,
   "metadata": {
    "atoti": {
     "height": 448,
     "widget": {
      "filters": [
       "{[Dim_individuo].[racacor].[AllMember].[Branca], [Dim_individuo].[racacor].[AllMember].[Parda], [Dim_individuo].[racacor].[AllMember].[Preta]}"
      ],
      "mapping": {
       "axis": [
        "[Dim_individuo].[racacor].[racacor]",
        "[Dim_individuo].[sexo].[sexo]"
       ],
       "horizontalSubplots": [],
       "splitBy": [
        "ALL_MEASURES"
       ],
       "values": [
        "[Measures].[qtd.SUM]"
       ],
       "verticalSubplots": []
      },
      "query": {
       "mdx": "SELECT NON EMPTY {[Measures].[qtd.SUM]} ON COLUMNS, NON EMPTY Crossjoin(Hierarchize(Descendants({[Dim_individuo].[racacor].[AllMember]}, 1, SELF_AND_BEFORE)), Hierarchize(Descendants({[Dim_individuo].[sexo].[AllMember]}, 1, SELF_AND_BEFORE))) ON ROWS FROM [Fato_covid19]",
       "updateMode": "once"
      },
      "serverKey": "default",
      "widgetKey": "plotly-radar-chart"
     }
    },
    "tags": []
   },
   "outputs": [
    {
     "data": {
      "application/vnd.atoti.widget.v0+json": {
       "name": null,
       "session": "Unnamed"
      },
      "text/html": [
       "<img src=\"data:image/svg+xml;charset=utf8,%3C%3Fxml%20version%3D%221.0%22%20standalone%3D%22no%22%3F%3E%3Csvg%20xmlns%3D%22http%3A%2F%2Fwww.w3.org%2F2000%2Fsvg%22%20xmlns%3Axlink%3D%22http%3A%2F%2Fwww.w3.org%2F1999%2Fxlink%22%20height%3D%22436%22%20width%3D%22936%22%20viewBox%3D%220%200%20936%20436%22%3E%3Cdefs%20id%3D%22defs-3c112d%22%3E%3Cg%20class%3D%22clips%22%3E%3CclipPath%20id%3D%22clip3c112dpolar-for-traces%22%3E%3Cpath%20d%3D%22M163%2C0A163%2C163%200%2C1%2C0%20-163%2C-1.9961742826101858e-14A163%2C163%200%2C1%2C0%20163%2C3.9923485652203715e-14Z%22%20transform%3D%22translate(163%2C163)%22%2F%3E%3C%2FclipPath%3E%3C%2Fg%3E%3Cg%20class%3D%22gradients%22%2F%3E%3C%2Fdefs%3E%3Cg%20class%3D%22bglayer%22%2F%3E%3Cg%20class%3D%22draglayer%22%2F%3E%3Cg%20class%3D%22layer-below%22%3E%3Cg%20class%3D%22imagelayer%22%2F%3E%3Cg%20class%3D%22shapelayer%22%2F%3E%3C%2Fg%3E%3Cg%20class%3D%22cartesianlayer%22%2F%3E%3Cg%20class%3D%22polarlayer%22%3E%3Cg%20class%3D%22polar%22%3E%3Cg%20class%3D%22polarsublayer%20draglayer%22%3E%3Cpath%20class%3D%22angulardrag%20drag%20cursor-move%22%20d%3D%22M163%2C0A163%2C163%200%2C1%2C0%20-163%2C-1.9961742826101858e-14A163%2C163%200%2C1%2C0%20163%2C3.9923485652203715e-14ZM193%2C0A193%2C193%200%2C1%2C1%20-193%2C-2.3635683223543918e-14A193%2C193%200%2C1%2C1%20193%2C4.7271366447087837e-14Z%22%20transform%3D%22translate(448.5%2C193)%22%20style%3D%22fill%3A%20transparent%3B%20stroke-width%3A%200%3B%20pointer-events%3A%20all%3B%22%2F%3E%3Crect%20class%3D%22radialdrag-inner%20drag%20cursor-crosshair%22%20x%3D%22-25%22%20y%3D%22-25%22%20width%3D%2250%22%20height%3D%2250%22%20transform%3D%22translate(423.5%2C193)%22%20style%3D%22fill%3A%20transparent%3B%20stroke-width%3A%200%3B%20pointer-events%3A%20all%3B%22%2F%3E%3Crect%20class%3D%22radialdrag%20drag%20cursor-crosshair%22%20x%3D%22-25%22%20y%3D%22-25%22%20width%3D%2250%22%20height%3D%2250%22%20transform%3D%22translate(636.5%2C193)%22%20style%3D%22fill%3A%20transparent%3B%20stroke-width%3A%200%3B%20pointer-events%3A%20all%3B%22%2F%3E%3Cpath%20class%3D%22maindrag%20drag%20cursor-crosshair%22%20d%3D%22M163%2C0A163%2C163%200%2C1%2C0%20-163%2C-1.9961742826101858e-14A163%2C163%200%2C1%2C0%20163%2C3.9923485652203715e-14Z%22%20transform%3D%22translate(448.5%2C193)%22%20style%3D%22fill%3A%20transparent%3B%20stroke-width%3A%200%3B%20pointer-events%3A%20all%3B%22%2F%3E%3C%2Fg%3E%3Cg%20class%3D%22polarsublayer%20plotbg%22%3E%3Cpath%20d%3D%22M163%2C0A163%2C163%200%2C1%2C0%20-163%2C-1.9961742826101858e-14A163%2C163%200%2C1%2C0%20163%2C3.9923485652203715e-14Z%22%20transform%3D%22translate(448.5%2C193)%22%20style%3D%22fill%3A%20rgb(255%2C%20255%2C%20255)%3B%20fill-opacity%3A%201%3B%22%2F%3E%3C%2Fg%3E%3Cg%20class%3D%22polarsublayer%20backplot%22%3E%3Cg%20class%3D%22maplayer%22%2F%3E%3C%2Fg%3E%3Cg%20class%3D%22polarsublayer%20angular-grid%22%20style%3D%22fill%3A%20none%3B%22%3E%3Cpath%20class%3D%22angularaxisgrid%22%20d%3D%22M448.5%2C193L611.5%2C193%22%20style%3D%22stroke%3A%20rgb(180%2C%20180%2C%20180)%3B%20stroke-opacity%3A%201%3B%20stroke-width%3A%201px%3B%22%2F%3E%3Cpath%20class%3D%22angularaxisgrid%22%20d%3D%22M448.5%2C193L530%2C51.837859183136516%22%20style%3D%22stroke%3A%20rgb(180%2C%20180%2C%20180)%3B%20stroke-opacity%3A%201%3B%20stroke-width%3A%201px%3B%22%2F%3E%3Cpath%20class%3D%22angularaxisgrid%22%20d%3D%22M448.5%2C193L367.00000000000006%2C51.83785918313649%22%20style%3D%22stroke%3A%20rgb(180%2C%20180%2C%20180)%3B%20stroke-opacity%3A%201%3B%20stroke-width%3A%201px%3B%22%2F%3E%3Cpath%20class%3D%22angularaxisgrid%22%20d%3D%22M448.5%2C193L285.5%2C192.99999999999997%22%20style%3D%22stroke%3A%20rgb(180%2C%20180%2C%20180)%3B%20stroke-opacity%3A%201%3B%20stroke-width%3A%201px%3B%22%2F%3E%3Cpath%20class%3D%22angularaxisgrid%22%20d%3D%22M448.5%2C193L366.99999999999994%2C334.1621408168635%22%20style%3D%22stroke%3A%20rgb(180%2C%20180%2C%20180)%3B%20stroke-opacity%3A%201%3B%20stroke-width%3A%201px%3B%22%2F%3E%3Cpath%20class%3D%22angularaxisgrid%22%20d%3D%22M448.5%2C193L530%2C334.1621408168635%22%20style%3D%22stroke%3A%20rgb(180%2C%20180%2C%20180)%3B%20stroke-opacity%3A%201%3B%20stroke-width%3A%201px%3B%22%2F%3E%3C%2Fg%3E%3Cg%20class%3D%22polarsublayer%20radial-grid%22%20transform%3D%22translate(448.5%2C193)%22%20style%3D%22fill%3A%20none%3B%22%3E%3Cpath%20class%3D%22xgrid%22%20d%3D%22M17.03%2C0A17.03%2C17.03%200%2C1%2C0%20-17.03%2C-2.0855734989479426e-15A17.03%2C17.03%200%2C1%2C0%2017.03%2C4.171146997895885e-15Z%22%20style%3D%22stroke%3A%20rgb(189%2C%20189%2C%20189)%3B%20stroke-opacity%3A%200.7%3B%20stroke-width%3A%201px%3B%22%2F%3E%3Cpath%20class%3D%22xgrid%22%20d%3D%22M34.06%2C0A34.06%2C34.06%200%2C1%2C0%20-34.06%2C-4.171146997895885e-15A34.06%2C34.06%200%2C1%2C0%2034.06%2C8.34229399579177e-15Z%22%20style%3D%22stroke%3A%20rgb(189%2C%20189%2C%20189)%3B%20stroke-opacity%3A%200.7%3B%20stroke-width%3A%201px%3B%22%2F%3E%3Cpath%20class%3D%22xgrid%22%20d%3D%22M51.1%2C0A51.1%2C51.1%200%2C1%2C0%20-51.1%2C-6.257945143642975e-15A51.1%2C51.1%200%2C1%2C0%2051.1%2C1.251589028728595e-14Z%22%20style%3D%22stroke%3A%20rgb(189%2C%20189%2C%20189)%3B%20stroke-opacity%3A%200.7%3B%20stroke-width%3A%201px%3B%22%2F%3E%3Cpath%20class%3D%22xgrid%22%20d%3D%22M68.13%2C0A68.13%2C68.13%200%2C1%2C0%20-68.13%2C-8.343518642590917e-15A68.13%2C68.13%200%2C1%2C0%2068.13%2C1.6687037285181834e-14Z%22%20style%3D%22stroke%3A%20rgb(189%2C%20189%2C%20189)%3B%20stroke-opacity%3A%200.7%3B%20stroke-width%3A%201px%3B%22%2F%3E%3Cpath%20class%3D%22xgrid%22%20d%3D%22M85.16%2C0A85.16%2C85.16%200%2C1%2C0%20-85.16%2C-1.042909214153886e-14A85.16%2C85.16%200%2C1%2C0%2085.16%2C2.085818428307772e-14Z%22%20style%3D%22stroke%3A%20rgb(189%2C%20189%2C%20189)%3B%20stroke-opacity%3A%200.7%3B%20stroke-width%3A%201px%3B%22%2F%3E%3Cpath%20class%3D%22xgrid%22%20d%3D%22M102.19%2C0A102.19%2C102.19%200%2C1%2C0%20-102.19%2C-1.2514665640486802e-14A102.19%2C102.19%200%2C1%2C0%20102.19%2C2.5029331280973605e-14Z%22%20style%3D%22stroke%3A%20rgb(189%2C%20189%2C%20189)%3B%20stroke-opacity%3A%200.7%3B%20stroke-width%3A%201px%3B%22%2F%3E%3Cpath%20class%3D%22xgrid%22%20d%3D%22M119.22%2C0A119.22%2C119.22%200%2C1%2C0%20-119.22%2C-1.4600239139434743e-14A119.22%2C119.22%200%2C1%2C0%20119.22%2C2.9200478278869487e-14Z%22%20style%3D%22stroke%3A%20rgb(189%2C%20189%2C%20189)%3B%20stroke-opacity%3A%200.7%3B%20stroke-width%3A%201px%3B%22%2F%3E%3Cpath%20class%3D%22xgrid%22%20d%3D%22M136.26%2C0A136.26%2C136.26%200%2C1%2C0%20-136.26%2C-1.6687037285181834e-14A136.26%2C136.26%200%2C1%2C0%20136.26%2C3.337407457036367e-14Z%22%20style%3D%22stroke%3A%20rgb(189%2C%20189%2C%20189)%3B%20stroke-opacity%3A%200.7%3B%20stroke-width%3A%201px%3B%22%2F%3E%3Cpath%20class%3D%22xgrid%22%20d%3D%22M153.29%2C0A153.29%2C153.29%200%2C1%2C0%20-153.29%2C-1.8772610784129777e-14A153.29%2C153.29%200%2C1%2C0%20153.29%2C3.7545221568259554e-14Z%22%20style%3D%22stroke%3A%20rgb(189%2C%20189%2C%20189)%3B%20stroke-opacity%3A%200.7%3B%20stroke-width%3A%201px%3B%22%2F%3E%3C%2Fg%3E%3Cg%20class%3D%22polarsublayer%20frontplot%22%20transform%3D%22translate(285.5%2C30)%22%3E%3Cg%20class%3D%22barlayer%22%2F%3E%3Cg%20class%3D%22scatterlayer%22%3E%3Cg%20class%3D%22trace%20scatter%20trace6e9631%22%20style%3D%22stroke-miterlimit%3A%202%3B%20opacity%3A%201%3B%22%3E%3Cg%20class%3D%22fills%22%20clip-path%3D%22url('%23clip3c112dpolar-for-traces')%22%3E%3Cg%3E%3Cpath%20class%3D%22js-fill%22%20d%3D%22M311.18%2C163L207.71%2C85.56L83.38%2C25.09L4.6%2C163L146.82%2C191.03L177.48%2C188.08L311.18%2C163Z%22%20style%3D%22fill%3A%20rgb(78%2C%20121%2C%20167)%3B%20fill-opacity%3A%200.5%3B%20stroke-width%3A%200%3B%22%2F%3E%3C%2Fg%3E%3C%2Fg%3E%3Cg%20class%3D%22errorbars%22%2F%3E%3Cg%20class%3D%22lines%22%3E%3Cpath%20class%3D%22js-line%22%20d%3D%22M311.18%2C163L207.71%2C85.56L83.38%2C25.09L4.6%2C163L146.82%2C191.03L177.48%2C188.08L311.18%2C163%22%20clip-path%3D%22url('%23clip3c112dpolar-for-traces')%22%20style%3D%22vector-effect%3A%20non-scaling-stroke%3B%20fill%3A%20none%3B%20stroke%3A%20rgb(78%2C%20121%2C%20167)%3B%20stroke-opacity%3A%201%3B%20stroke-width%3A%202px%3B%20opacity%3A%201%3B%22%2F%3E%3C%2Fg%3E%3Cg%20class%3D%22points%22%3E%3Cpath%20class%3D%22point%22%20transform%3D%22translate(311.18%2C163)%22%20d%3D%22M3%2C0A3%2C3%200%201%2C1%200%2C-3A3%2C3%200%200%2C1%203%2C0Z%22%20style%3D%22opacity%3A%201%3B%20stroke-width%3A%200px%3B%20fill%3A%20rgb(78%2C%20121%2C%20167)%3B%20fill-opacity%3A%201%3B%22%2F%3E%3Cpath%20class%3D%22point%22%20transform%3D%22translate(207.71%2C85.56)%22%20d%3D%22M3%2C0A3%2C3%200%201%2C1%200%2C-3A3%2C3%200%200%2C1%203%2C0Z%22%20style%3D%22opacity%3A%201%3B%20stroke-width%3A%200px%3B%20fill%3A%20rgb(78%2C%20121%2C%20167)%3B%20fill-opacity%3A%201%3B%22%2F%3E%3Cpath%20class%3D%22point%22%20transform%3D%22translate(83.38%2C25.09)%22%20d%3D%22M3%2C0A3%2C3%200%201%2C1%200%2C-3A3%2C3%200%200%2C1%203%2C0Z%22%20style%3D%22opacity%3A%201%3B%20stroke-width%3A%200px%3B%20fill%3A%20rgb(78%2C%20121%2C%20167)%3B%20fill-opacity%3A%201%3B%22%2F%3E%3Cpath%20class%3D%22point%22%20transform%3D%22translate(4.6%2C163)%22%20d%3D%22M3%2C0A3%2C3%200%201%2C1%200%2C-3A3%2C3%200%200%2C1%203%2C0Z%22%20style%3D%22opacity%3A%201%3B%20stroke-width%3A%200px%3B%20fill%3A%20rgb(78%2C%20121%2C%20167)%3B%20fill-opacity%3A%201%3B%22%2F%3E%3Cpath%20class%3D%22point%22%20transform%3D%22translate(146.82%2C191.03)%22%20d%3D%22M3%2C0A3%2C3%200%201%2C1%200%2C-3A3%2C3%200%200%2C1%203%2C0Z%22%20style%3D%22opacity%3A%201%3B%20stroke-width%3A%200px%3B%20fill%3A%20rgb(78%2C%20121%2C%20167)%3B%20fill-opacity%3A%201%3B%22%2F%3E%3Cpath%20class%3D%22point%22%20transform%3D%22translate(177.48%2C188.08)%22%20d%3D%22M3%2C0A3%2C3%200%201%2C1%200%2C-3A3%2C3%200%200%2C1%203%2C0Z%22%20style%3D%22opacity%3A%201%3B%20stroke-width%3A%200px%3B%20fill%3A%20rgb(78%2C%20121%2C%20167)%3B%20fill-opacity%3A%201%3B%22%2F%3E%3Cpath%20class%3D%22point%22%20transform%3D%22translate(311.18%2C163)%22%20d%3D%22M3%2C0A3%2C3%200%201%2C1%200%2C-3A3%2C3%200%200%2C1%203%2C0Z%22%20style%3D%22opacity%3A%201%3B%20stroke-width%3A%200px%3B%20fill%3A%20rgb(78%2C%20121%2C%20167)%3B%20fill-opacity%3A%201%3B%22%2F%3E%3C%2Fg%3E%3Cg%20class%3D%22text%22%2F%3E%3C%2Fg%3E%3C%2Fg%3E%3C%2Fg%3E%3Cg%20class%3D%22polarsublayer%20angular-line%22%3E%3Cpath%20d%3D%22M163%2C0A163%2C163%200%2C1%2C0%20-163%2C-1.9961742826101858e-14A163%2C163%200%2C1%2C0%20163%2C3.9923485652203715e-14Z%22%20transform%3D%22translate(448.5%2C193)%22%20stroke-width%3D%221%22%20style%3D%22fill%3A%20none%3B%20stroke%3A%20rgb(68%2C%2068%2C%2068)%3B%20stroke-opacity%3A%201%3B%22%2F%3E%3C%2Fg%3E%3Cg%20class%3D%22polarsublayer%20radial-line%22%3E%3Cline%20x1%3D%220%22%20y1%3D%220%22%20x2%3D%22163%22%20y2%3D%220%22%20transform%3D%22translate(448.5%2C193)%22%20stroke-width%3D%221%22%20style%3D%22fill%3A%20none%3B%20stroke%3A%20rgb(89%2C%2089%2C%2089)%3B%20stroke-opacity%3A%200.25%3B%22%2F%3E%3C%2Fg%3E%3Cg%20class%3D%22polarsublayer%20angular-axis%22%3E%3Cpath%20class%3D%22angularaxistick%20ticks%22%20d%3D%22M0.5%2C0h5%22%20transform%3D%22translate(611.5%2C193)%22%20style%3D%22stroke%3A%20rgb(68%2C%2068%2C%2068)%3B%20stroke-opacity%3A%201%3B%20stroke-width%3A%201px%3B%22%2F%3E%3Cpath%20class%3D%22angularaxistick%20ticks%22%20d%3D%22M0.5%2C0h5%22%20transform%3D%22translate(530%2C51.837859183136516)rotate(-60)%22%20style%3D%22stroke%3A%20rgb(68%2C%2068%2C%2068)%3B%20stroke-opacity%3A%201%3B%20stroke-width%3A%201px%3B%22%2F%3E%3Cpath%20class%3D%22angularaxistick%20ticks%22%20d%3D%22M0.5%2C0h5%22%20transform%3D%22translate(367.00000000000006%2C51.83785918313649)rotate(-120)%22%20style%3D%22stroke%3A%20rgb(68%2C%2068%2C%2068)%3B%20stroke-opacity%3A%201%3B%20stroke-width%3A%201px%3B%22%2F%3E%3Cpath%20class%3D%22angularaxistick%20ticks%22%20d%3D%22M0.5%2C0h5%22%20transform%3D%22translate(285.5%2C192.99999999999997)rotate(-180)%22%20style%3D%22stroke%3A%20rgb(68%2C%2068%2C%2068)%3B%20stroke-opacity%3A%201%3B%20stroke-width%3A%201px%3B%22%2F%3E%3Cpath%20class%3D%22angularaxistick%20ticks%22%20d%3D%22M0.5%2C0h5%22%20transform%3D%22translate(366.99999999999994%2C334.1621408168635)rotate(-240)%22%20style%3D%22stroke%3A%20rgb(68%2C%2068%2C%2068)%3B%20stroke-opacity%3A%201%3B%20stroke-width%3A%201px%3B%22%2F%3E%3Cpath%20class%3D%22angularaxistick%20ticks%22%20d%3D%22M0.5%2C0h5%22%20transform%3D%22translate(530%2C334.1621408168635)rotate(-300)%22%20style%3D%22stroke%3A%20rgb(68%2C%2068%2C%2068)%3B%20stroke-opacity%3A%201%3B%20stroke-width%3A%201px%3B%22%2F%3E%3Cg%20class%3D%22angularaxistick%22%3E%3Ctext%20text-anchor%3D%22start%22%20x%3D%227.9%22%20y%3D%224.199999999999999%22%20data-unformatted%3D%22Branca%2C%20F%22%20data-math%3D%22N%22%20transform%3D%22translate(611.5%2C193)%22%20style%3D%22font-family%3A%20%26quot%3BOpen%20Sans%26quot%3B%2C%20verdana%2C%20arial%2C%20sans-serif%3B%20font-size%3A%2012px%3B%20fill%3A%20rgb(89%2C%2089%2C%2089)%3B%20fill-opacity%3A%201%3B%20white-space%3A%20pre%3B%22%3EBranca%2C%20F%3C%2Ftext%3E%3C%2Fg%3E%3Cg%20class%3D%22angularaxistick%22%3E%3Ctext%20text-anchor%3D%22start%22%20x%3D%223.950000000000001%22%20y%3D%22-6.820061658979718%22%20data-unformatted%3D%22Branca%2C%20M%22%20data-math%3D%22N%22%20transform%3D%22translate(530%2C51.837859183136516)%22%20style%3D%22font-family%3A%20%26quot%3BOpen%20Sans%26quot%3B%2C%20verdana%2C%20arial%2C%20sans-serif%3B%20font-size%3A%2012px%3B%20fill%3A%20rgb(89%2C%2089%2C%2089)%3B%20fill-opacity%3A%201%3B%20white-space%3A%20pre%3B%22%3EBranca%2C%20M%3C%2Ftext%3E%3C%2Fg%3E%3Cg%20class%3D%22angularaxistick%22%3E%3Ctext%20text-anchor%3D%22end%22%20x%3D%22-3.9499999999999984%22%20y%3D%22-6.8200616589797205%22%20data-unformatted%3D%22Parda%2C%20F%22%20data-math%3D%22N%22%20transform%3D%22translate(367.00000000000006%2C51.83785918313649)%22%20style%3D%22font-family%3A%20%26quot%3BOpen%20Sans%26quot%3B%2C%20verdana%2C%20arial%2C%20sans-serif%3B%20font-size%3A%2012px%3B%20fill%3A%20rgb(89%2C%2089%2C%2089)%3B%20fill-opacity%3A%201%3B%20white-space%3A%20pre%3B%22%3EParda%2C%20F%3C%2Ftext%3E%3C%2Fg%3E%3Cg%20class%3D%22angularaxistick%22%3E%3Ctext%20text-anchor%3D%22end%22%20x%3D%22-7.9%22%20y%3D%224.199999999999998%22%20data-unformatted%3D%22Parda%2C%20M%22%20data-math%3D%22N%22%20transform%3D%22translate(285.5%2C192.99999999999997)%22%20style%3D%22font-family%3A%20%26quot%3BOpen%20Sans%26quot%3B%2C%20verdana%2C%20arial%2C%20sans-serif%3B%20font-size%3A%2012px%3B%20fill%3A%20rgb(89%2C%2089%2C%2089)%3B%20fill-opacity%3A%201%3B%20white-space%3A%20pre%3B%22%3EParda%2C%20M%3C%2Ftext%3E%3C%2Fg%3E%3Cg%20class%3D%22angularaxistick%22%3E%3Ctext%20text-anchor%3D%22end%22%20x%3D%22-3.9500000000000037%22%20y%3D%2219.333905535310326%22%20data-unformatted%3D%22Preta%2C%20F%22%20data-math%3D%22N%22%20transform%3D%22translate(366.99999999999994%2C334.1621408168635)%22%20style%3D%22font-family%3A%20%26quot%3BOpen%20Sans%26quot%3B%2C%20verdana%2C%20arial%2C%20sans-serif%3B%20font-size%3A%2012px%3B%20fill%3A%20rgb(89%2C%2089%2C%2089)%3B%20fill-opacity%3A%201%3B%20white-space%3A%20pre%3B%22%3EPreta%2C%20F%3C%2Ftext%3E%3C%2Fg%3E%3Cg%20class%3D%22angularaxistick%22%3E%3Ctext%20text-anchor%3D%22start%22%20x%3D%223.950000000000001%22%20y%3D%2219.33390553531033%22%20data-unformatted%3D%22Preta%2C%20M%22%20data-math%3D%22N%22%20transform%3D%22translate(530%2C334.1621408168635)%22%20style%3D%22font-family%3A%20%26quot%3BOpen%20Sans%26quot%3B%2C%20verdana%2C%20arial%2C%20sans-serif%3B%20font-size%3A%2012px%3B%20fill%3A%20rgb(89%2C%2089%2C%2089)%3B%20fill-opacity%3A%201%3B%20white-space%3A%20pre%3B%22%3EPreta%2C%20M%3C%2Ftext%3E%3C%2Fg%3E%3C%2Fg%3E%3Cg%20class%3D%22polarsublayer%20radial-axis%22%20transform%3D%22translate(448.5%2C193)%22%3E%3Cpath%20class%3D%22xtick%20ticks%22%20d%3D%22M0%2C0.5v5%22%20transform%3D%22%22%20style%3D%22stroke%3A%20rgb(89%2C%2089%2C%2089)%3B%20stroke-opacity%3A%200.25%3B%20stroke-width%3A%201px%3B%22%2F%3E%3Cpath%20class%3D%22xtick%20ticks%22%20d%3D%22M0%2C0.5v5%22%20transform%3D%22translate(17.03%2C0)%22%20style%3D%22stroke%3A%20rgb(89%2C%2089%2C%2089)%3B%20stroke-opacity%3A%200.25%3B%20stroke-width%3A%201px%3B%22%2F%3E%3Cpath%20class%3D%22xtick%20ticks%22%20d%3D%22M0%2C0.5v5%22%20transform%3D%22translate(34.06%2C0)%22%20style%3D%22stroke%3A%20rgb(89%2C%2089%2C%2089)%3B%20stroke-opacity%3A%200.25%3B%20stroke-width%3A%201px%3B%22%2F%3E%3Cpath%20class%3D%22xtick%20ticks%22%20d%3D%22M0%2C0.5v5%22%20transform%3D%22translate(51.1%2C0)%22%20style%3D%22stroke%3A%20rgb(89%2C%2089%2C%2089)%3B%20stroke-opacity%3A%200.25%3B%20stroke-width%3A%201px%3B%22%2F%3E%3Cpath%20class%3D%22xtick%20ticks%22%20d%3D%22M0%2C0.5v5%22%20transform%3D%22translate(68.13%2C0)%22%20style%3D%22stroke%3A%20rgb(89%2C%2089%2C%2089)%3B%20stroke-opacity%3A%200.25%3B%20stroke-width%3A%201px%3B%22%2F%3E%3Cpath%20class%3D%22xtick%20ticks%22%20d%3D%22M0%2C0.5v5%22%20transform%3D%22translate(85.16%2C0)%22%20style%3D%22stroke%3A%20rgb(89%2C%2089%2C%2089)%3B%20stroke-opacity%3A%200.25%3B%20stroke-width%3A%201px%3B%22%2F%3E%3Cpath%20class%3D%22xtick%20ticks%22%20d%3D%22M0%2C0.5v5%22%20transform%3D%22translate(102.19%2C0)%22%20style%3D%22stroke%3A%20rgb(89%2C%2089%2C%2089)%3B%20stroke-opacity%3A%200.25%3B%20stroke-width%3A%201px%3B%22%2F%3E%3Cpath%20class%3D%22xtick%20ticks%22%20d%3D%22M0%2C0.5v5%22%20transform%3D%22translate(119.22%2C0)%22%20style%3D%22stroke%3A%20rgb(89%2C%2089%2C%2089)%3B%20stroke-opacity%3A%200.25%3B%20stroke-width%3A%201px%3B%22%2F%3E%3Cpath%20class%3D%22xtick%20ticks%22%20d%3D%22M0%2C0.5v5%22%20transform%3D%22translate(136.26%2C0)%22%20style%3D%22stroke%3A%20rgb(89%2C%2089%2C%2089)%3B%20stroke-opacity%3A%200.25%3B%20stroke-width%3A%201px%3B%22%2F%3E%3Cpath%20class%3D%22xtick%20ticks%22%20d%3D%22M0%2C0.5v5%22%20transform%3D%22translate(153.29%2C0)%22%20style%3D%22stroke%3A%20rgb(89%2C%2089%2C%2089)%3B%20stroke-opacity%3A%200.25%3B%20stroke-width%3A%201px%3B%22%2F%3E%3Cg%20class%3D%22xtick%22%3E%3Ctext%20text-anchor%3D%22start%22%20x%3D%220%22%20y%3D%2219.9%22%20data-unformatted%3D%220%22%20data-math%3D%22N%22%20transform%3D%22%20rotate(90%2C0%2C13.899999999999999)%22%20style%3D%22font-family%3A%20%26quot%3BOpen%20Sans%26quot%3B%2C%20verdana%2C%20arial%2C%20sans-serif%3B%20font-size%3A%2012px%3B%20fill%3A%20rgb(89%2C%2089%2C%2089)%3B%20fill-opacity%3A%200.25%3B%20white-space%3A%20pre%3B%22%3E0%3C%2Ftext%3E%3C%2Fg%3E%3Cg%20class%3D%22xtick%22%3E%3Ctext%20text-anchor%3D%22start%22%20x%3D%220%22%20y%3D%2219.9%22%20data-unformatted%3D%2220%22%20data-math%3D%22N%22%20transform%3D%22translate(17.03%2C0)%20rotate(90%2C0%2C13.899999999999999)%22%20style%3D%22font-family%3A%20%26quot%3BOpen%20Sans%26quot%3B%2C%20verdana%2C%20arial%2C%20sans-serif%3B%20font-size%3A%2012px%3B%20fill%3A%20rgb(89%2C%2089%2C%2089)%3B%20fill-opacity%3A%200.25%3B%20white-space%3A%20pre%3B%22%3E20%3C%2Ftext%3E%3C%2Fg%3E%3Cg%20class%3D%22xtick%22%3E%3Ctext%20text-anchor%3D%22start%22%20x%3D%220%22%20y%3D%2219.9%22%20data-unformatted%3D%2240%22%20data-math%3D%22N%22%20transform%3D%22translate(34.06%2C0)%20rotate(90%2C0%2C13.899999999999999)%22%20style%3D%22font-family%3A%20%26quot%3BOpen%20Sans%26quot%3B%2C%20verdana%2C%20arial%2C%20sans-serif%3B%20font-size%3A%2012px%3B%20fill%3A%20rgb(89%2C%2089%2C%2089)%3B%20fill-opacity%3A%200.25%3B%20white-space%3A%20pre%3B%22%3E40%3C%2Ftext%3E%3C%2Fg%3E%3Cg%20class%3D%22xtick%22%3E%3Ctext%20text-anchor%3D%22start%22%20x%3D%220%22%20y%3D%2219.9%22%20data-unformatted%3D%2260%22%20data-math%3D%22N%22%20transform%3D%22translate(51.1%2C0)%20rotate(90%2C0%2C13.899999999999999)%22%20style%3D%22font-family%3A%20%26quot%3BOpen%20Sans%26quot%3B%2C%20verdana%2C%20arial%2C%20sans-serif%3B%20font-size%3A%2012px%3B%20fill%3A%20rgb(89%2C%2089%2C%2089)%3B%20fill-opacity%3A%200.25%3B%20white-space%3A%20pre%3B%22%3E60%3C%2Ftext%3E%3C%2Fg%3E%3Cg%20class%3D%22xtick%22%3E%3Ctext%20text-anchor%3D%22start%22%20x%3D%220%22%20y%3D%2219.9%22%20data-unformatted%3D%2280%22%20data-math%3D%22N%22%20transform%3D%22translate(68.13%2C0)%20rotate(90%2C0%2C13.899999999999999)%22%20style%3D%22font-family%3A%20%26quot%3BOpen%20Sans%26quot%3B%2C%20verdana%2C%20arial%2C%20sans-serif%3B%20font-size%3A%2012px%3B%20fill%3A%20rgb(89%2C%2089%2C%2089)%3B%20fill-opacity%3A%200.25%3B%20white-space%3A%20pre%3B%22%3E80%3C%2Ftext%3E%3C%2Fg%3E%3Cg%20class%3D%22xtick%22%3E%3Ctext%20text-anchor%3D%22start%22%20x%3D%220%22%20y%3D%2219.9%22%20data-unformatted%3D%22100%22%20data-math%3D%22N%22%20transform%3D%22translate(85.16%2C0)%20rotate(90%2C0%2C13.899999999999999)%22%20style%3D%22font-family%3A%20%26quot%3BOpen%20Sans%26quot%3B%2C%20verdana%2C%20arial%2C%20sans-serif%3B%20font-size%3A%2012px%3B%20fill%3A%20rgb(89%2C%2089%2C%2089)%3B%20fill-opacity%3A%200.25%3B%20white-space%3A%20pre%3B%22%3E100%3C%2Ftext%3E%3C%2Fg%3E%3Cg%20class%3D%22xtick%22%3E%3Ctext%20text-anchor%3D%22start%22%20x%3D%220%22%20y%3D%2219.9%22%20data-unformatted%3D%22120%22%20data-math%3D%22N%22%20transform%3D%22translate(102.19%2C0)%20rotate(90%2C0%2C13.899999999999999)%22%20style%3D%22font-family%3A%20%26quot%3BOpen%20Sans%26quot%3B%2C%20verdana%2C%20arial%2C%20sans-serif%3B%20font-size%3A%2012px%3B%20fill%3A%20rgb(89%2C%2089%2C%2089)%3B%20fill-opacity%3A%200.25%3B%20white-space%3A%20pre%3B%22%3E120%3C%2Ftext%3E%3C%2Fg%3E%3Cg%20class%3D%22xtick%22%3E%3Ctext%20text-anchor%3D%22start%22%20x%3D%220%22%20y%3D%2219.9%22%20data-unformatted%3D%22140%22%20data-math%3D%22N%22%20transform%3D%22translate(119.22%2C0)%20rotate(90%2C0%2C13.899999999999999)%22%20style%3D%22font-family%3A%20%26quot%3BOpen%20Sans%26quot%3B%2C%20verdana%2C%20arial%2C%20sans-serif%3B%20font-size%3A%2012px%3B%20fill%3A%20rgb(89%2C%2089%2C%2089)%3B%20fill-opacity%3A%200.25%3B%20white-space%3A%20pre%3B%22%3E140%3C%2Ftext%3E%3C%2Fg%3E%3Cg%20class%3D%22xtick%22%3E%3Ctext%20text-anchor%3D%22start%22%20x%3D%220%22%20y%3D%2219.9%22%20data-unformatted%3D%22160%22%20data-math%3D%22N%22%20transform%3D%22translate(136.26%2C0)%20rotate(90%2C0%2C13.899999999999999)%22%20style%3D%22font-family%3A%20%26quot%3BOpen%20Sans%26quot%3B%2C%20verdana%2C%20arial%2C%20sans-serif%3B%20font-size%3A%2012px%3B%20fill%3A%20rgb(89%2C%2089%2C%2089)%3B%20fill-opacity%3A%200.25%3B%20white-space%3A%20pre%3B%22%3E160%3C%2Ftext%3E%3C%2Fg%3E%3Cg%20class%3D%22xtick%22%3E%3Ctext%20text-anchor%3D%22start%22%20x%3D%220%22%20y%3D%2219.9%22%20data-unformatted%3D%22180%22%20data-math%3D%22N%22%20transform%3D%22translate(153.29%2C0)%20rotate(90%2C0%2C13.899999999999999)%22%20style%3D%22font-family%3A%20%26quot%3BOpen%20Sans%26quot%3B%2C%20verdana%2C%20arial%2C%20sans-serif%3B%20font-size%3A%2012px%3B%20fill%3A%20rgb(89%2C%2089%2C%2089)%3B%20fill-opacity%3A%200.25%3B%20white-space%3A%20pre%3B%22%3E180%3C%2Ftext%3E%3C%2Fg%3E%3C%2Fg%3E%3C%2Fg%3E%3C%2Fg%3E%3Cg%20class%3D%22ternarylayer%22%2F%3E%3Cg%20class%3D%22geolayer%22%2F%3E%3Cg%20class%3D%22funnelarealayer%22%2F%3E%3Cg%20class%3D%22pielayer%22%2F%3E%3Cg%20class%3D%22treemaplayer%22%2F%3E%3Cg%20class%3D%22sunburstlayer%22%2F%3E%3Cg%20class%3D%22glimages%22%2F%3E%3Cdefs%20id%3D%22topdefs-3c112d%22%3E%3Cg%20class%3D%22clips%22%2F%3E%3CclipPath%20id%3D%22legend3c112d%22%3E%3Crect%20width%3D%2292%22%20height%3D%2229%22%20x%3D%220%22%20y%3D%220%22%2F%3E%3C%2FclipPath%3E%3C%2Fdefs%3E%3Cg%20class%3D%22indicatorlayer%22%2F%3E%3Cg%20class%3D%22layer-above%22%3E%3Cg%20class%3D%22imagelayer%22%2F%3E%3Cg%20class%3D%22shapelayer%22%2F%3E%3C%2Fg%3E%3Cg%20class%3D%22infolayer%22%3E%3Cg%20class%3D%22legend%22%20pointer-events%3D%22all%22%20transform%3D%22translate(831.74%2C30)%22%3E%3Crect%20class%3D%22bg%22%20shape-rendering%3D%22crispEdges%22%20width%3D%2292%22%20height%3D%2229%22%20x%3D%220%22%20y%3D%220%22%20style%3D%22stroke%3A%20rgb(68%2C%2068%2C%2068)%3B%20stroke-opacity%3A%201%3B%20fill%3A%20rgb(255%2C%20255%2C%20255)%3B%20fill-opacity%3A%201%3B%20stroke-width%3A%200px%3B%22%2F%3E%3Cg%20class%3D%22scrollbox%22%20transform%3D%22%22%20clip-path%3D%22url('%23legend3c112d')%22%3E%3Cg%20class%3D%22groups%22%20transform%3D%22%22%3E%3Cg%20class%3D%22traces%22%20transform%3D%22translate(0%2C14.5)%22%20style%3D%22opacity%3A%201%3B%22%3E%3Ctext%20class%3D%22legendtext%22%20text-anchor%3D%22start%22%20x%3D%2240%22%20y%3D%224.680000000000001%22%20data-unformatted%3D%22qtd.SUM%22%20data-math%3D%22N%22%20style%3D%22font-family%3A%20%26quot%3BOpen%20Sans%26quot%3B%2C%20verdana%2C%20arial%2C%20sans-serif%3B%20font-size%3A%2012px%3B%20fill%3A%20rgb(89%2C%2089%2C%2089)%3B%20fill-opacity%3A%201%3B%20white-space%3A%20pre%3B%22%3Eqtd.SUM%3C%2Ftext%3E%3Cg%20class%3D%22layers%22%20style%3D%22opacity%3A%201%3B%22%3E%3Cg%20class%3D%22legendfill%22%3E%3Cpath%20class%3D%22js-fill%22%20d%3D%22M5%2C0h30v6h-30z%22%20style%3D%22stroke-width%3A%200%3B%20fill%3A%20rgb(78%2C%20121%2C%20167)%3B%20fill-opacity%3A%200.5%3B%22%2F%3E%3C%2Fg%3E%3Cg%20class%3D%22legendlines%22%3E%3Cpath%20class%3D%22js-line%22%20d%3D%22M5%2C0h30%22%20style%3D%22fill%3A%20none%3B%20stroke%3A%20rgb(78%2C%20121%2C%20167)%3B%20stroke-opacity%3A%201%3B%20stroke-width%3A%202px%3B%22%2F%3E%3C%2Fg%3E%3Cg%20class%3D%22legendsymbols%22%3E%3Cg%20class%3D%22legendpoints%22%3E%3Cpath%20class%3D%22scatterpts%22%20transform%3D%22translate(20%2C0)%22%20d%3D%22M3%2C0A3%2C3%200%201%2C1%200%2C-3A3%2C3%200%200%2C1%203%2C0Z%22%20style%3D%22opacity%3A%201%3B%20stroke-width%3A%200px%3B%20fill%3A%20rgb(78%2C%20121%2C%20167)%3B%20fill-opacity%3A%201%3B%22%2F%3E%3C%2Fg%3E%3C%2Fg%3E%3C%2Fg%3E%3Crect%20class%3D%22legendtoggle%22%20pointer-events%3D%22all%22%20x%3D%220%22%20y%3D%22-9.5%22%20width%3D%2286.6875%22%20height%3D%2219%22%20style%3D%22cursor%3A%20pointer%3B%20fill%3A%20rgb(0%2C%200%2C%200)%3B%20fill-opacity%3A%200%3B%22%2F%3E%3C%2Fg%3E%3C%2Fg%3E%3C%2Fg%3E%3Crect%20class%3D%22scrollbar%22%20rx%3D%2220%22%20ry%3D%223%22%20width%3D%220%22%20height%3D%220%22%20x%3D%220%22%20y%3D%220%22%20style%3D%22fill%3A%20rgb(128%2C%20139%2C%20164)%3B%20fill-opacity%3A%201%3B%22%2F%3E%3C%2Fg%3E%3Cg%20class%3D%22g-gtitle%22%2F%3E%3Cg%20class%3D%22g-polartitle%22%2F%3E%3C%2Fg%3E%3Cg%20class%3D%22menulayer%22%2F%3E%3Cg%20class%3D%22zoomlayer%22%2F%3E%3Cg%20class%3D%22hoverlayer%22%2F%3E%3C%2Fsvg%3E\">"
      ],
      "text/plain": [
       "Open the notebook in JupyterLab with the atoti extension installed and enabled to start editing this widget."
      ]
     },
     "metadata": {},
     "output_type": "display_data"
    }
   ],
   "source": [
    "session.visualize()"
   ]
  },
  {
   "cell_type": "markdown",
   "metadata": {},
   "source": [
    "# Função Dashboard"
   ]
  },
  {
   "cell_type": "markdown",
   "metadata": {},
   "source": [
    "Podemos criar um dashboard com este modulo provendo ricos insigts. Atoti vem com uma aplicação Web que pode ser acessada fora do jupyter notebook. Para iniciar basta aplicar a instrução \"session.url\""
   ]
  },
  {
   "cell_type": "code",
   "execution_count": 15,
   "metadata": {},
   "outputs": [
    {
     "data": {
      "text/plain": [
       "'http://localhost:33119'"
      ]
     },
     "execution_count": 15,
     "metadata": {},
     "output_type": "execute_result"
    }
   ],
   "source": [
    "session.url"
   ]
  },
  {
   "cell_type": "markdown",
   "metadata": {},
   "source": [
    "## Enriquecendo o cubo\n",
    "\n",
    "Vamos adicionar novos atributos e possibilidades"
   ]
  },
  {
   "cell_type": "markdown",
   "metadata": {},
   "source": [
    "### Join\n",
    "\n",
    "Carregando novas dimensoes e integrando ao cubo "
   ]
  },
  {
   "cell_type": "code",
   "execution_count": 16,
   "metadata": {},
   "outputs": [],
   "source": [
    "individuo_store = session.read_csv(\"dim_individuo.csv\", keys=[\"dcod_individuo\"])"
   ]
  },
  {
   "cell_type": "markdown",
   "metadata": {},
   "source": [
    "Observe que a chave especificada também será integrada com a tabela fato. Estas chaves relacionam as informações correspondentes.\n",
    "(Se voce tentar inserir uma nova linha com a mesma chave isso irá sobrepor a existente)"
   ]
  },
  {
   "cell_type": "code",
   "execution_count": 17,
   "metadata": {},
   "outputs": [
    {
     "data": {
      "text/html": [
       "<div>\n",
       "<style scoped>\n",
       "    .dataframe tbody tr th:only-of-type {\n",
       "        vertical-align: middle;\n",
       "    }\n",
       "\n",
       "    .dataframe tbody tr th {\n",
       "        vertical-align: top;\n",
       "    }\n",
       "\n",
       "    .dataframe thead th {\n",
       "        text-align: right;\n",
       "    }\n",
       "</style>\n",
       "<table border=\"1\" class=\"dataframe\">\n",
       "  <thead>\n",
       "    <tr style=\"text-align: right;\">\n",
       "      <th></th>\n",
       "      <th>version</th>\n",
       "      <th>date_from</th>\n",
       "      <th>date_to</th>\n",
       "      <th>classificacao</th>\n",
       "      <th>evolucao</th>\n",
       "      <th>faixaetaria</th>\n",
       "      <th>idadenadatanotificacao</th>\n",
       "      <th>sexo</th>\n",
       "      <th>racacor</th>\n",
       "      <th>ficouinternado</th>\n",
       "      <th>viagembrasil</th>\n",
       "      <th>viageminternacional</th>\n",
       "    </tr>\n",
       "    <tr>\n",
       "      <th>dcod_individuo</th>\n",
       "      <th></th>\n",
       "      <th></th>\n",
       "      <th></th>\n",
       "      <th></th>\n",
       "      <th></th>\n",
       "      <th></th>\n",
       "      <th></th>\n",
       "      <th></th>\n",
       "      <th></th>\n",
       "      <th></th>\n",
       "      <th></th>\n",
       "      <th></th>\n",
       "    </tr>\n",
       "  </thead>\n",
       "  <tbody>\n",
       "    <tr>\n",
       "      <th>0</th>\n",
       "      <td>1</td>\n",
       "      <td>N/A</td>\n",
       "      <td>N/A</td>\n",
       "      <td>N/A</td>\n",
       "      <td>N/A</td>\n",
       "      <td>N/A</td>\n",
       "      <td>N/A</td>\n",
       "      <td>N/A</td>\n",
       "      <td>N/A</td>\n",
       "      <td>N/A</td>\n",
       "      <td>N/A</td>\n",
       "      <td>N/A</td>\n",
       "    </tr>\n",
       "    <tr>\n",
       "      <th>1</th>\n",
       "      <td>1</td>\n",
       "      <td>1900-01-01 00:00:00</td>\n",
       "      <td>2199-12-31 23:59:59</td>\n",
       "      <td>Descartados</td>\n",
       "      <td>Ignorado</td>\n",
       "      <td>05 a 9 anos</td>\n",
       "      <td>9 anos, 7 meses, 17 dias</td>\n",
       "      <td>F</td>\n",
       "      <td>Amarela</td>\n",
       "      <td>Não</td>\n",
       "      <td>Não</td>\n",
       "      <td>Não</td>\n",
       "    </tr>\n",
       "    <tr>\n",
       "      <th>2</th>\n",
       "      <td>1</td>\n",
       "      <td>1900-01-01 00:00:00</td>\n",
       "      <td>2199-12-31 23:59:59</td>\n",
       "      <td>Confirmados</td>\n",
       "      <td>Ignorado</td>\n",
       "      <td>50 a 59 anos</td>\n",
       "      <td>58 anos, 5 meses, 20 dias</td>\n",
       "      <td>F</td>\n",
       "      <td>Preta</td>\n",
       "      <td>Não</td>\n",
       "      <td>Não</td>\n",
       "      <td>Não</td>\n",
       "    </tr>\n",
       "    <tr>\n",
       "      <th>3</th>\n",
       "      <td>1</td>\n",
       "      <td>1900-01-01 00:00:00</td>\n",
       "      <td>2199-12-31 23:59:59</td>\n",
       "      <td>Descartados</td>\n",
       "      <td>Ignorado</td>\n",
       "      <td>60 a 69 anos</td>\n",
       "      <td>61 anos, 8 meses, 25 dias</td>\n",
       "      <td>M</td>\n",
       "      <td>Branca</td>\n",
       "      <td>Não</td>\n",
       "      <td>Não</td>\n",
       "      <td>Não</td>\n",
       "    </tr>\n",
       "    <tr>\n",
       "      <th>4</th>\n",
       "      <td>1</td>\n",
       "      <td>1900-01-01 00:00:00</td>\n",
       "      <td>2199-12-31 23:59:59</td>\n",
       "      <td>Descartados</td>\n",
       "      <td>Ignorado</td>\n",
       "      <td>60 a 69 anos</td>\n",
       "      <td>64 anos, 4 meses, 11 dias</td>\n",
       "      <td>F</td>\n",
       "      <td>Parda</td>\n",
       "      <td>Não</td>\n",
       "      <td>Não</td>\n",
       "      <td>Não</td>\n",
       "    </tr>\n",
       "  </tbody>\n",
       "</table>\n",
       "</div>"
      ],
      "text/plain": [
       "                version            date_from              date_to  \\\n",
       "dcod_individuo                                                      \n",
       "0                     1                  N/A                  N/A   \n",
       "1                     1  1900-01-01 00:00:00  2199-12-31 23:59:59   \n",
       "2                     1  1900-01-01 00:00:00  2199-12-31 23:59:59   \n",
       "3                     1  1900-01-01 00:00:00  2199-12-31 23:59:59   \n",
       "4                     1  1900-01-01 00:00:00  2199-12-31 23:59:59   \n",
       "\n",
       "               classificacao  evolucao   faixaetaria  \\\n",
       "dcod_individuo                                         \n",
       "0                        N/A       N/A           N/A   \n",
       "1                Descartados  Ignorado   05 a 9 anos   \n",
       "2                Confirmados  Ignorado  50 a 59 anos   \n",
       "3                Descartados  Ignorado  60 a 69 anos   \n",
       "4                Descartados  Ignorado  60 a 69 anos   \n",
       "\n",
       "                   idadenadatanotificacao sexo  racacor ficouinternado  \\\n",
       "dcod_individuo                                                           \n",
       "0                                     N/A  N/A      N/A            N/A   \n",
       "1                9 anos, 7 meses, 17 dias    F  Amarela            Não   \n",
       "2               58 anos, 5 meses, 20 dias    F    Preta            Não   \n",
       "3               61 anos, 8 meses, 25 dias    M   Branca            Não   \n",
       "4               64 anos, 4 meses, 11 dias    F    Parda            Não   \n",
       "\n",
       "               viagembrasil viageminternacional  \n",
       "dcod_individuo                                   \n",
       "0                       N/A                 N/A  \n",
       "1                       Não                 Não  \n",
       "2                       Não                 Não  \n",
       "3                       Não                 Não  \n",
       "4                       Não                 Não  "
      ]
     },
     "execution_count": 17,
     "metadata": {},
     "output_type": "execute_result"
    }
   ],
   "source": [
    "individuo_store.head()"
   ]
  },
  {
   "cell_type": "markdown",
   "metadata": {},
   "source": [
    "Todas as informações de indivíduo estarão em linha com a tabela fato, declarando uma relação entre os objtetos store que o cubo pode utilizar para prover mais analises entre os eixos/dimensões."
   ]
  },
  {
   "cell_type": "code",
   "execution_count": 18,
   "metadata": {},
   "outputs": [],
   "source": [
    "fato_store.join(individuo_store, mapping={\"dcod_individuo\": \"dcod_individuo\"})"
   ]
  },
  {
   "cell_type": "code",
   "execution_count": 19,
   "metadata": {},
   "outputs": [],
   "source": [
    "local_store = session.read_csv(\"dim_local.csv\", keys=[\"dcod\"])"
   ]
  },
  {
   "cell_type": "code",
   "execution_count": 20,
   "metadata": {},
   "outputs": [],
   "source": [
    "data_store = session.read_csv(\"dim_data.csv\", keys=[\"dim_id_data\"])"
   ]
  },
  {
   "cell_type": "code",
   "execution_count": 21,
   "metadata": {},
   "outputs": [],
   "source": [
    "comorb_store = session.read_csv(\"dim_sint_comorb.csv\", keys=[\"dcod_sint_cmorb\"])"
   ]
  },
  {
   "cell_type": "code",
   "execution_count": 22,
   "metadata": {},
   "outputs": [],
   "source": [
    "fato_store.join(local_store, mapping={\"dcod_local\": \"dcod\"})"
   ]
  },
  {
   "cell_type": "code",
   "execution_count": 23,
   "metadata": {},
   "outputs": [],
   "source": [
    "fato_store.join(data_store, mapping={\"dim_id_data_not\": \"dim_id_data\"})"
   ]
  },
  {
   "cell_type": "code",
   "execution_count": 24,
   "metadata": {},
   "outputs": [],
   "source": [
    "fato_store.join(comorb_store, mapping={\"dcod_sint_cmorb\": \"dcod_sint_cmorb\"})"
   ]
  },
  {
   "cell_type": "markdown",
   "metadata": {},
   "source": [
    "# Schema\n",
    "Podemos visualizar a estrutura complata dos datastores:\n"
   ]
  },
  {
   "cell_type": "code",
   "execution_count": 25,
   "metadata": {},
   "outputs": [
    {
     "data": {
      "image/svg+xml": [
       "<svg xmlns=\"http://www.w3.org/2000/svg\" xmlns:xlink=\"http://www.w3.org/1999/xlink\" width=\"743px\" height=\"1134px\" viewBox=\"0.00 0.00 743.00 1134.00\">\n",
       "<g id=\"graph0\" class=\"graph\" transform=\"scale(1.0 1.0) rotate(0) translate(4 1130)\">\n",
       "<title>Datastore schema</title>\n",
       "<polygon fill=\"#ffffff\" stroke=\"transparent\" points=\"-4,4 -4,-1130 739,-1130 739,4 -4,4\"/>\n",
       "<!-- Dim_individuo -->\n",
       "<g id=\"node1\" class=\"node\">\n",
       "<title>Dim_individuo</title>\n",
       "<text text-anchor=\"start\" x=\"550.5\" y=\"-1106.6\" font-family=\"-apple-system, BlinkMacSystemFont, 'Segoe UI', Helvetica, Arial, sans-serif, 'Apple Color Emoji', 'Segoe UI Emoji', 'Segoe UI Symbol'\" font-weight=\"bold\" font-size=\"13.00\" fill=\"#000000\">Dim_individuo</text>\n",
       "<polygon fill=\"#f5f5f5\" stroke=\"transparent\" points=\"461.5,-1073 461.5,-1097 492.5,-1097 492.5,-1073 461.5,-1073\"/>\n",
       "<text text-anchor=\"start\" x=\"466.5\" y=\"-1082.6\" font-family=\"-apple-system, BlinkMacSystemFont, 'Segoe UI', Helvetica, Arial, sans-serif, 'Apple Color Emoji', 'Segoe UI Emoji', 'Segoe UI Symbol'\" font-weight=\"bold\" font-size=\"13.00\" fill=\"#000000\">key</text>\n",
       "<polygon fill=\"#f5f5f5\" stroke=\"transparent\" points=\"492.5,-1073 492.5,-1097 631.5,-1097 631.5,-1073 492.5,-1073\"/>\n",
       "<text text-anchor=\"start\" x=\"497.5\" y=\"-1081.6\" font-family=\"-apple-system, BlinkMacSystemFont, 'Segoe UI', Helvetica, Arial, sans-serif, 'Apple Color Emoji', 'Segoe UI Emoji', 'Segoe UI Symbol'\" font-size=\"13.00\" fill=\"#000000\">dcod_individuo</text>\n",
       "<polygon fill=\"#f5f5f5\" stroke=\"transparent\" points=\"631.5,-1073 631.5,-1097 726.5,-1097 726.5,-1073 631.5,-1073\"/>\n",
       "<text text-anchor=\"start\" x=\"707.5\" y=\"-1082.6\" font-family=\"-apple-system, BlinkMacSystemFont, 'Segoe UI', Helvetica, Arial, sans-serif, 'Apple Color Emoji', 'Segoe UI Emoji', 'Segoe UI Symbol'\" font-style=\"italic\" font-size=\"13.00\" fill=\"#000000\">int</text>\n",
       "<polygon fill=\"#ffffff\" stroke=\"transparent\" points=\"461.5,-1049 461.5,-1073 492.5,-1073 492.5,-1049 461.5,-1049\"/>\n",
       "<polygon fill=\"#ffffff\" stroke=\"transparent\" points=\"492.5,-1049 492.5,-1073 631.5,-1073 631.5,-1049 492.5,-1049\"/>\n",
       "<text text-anchor=\"start\" x=\"497.5\" y=\"-1057.6\" font-family=\"-apple-system, BlinkMacSystemFont, 'Segoe UI', Helvetica, Arial, sans-serif, 'Apple Color Emoji', 'Segoe UI Emoji', 'Segoe UI Symbol'\" font-size=\"13.00\" fill=\"#000000\">version</text>\n",
       "<polygon fill=\"#ffffff\" stroke=\"transparent\" points=\"631.5,-1049 631.5,-1073 726.5,-1073 726.5,-1049 631.5,-1049\"/>\n",
       "<text text-anchor=\"start\" x=\"707.5\" y=\"-1058.6\" font-family=\"-apple-system, BlinkMacSystemFont, 'Segoe UI', Helvetica, Arial, sans-serif, 'Apple Color Emoji', 'Segoe UI Emoji', 'Segoe UI Symbol'\" font-style=\"italic\" font-size=\"13.00\" fill=\"#000000\">int</text>\n",
       "<polygon fill=\"#f5f5f5\" stroke=\"transparent\" points=\"461.5,-1025 461.5,-1049 492.5,-1049 492.5,-1025 461.5,-1025\"/>\n",
       "<polygon fill=\"#f5f5f5\" stroke=\"transparent\" points=\"492.5,-1025 492.5,-1049 631.5,-1049 631.5,-1025 492.5,-1025\"/>\n",
       "<text text-anchor=\"start\" x=\"497.5\" y=\"-1033.6\" font-family=\"-apple-system, BlinkMacSystemFont, 'Segoe UI', Helvetica, Arial, sans-serif, 'Apple Color Emoji', 'Segoe UI Emoji', 'Segoe UI Symbol'\" font-size=\"13.00\" fill=\"#000000\">date_from</text>\n",
       "<polygon fill=\"#f5f5f5\" stroke=\"transparent\" points=\"631.5,-1025 631.5,-1049 726.5,-1049 726.5,-1025 631.5,-1025\"/>\n",
       "<text text-anchor=\"start\" x=\"636.5\" y=\"-1034.6\" font-family=\"-apple-system, BlinkMacSystemFont, 'Segoe UI', Helvetica, Arial, sans-serif, 'Apple Color Emoji', 'Segoe UI Emoji', 'Segoe UI Symbol'\" font-style=\"italic\" font-size=\"13.00\" fill=\"#000000\">LocalDateTime</text>\n",
       "<polygon fill=\"#ffffff\" stroke=\"transparent\" points=\"461.5,-1001 461.5,-1025 492.5,-1025 492.5,-1001 461.5,-1001\"/>\n",
       "<polygon fill=\"#ffffff\" stroke=\"transparent\" points=\"492.5,-1001 492.5,-1025 631.5,-1025 631.5,-1001 492.5,-1001\"/>\n",
       "<text text-anchor=\"start\" x=\"497.5\" y=\"-1009.6\" font-family=\"-apple-system, BlinkMacSystemFont, 'Segoe UI', Helvetica, Arial, sans-serif, 'Apple Color Emoji', 'Segoe UI Emoji', 'Segoe UI Symbol'\" font-size=\"13.00\" fill=\"#000000\">date_to</text>\n",
       "<polygon fill=\"#ffffff\" stroke=\"transparent\" points=\"631.5,-1001 631.5,-1025 726.5,-1025 726.5,-1001 631.5,-1001\"/>\n",
       "<text text-anchor=\"start\" x=\"636.5\" y=\"-1010.6\" font-family=\"-apple-system, BlinkMacSystemFont, 'Segoe UI', Helvetica, Arial, sans-serif, 'Apple Color Emoji', 'Segoe UI Emoji', 'Segoe UI Symbol'\" font-style=\"italic\" font-size=\"13.00\" fill=\"#000000\">LocalDateTime</text>\n",
       "<polygon fill=\"#f5f5f5\" stroke=\"transparent\" points=\"461.5,-977 461.5,-1001 492.5,-1001 492.5,-977 461.5,-977\"/>\n",
       "<polygon fill=\"#f5f5f5\" stroke=\"transparent\" points=\"492.5,-977 492.5,-1001 631.5,-1001 631.5,-977 492.5,-977\"/>\n",
       "<text text-anchor=\"start\" x=\"497.5\" y=\"-985.6\" font-family=\"-apple-system, BlinkMacSystemFont, 'Segoe UI', Helvetica, Arial, sans-serif, 'Apple Color Emoji', 'Segoe UI Emoji', 'Segoe UI Symbol'\" font-size=\"13.00\" fill=\"#000000\">classificacao</text>\n",
       "<polygon fill=\"#f5f5f5\" stroke=\"transparent\" points=\"631.5,-977 631.5,-1001 726.5,-1001 726.5,-977 631.5,-977\"/>\n",
       "<text text-anchor=\"start\" x=\"687.5\" y=\"-986.6\" font-family=\"-apple-system, BlinkMacSystemFont, 'Segoe UI', Helvetica, Arial, sans-serif, 'Apple Color Emoji', 'Segoe UI Emoji', 'Segoe UI Symbol'\" font-style=\"italic\" font-size=\"13.00\" fill=\"#000000\">String</text>\n",
       "<polygon fill=\"#ffffff\" stroke=\"transparent\" points=\"461.5,-953 461.5,-977 492.5,-977 492.5,-953 461.5,-953\"/>\n",
       "<polygon fill=\"#ffffff\" stroke=\"transparent\" points=\"492.5,-953 492.5,-977 631.5,-977 631.5,-953 492.5,-953\"/>\n",
       "<text text-anchor=\"start\" x=\"497.5\" y=\"-961.6\" font-family=\"-apple-system, BlinkMacSystemFont, 'Segoe UI', Helvetica, Arial, sans-serif, 'Apple Color Emoji', 'Segoe UI Emoji', 'Segoe UI Symbol'\" font-size=\"13.00\" fill=\"#000000\">evolucao</text>\n",
       "<polygon fill=\"#ffffff\" stroke=\"transparent\" points=\"631.5,-953 631.5,-977 726.5,-977 726.5,-953 631.5,-953\"/>\n",
       "<text text-anchor=\"start\" x=\"687.5\" y=\"-962.6\" font-family=\"-apple-system, BlinkMacSystemFont, 'Segoe UI', Helvetica, Arial, sans-serif, 'Apple Color Emoji', 'Segoe UI Emoji', 'Segoe UI Symbol'\" font-style=\"italic\" font-size=\"13.00\" fill=\"#000000\">String</text>\n",
       "<polygon fill=\"#f5f5f5\" stroke=\"transparent\" points=\"461.5,-929 461.5,-953 492.5,-953 492.5,-929 461.5,-929\"/>\n",
       "<polygon fill=\"#f5f5f5\" stroke=\"transparent\" points=\"492.5,-929 492.5,-953 631.5,-953 631.5,-929 492.5,-929\"/>\n",
       "<text text-anchor=\"start\" x=\"497.5\" y=\"-937.6\" font-family=\"-apple-system, BlinkMacSystemFont, 'Segoe UI', Helvetica, Arial, sans-serif, 'Apple Color Emoji', 'Segoe UI Emoji', 'Segoe UI Symbol'\" font-size=\"13.00\" fill=\"#000000\">faixaetaria</text>\n",
       "<polygon fill=\"#f5f5f5\" stroke=\"transparent\" points=\"631.5,-929 631.5,-953 726.5,-953 726.5,-929 631.5,-929\"/>\n",
       "<text text-anchor=\"start\" x=\"687.5\" y=\"-938.6\" font-family=\"-apple-system, BlinkMacSystemFont, 'Segoe UI', Helvetica, Arial, sans-serif, 'Apple Color Emoji', 'Segoe UI Emoji', 'Segoe UI Symbol'\" font-style=\"italic\" font-size=\"13.00\" fill=\"#000000\">String</text>\n",
       "<polygon fill=\"#ffffff\" stroke=\"transparent\" points=\"461.5,-905 461.5,-929 492.5,-929 492.5,-905 461.5,-905\"/>\n",
       "<polygon fill=\"#ffffff\" stroke=\"transparent\" points=\"492.5,-905 492.5,-929 631.5,-929 631.5,-905 492.5,-905\"/>\n",
       "<text text-anchor=\"start\" x=\"497.5\" y=\"-913.6\" font-family=\"-apple-system, BlinkMacSystemFont, 'Segoe UI', Helvetica, Arial, sans-serif, 'Apple Color Emoji', 'Segoe UI Emoji', 'Segoe UI Symbol'\" font-size=\"13.00\" fill=\"#000000\">idadenadatanotificacao</text>\n",
       "<polygon fill=\"#ffffff\" stroke=\"transparent\" points=\"631.5,-905 631.5,-929 726.5,-929 726.5,-905 631.5,-905\"/>\n",
       "<text text-anchor=\"start\" x=\"687.5\" y=\"-914.6\" font-family=\"-apple-system, BlinkMacSystemFont, 'Segoe UI', Helvetica, Arial, sans-serif, 'Apple Color Emoji', 'Segoe UI Emoji', 'Segoe UI Symbol'\" font-style=\"italic\" font-size=\"13.00\" fill=\"#000000\">String</text>\n",
       "<polygon fill=\"#f5f5f5\" stroke=\"transparent\" points=\"461.5,-881 461.5,-905 492.5,-905 492.5,-881 461.5,-881\"/>\n",
       "<polygon fill=\"#f5f5f5\" stroke=\"transparent\" points=\"492.5,-881 492.5,-905 631.5,-905 631.5,-881 492.5,-881\"/>\n",
       "<text text-anchor=\"start\" x=\"497.5\" y=\"-889.6\" font-family=\"-apple-system, BlinkMacSystemFont, 'Segoe UI', Helvetica, Arial, sans-serif, 'Apple Color Emoji', 'Segoe UI Emoji', 'Segoe UI Symbol'\" font-size=\"13.00\" fill=\"#000000\">sexo</text>\n",
       "<polygon fill=\"#f5f5f5\" stroke=\"transparent\" points=\"631.5,-881 631.5,-905 726.5,-905 726.5,-881 631.5,-881\"/>\n",
       "<text text-anchor=\"start\" x=\"687.5\" y=\"-890.6\" font-family=\"-apple-system, BlinkMacSystemFont, 'Segoe UI', Helvetica, Arial, sans-serif, 'Apple Color Emoji', 'Segoe UI Emoji', 'Segoe UI Symbol'\" font-style=\"italic\" font-size=\"13.00\" fill=\"#000000\">String</text>\n",
       "<polygon fill=\"#ffffff\" stroke=\"transparent\" points=\"461.5,-857 461.5,-881 492.5,-881 492.5,-857 461.5,-857\"/>\n",
       "<polygon fill=\"#ffffff\" stroke=\"transparent\" points=\"492.5,-857 492.5,-881 631.5,-881 631.5,-857 492.5,-857\"/>\n",
       "<text text-anchor=\"start\" x=\"497.5\" y=\"-865.6\" font-family=\"-apple-system, BlinkMacSystemFont, 'Segoe UI', Helvetica, Arial, sans-serif, 'Apple Color Emoji', 'Segoe UI Emoji', 'Segoe UI Symbol'\" font-size=\"13.00\" fill=\"#000000\">racacor</text>\n",
       "<polygon fill=\"#ffffff\" stroke=\"transparent\" points=\"631.5,-857 631.5,-881 726.5,-881 726.5,-857 631.5,-857\"/>\n",
       "<text text-anchor=\"start\" x=\"687.5\" y=\"-866.6\" font-family=\"-apple-system, BlinkMacSystemFont, 'Segoe UI', Helvetica, Arial, sans-serif, 'Apple Color Emoji', 'Segoe UI Emoji', 'Segoe UI Symbol'\" font-style=\"italic\" font-size=\"13.00\" fill=\"#000000\">String</text>\n",
       "<polygon fill=\"#f5f5f5\" stroke=\"transparent\" points=\"461.5,-833 461.5,-857 492.5,-857 492.5,-833 461.5,-833\"/>\n",
       "<polygon fill=\"#f5f5f5\" stroke=\"transparent\" points=\"492.5,-833 492.5,-857 631.5,-857 631.5,-833 492.5,-833\"/>\n",
       "<text text-anchor=\"start\" x=\"497.5\" y=\"-841.6\" font-family=\"-apple-system, BlinkMacSystemFont, 'Segoe UI', Helvetica, Arial, sans-serif, 'Apple Color Emoji', 'Segoe UI Emoji', 'Segoe UI Symbol'\" font-size=\"13.00\" fill=\"#000000\">ficouinternado</text>\n",
       "<polygon fill=\"#f5f5f5\" stroke=\"transparent\" points=\"631.5,-833 631.5,-857 726.5,-857 726.5,-833 631.5,-833\"/>\n",
       "<text text-anchor=\"start\" x=\"687.5\" y=\"-842.6\" font-family=\"-apple-system, BlinkMacSystemFont, 'Segoe UI', Helvetica, Arial, sans-serif, 'Apple Color Emoji', 'Segoe UI Emoji', 'Segoe UI Symbol'\" font-style=\"italic\" font-size=\"13.00\" fill=\"#000000\">String</text>\n",
       "<polygon fill=\"#ffffff\" stroke=\"transparent\" points=\"461.5,-809 461.5,-833 492.5,-833 492.5,-809 461.5,-809\"/>\n",
       "<polygon fill=\"#ffffff\" stroke=\"transparent\" points=\"492.5,-809 492.5,-833 631.5,-833 631.5,-809 492.5,-809\"/>\n",
       "<text text-anchor=\"start\" x=\"497.5\" y=\"-817.6\" font-family=\"-apple-system, BlinkMacSystemFont, 'Segoe UI', Helvetica, Arial, sans-serif, 'Apple Color Emoji', 'Segoe UI Emoji', 'Segoe UI Symbol'\" font-size=\"13.00\" fill=\"#000000\">viagembrasil</text>\n",
       "<polygon fill=\"#ffffff\" stroke=\"transparent\" points=\"631.5,-809 631.5,-833 726.5,-833 726.5,-809 631.5,-809\"/>\n",
       "<text text-anchor=\"start\" x=\"687.5\" y=\"-818.6\" font-family=\"-apple-system, BlinkMacSystemFont, 'Segoe UI', Helvetica, Arial, sans-serif, 'Apple Color Emoji', 'Segoe UI Emoji', 'Segoe UI Symbol'\" font-style=\"italic\" font-size=\"13.00\" fill=\"#000000\">String</text>\n",
       "<polygon fill=\"#f5f5f5\" stroke=\"transparent\" points=\"461.5,-785 461.5,-809 492.5,-809 492.5,-785 461.5,-785\"/>\n",
       "<polygon fill=\"#f5f5f5\" stroke=\"transparent\" points=\"492.5,-785 492.5,-809 631.5,-809 631.5,-785 492.5,-785\"/>\n",
       "<text text-anchor=\"start\" x=\"497.5\" y=\"-793.6\" font-family=\"-apple-system, BlinkMacSystemFont, 'Segoe UI', Helvetica, Arial, sans-serif, 'Apple Color Emoji', 'Segoe UI Emoji', 'Segoe UI Symbol'\" font-size=\"13.00\" fill=\"#000000\">viageminternacional</text>\n",
       "<polygon fill=\"#f5f5f5\" stroke=\"transparent\" points=\"631.5,-785 631.5,-809 726.5,-809 726.5,-785 631.5,-785\"/>\n",
       "<text text-anchor=\"start\" x=\"687.5\" y=\"-794.6\" font-family=\"-apple-system, BlinkMacSystemFont, 'Segoe UI', Helvetica, Arial, sans-serif, 'Apple Color Emoji', 'Segoe UI Emoji', 'Segoe UI Symbol'\" font-style=\"italic\" font-size=\"13.00\" fill=\"#000000\">String</text>\n",
       "<polygon fill=\"none\" stroke=\"#000000\" points=\"460,-784 460,-1122 727,-1122 727,-784 460,-784\"/>\n",
       "</g>\n",
       "<!-- Fato_covid19 -->\n",
       "<g id=\"node2\" class=\"node\">\n",
       "<title>Fato_covid19</title>\n",
       "<text text-anchor=\"start\" x=\"62.5\" y=\"-692.6\" font-family=\"-apple-system, BlinkMacSystemFont, 'Segoe UI', Helvetica, Arial, sans-serif, 'Apple Color Emoji', 'Segoe UI Emoji', 'Segoe UI Symbol'\" font-weight=\"bold\" font-size=\"13.00\" fill=\"#000000\">Fato_covid19</text>\n",
       "<text text-anchor=\"start\" x=\"40\" y=\"-666.6\" font-family=\"-apple-system, BlinkMacSystemFont, 'Segoe UI', Helvetica, Arial, sans-serif, 'Apple Color Emoji', 'Segoe UI Emoji', 'Segoe UI Symbol'\" font-size=\"13.00\" fill=\"#000000\">base of: Fato_covid19</text>\n",
       "<polygon fill=\"#f5f5f5\" stroke=\"transparent\" points=\"9.5,-634 9.5,-658 40.5,-658 40.5,-634 9.5,-634\"/>\n",
       "<text text-anchor=\"start\" x=\"14.5\" y=\"-643.6\" font-family=\"-apple-system, BlinkMacSystemFont, 'Segoe UI', Helvetica, Arial, sans-serif, 'Apple Color Emoji', 'Segoe UI Emoji', 'Segoe UI Symbol'\" font-weight=\"bold\" font-size=\"13.00\" fill=\"#000000\">key</text>\n",
       "<polygon fill=\"#f5f5f5\" stroke=\"transparent\" points=\"40.5,-634 40.5,-658 147.5,-658 147.5,-634 40.5,-634\"/>\n",
       "<text text-anchor=\"start\" x=\"45.5\" y=\"-642.6\" font-family=\"-apple-system, BlinkMacSystemFont, 'Segoe UI', Helvetica, Arial, sans-serif, 'Apple Color Emoji', 'Segoe UI Emoji', 'Segoe UI Symbol'\" font-size=\"13.00\" fill=\"#000000\">id</text>\n",
       "<polygon fill=\"#f5f5f5\" stroke=\"transparent\" points=\"147.5,-634 147.5,-658 194.5,-658 194.5,-634 147.5,-634\"/>\n",
       "<text text-anchor=\"start\" x=\"175.5\" y=\"-643.6\" font-family=\"-apple-system, BlinkMacSystemFont, 'Segoe UI', Helvetica, Arial, sans-serif, 'Apple Color Emoji', 'Segoe UI Emoji', 'Segoe UI Symbol'\" font-style=\"italic\" font-size=\"13.00\" fill=\"#000000\">int</text>\n",
       "<polygon fill=\"#ffffff\" stroke=\"transparent\" points=\"9.5,-610 9.5,-634 40.5,-634 40.5,-610 9.5,-610\"/>\n",
       "<polygon fill=\"#ffffff\" stroke=\"transparent\" points=\"40.5,-610 40.5,-634 147.5,-634 147.5,-610 40.5,-610\"/>\n",
       "<text text-anchor=\"start\" x=\"45.5\" y=\"-618.6\" font-family=\"-apple-system, BlinkMacSystemFont, 'Segoe UI', Helvetica, Arial, sans-serif, 'Apple Color Emoji', 'Segoe UI Emoji', 'Segoe UI Symbol'\" font-size=\"13.00\" fill=\"#000000\">dcod_local</text>\n",
       "<polygon fill=\"#ffffff\" stroke=\"transparent\" points=\"147.5,-610 147.5,-634 194.5,-634 194.5,-610 147.5,-610\"/>\n",
       "<text text-anchor=\"start\" x=\"175.5\" y=\"-619.6\" font-family=\"-apple-system, BlinkMacSystemFont, 'Segoe UI', Helvetica, Arial, sans-serif, 'Apple Color Emoji', 'Segoe UI Emoji', 'Segoe UI Symbol'\" font-style=\"italic\" font-size=\"13.00\" fill=\"#000000\">int</text>\n",
       "<polygon fill=\"#f5f5f5\" stroke=\"transparent\" points=\"9.5,-586 9.5,-610 40.5,-610 40.5,-586 9.5,-586\"/>\n",
       "<polygon fill=\"#f5f5f5\" stroke=\"transparent\" points=\"40.5,-586 40.5,-610 147.5,-610 147.5,-586 40.5,-586\"/>\n",
       "<text text-anchor=\"start\" x=\"45.5\" y=\"-594.6\" font-family=\"-apple-system, BlinkMacSystemFont, 'Segoe UI', Helvetica, Arial, sans-serif, 'Apple Color Emoji', 'Segoe UI Emoji', 'Segoe UI Symbol'\" font-size=\"13.00\" fill=\"#000000\">dcod_individuo</text>\n",
       "<polygon fill=\"#f5f5f5\" stroke=\"transparent\" points=\"147.5,-586 147.5,-610 194.5,-610 194.5,-586 147.5,-586\"/>\n",
       "<text text-anchor=\"start\" x=\"175.5\" y=\"-595.6\" font-family=\"-apple-system, BlinkMacSystemFont, 'Segoe UI', Helvetica, Arial, sans-serif, 'Apple Color Emoji', 'Segoe UI Emoji', 'Segoe UI Symbol'\" font-style=\"italic\" font-size=\"13.00\" fill=\"#000000\">int</text>\n",
       "<polygon fill=\"#ffffff\" stroke=\"transparent\" points=\"9.5,-562 9.5,-586 40.5,-586 40.5,-562 9.5,-562\"/>\n",
       "<polygon fill=\"#ffffff\" stroke=\"transparent\" points=\"40.5,-562 40.5,-586 147.5,-586 147.5,-562 40.5,-562\"/>\n",
       "<text text-anchor=\"start\" x=\"45.5\" y=\"-570.6\" font-family=\"-apple-system, BlinkMacSystemFont, 'Segoe UI', Helvetica, Arial, sans-serif, 'Apple Color Emoji', 'Segoe UI Emoji', 'Segoe UI Symbol'\" font-size=\"13.00\" fill=\"#000000\">dcod_sint_cmorb</text>\n",
       "<polygon fill=\"#ffffff\" stroke=\"transparent\" points=\"147.5,-562 147.5,-586 194.5,-586 194.5,-562 147.5,-562\"/>\n",
       "<text text-anchor=\"start\" x=\"175.5\" y=\"-571.6\" font-family=\"-apple-system, BlinkMacSystemFont, 'Segoe UI', Helvetica, Arial, sans-serif, 'Apple Color Emoji', 'Segoe UI Emoji', 'Segoe UI Symbol'\" font-style=\"italic\" font-size=\"13.00\" fill=\"#000000\">int</text>\n",
       "<polygon fill=\"#f5f5f5\" stroke=\"transparent\" points=\"9.5,-538 9.5,-562 40.5,-562 40.5,-538 9.5,-538\"/>\n",
       "<polygon fill=\"#f5f5f5\" stroke=\"transparent\" points=\"40.5,-538 40.5,-562 147.5,-562 147.5,-538 40.5,-538\"/>\n",
       "<text text-anchor=\"start\" x=\"45.5\" y=\"-546.6\" font-family=\"-apple-system, BlinkMacSystemFont, 'Segoe UI', Helvetica, Arial, sans-serif, 'Apple Color Emoji', 'Segoe UI Emoji', 'Segoe UI Symbol'\" font-size=\"13.00\" fill=\"#000000\">dim_id_data_not</text>\n",
       "<polygon fill=\"#f5f5f5\" stroke=\"transparent\" points=\"147.5,-538 147.5,-562 194.5,-562 194.5,-538 147.5,-538\"/>\n",
       "<text text-anchor=\"start\" x=\"175.5\" y=\"-547.6\" font-family=\"-apple-system, BlinkMacSystemFont, 'Segoe UI', Helvetica, Arial, sans-serif, 'Apple Color Emoji', 'Segoe UI Emoji', 'Segoe UI Symbol'\" font-style=\"italic\" font-size=\"13.00\" fill=\"#000000\">int</text>\n",
       "<polygon fill=\"#ffffff\" stroke=\"transparent\" points=\"9.5,-514 9.5,-538 40.5,-538 40.5,-514 9.5,-514\"/>\n",
       "<polygon fill=\"#ffffff\" stroke=\"transparent\" points=\"40.5,-514 40.5,-538 147.5,-538 147.5,-514 40.5,-514\"/>\n",
       "<text text-anchor=\"start\" x=\"45.5\" y=\"-522.6\" font-family=\"-apple-system, BlinkMacSystemFont, 'Segoe UI', Helvetica, Arial, sans-serif, 'Apple Color Emoji', 'Segoe UI Emoji', 'Segoe UI Symbol'\" font-size=\"13.00\" fill=\"#000000\">qtd</text>\n",
       "<polygon fill=\"#ffffff\" stroke=\"transparent\" points=\"147.5,-514 147.5,-538 194.5,-538 194.5,-514 147.5,-514\"/>\n",
       "<text text-anchor=\"start\" x=\"152.5\" y=\"-523.6\" font-family=\"-apple-system, BlinkMacSystemFont, 'Segoe UI', Helvetica, Arial, sans-serif, 'Apple Color Emoji', 'Segoe UI Emoji', 'Segoe UI Symbol'\" font-style=\"italic\" font-size=\"13.00\" fill=\"#000000\">double</text>\n",
       "<polygon fill=\"none\" stroke=\"#000000\" points=\"8,-513.5 8,-708.5 195,-708.5 195,-513.5 8,-513.5\"/>\n",
       "</g>\n",
       "<!-- Fato_covid19&#45;&gt;Dim_individuo -->\n",
       "<g id=\"edge4\" class=\"edge\">\n",
       "<title>Fato_covid19-&gt;Dim_individuo</title>\n",
       "<path fill=\"none\" stroke=\"#000000\" d=\"M203.1443,-681.6552C272.5103,-729.873 365.573,-794.5629 443.4328,-848.685\"/>\n",
       "<polygon fill=\"#000000\" stroke=\"#000000\" points=\"441.6725,-851.7239 451.8813,-854.5577 445.6679,-845.9761 441.6725,-851.7239\"/>\n",
       "<text text-anchor=\"middle\" x=\"327.5\" y=\"-835.6\" font-family=\"-apple-system, BlinkMacSystemFont, 'Segoe UI', Helvetica, Arial, sans-serif, 'Apple Color Emoji', 'Segoe UI Emoji', 'Segoe UI Symbol'\" font-size=\"13.00\" fill=\"#000000\">dcod_individuo → dcod_individuo</text>\n",
       "</g>\n",
       "<!-- Dim_local -->\n",
       "<g id=\"node3\" class=\"node\">\n",
       "<title>Dim_local</title>\n",
       "<text text-anchor=\"start\" x=\"564\" y=\"-742.6\" font-family=\"-apple-system, BlinkMacSystemFont, 'Segoe UI', Helvetica, Arial, sans-serif, 'Apple Color Emoji', 'Segoe UI Emoji', 'Segoe UI Symbol'\" font-weight=\"bold\" font-size=\"13.00\" fill=\"#000000\">Dim_local</text>\n",
       "<polygon fill=\"#f5f5f5\" stroke=\"transparent\" points=\"524.5,-709 524.5,-733 555.5,-733 555.5,-709 524.5,-709\"/>\n",
       "<text text-anchor=\"start\" x=\"529.5\" y=\"-718.6\" font-family=\"-apple-system, BlinkMacSystemFont, 'Segoe UI', Helvetica, Arial, sans-serif, 'Apple Color Emoji', 'Segoe UI Emoji', 'Segoe UI Symbol'\" font-weight=\"bold\" font-size=\"13.00\" fill=\"#000000\">key</text>\n",
       "<polygon fill=\"#f5f5f5\" stroke=\"transparent\" points=\"555.5,-709 555.5,-733 619.5,-733 619.5,-709 555.5,-709\"/>\n",
       "<text text-anchor=\"start\" x=\"560.5\" y=\"-717.6\" font-family=\"-apple-system, BlinkMacSystemFont, 'Segoe UI', Helvetica, Arial, sans-serif, 'Apple Color Emoji', 'Segoe UI Emoji', 'Segoe UI Symbol'\" font-size=\"13.00\" fill=\"#000000\">dcod</text>\n",
       "<polygon fill=\"#f5f5f5\" stroke=\"transparent\" points=\"619.5,-709 619.5,-733 663.5,-733 663.5,-709 619.5,-709\"/>\n",
       "<text text-anchor=\"start\" x=\"644.5\" y=\"-718.6\" font-family=\"-apple-system, BlinkMacSystemFont, 'Segoe UI', Helvetica, Arial, sans-serif, 'Apple Color Emoji', 'Segoe UI Emoji', 'Segoe UI Symbol'\" font-style=\"italic\" font-size=\"13.00\" fill=\"#000000\">int</text>\n",
       "<polygon fill=\"#ffffff\" stroke=\"transparent\" points=\"524.5,-685 524.5,-709 555.5,-709 555.5,-685 524.5,-685\"/>\n",
       "<polygon fill=\"#ffffff\" stroke=\"transparent\" points=\"555.5,-685 555.5,-709 619.5,-709 619.5,-685 555.5,-685\"/>\n",
       "<text text-anchor=\"start\" x=\"560.5\" y=\"-693.6\" font-family=\"-apple-system, BlinkMacSystemFont, 'Segoe UI', Helvetica, Arial, sans-serif, 'Apple Color Emoji', 'Segoe UI Emoji', 'Segoe UI Symbol'\" font-size=\"13.00\" fill=\"#000000\">municipio</text>\n",
       "<polygon fill=\"#ffffff\" stroke=\"transparent\" points=\"619.5,-685 619.5,-709 663.5,-709 663.5,-685 619.5,-685\"/>\n",
       "<text text-anchor=\"start\" x=\"624.5\" y=\"-694.6\" font-family=\"-apple-system, BlinkMacSystemFont, 'Segoe UI', Helvetica, Arial, sans-serif, 'Apple Color Emoji', 'Segoe UI Emoji', 'Segoe UI Symbol'\" font-style=\"italic\" font-size=\"13.00\" fill=\"#000000\">String</text>\n",
       "<polygon fill=\"#f5f5f5\" stroke=\"transparent\" points=\"524.5,-661 524.5,-685 555.5,-685 555.5,-661 524.5,-661\"/>\n",
       "<polygon fill=\"#f5f5f5\" stroke=\"transparent\" points=\"555.5,-661 555.5,-685 619.5,-685 619.5,-661 555.5,-661\"/>\n",
       "<text text-anchor=\"start\" x=\"560.5\" y=\"-669.6\" font-family=\"-apple-system, BlinkMacSystemFont, 'Segoe UI', Helvetica, Arial, sans-serif, 'Apple Color Emoji', 'Segoe UI Emoji', 'Segoe UI Symbol'\" font-size=\"13.00\" fill=\"#000000\">bairro</text>\n",
       "<polygon fill=\"#f5f5f5\" stroke=\"transparent\" points=\"619.5,-661 619.5,-685 663.5,-685 663.5,-661 619.5,-661\"/>\n",
       "<text text-anchor=\"start\" x=\"624.5\" y=\"-670.6\" font-family=\"-apple-system, BlinkMacSystemFont, 'Segoe UI', Helvetica, Arial, sans-serif, 'Apple Color Emoji', 'Segoe UI Emoji', 'Segoe UI Symbol'\" font-style=\"italic\" font-size=\"13.00\" fill=\"#000000\">String</text>\n",
       "<polygon fill=\"none\" stroke=\"#000000\" points=\"523,-660 523,-758 664,-758 664,-660 523,-660\"/>\n",
       "</g>\n",
       "<!-- Fato_covid19&#45;&gt;Dim_local -->\n",
       "<g id=\"edge3\" class=\"edge\">\n",
       "<title>Fato_covid19-&gt;Dim_local</title>\n",
       "<path fill=\"none\" stroke=\"#000000\" d=\"M203.1443,-631.2462C292.0584,-648.9567 419.9069,-674.4225 504.7651,-691.3252\"/>\n",
       "<polygon fill=\"#000000\" stroke=\"#000000\" points=\"504.1464,-694.7706 514.6375,-693.2916 505.5139,-687.9055 504.1464,-694.7706\"/>\n",
       "<text text-anchor=\"middle\" x=\"327.5\" y=\"-677.6\" font-family=\"-apple-system, BlinkMacSystemFont, 'Segoe UI', Helvetica, Arial, sans-serif, 'Apple Color Emoji', 'Segoe UI Emoji', 'Segoe UI Symbol'\" font-size=\"13.00\" fill=\"#000000\">dcod_local → dcod</text>\n",
       "</g>\n",
       "<!-- Dim_data -->\n",
       "<g id=\"node4\" class=\"node\">\n",
       "<title>Dim_data</title>\n",
       "<text text-anchor=\"start\" x=\"565\" y=\"-618.6\" font-family=\"-apple-system, BlinkMacSystemFont, 'Segoe UI', Helvetica, Arial, sans-serif, 'Apple Color Emoji', 'Segoe UI Emoji', 'Segoe UI Symbol'\" font-weight=\"bold\" font-size=\"13.00\" fill=\"#000000\">Dim_data</text>\n",
       "<polygon fill=\"#f5f5f5\" stroke=\"transparent\" points=\"472.5,-585 472.5,-609 503.5,-609 503.5,-585 472.5,-585\"/>\n",
       "<text text-anchor=\"start\" x=\"477.5\" y=\"-594.6\" font-family=\"-apple-system, BlinkMacSystemFont, 'Segoe UI', Helvetica, Arial, sans-serif, 'Apple Color Emoji', 'Segoe UI Emoji', 'Segoe UI Symbol'\" font-weight=\"bold\" font-size=\"13.00\" fill=\"#000000\">key</text>\n",
       "<polygon fill=\"#f5f5f5\" stroke=\"transparent\" points=\"503.5,-585 503.5,-609 619.5,-609 619.5,-585 503.5,-585\"/>\n",
       "<text text-anchor=\"start\" x=\"508.5\" y=\"-593.6\" font-family=\"-apple-system, BlinkMacSystemFont, 'Segoe UI', Helvetica, Arial, sans-serif, 'Apple Color Emoji', 'Segoe UI Emoji', 'Segoe UI Symbol'\" font-size=\"13.00\" fill=\"#000000\">dim_id_data</text>\n",
       "<polygon fill=\"#f5f5f5\" stroke=\"transparent\" points=\"619.5,-585 619.5,-609 714.5,-609 714.5,-585 619.5,-585\"/>\n",
       "<text text-anchor=\"start\" x=\"695.5\" y=\"-594.6\" font-family=\"-apple-system, BlinkMacSystemFont, 'Segoe UI', Helvetica, Arial, sans-serif, 'Apple Color Emoji', 'Segoe UI Emoji', 'Segoe UI Symbol'\" font-style=\"italic\" font-size=\"13.00\" fill=\"#000000\">int</text>\n",
       "<polygon fill=\"#ffffff\" stroke=\"transparent\" points=\"472.5,-561 472.5,-585 503.5,-585 503.5,-561 472.5,-561\"/>\n",
       "<polygon fill=\"#ffffff\" stroke=\"transparent\" points=\"503.5,-561 503.5,-585 619.5,-585 619.5,-561 503.5,-561\"/>\n",
       "<text text-anchor=\"start\" x=\"508.5\" y=\"-569.6\" font-family=\"-apple-system, BlinkMacSystemFont, 'Segoe UI', Helvetica, Arial, sans-serif, 'Apple Color Emoji', 'Segoe UI Emoji', 'Segoe UI Symbol'\" font-size=\"13.00\" fill=\"#000000\">id_data_inteiro</text>\n",
       "<polygon fill=\"#ffffff\" stroke=\"transparent\" points=\"619.5,-561 619.5,-585 714.5,-585 714.5,-561 619.5,-561\"/>\n",
       "<text text-anchor=\"start\" x=\"695.5\" y=\"-570.6\" font-family=\"-apple-system, BlinkMacSystemFont, 'Segoe UI', Helvetica, Arial, sans-serif, 'Apple Color Emoji', 'Segoe UI Emoji', 'Segoe UI Symbol'\" font-style=\"italic\" font-size=\"13.00\" fill=\"#000000\">int</text>\n",
       "<polygon fill=\"#f5f5f5\" stroke=\"transparent\" points=\"472.5,-537 472.5,-561 503.5,-561 503.5,-537 472.5,-537\"/>\n",
       "<polygon fill=\"#f5f5f5\" stroke=\"transparent\" points=\"503.5,-537 503.5,-561 619.5,-561 619.5,-537 503.5,-537\"/>\n",
       "<text text-anchor=\"start\" x=\"508.5\" y=\"-545.6\" font-family=\"-apple-system, BlinkMacSystemFont, 'Segoe UI', Helvetica, Arial, sans-serif, 'Apple Color Emoji', 'Segoe UI Emoji', 'Segoe UI Symbol'\" font-size=\"13.00\" fill=\"#000000\">data</text>\n",
       "<polygon fill=\"#f5f5f5\" stroke=\"transparent\" points=\"619.5,-537 619.5,-561 714.5,-561 714.5,-537 619.5,-537\"/>\n",
       "<text text-anchor=\"start\" x=\"624.5\" y=\"-546.6\" font-family=\"-apple-system, BlinkMacSystemFont, 'Segoe UI', Helvetica, Arial, sans-serif, 'Apple Color Emoji', 'Segoe UI Emoji', 'Segoe UI Symbol'\" font-style=\"italic\" font-size=\"13.00\" fill=\"#000000\">LocalDateTime</text>\n",
       "<polygon fill=\"#ffffff\" stroke=\"transparent\" points=\"472.5,-513 472.5,-537 503.5,-537 503.5,-513 472.5,-513\"/>\n",
       "<polygon fill=\"#ffffff\" stroke=\"transparent\" points=\"503.5,-513 503.5,-537 619.5,-537 619.5,-513 503.5,-513\"/>\n",
       "<text text-anchor=\"start\" x=\"508.5\" y=\"-521.6\" font-family=\"-apple-system, BlinkMacSystemFont, 'Segoe UI', Helvetica, Arial, sans-serif, 'Apple Color Emoji', 'Segoe UI Emoji', 'Segoe UI Symbol'\" font-size=\"13.00\" fill=\"#000000\">day</text>\n",
       "<polygon fill=\"#ffffff\" stroke=\"transparent\" points=\"619.5,-513 619.5,-537 714.5,-537 714.5,-513 619.5,-513\"/>\n",
       "<text text-anchor=\"start\" x=\"672.5\" y=\"-522.6\" font-family=\"-apple-system, BlinkMacSystemFont, 'Segoe UI', Helvetica, Arial, sans-serif, 'Apple Color Emoji', 'Segoe UI Emoji', 'Segoe UI Symbol'\" font-style=\"italic\" font-size=\"13.00\" fill=\"#000000\">double</text>\n",
       "<polygon fill=\"#f5f5f5\" stroke=\"transparent\" points=\"472.5,-489 472.5,-513 503.5,-513 503.5,-489 472.5,-489\"/>\n",
       "<polygon fill=\"#f5f5f5\" stroke=\"transparent\" points=\"503.5,-489 503.5,-513 619.5,-513 619.5,-489 503.5,-489\"/>\n",
       "<text text-anchor=\"start\" x=\"508.5\" y=\"-497.6\" font-family=\"-apple-system, BlinkMacSystemFont, 'Segoe UI', Helvetica, Arial, sans-serif, 'Apple Color Emoji', 'Segoe UI Emoji', 'Segoe UI Symbol'\" font-size=\"13.00\" fill=\"#000000\">dia_semana</text>\n",
       "<polygon fill=\"#f5f5f5\" stroke=\"transparent\" points=\"619.5,-489 619.5,-513 714.5,-513 714.5,-489 619.5,-489\"/>\n",
       "<text text-anchor=\"start\" x=\"672.5\" y=\"-498.6\" font-family=\"-apple-system, BlinkMacSystemFont, 'Segoe UI', Helvetica, Arial, sans-serif, 'Apple Color Emoji', 'Segoe UI Emoji', 'Segoe UI Symbol'\" font-style=\"italic\" font-size=\"13.00\" fill=\"#000000\">double</text>\n",
       "<polygon fill=\"#ffffff\" stroke=\"transparent\" points=\"472.5,-465 472.5,-489 503.5,-489 503.5,-465 472.5,-465\"/>\n",
       "<polygon fill=\"#ffffff\" stroke=\"transparent\" points=\"503.5,-465 503.5,-489 619.5,-489 619.5,-465 503.5,-465\"/>\n",
       "<text text-anchor=\"start\" x=\"508.5\" y=\"-473.6\" font-family=\"-apple-system, BlinkMacSystemFont, 'Segoe UI', Helvetica, Arial, sans-serif, 'Apple Color Emoji', 'Segoe UI Emoji', 'Segoe UI Symbol'\" font-size=\"13.00\" fill=\"#000000\">nome_dia_semana</text>\n",
       "<polygon fill=\"#ffffff\" stroke=\"transparent\" points=\"619.5,-465 619.5,-489 714.5,-489 714.5,-465 619.5,-465\"/>\n",
       "<text text-anchor=\"start\" x=\"675.5\" y=\"-474.6\" font-family=\"-apple-system, BlinkMacSystemFont, 'Segoe UI', Helvetica, Arial, sans-serif, 'Apple Color Emoji', 'Segoe UI Emoji', 'Segoe UI Symbol'\" font-style=\"italic\" font-size=\"13.00\" fill=\"#000000\">String</text>\n",
       "<polygon fill=\"#f5f5f5\" stroke=\"transparent\" points=\"472.5,-441 472.5,-465 503.5,-465 503.5,-441 472.5,-441\"/>\n",
       "<polygon fill=\"#f5f5f5\" stroke=\"transparent\" points=\"503.5,-441 503.5,-465 619.5,-465 619.5,-441 503.5,-441\"/>\n",
       "<text text-anchor=\"start\" x=\"508.5\" y=\"-449.6\" font-family=\"-apple-system, BlinkMacSystemFont, 'Segoe UI', Helvetica, Arial, sans-serif, 'Apple Color Emoji', 'Segoe UI Emoji', 'Segoe UI Symbol'\" font-size=\"13.00\" fill=\"#000000\">month</text>\n",
       "<polygon fill=\"#f5f5f5\" stroke=\"transparent\" points=\"619.5,-441 619.5,-465 714.5,-465 714.5,-441 619.5,-441\"/>\n",
       "<text text-anchor=\"start\" x=\"672.5\" y=\"-450.6\" font-family=\"-apple-system, BlinkMacSystemFont, 'Segoe UI', Helvetica, Arial, sans-serif, 'Apple Color Emoji', 'Segoe UI Emoji', 'Segoe UI Symbol'\" font-style=\"italic\" font-size=\"13.00\" fill=\"#000000\">double</text>\n",
       "<polygon fill=\"#ffffff\" stroke=\"transparent\" points=\"472.5,-417 472.5,-441 503.5,-441 503.5,-417 472.5,-417\"/>\n",
       "<polygon fill=\"#ffffff\" stroke=\"transparent\" points=\"503.5,-417 503.5,-441 619.5,-441 619.5,-417 503.5,-417\"/>\n",
       "<text text-anchor=\"start\" x=\"508.5\" y=\"-425.6\" font-family=\"-apple-system, BlinkMacSystemFont, 'Segoe UI', Helvetica, Arial, sans-serif, 'Apple Color Emoji', 'Segoe UI Emoji', 'Segoe UI Symbol'\" font-size=\"13.00\" fill=\"#000000\">nome_mes</text>\n",
       "<polygon fill=\"#ffffff\" stroke=\"transparent\" points=\"619.5,-417 619.5,-441 714.5,-441 714.5,-417 619.5,-417\"/>\n",
       "<text text-anchor=\"start\" x=\"675.5\" y=\"-426.6\" font-family=\"-apple-system, BlinkMacSystemFont, 'Segoe UI', Helvetica, Arial, sans-serif, 'Apple Color Emoji', 'Segoe UI Emoji', 'Segoe UI Symbol'\" font-style=\"italic\" font-size=\"13.00\" fill=\"#000000\">String</text>\n",
       "<polygon fill=\"#f5f5f5\" stroke=\"transparent\" points=\"472.5,-393 472.5,-417 503.5,-417 503.5,-393 472.5,-393\"/>\n",
       "<polygon fill=\"#f5f5f5\" stroke=\"transparent\" points=\"503.5,-393 503.5,-417 619.5,-417 619.5,-393 503.5,-393\"/>\n",
       "<text text-anchor=\"start\" x=\"508.5\" y=\"-401.6\" font-family=\"-apple-system, BlinkMacSystemFont, 'Segoe UI', Helvetica, Arial, sans-serif, 'Apple Color Emoji', 'Segoe UI Emoji', 'Segoe UI Symbol'\" font-size=\"13.00\" fill=\"#000000\">ano</text>\n",
       "<polygon fill=\"#f5f5f5\" stroke=\"transparent\" points=\"619.5,-393 619.5,-417 714.5,-417 714.5,-393 619.5,-393\"/>\n",
       "<text text-anchor=\"start\" x=\"672.5\" y=\"-402.6\" font-family=\"-apple-system, BlinkMacSystemFont, 'Segoe UI', Helvetica, Arial, sans-serif, 'Apple Color Emoji', 'Segoe UI Emoji', 'Segoe UI Symbol'\" font-style=\"italic\" font-size=\"13.00\" fill=\"#000000\">double</text>\n",
       "<polygon fill=\"none\" stroke=\"#000000\" points=\"471.5,-392 471.5,-634 715.5,-634 715.5,-392 471.5,-392\"/>\n",
       "</g>\n",
       "<!-- Fato_covid19&#45;&gt;Dim_data -->\n",
       "<g id=\"edge2\" class=\"edge\">\n",
       "<title>Fato_covid19-&gt;Dim_data</title>\n",
       "<path fill=\"none\" stroke=\"#000000\" d=\"M203.1443,-590.7538C275.4621,-576.349 373.5362,-556.8139 453.2868,-540.9286\"/>\n",
       "<polygon fill=\"#000000\" stroke=\"#000000\" points=\"454.292,-544.2973 463.4156,-538.9111 452.9245,-537.4321 454.292,-544.2973\"/>\n",
       "<text text-anchor=\"middle\" x=\"327.5\" y=\"-587.6\" font-family=\"-apple-system, BlinkMacSystemFont, 'Segoe UI', Helvetica, Arial, sans-serif, 'Apple Color Emoji', 'Segoe UI Emoji', 'Segoe UI Symbol'\" font-size=\"13.00\" fill=\"#000000\">dim_id_data_not → dim_id_data</text>\n",
       "</g>\n",
       "<!-- Dim_sint_comorb -->\n",
       "<g id=\"node5\" class=\"node\">\n",
       "<title>Dim_sint_comorb</title>\n",
       "<text text-anchor=\"start\" x=\"541\" y=\"-350.6\" font-family=\"-apple-system, BlinkMacSystemFont, 'Segoe UI', Helvetica, Arial, sans-serif, 'Apple Color Emoji', 'Segoe UI Emoji', 'Segoe UI Symbol'\" font-weight=\"bold\" font-size=\"13.00\" fill=\"#000000\">Dim_sint_comorb</text>\n",
       "<polygon fill=\"#f5f5f5\" stroke=\"transparent\" points=\"486.5,-317 486.5,-341 517.5,-341 517.5,-317 486.5,-317\"/>\n",
       "<text text-anchor=\"start\" x=\"491.5\" y=\"-326.6\" font-family=\"-apple-system, BlinkMacSystemFont, 'Segoe UI', Helvetica, Arial, sans-serif, 'Apple Color Emoji', 'Segoe UI Emoji', 'Segoe UI Symbol'\" font-weight=\"bold\" font-size=\"13.00\" fill=\"#000000\">key</text>\n",
       "<polygon fill=\"#f5f5f5\" stroke=\"transparent\" points=\"517.5,-317 517.5,-341 657.5,-341 657.5,-317 517.5,-317\"/>\n",
       "<text text-anchor=\"start\" x=\"522.5\" y=\"-325.6\" font-family=\"-apple-system, BlinkMacSystemFont, 'Segoe UI', Helvetica, Arial, sans-serif, 'Apple Color Emoji', 'Segoe UI Emoji', 'Segoe UI Symbol'\" font-size=\"13.00\" fill=\"#000000\">dcod_sint_cmorb</text>\n",
       "<polygon fill=\"#f5f5f5\" stroke=\"transparent\" points=\"657.5,-317 657.5,-341 701.5,-341 701.5,-317 657.5,-317\"/>\n",
       "<text text-anchor=\"start\" x=\"682.5\" y=\"-326.6\" font-family=\"-apple-system, BlinkMacSystemFont, 'Segoe UI', Helvetica, Arial, sans-serif, 'Apple Color Emoji', 'Segoe UI Emoji', 'Segoe UI Symbol'\" font-style=\"italic\" font-size=\"13.00\" fill=\"#000000\">int</text>\n",
       "<polygon fill=\"#ffffff\" stroke=\"transparent\" points=\"486.5,-293 486.5,-317 517.5,-317 517.5,-293 486.5,-293\"/>\n",
       "<polygon fill=\"#ffffff\" stroke=\"transparent\" points=\"517.5,-293 517.5,-317 657.5,-317 657.5,-293 517.5,-293\"/>\n",
       "<text text-anchor=\"start\" x=\"522.5\" y=\"-301.6\" font-family=\"-apple-system, BlinkMacSystemFont, 'Segoe UI', Helvetica, Arial, sans-serif, 'Apple Color Emoji', 'Segoe UI Emoji', 'Segoe UI Symbol'\" font-size=\"13.00\" fill=\"#000000\">febre</text>\n",
       "<polygon fill=\"#ffffff\" stroke=\"transparent\" points=\"657.5,-293 657.5,-317 701.5,-317 701.5,-293 657.5,-293\"/>\n",
       "<text text-anchor=\"start\" x=\"662.5\" y=\"-302.6\" font-family=\"-apple-system, BlinkMacSystemFont, 'Segoe UI', Helvetica, Arial, sans-serif, 'Apple Color Emoji', 'Segoe UI Emoji', 'Segoe UI Symbol'\" font-style=\"italic\" font-size=\"13.00\" fill=\"#000000\">String</text>\n",
       "<polygon fill=\"#f5f5f5\" stroke=\"transparent\" points=\"486.5,-269 486.5,-293 517.5,-293 517.5,-269 486.5,-269\"/>\n",
       "<polygon fill=\"#f5f5f5\" stroke=\"transparent\" points=\"517.5,-269 517.5,-293 657.5,-293 657.5,-269 517.5,-269\"/>\n",
       "<text text-anchor=\"start\" x=\"522.5\" y=\"-277.6\" font-family=\"-apple-system, BlinkMacSystemFont, 'Segoe UI', Helvetica, Arial, sans-serif, 'Apple Color Emoji', 'Segoe UI Emoji', 'Segoe UI Symbol'\" font-size=\"13.00\" fill=\"#000000\">dificuldaderespiratoria</text>\n",
       "<polygon fill=\"#f5f5f5\" stroke=\"transparent\" points=\"657.5,-269 657.5,-293 701.5,-293 701.5,-269 657.5,-269\"/>\n",
       "<text text-anchor=\"start\" x=\"662.5\" y=\"-278.6\" font-family=\"-apple-system, BlinkMacSystemFont, 'Segoe UI', Helvetica, Arial, sans-serif, 'Apple Color Emoji', 'Segoe UI Emoji', 'Segoe UI Symbol'\" font-style=\"italic\" font-size=\"13.00\" fill=\"#000000\">String</text>\n",
       "<polygon fill=\"#ffffff\" stroke=\"transparent\" points=\"486.5,-245 486.5,-269 517.5,-269 517.5,-245 486.5,-245\"/>\n",
       "<polygon fill=\"#ffffff\" stroke=\"transparent\" points=\"517.5,-245 517.5,-269 657.5,-269 657.5,-245 517.5,-245\"/>\n",
       "<text text-anchor=\"start\" x=\"522.5\" y=\"-253.6\" font-family=\"-apple-system, BlinkMacSystemFont, 'Segoe UI', Helvetica, Arial, sans-serif, 'Apple Color Emoji', 'Segoe UI Emoji', 'Segoe UI Symbol'\" font-size=\"13.00\" fill=\"#000000\">tosse</text>\n",
       "<polygon fill=\"#ffffff\" stroke=\"transparent\" points=\"657.5,-245 657.5,-269 701.5,-269 701.5,-245 657.5,-245\"/>\n",
       "<text text-anchor=\"start\" x=\"662.5\" y=\"-254.6\" font-family=\"-apple-system, BlinkMacSystemFont, 'Segoe UI', Helvetica, Arial, sans-serif, 'Apple Color Emoji', 'Segoe UI Emoji', 'Segoe UI Symbol'\" font-style=\"italic\" font-size=\"13.00\" fill=\"#000000\">String</text>\n",
       "<polygon fill=\"#f5f5f5\" stroke=\"transparent\" points=\"486.5,-221 486.5,-245 517.5,-245 517.5,-221 486.5,-221\"/>\n",
       "<polygon fill=\"#f5f5f5\" stroke=\"transparent\" points=\"517.5,-221 517.5,-245 657.5,-245 657.5,-221 517.5,-221\"/>\n",
       "<text text-anchor=\"start\" x=\"522.5\" y=\"-229.6\" font-family=\"-apple-system, BlinkMacSystemFont, 'Segoe UI', Helvetica, Arial, sans-serif, 'Apple Color Emoji', 'Segoe UI Emoji', 'Segoe UI Symbol'\" font-size=\"13.00\" fill=\"#000000\">coriza</text>\n",
       "<polygon fill=\"#f5f5f5\" stroke=\"transparent\" points=\"657.5,-221 657.5,-245 701.5,-245 701.5,-221 657.5,-221\"/>\n",
       "<text text-anchor=\"start\" x=\"662.5\" y=\"-230.6\" font-family=\"-apple-system, BlinkMacSystemFont, 'Segoe UI', Helvetica, Arial, sans-serif, 'Apple Color Emoji', 'Segoe UI Emoji', 'Segoe UI Symbol'\" font-style=\"italic\" font-size=\"13.00\" fill=\"#000000\">String</text>\n",
       "<polygon fill=\"#ffffff\" stroke=\"transparent\" points=\"486.5,-197 486.5,-221 517.5,-221 517.5,-197 486.5,-197\"/>\n",
       "<polygon fill=\"#ffffff\" stroke=\"transparent\" points=\"517.5,-197 517.5,-221 657.5,-221 657.5,-197 517.5,-197\"/>\n",
       "<text text-anchor=\"start\" x=\"522.5\" y=\"-205.6\" font-family=\"-apple-system, BlinkMacSystemFont, 'Segoe UI', Helvetica, Arial, sans-serif, 'Apple Color Emoji', 'Segoe UI Emoji', 'Segoe UI Symbol'\" font-size=\"13.00\" fill=\"#000000\">dorgarganta</text>\n",
       "<polygon fill=\"#ffffff\" stroke=\"transparent\" points=\"657.5,-197 657.5,-221 701.5,-221 701.5,-197 657.5,-197\"/>\n",
       "<text text-anchor=\"start\" x=\"662.5\" y=\"-206.6\" font-family=\"-apple-system, BlinkMacSystemFont, 'Segoe UI', Helvetica, Arial, sans-serif, 'Apple Color Emoji', 'Segoe UI Emoji', 'Segoe UI Symbol'\" font-style=\"italic\" font-size=\"13.00\" fill=\"#000000\">String</text>\n",
       "<polygon fill=\"#f5f5f5\" stroke=\"transparent\" points=\"486.5,-173 486.5,-197 517.5,-197 517.5,-173 486.5,-173\"/>\n",
       "<polygon fill=\"#f5f5f5\" stroke=\"transparent\" points=\"517.5,-173 517.5,-197 657.5,-197 657.5,-173 517.5,-173\"/>\n",
       "<text text-anchor=\"start\" x=\"522.5\" y=\"-181.6\" font-family=\"-apple-system, BlinkMacSystemFont, 'Segoe UI', Helvetica, Arial, sans-serif, 'Apple Color Emoji', 'Segoe UI Emoji', 'Segoe UI Symbol'\" font-size=\"13.00\" fill=\"#000000\">diarreia</text>\n",
       "<polygon fill=\"#f5f5f5\" stroke=\"transparent\" points=\"657.5,-173 657.5,-197 701.5,-197 701.5,-173 657.5,-173\"/>\n",
       "<text text-anchor=\"start\" x=\"662.5\" y=\"-182.6\" font-family=\"-apple-system, BlinkMacSystemFont, 'Segoe UI', Helvetica, Arial, sans-serif, 'Apple Color Emoji', 'Segoe UI Emoji', 'Segoe UI Symbol'\" font-style=\"italic\" font-size=\"13.00\" fill=\"#000000\">String</text>\n",
       "<polygon fill=\"#ffffff\" stroke=\"transparent\" points=\"486.5,-149 486.5,-173 517.5,-173 517.5,-149 486.5,-149\"/>\n",
       "<polygon fill=\"#ffffff\" stroke=\"transparent\" points=\"517.5,-149 517.5,-173 657.5,-173 657.5,-149 517.5,-149\"/>\n",
       "<text text-anchor=\"start\" x=\"522.5\" y=\"-157.6\" font-family=\"-apple-system, BlinkMacSystemFont, 'Segoe UI', Helvetica, Arial, sans-serif, 'Apple Color Emoji', 'Segoe UI Emoji', 'Segoe UI Symbol'\" font-size=\"13.00\" fill=\"#000000\">cefaleia</text>\n",
       "<polygon fill=\"#ffffff\" stroke=\"transparent\" points=\"657.5,-149 657.5,-173 701.5,-173 701.5,-149 657.5,-149\"/>\n",
       "<text text-anchor=\"start\" x=\"662.5\" y=\"-158.6\" font-family=\"-apple-system, BlinkMacSystemFont, 'Segoe UI', Helvetica, Arial, sans-serif, 'Apple Color Emoji', 'Segoe UI Emoji', 'Segoe UI Symbol'\" font-style=\"italic\" font-size=\"13.00\" fill=\"#000000\">String</text>\n",
       "<polygon fill=\"#f5f5f5\" stroke=\"transparent\" points=\"486.5,-125 486.5,-149 517.5,-149 517.5,-125 486.5,-125\"/>\n",
       "<polygon fill=\"#f5f5f5\" stroke=\"transparent\" points=\"517.5,-125 517.5,-149 657.5,-149 657.5,-125 517.5,-125\"/>\n",
       "<text text-anchor=\"start\" x=\"522.5\" y=\"-133.6\" font-family=\"-apple-system, BlinkMacSystemFont, 'Segoe UI', Helvetica, Arial, sans-serif, 'Apple Color Emoji', 'Segoe UI Emoji', 'Segoe UI Symbol'\" font-size=\"13.00\" fill=\"#000000\">comorbidadepulmao</text>\n",
       "<polygon fill=\"#f5f5f5\" stroke=\"transparent\" points=\"657.5,-125 657.5,-149 701.5,-149 701.5,-125 657.5,-125\"/>\n",
       "<text text-anchor=\"start\" x=\"662.5\" y=\"-134.6\" font-family=\"-apple-system, BlinkMacSystemFont, 'Segoe UI', Helvetica, Arial, sans-serif, 'Apple Color Emoji', 'Segoe UI Emoji', 'Segoe UI Symbol'\" font-style=\"italic\" font-size=\"13.00\" fill=\"#000000\">String</text>\n",
       "<polygon fill=\"#ffffff\" stroke=\"transparent\" points=\"486.5,-101 486.5,-125 517.5,-125 517.5,-101 486.5,-101\"/>\n",
       "<polygon fill=\"#ffffff\" stroke=\"transparent\" points=\"517.5,-101 517.5,-125 657.5,-125 657.5,-101 517.5,-101\"/>\n",
       "<text text-anchor=\"start\" x=\"522.5\" y=\"-109.6\" font-family=\"-apple-system, BlinkMacSystemFont, 'Segoe UI', Helvetica, Arial, sans-serif, 'Apple Color Emoji', 'Segoe UI Emoji', 'Segoe UI Symbol'\" font-size=\"13.00\" fill=\"#000000\">comorbidadecardio</text>\n",
       "<polygon fill=\"#ffffff\" stroke=\"transparent\" points=\"657.5,-101 657.5,-125 701.5,-125 701.5,-101 657.5,-101\"/>\n",
       "<text text-anchor=\"start\" x=\"662.5\" y=\"-110.6\" font-family=\"-apple-system, BlinkMacSystemFont, 'Segoe UI', Helvetica, Arial, sans-serif, 'Apple Color Emoji', 'Segoe UI Emoji', 'Segoe UI Symbol'\" font-style=\"italic\" font-size=\"13.00\" fill=\"#000000\">String</text>\n",
       "<polygon fill=\"#f5f5f5\" stroke=\"transparent\" points=\"486.5,-77 486.5,-101 517.5,-101 517.5,-77 486.5,-77\"/>\n",
       "<polygon fill=\"#f5f5f5\" stroke=\"transparent\" points=\"517.5,-77 517.5,-101 657.5,-101 657.5,-77 517.5,-77\"/>\n",
       "<text text-anchor=\"start\" x=\"522.5\" y=\"-85.6\" font-family=\"-apple-system, BlinkMacSystemFont, 'Segoe UI', Helvetica, Arial, sans-serif, 'Apple Color Emoji', 'Segoe UI Emoji', 'Segoe UI Symbol'\" font-size=\"13.00\" fill=\"#000000\">comorbidaderenal</text>\n",
       "<polygon fill=\"#f5f5f5\" stroke=\"transparent\" points=\"657.5,-77 657.5,-101 701.5,-101 701.5,-77 657.5,-77\"/>\n",
       "<text text-anchor=\"start\" x=\"662.5\" y=\"-86.6\" font-family=\"-apple-system, BlinkMacSystemFont, 'Segoe UI', Helvetica, Arial, sans-serif, 'Apple Color Emoji', 'Segoe UI Emoji', 'Segoe UI Symbol'\" font-style=\"italic\" font-size=\"13.00\" fill=\"#000000\">String</text>\n",
       "<polygon fill=\"#ffffff\" stroke=\"transparent\" points=\"486.5,-53 486.5,-77 517.5,-77 517.5,-53 486.5,-53\"/>\n",
       "<polygon fill=\"#ffffff\" stroke=\"transparent\" points=\"517.5,-53 517.5,-77 657.5,-77 657.5,-53 517.5,-53\"/>\n",
       "<text text-anchor=\"start\" x=\"522.5\" y=\"-61.6\" font-family=\"-apple-system, BlinkMacSystemFont, 'Segoe UI', Helvetica, Arial, sans-serif, 'Apple Color Emoji', 'Segoe UI Emoji', 'Segoe UI Symbol'\" font-size=\"13.00\" fill=\"#000000\">comorbidadediabetes</text>\n",
       "<polygon fill=\"#ffffff\" stroke=\"transparent\" points=\"657.5,-53 657.5,-77 701.5,-77 701.5,-53 657.5,-53\"/>\n",
       "<text text-anchor=\"start\" x=\"662.5\" y=\"-62.6\" font-family=\"-apple-system, BlinkMacSystemFont, 'Segoe UI', Helvetica, Arial, sans-serif, 'Apple Color Emoji', 'Segoe UI Emoji', 'Segoe UI Symbol'\" font-style=\"italic\" font-size=\"13.00\" fill=\"#000000\">String</text>\n",
       "<polygon fill=\"#f5f5f5\" stroke=\"transparent\" points=\"486.5,-29 486.5,-53 517.5,-53 517.5,-29 486.5,-29\"/>\n",
       "<polygon fill=\"#f5f5f5\" stroke=\"transparent\" points=\"517.5,-29 517.5,-53 657.5,-53 657.5,-29 517.5,-29\"/>\n",
       "<text text-anchor=\"start\" x=\"522.5\" y=\"-37.6\" font-family=\"-apple-system, BlinkMacSystemFont, 'Segoe UI', Helvetica, Arial, sans-serif, 'Apple Color Emoji', 'Segoe UI Emoji', 'Segoe UI Symbol'\" font-size=\"13.00\" fill=\"#000000\">comorbidadetabagismo</text>\n",
       "<polygon fill=\"#f5f5f5\" stroke=\"transparent\" points=\"657.5,-29 657.5,-53 701.5,-53 701.5,-29 657.5,-29\"/>\n",
       "<text text-anchor=\"start\" x=\"662.5\" y=\"-38.6\" font-family=\"-apple-system, BlinkMacSystemFont, 'Segoe UI', Helvetica, Arial, sans-serif, 'Apple Color Emoji', 'Segoe UI Emoji', 'Segoe UI Symbol'\" font-style=\"italic\" font-size=\"13.00\" fill=\"#000000\">String</text>\n",
       "<polygon fill=\"#ffffff\" stroke=\"transparent\" points=\"486.5,-5 486.5,-29 517.5,-29 517.5,-5 486.5,-5\"/>\n",
       "<polygon fill=\"#ffffff\" stroke=\"transparent\" points=\"517.5,-5 517.5,-29 657.5,-29 657.5,-5 517.5,-5\"/>\n",
       "<text text-anchor=\"start\" x=\"522.5\" y=\"-13.6\" font-family=\"-apple-system, BlinkMacSystemFont, 'Segoe UI', Helvetica, Arial, sans-serif, 'Apple Color Emoji', 'Segoe UI Emoji', 'Segoe UI Symbol'\" font-size=\"13.00\" fill=\"#000000\">comorbidadeobesidade</text>\n",
       "<polygon fill=\"#ffffff\" stroke=\"transparent\" points=\"657.5,-5 657.5,-29 701.5,-29 701.5,-5 657.5,-5\"/>\n",
       "<text text-anchor=\"start\" x=\"662.5\" y=\"-14.6\" font-family=\"-apple-system, BlinkMacSystemFont, 'Segoe UI', Helvetica, Arial, sans-serif, 'Apple Color Emoji', 'Segoe UI Emoji', 'Segoe UI Symbol'\" font-style=\"italic\" font-size=\"13.00\" fill=\"#000000\">String</text>\n",
       "<polygon fill=\"none\" stroke=\"#000000\" points=\"485,-4 485,-366 702,-366 702,-4 485,-4\"/>\n",
       "</g>\n",
       "<!-- Fato_covid19&#45;&gt;Dim_sint_comorb -->\n",
       "<g id=\"edge1\" class=\"edge\">\n",
       "<title>Fato_covid19-&gt;Dim_sint_comorb</title>\n",
       "<path fill=\"none\" stroke=\"#000000\" d=\"M203.1443,-522.9909C280.2874,-456.1963 386.7385,-364.0252 468.9927,-292.8051\"/>\n",
       "<polygon fill=\"#000000\" stroke=\"#000000\" points=\"471.6065,-295.1716 476.8755,-285.9798 467.0245,-289.8796 471.6065,-295.1716\"/>\n",
       "<text text-anchor=\"middle\" x=\"327.5\" y=\"-499.6\" font-family=\"-apple-system, BlinkMacSystemFont, 'Segoe UI', Helvetica, Arial, sans-serif, 'Apple Color Emoji', 'Segoe UI Emoji', 'Segoe UI Symbol'\" font-size=\"13.00\" fill=\"#000000\">dcod_sint_cmorb → dcod_sint_cmorb</text>\n",
       "</g>\n",
       "</g>\n",
       "</svg>"
      ],
      "text/plain": [
       "<IPython.core.display.SVG object>"
      ]
     },
     "execution_count": 25,
     "metadata": {},
     "output_type": "execute_result"
    }
   ],
   "source": [
    "session.stores.schema"
   ]
  },
  {
   "cell_type": "markdown",
   "metadata": {},
   "source": [
    "As novas colunas/atributos, foram adicionadas automaticamenta as dimensões e hierarquias do cubo. "
   ]
  },
  {
   "cell_type": "code",
   "execution_count": 26,
   "metadata": {},
   "outputs": [
    {
     "data": {
      "application/json": {
       "Dim_data": {
        "data": [
         "data"
        ],
        "id_data_inteiro": [
         "id_data_inteiro"
        ],
        "nome_dia_semana": [
         "nome_dia_semana"
        ],
        "nome_mes": [
         "nome_mes"
        ]
       },
       "Dim_individuo": {
        "classificacao": [
         "classificacao"
        ],
        "date_from": [
         "date_from"
        ],
        "date_to": [
         "date_to"
        ],
        "evolucao": [
         "evolucao"
        ],
        "faixaetaria": [
         "faixaetaria"
        ],
        "ficouinternado": [
         "ficouinternado"
        ],
        "idadenadatanotificacao": [
         "idadenadatanotificacao"
        ],
        "racacor": [
         "racacor"
        ],
        "sexo": [
         "sexo"
        ],
        "version": [
         "version"
        ],
        "viagembrasil": [
         "viagembrasil"
        ],
        "viageminternacional": [
         "viageminternacional"
        ]
       },
       "Dim_local": {
        "bairro": [
         "bairro"
        ],
        "municipio": [
         "municipio"
        ]
       },
       "Dim_sint_comorb": {
        "cefaleia": [
         "cefaleia"
        ],
        "comorbidadecardio": [
         "comorbidadecardio"
        ],
        "comorbidadediabetes": [
         "comorbidadediabetes"
        ],
        "comorbidadeobesidade": [
         "comorbidadeobesidade"
        ],
        "comorbidadepulmao": [
         "comorbidadepulmao"
        ],
        "comorbidaderenal": [
         "comorbidaderenal"
        ],
        "comorbidadetabagismo": [
         "comorbidadetabagismo"
        ],
        "coriza": [
         "coriza"
        ],
        "diarreia": [
         "diarreia"
        ],
        "dificuldaderespiratoria": [
         "dificuldaderespiratoria"
        ],
        "dorgarganta": [
         "dorgarganta"
        ],
        "febre": [
         "febre"
        ],
        "tosse": [
         "tosse"
        ]
       },
       "Fato_covid19": {
        "dcod_individuo": [
         "dcod_individuo"
        ],
        "dcod_local": [
         "dcod_local"
        ],
        "dcod_sint_cmorb": [
         "dcod_sint_cmorb"
        ],
        "dim_id_data_not": [
         "dim_id_data_not"
        ],
        "id": [
         "id"
        ]
       }
      },
      "text/html": [
       "<ul>\n",
       "<li>Dimensions\n",
       "  <ul>\n",
       "  <li>Dim_data\n",
       "    <ul>\n",
       "    <li>data\n",
       "      <ol>\n",
       "      <li>data</li>\n",
       "      </ol>    </li>\n",
       "    <li>id_data_inteiro\n",
       "      <ol>\n",
       "      <li>id_data_inteiro</li>\n",
       "      </ol>    </li>\n",
       "    <li>nome_dia_semana\n",
       "      <ol>\n",
       "      <li>nome_dia_semana</li>\n",
       "      </ol>    </li>\n",
       "    <li>nome_mes\n",
       "      <ol>\n",
       "      <li>nome_mes</li>\n",
       "      </ol>    </li>\n",
       "    </ul>\n",
       "  </li>\n",
       "  <li>Dim_individuo\n",
       "    <ul>\n",
       "    <li>classificacao\n",
       "      <ol>\n",
       "      <li>classificacao</li>\n",
       "      </ol>    </li>\n",
       "    <li>date_from\n",
       "      <ol>\n",
       "      <li>date_from</li>\n",
       "      </ol>    </li>\n",
       "    <li>date_to\n",
       "      <ol>\n",
       "      <li>date_to</li>\n",
       "      </ol>    </li>\n",
       "    <li>evolucao\n",
       "      <ol>\n",
       "      <li>evolucao</li>\n",
       "      </ol>    </li>\n",
       "    <li>faixaetaria\n",
       "      <ol>\n",
       "      <li>faixaetaria</li>\n",
       "      </ol>    </li>\n",
       "    <li>ficouinternado\n",
       "      <ol>\n",
       "      <li>ficouinternado</li>\n",
       "      </ol>    </li>\n",
       "    <li>idadenadatanotificacao\n",
       "      <ol>\n",
       "      <li>idadenadatanotificacao</li>\n",
       "      </ol>    </li>\n",
       "    <li>racacor\n",
       "      <ol>\n",
       "      <li>racacor</li>\n",
       "      </ol>    </li>\n",
       "    <li>sexo\n",
       "      <ol>\n",
       "      <li>sexo</li>\n",
       "      </ol>    </li>\n",
       "    <li>version\n",
       "      <ol>\n",
       "      <li>version</li>\n",
       "      </ol>    </li>\n",
       "    <li>viagembrasil\n",
       "      <ol>\n",
       "      <li>viagembrasil</li>\n",
       "      </ol>    </li>\n",
       "    <li>viageminternacional\n",
       "      <ol>\n",
       "      <li>viageminternacional</li>\n",
       "      </ol>    </li>\n",
       "    </ul>\n",
       "  </li>\n",
       "  <li>Dim_local\n",
       "    <ul>\n",
       "    <li>bairro\n",
       "      <ol>\n",
       "      <li>bairro</li>\n",
       "      </ol>    </li>\n",
       "    <li>municipio\n",
       "      <ol>\n",
       "      <li>municipio</li>\n",
       "      </ol>    </li>\n",
       "    </ul>\n",
       "  </li>\n",
       "  <li>Dim_sint_comorb\n",
       "    <ul>\n",
       "    <li>cefaleia\n",
       "      <ol>\n",
       "      <li>cefaleia</li>\n",
       "      </ol>    </li>\n",
       "    <li>comorbidadecardio\n",
       "      <ol>\n",
       "      <li>comorbidadecardio</li>\n",
       "      </ol>    </li>\n",
       "    <li>comorbidadediabetes\n",
       "      <ol>\n",
       "      <li>comorbidadediabetes</li>\n",
       "      </ol>    </li>\n",
       "    <li>comorbidadeobesidade\n",
       "      <ol>\n",
       "      <li>comorbidadeobesidade</li>\n",
       "      </ol>    </li>\n",
       "    <li>comorbidadepulmao\n",
       "      <ol>\n",
       "      <li>comorbidadepulmao</li>\n",
       "      </ol>    </li>\n",
       "    <li>comorbidaderenal\n",
       "      <ol>\n",
       "      <li>comorbidaderenal</li>\n",
       "      </ol>    </li>\n",
       "    <li>comorbidadetabagismo\n",
       "      <ol>\n",
       "      <li>comorbidadetabagismo</li>\n",
       "      </ol>    </li>\n",
       "    <li>coriza\n",
       "      <ol>\n",
       "      <li>coriza</li>\n",
       "      </ol>    </li>\n",
       "    <li>diarreia\n",
       "      <ol>\n",
       "      <li>diarreia</li>\n",
       "      </ol>    </li>\n",
       "    <li>dificuldaderespiratoria\n",
       "      <ol>\n",
       "      <li>dificuldaderespiratoria</li>\n",
       "      </ol>    </li>\n",
       "    <li>dorgarganta\n",
       "      <ol>\n",
       "      <li>dorgarganta</li>\n",
       "      </ol>    </li>\n",
       "    <li>febre\n",
       "      <ol>\n",
       "      <li>febre</li>\n",
       "      </ol>    </li>\n",
       "    <li>tosse\n",
       "      <ol>\n",
       "      <li>tosse</li>\n",
       "      </ol>    </li>\n",
       "    </ul>\n",
       "  </li>\n",
       "  <li>Fato_covid19\n",
       "    <ul>\n",
       "    <li>dcod_individuo\n",
       "      <ol>\n",
       "      <li>dcod_individuo</li>\n",
       "      </ol>    </li>\n",
       "    <li>dcod_local\n",
       "      <ol>\n",
       "      <li>dcod_local</li>\n",
       "      </ol>    </li>\n",
       "    <li>dcod_sint_cmorb\n",
       "      <ol>\n",
       "      <li>dcod_sint_cmorb</li>\n",
       "      </ol>    </li>\n",
       "    <li>dim_id_data_not\n",
       "      <ol>\n",
       "      <li>dim_id_data_not</li>\n",
       "      </ol>    </li>\n",
       "    <li>id\n",
       "      <ol>\n",
       "      <li>id</li>\n",
       "      </ol>    </li>\n",
       "    </ul>\n",
       "  </li>\n",
       "  </ul>\n",
       "</li>\n",
       "</ul>\n"
      ],
      "text/plain": [
       "Hierarchies()"
      ]
     },
     "execution_count": 26,
     "metadata": {
      "application/json": {
       "expanded": true,
       "root": "Dimensions"
      }
     },
     "output_type": "execute_result"
    }
   ],
   "source": [
    "h"
   ]
  },
  {
   "cell_type": "markdown",
   "metadata": {},
   "source": [
    "# Slice\n",
    "Observe que podemos utilizar cube.query para explorar de diferentes formas o cubo."
   ]
  },
  {
   "cell_type": "code",
   "execution_count": 27,
   "metadata": {},
   "outputs": [
    {
     "data": {
      "application/vnd.atoti.convert-query-result-to-widget.v0+json": {
       "mdx": "SELECT {[Measures].[qtd.SUM]} ON COLUMNS, NON EMPTY [Dim_individuo].[faixaetaria].[faixaetaria].Members ON ROWS FROM [Fato_covid19]",
       "sessionName": "Unnamed",
       "widgetCreationCode": "session.visualize()"
      },
      "text/html": [
       "<div>\n",
       "<style scoped>\n",
       "    .dataframe tbody tr th:only-of-type {\n",
       "        vertical-align: middle;\n",
       "    }\n",
       "\n",
       "    .dataframe tbody tr th {\n",
       "        vertical-align: top;\n",
       "    }\n",
       "\n",
       "    .dataframe thead th {\n",
       "        text-align: right;\n",
       "    }\n",
       "</style>\n",
       "<table border=\"1\" class=\"dataframe\">\n",
       "  <thead>\n",
       "    <tr style=\"text-align: right;\">\n",
       "      <th></th>\n",
       "      <th>qtd.SUM</th>\n",
       "    </tr>\n",
       "    <tr>\n",
       "      <th>faixaetaria</th>\n",
       "      <th></th>\n",
       "    </tr>\n",
       "  </thead>\n",
       "  <tbody>\n",
       "    <tr>\n",
       "      <th>0 a 4 anos</th>\n",
       "      <td>35.00</td>\n",
       "    </tr>\n",
       "    <tr>\n",
       "      <th>05 a 9 anos</th>\n",
       "      <td>30.00</td>\n",
       "    </tr>\n",
       "    <tr>\n",
       "      <th>10 a 19 anos</th>\n",
       "      <td>85.00</td>\n",
       "    </tr>\n",
       "    <tr>\n",
       "      <th>20 a 29 anos</th>\n",
       "      <td>188.00</td>\n",
       "    </tr>\n",
       "    <tr>\n",
       "      <th>30 a 39 anos</th>\n",
       "      <td>277.00</td>\n",
       "    </tr>\n",
       "    <tr>\n",
       "      <th>40 a 49 anos</th>\n",
       "      <td>200.00</td>\n",
       "    </tr>\n",
       "    <tr>\n",
       "      <th>50 a 59 anos</th>\n",
       "      <td>100.00</td>\n",
       "    </tr>\n",
       "    <tr>\n",
       "      <th>60 a 69 anos</th>\n",
       "      <td>51.00</td>\n",
       "    </tr>\n",
       "    <tr>\n",
       "      <th>70 a 79 anos</th>\n",
       "      <td>20.00</td>\n",
       "    </tr>\n",
       "    <tr>\n",
       "      <th>80 a 89 anos</th>\n",
       "      <td>8.00</td>\n",
       "    </tr>\n",
       "    <tr>\n",
       "      <th>90 anos ou mais</th>\n",
       "      <td>6.00</td>\n",
       "    </tr>\n",
       "  </tbody>\n",
       "</table>\n",
       "</div>"
      ],
      "text/plain": [
       "                qtd.SUM\n",
       "faixaetaria            \n",
       "0 a 4 anos        35.00\n",
       "05 a 9 anos       30.00\n",
       "10 a 19 anos      85.00\n",
       "20 a 29 anos     188.00\n",
       "30 a 39 anos     277.00\n",
       "40 a 49 anos     200.00\n",
       "50 a 59 anos     100.00\n",
       "60 a 69 anos      51.00\n",
       "70 a 79 anos      20.00\n",
       "80 a 89 anos       8.00\n",
       "90 anos ou mais    6.00"
      ]
     },
     "execution_count": 27,
     "metadata": {},
     "output_type": "execute_result"
    }
   ],
   "source": [
    "cube.query(m[\"qtd.SUM\"], levels=l[\"faixaetaria\"])"
   ]
  },
  {
   "cell_type": "code",
   "execution_count": 28,
   "metadata": {},
   "outputs": [
    {
     "data": {
      "application/vnd.atoti.convert-query-result-to-widget.v0+json": {
       "mdx": "SELECT {[Measures].[qtd.SUM]} ON COLUMNS, NON EMPTY Crossjoin([Dim_individuo].[faixaetaria].[faixaetaria].Members, [Dim_sint_comorb].[febre].[febre].Members) ON ROWS FROM [Fato_covid19]",
       "sessionName": "Unnamed",
       "widgetCreationCode": "session.visualize()"
      },
      "text/html": [
       "<div>\n",
       "<style scoped>\n",
       "    .dataframe tbody tr th:only-of-type {\n",
       "        vertical-align: middle;\n",
       "    }\n",
       "\n",
       "    .dataframe tbody tr th {\n",
       "        vertical-align: top;\n",
       "    }\n",
       "\n",
       "    .dataframe thead th {\n",
       "        text-align: right;\n",
       "    }\n",
       "</style>\n",
       "<table border=\"1\" class=\"dataframe\">\n",
       "  <thead>\n",
       "    <tr style=\"text-align: right;\">\n",
       "      <th></th>\n",
       "      <th></th>\n",
       "      <th>qtd.SUM</th>\n",
       "    </tr>\n",
       "    <tr>\n",
       "      <th>faixaetaria</th>\n",
       "      <th>febre</th>\n",
       "      <th></th>\n",
       "    </tr>\n",
       "  </thead>\n",
       "  <tbody>\n",
       "    <tr>\n",
       "      <th rowspan=\"2\" valign=\"top\">0 a 4 anos</th>\n",
       "      <th>Não</th>\n",
       "      <td>18.00</td>\n",
       "    </tr>\n",
       "    <tr>\n",
       "      <th>Sim</th>\n",
       "      <td>17.00</td>\n",
       "    </tr>\n",
       "    <tr>\n",
       "      <th rowspan=\"2\" valign=\"top\">05 a 9 anos</th>\n",
       "      <th>Não</th>\n",
       "      <td>21.00</td>\n",
       "    </tr>\n",
       "    <tr>\n",
       "      <th>Sim</th>\n",
       "      <td>9.00</td>\n",
       "    </tr>\n",
       "    <tr>\n",
       "      <th rowspan=\"2\" valign=\"top\">10 a 19 anos</th>\n",
       "      <th>Não</th>\n",
       "      <td>53.00</td>\n",
       "    </tr>\n",
       "    <tr>\n",
       "      <th>Sim</th>\n",
       "      <td>32.00</td>\n",
       "    </tr>\n",
       "    <tr>\n",
       "      <th rowspan=\"2\" valign=\"top\">20 a 29 anos</th>\n",
       "      <th>Não</th>\n",
       "      <td>148.00</td>\n",
       "    </tr>\n",
       "    <tr>\n",
       "      <th>Sim</th>\n",
       "      <td>40.00</td>\n",
       "    </tr>\n",
       "    <tr>\n",
       "      <th rowspan=\"2\" valign=\"top\">30 a 39 anos</th>\n",
       "      <th>Não</th>\n",
       "      <td>230.00</td>\n",
       "    </tr>\n",
       "    <tr>\n",
       "      <th>Sim</th>\n",
       "      <td>47.00</td>\n",
       "    </tr>\n",
       "    <tr>\n",
       "      <th rowspan=\"2\" valign=\"top\">40 a 49 anos</th>\n",
       "      <th>Não</th>\n",
       "      <td>152.00</td>\n",
       "    </tr>\n",
       "    <tr>\n",
       "      <th>Sim</th>\n",
       "      <td>48.00</td>\n",
       "    </tr>\n",
       "    <tr>\n",
       "      <th rowspan=\"2\" valign=\"top\">50 a 59 anos</th>\n",
       "      <th>Não</th>\n",
       "      <td>80.00</td>\n",
       "    </tr>\n",
       "    <tr>\n",
       "      <th>Sim</th>\n",
       "      <td>20.00</td>\n",
       "    </tr>\n",
       "    <tr>\n",
       "      <th rowspan=\"2\" valign=\"top\">60 a 69 anos</th>\n",
       "      <th>Não</th>\n",
       "      <td>36.00</td>\n",
       "    </tr>\n",
       "    <tr>\n",
       "      <th>Sim</th>\n",
       "      <td>15.00</td>\n",
       "    </tr>\n",
       "    <tr>\n",
       "      <th rowspan=\"2\" valign=\"top\">70 a 79 anos</th>\n",
       "      <th>Não</th>\n",
       "      <td>15.00</td>\n",
       "    </tr>\n",
       "    <tr>\n",
       "      <th>Sim</th>\n",
       "      <td>5.00</td>\n",
       "    </tr>\n",
       "    <tr>\n",
       "      <th rowspan=\"2\" valign=\"top\">80 a 89 anos</th>\n",
       "      <th>Não</th>\n",
       "      <td>7.00</td>\n",
       "    </tr>\n",
       "    <tr>\n",
       "      <th>Sim</th>\n",
       "      <td>1.00</td>\n",
       "    </tr>\n",
       "    <tr>\n",
       "      <th rowspan=\"2\" valign=\"top\">90 anos ou mais</th>\n",
       "      <th>Não</th>\n",
       "      <td>5.00</td>\n",
       "    </tr>\n",
       "    <tr>\n",
       "      <th>Sim</th>\n",
       "      <td>1.00</td>\n",
       "    </tr>\n",
       "  </tbody>\n",
       "</table>\n",
       "</div>"
      ],
      "text/plain": [
       "                      qtd.SUM\n",
       "faixaetaria     febre        \n",
       "0 a 4 anos      Não     18.00\n",
       "                Sim     17.00\n",
       "05 a 9 anos     Não     21.00\n",
       "                Sim      9.00\n",
       "10 a 19 anos    Não     53.00\n",
       "                Sim     32.00\n",
       "20 a 29 anos    Não    148.00\n",
       "                Sim     40.00\n",
       "30 a 39 anos    Não    230.00\n",
       "                Sim     47.00\n",
       "40 a 49 anos    Não    152.00\n",
       "                Sim     48.00\n",
       "50 a 59 anos    Não     80.00\n",
       "                Sim     20.00\n",
       "60 a 69 anos    Não     36.00\n",
       "                Sim     15.00\n",
       "70 a 79 anos    Não     15.00\n",
       "                Sim      5.00\n",
       "80 a 89 anos    Não      7.00\n",
       "                Sim      1.00\n",
       "90 anos ou mais Não      5.00\n",
       "                Sim      1.00"
      ]
     },
     "execution_count": 28,
     "metadata": {},
     "output_type": "execute_result"
    }
   ],
   "source": [
    "cube.query(m[\"qtd.SUM\"], levels=[l[\"faixaetaria\"], l[\"febre\"]])"
   ]
  },
  {
   "cell_type": "markdown",
   "metadata": {},
   "source": [
    "Podemos realizar um dice com 2 diferentes eixos e obter a quantidade por exemplo por produto e data.\n",
    "\n",
    "<img alt=\"Pivot table\" src=\"images/olap/pivot-table.svg\" width=\"400\" />"
   ]
  },
  {
   "cell_type": "code",
   "execution_count": 29,
   "metadata": {},
   "outputs": [
    {
     "data": {
      "application/vnd.atoti.convert-query-result-to-widget.v0+json": {
       "mdx": "SELECT {[Measures].[qtd.SUM]} ON COLUMNS, NON EMPTY Crossjoin([Dim_individuo].[sexo].[sexo].Members, [Dim_individuo].[racacor].[racacor].Members) ON ROWS FROM [Fato_covid19]",
       "sessionName": "Unnamed",
       "widgetCreationCode": "session.visualize()"
      },
      "text/html": [
       "<div>\n",
       "<style scoped>\n",
       "    .dataframe tbody tr th:only-of-type {\n",
       "        vertical-align: middle;\n",
       "    }\n",
       "\n",
       "    .dataframe tbody tr th {\n",
       "        vertical-align: top;\n",
       "    }\n",
       "\n",
       "    .dataframe thead th {\n",
       "        text-align: right;\n",
       "    }\n",
       "</style>\n",
       "<table border=\"1\" class=\"dataframe\">\n",
       "  <thead>\n",
       "    <tr style=\"text-align: right;\">\n",
       "      <th></th>\n",
       "      <th></th>\n",
       "      <th>qtd.SUM</th>\n",
       "    </tr>\n",
       "    <tr>\n",
       "      <th>sexo</th>\n",
       "      <th>racacor</th>\n",
       "      <th></th>\n",
       "    </tr>\n",
       "  </thead>\n",
       "  <tbody>\n",
       "    <tr>\n",
       "      <th rowspan=\"6\" valign=\"top\">F</th>\n",
       "      <th>Amarela</th>\n",
       "      <td>41.00</td>\n",
       "    </tr>\n",
       "    <tr>\n",
       "      <th>Branca</th>\n",
       "      <td>174.00</td>\n",
       "    </tr>\n",
       "    <tr>\n",
       "      <th>Ignorado</th>\n",
       "      <td>105.00</td>\n",
       "    </tr>\n",
       "    <tr>\n",
       "      <th>Indigena</th>\n",
       "      <td>1.00</td>\n",
       "    </tr>\n",
       "    <tr>\n",
       "      <th>Parda</th>\n",
       "      <td>187.00</td>\n",
       "    </tr>\n",
       "    <tr>\n",
       "      <th>Preta</th>\n",
       "      <td>38.00</td>\n",
       "    </tr>\n",
       "    <tr>\n",
       "      <th>I</th>\n",
       "      <th>Ignorado</th>\n",
       "      <td>1.00</td>\n",
       "    </tr>\n",
       "    <tr>\n",
       "      <th rowspan=\"6\" valign=\"top\">M</th>\n",
       "      <th>Amarela</th>\n",
       "      <td>22.00</td>\n",
       "    </tr>\n",
       "    <tr>\n",
       "      <th>Branca</th>\n",
       "      <td>105.00</td>\n",
       "    </tr>\n",
       "    <tr>\n",
       "      <th>Ignorado</th>\n",
       "      <td>105.00</td>\n",
       "    </tr>\n",
       "    <tr>\n",
       "      <th>Indigena</th>\n",
       "      <td>1.00</td>\n",
       "    </tr>\n",
       "    <tr>\n",
       "      <th>Parda</th>\n",
       "      <td>186.00</td>\n",
       "    </tr>\n",
       "    <tr>\n",
       "      <th>Preta</th>\n",
       "      <td>34.00</td>\n",
       "    </tr>\n",
       "  </tbody>\n",
       "</table>\n",
       "</div>"
      ],
      "text/plain": [
       "              qtd.SUM\n",
       "sexo racacor         \n",
       "F    Amarela    41.00\n",
       "     Branca    174.00\n",
       "     Ignorado  105.00\n",
       "     Indigena    1.00\n",
       "     Parda     187.00\n",
       "     Preta      38.00\n",
       "I    Ignorado    1.00\n",
       "M    Amarela    22.00\n",
       "     Branca    105.00\n",
       "     Ignorado  105.00\n",
       "     Indigena    1.00\n",
       "     Parda     186.00\n",
       "     Preta      34.00"
      ]
     },
     "execution_count": 29,
     "metadata": {},
     "output_type": "execute_result"
    }
   ],
   "source": [
    "cube.query(m[\"qtd.SUM\"], levels=[l[\"sexo\"], l[\"racacor\"]])"
   ]
  },
  {
   "cell_type": "markdown",
   "metadata": {},
   "source": [
    "Podemos combinar estas operações para fatiar uma hiearquia e ralizar dice nas outras duas:\n",
    "\n",
    "<img alt=\"Slice and dice\" src=\"images/olap/slice-and-dice.svg\" width=\"400\" />\n"
   ]
  },
  {
   "cell_type": "code",
   "execution_count": 30,
   "metadata": {},
   "outputs": [
    {
     "data": {
      "application/vnd.atoti.convert-query-result-to-widget.v0+json": {
       "mdx": "SELECT {[Measures].[qtd.SUM]} ON COLUMNS, NON EMPTY Crossjoin([Dim_individuo].[sexo].[sexo].Members, [Dim_individuo].[racacor].[racacor].Members) ON ROWS FROM (SELECT [Dim_individuo].[racacor].[AllMember].[Preta] ON COLUMNS FROM [Fato_covid19])",
       "sessionName": "Unnamed",
       "widgetCreationCode": "session.visualize()"
      },
      "text/html": [
       "<div>\n",
       "<style scoped>\n",
       "    .dataframe tbody tr th:only-of-type {\n",
       "        vertical-align: middle;\n",
       "    }\n",
       "\n",
       "    .dataframe tbody tr th {\n",
       "        vertical-align: top;\n",
       "    }\n",
       "\n",
       "    .dataframe thead th {\n",
       "        text-align: right;\n",
       "    }\n",
       "</style>\n",
       "<table border=\"1\" class=\"dataframe\">\n",
       "  <thead>\n",
       "    <tr style=\"text-align: right;\">\n",
       "      <th></th>\n",
       "      <th></th>\n",
       "      <th>qtd.SUM</th>\n",
       "    </tr>\n",
       "    <tr>\n",
       "      <th>sexo</th>\n",
       "      <th>racacor</th>\n",
       "      <th></th>\n",
       "    </tr>\n",
       "  </thead>\n",
       "  <tbody>\n",
       "    <tr>\n",
       "      <th>F</th>\n",
       "      <th>Preta</th>\n",
       "      <td>38.00</td>\n",
       "    </tr>\n",
       "    <tr>\n",
       "      <th>M</th>\n",
       "      <th>Preta</th>\n",
       "      <td>34.00</td>\n",
       "    </tr>\n",
       "  </tbody>\n",
       "</table>\n",
       "</div>"
      ],
      "text/plain": [
       "             qtd.SUM\n",
       "sexo racacor        \n",
       "F    Preta     38.00\n",
       "M    Preta     34.00"
      ]
     },
     "execution_count": 30,
     "metadata": {},
     "output_type": "execute_result"
    }
   ],
   "source": [
    "cube.query(\n",
    "    m[\"qtd.SUM\"],\n",
    "    levels=[l[\"sexo\"], l[\"racacor\"]],\n",
    "    condition=l[\"racacor\"] == \"Preta\",\n",
    ")"
   ]
  },
  {
   "cell_type": "markdown",
   "metadata": {},
   "source": [
    "#### Criando agregador Max \n",
    "\n",
    "Criando agregador max para quantidade:"
   ]
  },
  {
   "cell_type": "code",
   "execution_count": 31,
   "metadata": {},
   "outputs": [],
   "source": [
    "m[\"Max qtd\"] = tt.agg.max(fato_store[\"qtd\"])"
   ]
  },
  {
   "cell_type": "markdown",
   "metadata": {},
   "source": [
    "Nova medida ficará imediatamente disponível:"
   ]
  },
  {
   "cell_type": "code",
   "execution_count": 32,
   "metadata": {},
   "outputs": [
    {
     "data": {
      "application/vnd.atoti.convert-query-result-to-widget.v0+json": {
       "mdx": "SELECT {[Measures].[Max qtd]} ON COLUMNS, NON EMPTY Hierarchize(Descendants({[Dim_individuo].[faixaetaria].[AllMember]}, 1, SELF_AND_BEFORE)) ON ROWS FROM [Fato_covid19]",
       "sessionName": "Unnamed",
       "widgetCreationCode": "session.visualize()"
      },
      "text/html": [
       "<div>\n",
       "<style scoped>\n",
       "    .dataframe tbody tr th:only-of-type {\n",
       "        vertical-align: middle;\n",
       "    }\n",
       "\n",
       "    .dataframe tbody tr th {\n",
       "        vertical-align: top;\n",
       "    }\n",
       "\n",
       "    .dataframe thead th {\n",
       "        text-align: right;\n",
       "    }\n",
       "</style>\n",
       "<table border=\"1\" class=\"dataframe\">\n",
       "  <thead>\n",
       "    <tr style=\"text-align: right;\">\n",
       "      <th></th>\n",
       "      <th>Max qtd</th>\n",
       "    </tr>\n",
       "    <tr>\n",
       "      <th>faixaetaria</th>\n",
       "      <th></th>\n",
       "    </tr>\n",
       "  </thead>\n",
       "  <tbody>\n",
       "    <tr>\n",
       "      <th>Total</th>\n",
       "      <td>1.00</td>\n",
       "    </tr>\n",
       "    <tr>\n",
       "      <th>0 a 4 anos</th>\n",
       "      <td>1.00</td>\n",
       "    </tr>\n",
       "    <tr>\n",
       "      <th>05 a 9 anos</th>\n",
       "      <td>1.00</td>\n",
       "    </tr>\n",
       "    <tr>\n",
       "      <th>10 a 19 anos</th>\n",
       "      <td>1.00</td>\n",
       "    </tr>\n",
       "    <tr>\n",
       "      <th>20 a 29 anos</th>\n",
       "      <td>1.00</td>\n",
       "    </tr>\n",
       "    <tr>\n",
       "      <th>30 a 39 anos</th>\n",
       "      <td>1.00</td>\n",
       "    </tr>\n",
       "    <tr>\n",
       "      <th>40 a 49 anos</th>\n",
       "      <td>1.00</td>\n",
       "    </tr>\n",
       "    <tr>\n",
       "      <th>50 a 59 anos</th>\n",
       "      <td>1.00</td>\n",
       "    </tr>\n",
       "    <tr>\n",
       "      <th>60 a 69 anos</th>\n",
       "      <td>1.00</td>\n",
       "    </tr>\n",
       "    <tr>\n",
       "      <th>70 a 79 anos</th>\n",
       "      <td>1.00</td>\n",
       "    </tr>\n",
       "    <tr>\n",
       "      <th>80 a 89 anos</th>\n",
       "      <td>1.00</td>\n",
       "    </tr>\n",
       "    <tr>\n",
       "      <th>90 anos ou mais</th>\n",
       "      <td>1.00</td>\n",
       "    </tr>\n",
       "  </tbody>\n",
       "</table>\n",
       "</div>"
      ],
      "text/plain": [
       "                Max qtd\n",
       "faixaetaria            \n",
       "Total              1.00\n",
       "0 a 4 anos         1.00\n",
       "05 a 9 anos        1.00\n",
       "10 a 19 anos       1.00\n",
       "20 a 29 anos       1.00\n",
       "30 a 39 anos       1.00\n",
       "40 a 49 anos       1.00\n",
       "50 a 59 anos       1.00\n",
       "60 a 69 anos       1.00\n",
       "70 a 79 anos       1.00\n",
       "80 a 89 anos       1.00\n",
       "90 anos ou mais    1.00"
      ]
     },
     "execution_count": 32,
     "metadata": {},
     "output_type": "execute_result"
    }
   ],
   "source": [
    "cube.query(m[\"Max qtd\"], include_totals=True, levels=l[\"faixaetaria\"])"
   ]
  },
  {
   "cell_type": "markdown",
   "metadata": {},
   "source": [
    "#### Valor cumulativo em função da data"
   ]
  },
  {
   "cell_type": "markdown",
   "metadata": {},
   "source": [
    "A soma cumulativa é uma soma parcial em função de um determinado nível (neste caso a data) "
   ]
  },
  {
   "cell_type": "code",
   "execution_count": 33,
   "metadata": {},
   "outputs": [],
   "source": [
    "m[\"Cumulative qtd\"] = tt.agg.sum(\n",
    "    m[\"qtd.SUM\"], scope=tt.scope.cumulative(l[\"data\"])\n",
    ")"
   ]
  },
  {
   "cell_type": "markdown",
   "metadata": {},
   "source": [
    "![Cumulative amount](images/gifs/cumulative-amount.png)"
   ]
  },
  {
   "cell_type": "code",
   "execution_count": 34,
   "metadata": {
    "atoti": {
     "widget": {
      "mapping": {
       "columns": [
        "ALL_MEASURES"
       ],
       "measures": [
        "[Measures].[Cumulative qtd]"
       ],
       "rows": [
        "[Dim_data].[data].[data]"
       ]
      },
      "query": {
       "mdx": "SELECT NON EMPTY {[Measures].[Cumulative qtd]} ON COLUMNS, NON EMPTY Hierarchize(Descendants({[Dim_data].[data].[AllMember]}, 1, SELF_AND_BEFORE)) ON ROWS FROM [Fato_covid19]",
       "updateMode": "once"
      },
      "serverKey": "default",
      "widgetKey": "pivot-table"
     }
    },
    "tags": []
   },
   "outputs": [
    {
     "data": {
      "application/vnd.atoti.widget.v0+json": {
       "name": null,
       "session": "Unnamed"
      },
      "text/html": [
       "<img src=\"data:image/svg+xml;charset=utf8,%3C%3Fxml%20version%3D%221.0%22%20standalone%3D%22no%22%3F%3E%3Csvg%20xmlns%3D%22http%3A%2F%2Fwww.w3.org%2F2000%2Fsvg%22%20height%3D%22348%22%20width%3D%22936%22%3E%3CforeignObject%20width%3D%22100%25%22%20height%3D%22100%25%22%20x%3D%220%22%20y%3D%220%22%3E%3Cstyle%20xmlns%3D%22http%3A%2F%2Fwww.w3.org%2F1999%2Fxhtml%22%20type%3D%22text%2Fcss%22%3E*%2C%20%3A%3Abefore%2C%20%3A%3Aafter%20%7Bbox-sizing%3A%20unset%7D%0A.ant-root%20%5Bclass%5E%3D%22ant-%22%5D%2C%20.ant-root%20%5Bclass*%3D%22ant-%22%5D%2C%20.ant-root%20%5Bclass%5E%3D%22ant-%22%5D%20*%2C%20.ant-root%20%5Bclass*%3D%22ant-%22%5D%20*%2C%20.ant-root%20%5Bclass%5E%3D%22ant-%22%5D%20%3A%3Abefore%2C%20.ant-root%20%5Bclass*%3D%22ant-%22%5D%20%3A%3Abefore%2C%20.ant-root%20%5Bclass%5E%3D%22ant-%22%5D%20%3A%3Aafter%2C%20.ant-root%20%5Bclass*%3D%22ant-%22%5D%20%3A%3Aafter%20%7Bbox-sizing%3A%20border-box%7D%0A.ant-root%20html%2C%20.ant-root%20%7Bwidth%3A%20100%25%3B%20height%3A%20100%25%7D%0A.ant-root%20*%2C%20.ant-root%20%3A%3Abefore%2C%20.ant-root%20%3A%3Aafter%20%7Bbox-sizing%3A%20border-box%7D%0A.ant-root%20%7Bmargin-top%3A%200px%3B%20margin-right%3A%200px%3B%20margin-bottom%3A%200px%3B%20margin-left%3A%200px%3B%20color%3A%20rgb(89%2C%2089%2C%2089)%3B%20font-size%3A%2012px%3B%20font-family%3A%20-apple-system%2C%20BlinkMacSystemFont%2C%20%22Segoe%20UI%22%2C%20Roboto%2C%20%22Helvetica%20Neue%22%2C%20Arial%2C%20%22Noto%20Sans%22%2C%20sans-serif%2C%20%22Apple%20Color%20Emoji%22%2C%20%22Segoe%20UI%20Emoji%22%2C%20%22Segoe%20UI%20Symbol%22%2C%20%22Noto%20Color%20Emoji%22%3B%20font-variant-ligatures%3A%20normal%3B%20font-variant-numeric%3A%20tabular-nums%3B%20font-variant-east-asian%3A%20normal%3B%20font-variant-caps%3A%20normal%3B%20line-height%3A%201.66667%3B%20background-color%3A%20rgb(255%2C%20255%2C%20255)%3B%20--antd-wave-shadow-color%3A%20undefined%3B%20--scroll-bar%3A%20undefined%7D%0A.ant-root%20.ant-spin%20%7Bbox-sizing%3A%20border-box%3B%20margin-top%3A%200px%3B%20margin-right%3A%200px%3B%20margin-bottom%3A%200px%3B%20margin-left%3A%200px%3B%20padding-top%3A%200px%3B%20padding-right%3A%200px%3B%20padding-bottom%3A%200px%3B%20padding-left%3A%200px%3B%20font-size%3A%2012px%3B%20font-variant-ligatures%3A%20normal%3B%20font-variant-numeric%3A%20tabular-nums%3B%20font-variant-east-asian%3A%20normal%3B%20font-variant-caps%3A%20normal%3B%20line-height%3A%201.66667%3B%20list-style-position%3A%20initial%3B%20list-style-image%3A%20initial%3B%20list-style-type%3A%20none%3B%20position%3A%20absolute%3B%20display%3A%20none%3B%20color%3A%20rgb(0%2C%20174%2C%20239)%3B%20text-align%3A%20center%3B%20vertical-align%3A%20middle%3B%20opacity%3A%200%3B%20transition-duration%3A%200.3s%3B%20transition-timing-function%3A%20cubic-bezier(0.78%2C%200.14%2C%200.15%2C%200.86)%3B%20transition-delay%3A%200s%3B%20transition-property%3A%20transform%7D%0A.ant-root%20.ant-spin-spinning%20%7Bposition%3A%20static%3B%20display%3A%20inline-block%3B%20opacity%3A%201%7D%0A.ant-root%20.ant-spin-dot%20%7Bposition%3A%20relative%3B%20display%3A%20inline-block%3B%20font-size%3A%2020px%3B%20width%3A%201em%3B%20height%3A%201em%7D%0A.ant-root%20.ant-spin-dot-item%20%7Bposition%3A%20absolute%3B%20display%3A%20block%3B%20width%3A%209px%3B%20height%3A%209px%3B%20background-color%3A%20rgb(0%2C%20174%2C%20239)%3B%20border-top-left-radius%3A%20100%25%3B%20border-top-right-radius%3A%20100%25%3B%20border-bottom-right-radius%3A%20100%25%3B%20border-bottom-left-radius%3A%20100%25%3B%20transform%3A%20scale(0.75)%3B%20transform-origin%3A%2050%25%2050%25%3B%20opacity%3A%200.3%3B%20animation-duration%3A%201s%3B%20animation-timing-function%3A%20linear%3B%20animation-delay%3A%200s%3B%20animation-iteration-count%3A%20infinite%3B%20animation-direction%3A%20alternate%3B%20animation-fill-mode%3A%20none%3B%20animation-play-state%3A%20running%3B%20animation-name%3A%20antSpinMove%7D%0A.ant-root%20.ant-spin-dot-item%3Anth-child(1)%20%7Btop%3A%200px%3B%20left%3A%200px%7D%0A.ant-root%20.ant-spin-dot-item%3Anth-child(2)%20%7Btop%3A%200px%3B%20right%3A%200px%3B%20animation-delay%3A%200.4s%7D%0A.ant-root%20.ant-spin-dot-item%3Anth-child(3)%20%7Bright%3A%200px%3B%20bottom%3A%200px%3B%20animation-delay%3A%200.8s%7D%0A.ant-root%20.ant-spin-dot-item%3Anth-child(4)%20%7Bbottom%3A%200px%3B%20left%3A%200px%3B%20animation-delay%3A%201.2s%7D%0A.ant-root%20.ant-spin-dot-spin%20%7Btransform%3A%20rotate(45deg)%3B%20animation-duration%3A%201.2s%3B%20animation-timing-function%3A%20linear%3B%20animation-delay%3A%200s%3B%20animation-iteration-count%3A%20infinite%3B%20animation-direction%3A%20normal%3B%20animation-fill-mode%3A%20none%3B%20animation-play-state%3A%20running%3B%20animation-name%3A%20antRotate%7D%0A.ant-root%20.ant-spin-lg%20.ant-spin-dot%20%7Bfont-size%3A%2032px%7D%0A.ant-root%20.ant-spin-lg%20.ant-spin-dot%20i%20%7Bwidth%3A%2014px%3B%20height%3A%2014px%7D%0A.css-12ebr42-AWidget%20%7Bheight%3A%20100%25%7D%0A.css-ck2xzt-Spinner%20%7B-webkit-box-align%3A%20center%3B%20align-items%3A%20center%3B%20background-image%3A%20initial%3B%20background-position-x%3A%20initial%3B%20background-position-y%3A%20initial%3B%20background-size%3A%20initial%3B%20background-repeat-x%3A%20initial%3B%20background-repeat-y%3A%20initial%3B%20background-attachment%3A%20initial%3B%20background-origin%3A%20initial%3B%20background-clip%3A%20initial%3B%20background-color%3A%20transparent%3B%20display%3A%20flex%3B%20height%3A%20100%25%3B%20-webkit-box-pack%3A%20center%3B%20justify-content%3A%20center%3B%20position%3A%20absolute%3B%20transition-duration%3A%20300ms%3B%20transition-timing-function%3A%20ease%3B%20transition-delay%3A%200s%3B%20transition-property%3A%20opacity%3B%20width%3A%20100%25%3B%20opacity%3A%200%3B%20pointer-events%3A%20none%3B%20z-index%3A%202%7D%0A.css-1e3kjgr-Spinner%20%7Bheight%3A%20100%25%3B%20position%3A%20relative%7D%0A.css-1hwl8p1-Table%20%7Bpadding-bottom%3A%202px%3B%20padding-right%3A%202px%3B%20height%3A%20100%25%7D%0A.css-14ejcn0-Table%20%7Bheight%3A%20calc(100%25%20-%2030px)%3B%20outline-color%3A%20initial%3B%20outline-style%3A%20none%3B%20outline-width%3A%20initial%3B%20position%3A%20relative%7D%0A.css-1rxpjm0-ColumnResizeHint%20%7Bdisplay%3A%20none%3B%20position%3A%20absolute%3B%20z-index%3A%201%7D%0A.css-2vqdc6-ColumnResizeHint%20%7Bheight%3A%2028px%3B%20background-color%3A%20rgb(0%2C%20174%2C%20239)%3B%20width%3A%205px%7D%0A.css-1uww2vi-Table%20%7Bheight%3A%2030px%3B%20text-align%3A%20right%3B%20padding-right%3A%2025px%7D%0A.css-1hol363-ResizableCell%20%7Bdisplay%3A%20flex%3B%20flex-direction%3A%20column%3B%20position%3A%20absolute%3B%20top%3A%200px%3B%20left%3A%200px%3B%20height%3A%2028px%3B%20width%3A%20120px%7D%0A.css-xxcrt1-ResizableCell%20%7Bbackground-image%3A%20initial%3B%20background-position-x%3A%20initial%3B%20background-position-y%3A%20initial%3B%20background-size%3A%20initial%3B%20background-repeat-x%3A%20initial%3B%20background-repeat-y%3A%20initial%3B%20background-attachment%3A%20initial%3B%20background-origin%3A%20initial%3B%20background-clip%3A%20initial%3B%20background-color%3A%20transparent%3B%20cursor%3A%20col-resize%3B%20height%3A%20100%25%3B%20position%3A%20absolute%3B%20right%3A%200px%3B%20width%3A%205px%3B%20z-index%3A%201%7D%0A.css-1toshix%20%7Bcursor%3A%20cell%3B%20height%3A%2028px%3B%20overflow-x%3A%20hidden%3B%20overflow-y%3A%20hidden%3B%20position%3A%20relative%3B%20width%3A%20120px%7D%0A.css-1xeih3r-ColumnResizeHint%20%7Bdisplay%3A%20none%3B%20float%3A%20right%3B%20height%3A%20288px%3B%20background-color%3A%20rgb(0%2C%20174%2C%20239)%3B%20opacity%3A%200.4%3B%20width%3A%202px%7D%0A.css-1em1rjc-Table%20%7Bdisplay%3A%20flex%3B%20height%3A%20316px%7D%0A.css-9wvnih-Table%20%7Bborder-collapse%3A%20collapse%3B%20height%3A%2028px%3B%20width%3A%20120px%7D%0A.css-gy6esx%20%7Bheight%3A%2028px%3B%20width%3A%20120px%7D%0A.css-17unro2%20%7Bcursor%3A%20cell%3B%20height%3A%2028px%3B%20overflow-x%3A%20hidden%3B%20overflow-y%3A%20hidden%3B%20position%3A%20relative%3B%20width%3A%20120px%3B%20border-right-width%3A%202px%3B%20border-right-style%3A%20solid%3B%20border-right-color%3A%20rgb(233%2C%20233%2C%20233)%7D%0A.css-1f7d5iu%20%7Bheight%3A%20288px%3B%20width%3A%20120px%3B%20overflow-x%3A%20hidden%3B%20overflow-y%3A%20auto%7D%0A.css-168602m-Table%20%7Bwidth%3A%20814px%3B%20border-collapse%3A%20collapse%7D%0A.css-3jzsi6%20%7Bheight%3A%2028px%3B%20width%3A%20796px%3B%20overflow-x%3A%20auto%3B%20overflow-y%3A%20hidden%7D%0A.css-1hp2wi%20%7Bheight%3A%20288px%3B%20width%3A%20814px%3B%20overflow-x%3A%20auto%3B%20overflow-y%3A%20auto%7D%0A.css-1v7ljeb%20%7Bcursor%3A%20cell%3B%20height%3A%20112px%3B%20overflow-x%3A%20hidden%3B%20overflow-y%3A%20hidden%3B%20position%3A%20relative%3B%20width%3A%20120px%3B%20border-top-width%3A%202px%3B%20border-top-style%3A%20solid%3B%20border-top-color%3A%20rgb(233%2C%20233%2C%20233)%3B%20border-right-width%3A%202px%3B%20border-right-style%3A%20solid%3B%20border-right-color%3A%20rgb(233%2C%20233%2C%20233)%7D%0A.css-1hb4n9d%20%7Bcursor%3A%20cell%3B%20height%3A%20112px%3B%20overflow-x%3A%20hidden%3B%20overflow-y%3A%20hidden%3B%20position%3A%20relative%3B%20width%3A%20120px%3B%20border-top-width%3A%202px%3B%20border-top-style%3A%20solid%3B%20border-top-color%3A%20rgb(233%2C%20233%2C%20233)%7D%0A*%20%7B-ms-overflow-style%3A%20none%3B%20scrollbar-width%3A%20none%7D%0A*%3A%3A-webkit-scrollbar%20%7Bdisplay%3A%20none%7D%3C%2Fstyle%3E%3Cdiv%20xmlns%3D%22http%3A%2F%2Fwww.w3.org%2F1999%2Fxhtml%22%20style%3D%22height%3A%20348px%3B%20width%3A%20936px%3B%22%3E%3Cdiv%20class%3D%22ant-root%20css-0%22%3E%3Cdiv%20class%3D%22ant-dropdown-trigger%20css-12ebr42-AWidget%22%3E%3Cdiv%20class%3D%22css-1e3kjgr-Spinner%22%3E%3Cdiv%20class%3D%22css-ck2xzt-Spinner%22%3E%3Cdiv%20class%3D%22ant-spin%20ant-spin-lg%20ant-spin-spinning%22%3E%3Cspan%20class%3D%22ant-spin-dot%20ant-spin-dot-spin%22%3E%3Ci%20class%3D%22ant-spin-dot-item%22%3E%3C%2Fi%3E%3Ci%20class%3D%22ant-spin-dot-item%22%3E%3C%2Fi%3E%3Ci%20class%3D%22ant-spin-dot-item%22%3E%3C%2Fi%3E%3Ci%20class%3D%22ant-spin-dot-item%22%3E%3C%2Fi%3E%3C%2Fspan%3E%3C%2Fdiv%3E%3C%2Fdiv%3E%3Cdiv%20class%3D%22css-1hwl8p1-Table%22%3E%3Cdiv%20tabindex%3D%220%22%20class%3D%22css-14ejcn0-Table%22%3E%3Cdiv%20class%3D%22css-1rxpjm0-ColumnResizeHint%22%3E%3Cdiv%20class%3D%22css-2vqdc6-ColumnResizeHint%22%3E%3C%2Fdiv%3E%3Cdiv%20class%3D%22css-1xeih3r-ColumnResizeHint%22%3E%3C%2Fdiv%3E%3C%2Fdiv%3E%3Cdiv%20class%3D%22css-1em1rjc-Table%22%3E%3Cdiv%20class%3D%22css-9wvnih-Table%22%3E%3Cdiv%20class%3D%22css-gy6esx%22%3E%3Cdiv%20class%3D%22css-17unro2%22%3E%3Cdiv%20class%3D%22css-1hol363-ResizableCell%22%3E%3Cdiv%20class%3D%22aui-table-cell%22%20style%3D%22font-size%3A%2012px%3B%20height%3A%2028px%3B%20left%3A%200px%3B%20padding%3A%204px%204px%203px%3B%20overflow%3A%20hidden%3B%20position%3A%20absolute%3B%20text-align%3A%20left%3B%20top%3A%200px%3B%20width%3A%20115px%3B%20font-weight%3A%20600%3B%20display%3A%20flex%3B%20align-items%3A%20center%3B%22%3E%3Cspan%3Edata%3C%2Fspan%3E%3C%2Fdiv%3E%3Cdiv%20class%3D%22css-xxcrt1-ResizableCell%22%3E%3C%2Fdiv%3E%3C%2Fdiv%3E%3C%2Fdiv%3E%3C%2Fdiv%3E%3Cdiv%20class%3D%22css-1f7d5iu%22%3E%3Cdiv%20class%3D%22css-1v7ljeb%22%3E%3Cdiv%20style%3D%22overflow%3A%20hidden%3B%20display%3A%20flex%3B%20align-items%3A%20center%3B%20font-size%3A%2012px%3B%20height%3A%2028px%3B%20left%3A%200px%3B%20padding%3A%204px%204px%203px%3B%20position%3A%20absolute%3B%20text-align%3A%20left%3B%20top%3A%200px%3B%20width%3A%20120px%3B%20border-right%3A%202px%20solid%20rgb(233%2C%20233%2C%20233)%3B%22%3E%3Cspan%20style%3D%22text-overflow%3A%20ellipsis%3B%20overflow%3A%20hidden%3B%20white-space%3A%20nowrap%3B%20max-width%3A%20calc((100%25%20-%200px)%20-%200px)%3B%22%3ETotal%3C%2Fspan%3E%3C%2Fdiv%3E%3Cdiv%20style%3D%22overflow%3A%20hidden%3B%20display%3A%20flex%3B%20align-items%3A%20center%3B%20font-size%3A%2012px%3B%20height%3A%2028px%3B%20left%3A%200px%3B%20padding%3A%204px%204px%203px%3B%20position%3A%20absolute%3B%20text-align%3A%20left%3B%20top%3A%2028px%3B%20width%3A%20120px%3B%20background-color%3A%20rgb(250%2C%20250%2C%20250)%3B%20border-right%3A%202px%20solid%20rgb(233%2C%20233%2C%20233)%3B%22%3E%3Cspan%20style%3D%22text-overflow%3A%20ellipsis%3B%20overflow%3A%20hidden%3B%20white-space%3A%20nowrap%3B%20max-width%3A%20calc((100%25%20-%200px)%20-%200px)%3B%22%3E2021-05-22T00%3A00%3C%2Fspan%3E%3C%2Fdiv%3E%3Cdiv%20style%3D%22overflow%3A%20hidden%3B%20display%3A%20flex%3B%20align-items%3A%20center%3B%20font-size%3A%2012px%3B%20height%3A%2028px%3B%20left%3A%200px%3B%20padding%3A%204px%204px%203px%3B%20position%3A%20absolute%3B%20text-align%3A%20left%3B%20top%3A%2056px%3B%20width%3A%20120px%3B%20border-right%3A%202px%20solid%20rgb(233%2C%20233%2C%20233)%3B%22%3E%3Cspan%20style%3D%22text-overflow%3A%20ellipsis%3B%20overflow%3A%20hidden%3B%20white-space%3A%20nowrap%3B%20max-width%3A%20calc((100%25%20-%200px)%20-%200px)%3B%22%3E2021-05-23T00%3A00%3C%2Fspan%3E%3C%2Fdiv%3E%3Cdiv%20style%3D%22overflow%3A%20hidden%3B%20display%3A%20flex%3B%20align-items%3A%20center%3B%20font-size%3A%2012px%3B%20height%3A%2028px%3B%20left%3A%200px%3B%20padding%3A%204px%204px%203px%3B%20position%3A%20absolute%3B%20text-align%3A%20left%3B%20top%3A%2084px%3B%20width%3A%20120px%3B%20background-color%3A%20rgb(250%2C%20250%2C%20250)%3B%20border-right%3A%202px%20solid%20rgb(233%2C%20233%2C%20233)%3B%22%3E%3Cspan%20style%3D%22text-overflow%3A%20ellipsis%3B%20overflow%3A%20hidden%3B%20white-space%3A%20nowrap%3B%20max-width%3A%20calc((100%25%20-%200px)%20-%200px)%3B%22%3E2021-05-24T00%3A00%3C%2Fspan%3E%3C%2Fdiv%3E%3C%2Fdiv%3E%3C%2Fdiv%3E%3C%2Fdiv%3E%3Cdiv%20class%3D%22css-168602m-Table%22%3E%3Cdiv%20class%3D%22css-3jzsi6%22%3E%3Cdiv%20class%3D%22css-1toshix%22%3E%3Cdiv%20class%3D%22css-1hol363-ResizableCell%22%3E%3Cdiv%20style%3D%22overflow%3A%20hidden%3B%20display%3A%20flex%3B%20align-items%3A%20center%3B%20font-size%3A%2012px%3B%20height%3A%2028px%3B%20left%3A%200px%3B%20padding%3A%204px%204px%203px%3B%20position%3A%20absolute%3B%20text-align%3A%20left%3B%20top%3A%200px%3B%20width%3A%20115px%3B%20font-weight%3A%20600%3B%22%3E%3Cspan%20style%3D%22text-overflow%3A%20ellipsis%3B%20overflow%3A%20hidden%3B%20white-space%3A%20nowrap%3B%20max-width%3A%20calc((100%25%20-%200px)%20-%200px)%3B%22%3ECumulative%20qtd%3C%2Fspan%3E%3C%2Fdiv%3E%3Cdiv%20class%3D%22css-xxcrt1-ResizableCell%22%3E%3C%2Fdiv%3E%3C%2Fdiv%3E%3C%2Fdiv%3E%3C%2Fdiv%3E%3Cdiv%20class%3D%22css-1hp2wi%22%3E%3Cdiv%20class%3D%22css-1hb4n9d%22%3E%3Cdiv%20class%3D%22aui-table-cell%22%20style%3D%22font-size%3A%2012px%3B%20height%3A%2028px%3B%20left%3A%200px%3B%20padding%3A%204px%204px%203px%3B%20overflow%3A%20hidden%3B%20position%3A%20absolute%3B%20text-align%3A%20right%3B%20top%3A%200px%3B%20width%3A%20120px%3B%20border-right%3A%201px%20solid%20rgb(233%2C%20233%2C%20233)%3B%22%3E1%2C000.00%3C%2Fdiv%3E%3Cdiv%20class%3D%22aui-table-cell%22%20style%3D%22font-size%3A%2012px%3B%20height%3A%2028px%3B%20left%3A%200px%3B%20padding%3A%204px%204px%203px%3B%20overflow%3A%20hidden%3B%20position%3A%20absolute%3B%20text-align%3A%20right%3B%20top%3A%2028px%3B%20width%3A%20120px%3B%20background-color%3A%20rgb(250%2C%20250%2C%20250)%3B%20border-right%3A%201px%20solid%20rgb(233%2C%20233%2C%20233)%3B%22%3E122.00%3C%2Fdiv%3E%3Cdiv%20class%3D%22aui-table-cell%22%20style%3D%22font-size%3A%2012px%3B%20height%3A%2028px%3B%20left%3A%200px%3B%20padding%3A%204px%204px%203px%3B%20overflow%3A%20hidden%3B%20position%3A%20absolute%3B%20text-align%3A%20right%3B%20top%3A%2056px%3B%20width%3A%20120px%3B%20border-right%3A%201px%20solid%20rgb(233%2C%20233%2C%20233)%3B%22%3E423.00%3C%2Fdiv%3E%3Cdiv%20class%3D%22aui-table-cell%22%20style%3D%22font-size%3A%2012px%3B%20height%3A%2028px%3B%20left%3A%200px%3B%20padding%3A%204px%204px%203px%3B%20overflow%3A%20hidden%3B%20position%3A%20absolute%3B%20text-align%3A%20right%3B%20top%3A%2084px%3B%20width%3A%20120px%3B%20background-color%3A%20rgb(250%2C%20250%2C%20250)%3B%20border-right%3A%201px%20solid%20rgb(233%2C%20233%2C%20233)%3B%22%3E1%2C000.00%3C%2Fdiv%3E%3C%2Fdiv%3E%3C%2Fdiv%3E%3C%2Fdiv%3E%3C%2Fdiv%3E%3C%2Fdiv%3E%3Cdiv%20class%3D%22css-1uww2vi-Table%22%3E%3C%2Fdiv%3E%3C%2Fdiv%3E%3C%2Fdiv%3E%3C%2Fdiv%3E%3C%2Fdiv%3E%3C%2Fdiv%3E%3C%2FforeignObject%3E%3C%2Fsvg%3E\">"
      ],
      "text/plain": [
       "Open the notebook in JupyterLab with the atoti extension installed and enabled to start editing this widget."
      ]
     },
     "metadata": {},
     "output_type": "display_data"
    }
   ],
   "source": [
    "session.visualize()"
   ]
  },
  {
   "cell_type": "code",
   "execution_count": 35,
   "metadata": {},
   "outputs": [
    {
     "data": {
      "application/json": {
       "Dim_data": {
        "data": [
         "data"
        ],
        "id_data_inteiro": [
         "id_data_inteiro"
        ],
        "nome_dia_semana": [
         "nome_dia_semana"
        ],
        "nome_mes": [
         "nome_mes"
        ]
       },
       "Dim_individuo": {
        "classificacao": [
         "classificacao"
        ],
        "date_from": [
         "date_from"
        ],
        "date_to": [
         "date_to"
        ],
        "evolucao": [
         "evolucao"
        ],
        "faixaetaria": [
         "faixaetaria"
        ],
        "ficouinternado": [
         "ficouinternado"
        ],
        "idadenadatanotificacao": [
         "idadenadatanotificacao"
        ],
        "racacor": [
         "racacor"
        ],
        "sexo": [
         "sexo"
        ],
        "version": [
         "version"
        ],
        "viagembrasil": [
         "viagembrasil"
        ],
        "viageminternacional": [
         "viageminternacional"
        ]
       },
       "Dim_local": {
        "bairro": [
         "bairro"
        ],
        "municipio": [
         "municipio"
        ]
       },
       "Dim_sint_comorb": {
        "cefaleia": [
         "cefaleia"
        ],
        "comorbidadecardio": [
         "comorbidadecardio"
        ],
        "comorbidadediabetes": [
         "comorbidadediabetes"
        ],
        "comorbidadeobesidade": [
         "comorbidadeobesidade"
        ],
        "comorbidadepulmao": [
         "comorbidadepulmao"
        ],
        "comorbidaderenal": [
         "comorbidaderenal"
        ],
        "comorbidadetabagismo": [
         "comorbidadetabagismo"
        ],
        "coriza": [
         "coriza"
        ],
        "diarreia": [
         "diarreia"
        ],
        "dificuldaderespiratoria": [
         "dificuldaderespiratoria"
        ],
        "dorgarganta": [
         "dorgarganta"
        ],
        "febre": [
         "febre"
        ],
        "tosse": [
         "tosse"
        ]
       },
       "Fato_covid19": {
        "dcod_individuo": [
         "dcod_individuo"
        ],
        "dcod_local": [
         "dcod_local"
        ],
        "dcod_sint_cmorb": [
         "dcod_sint_cmorb"
        ],
        "dim_id_data_not": [
         "dim_id_data_not"
        ],
        "id": [
         "id"
        ]
       }
      },
      "text/html": [
       "<ul>\n",
       "<li>Dimensions\n",
       "  <ul>\n",
       "  <li>Dim_data\n",
       "    <ul>\n",
       "    <li>data\n",
       "      <ol>\n",
       "      <li>data</li>\n",
       "      </ol>    </li>\n",
       "    <li>id_data_inteiro\n",
       "      <ol>\n",
       "      <li>id_data_inteiro</li>\n",
       "      </ol>    </li>\n",
       "    <li>nome_dia_semana\n",
       "      <ol>\n",
       "      <li>nome_dia_semana</li>\n",
       "      </ol>    </li>\n",
       "    <li>nome_mes\n",
       "      <ol>\n",
       "      <li>nome_mes</li>\n",
       "      </ol>    </li>\n",
       "    </ul>\n",
       "  </li>\n",
       "  <li>Dim_individuo\n",
       "    <ul>\n",
       "    <li>classificacao\n",
       "      <ol>\n",
       "      <li>classificacao</li>\n",
       "      </ol>    </li>\n",
       "    <li>date_from\n",
       "      <ol>\n",
       "      <li>date_from</li>\n",
       "      </ol>    </li>\n",
       "    <li>date_to\n",
       "      <ol>\n",
       "      <li>date_to</li>\n",
       "      </ol>    </li>\n",
       "    <li>evolucao\n",
       "      <ol>\n",
       "      <li>evolucao</li>\n",
       "      </ol>    </li>\n",
       "    <li>faixaetaria\n",
       "      <ol>\n",
       "      <li>faixaetaria</li>\n",
       "      </ol>    </li>\n",
       "    <li>ficouinternado\n",
       "      <ol>\n",
       "      <li>ficouinternado</li>\n",
       "      </ol>    </li>\n",
       "    <li>idadenadatanotificacao\n",
       "      <ol>\n",
       "      <li>idadenadatanotificacao</li>\n",
       "      </ol>    </li>\n",
       "    <li>racacor\n",
       "      <ol>\n",
       "      <li>racacor</li>\n",
       "      </ol>    </li>\n",
       "    <li>sexo\n",
       "      <ol>\n",
       "      <li>sexo</li>\n",
       "      </ol>    </li>\n",
       "    <li>version\n",
       "      <ol>\n",
       "      <li>version</li>\n",
       "      </ol>    </li>\n",
       "    <li>viagembrasil\n",
       "      <ol>\n",
       "      <li>viagembrasil</li>\n",
       "      </ol>    </li>\n",
       "    <li>viageminternacional\n",
       "      <ol>\n",
       "      <li>viageminternacional</li>\n",
       "      </ol>    </li>\n",
       "    </ul>\n",
       "  </li>\n",
       "  <li>Dim_local\n",
       "    <ul>\n",
       "    <li>bairro\n",
       "      <ol>\n",
       "      <li>bairro</li>\n",
       "      </ol>    </li>\n",
       "    <li>municipio\n",
       "      <ol>\n",
       "      <li>municipio</li>\n",
       "      </ol>    </li>\n",
       "    </ul>\n",
       "  </li>\n",
       "  <li>Dim_sint_comorb\n",
       "    <ul>\n",
       "    <li>cefaleia\n",
       "      <ol>\n",
       "      <li>cefaleia</li>\n",
       "      </ol>    </li>\n",
       "    <li>comorbidadecardio\n",
       "      <ol>\n",
       "      <li>comorbidadecardio</li>\n",
       "      </ol>    </li>\n",
       "    <li>comorbidadediabetes\n",
       "      <ol>\n",
       "      <li>comorbidadediabetes</li>\n",
       "      </ol>    </li>\n",
       "    <li>comorbidadeobesidade\n",
       "      <ol>\n",
       "      <li>comorbidadeobesidade</li>\n",
       "      </ol>    </li>\n",
       "    <li>comorbidadepulmao\n",
       "      <ol>\n",
       "      <li>comorbidadepulmao</li>\n",
       "      </ol>    </li>\n",
       "    <li>comorbidaderenal\n",
       "      <ol>\n",
       "      <li>comorbidaderenal</li>\n",
       "      </ol>    </li>\n",
       "    <li>comorbidadetabagismo\n",
       "      <ol>\n",
       "      <li>comorbidadetabagismo</li>\n",
       "      </ol>    </li>\n",
       "    <li>coriza\n",
       "      <ol>\n",
       "      <li>coriza</li>\n",
       "      </ol>    </li>\n",
       "    <li>diarreia\n",
       "      <ol>\n",
       "      <li>diarreia</li>\n",
       "      </ol>    </li>\n",
       "    <li>dificuldaderespiratoria\n",
       "      <ol>\n",
       "      <li>dificuldaderespiratoria</li>\n",
       "      </ol>    </li>\n",
       "    <li>dorgarganta\n",
       "      <ol>\n",
       "      <li>dorgarganta</li>\n",
       "      </ol>    </li>\n",
       "    <li>febre\n",
       "      <ol>\n",
       "      <li>febre</li>\n",
       "      </ol>    </li>\n",
       "    <li>tosse\n",
       "      <ol>\n",
       "      <li>tosse</li>\n",
       "      </ol>    </li>\n",
       "    </ul>\n",
       "  </li>\n",
       "  <li>Fato_covid19\n",
       "    <ul>\n",
       "    <li>dcod_individuo\n",
       "      <ol>\n",
       "      <li>dcod_individuo</li>\n",
       "      </ol>    </li>\n",
       "    <li>dcod_local\n",
       "      <ol>\n",
       "      <li>dcod_local</li>\n",
       "      </ol>    </li>\n",
       "    <li>dcod_sint_cmorb\n",
       "      <ol>\n",
       "      <li>dcod_sint_cmorb</li>\n",
       "      </ol>    </li>\n",
       "    <li>dim_id_data_not\n",
       "      <ol>\n",
       "      <li>dim_id_data_not</li>\n",
       "      </ol>    </li>\n",
       "    <li>id\n",
       "      <ol>\n",
       "      <li>id</li>\n",
       "      </ol>    </li>\n",
       "    </ul>\n",
       "  </li>\n",
       "  </ul>\n",
       "</li>\n",
       "</ul>\n"
      ],
      "text/plain": [
       "Hierarchies()"
      ]
     },
     "execution_count": 35,
     "metadata": {
      "application/json": {
       "expanded": true,
       "root": "Dimensions"
      }
     },
     "output_type": "execute_result"
    }
   ],
   "source": [
    "h"
   ]
  },
  {
   "cell_type": "markdown",
   "metadata": {},
   "source": [
    "Adicionando uma hierarquia composta com base em duas simples"
   ]
  },
  {
   "cell_type": "code",
   "execution_count": 36,
   "metadata": {},
   "outputs": [],
   "source": [
    "h[\"Viagem\"] = [l[\"viagembrasil\"],l[\"viageminternacional\"]]"
   ]
  },
  {
   "cell_type": "markdown",
   "metadata": {},
   "source": [
    "And let's remove the old hierarchies:"
   ]
  },
  {
   "cell_type": "code",
   "execution_count": 37,
   "metadata": {},
   "outputs": [],
   "source": [
    "del h[\"viagembrasil\"]\n",
    "del h[\"viageminternacional\"]"
   ]
  },
  {
   "cell_type": "code",
   "execution_count": 38,
   "metadata": {},
   "outputs": [
    {
     "data": {
      "application/json": {
       "Dim_data": {
        "data": [
         "data"
        ],
        "id_data_inteiro": [
         "id_data_inteiro"
        ],
        "nome_dia_semana": [
         "nome_dia_semana"
        ],
        "nome_mes": [
         "nome_mes"
        ]
       },
       "Dim_individuo": {
        "Viagem": [
         "viagembrasil",
         "viageminternacional"
        ],
        "classificacao": [
         "classificacao"
        ],
        "date_from": [
         "date_from"
        ],
        "date_to": [
         "date_to"
        ],
        "evolucao": [
         "evolucao"
        ],
        "faixaetaria": [
         "faixaetaria"
        ],
        "ficouinternado": [
         "ficouinternado"
        ],
        "idadenadatanotificacao": [
         "idadenadatanotificacao"
        ],
        "racacor": [
         "racacor"
        ],
        "sexo": [
         "sexo"
        ],
        "version": [
         "version"
        ]
       },
       "Dim_local": {
        "bairro": [
         "bairro"
        ],
        "municipio": [
         "municipio"
        ]
       },
       "Dim_sint_comorb": {
        "cefaleia": [
         "cefaleia"
        ],
        "comorbidadecardio": [
         "comorbidadecardio"
        ],
        "comorbidadediabetes": [
         "comorbidadediabetes"
        ],
        "comorbidadeobesidade": [
         "comorbidadeobesidade"
        ],
        "comorbidadepulmao": [
         "comorbidadepulmao"
        ],
        "comorbidaderenal": [
         "comorbidaderenal"
        ],
        "comorbidadetabagismo": [
         "comorbidadetabagismo"
        ],
        "coriza": [
         "coriza"
        ],
        "diarreia": [
         "diarreia"
        ],
        "dificuldaderespiratoria": [
         "dificuldaderespiratoria"
        ],
        "dorgarganta": [
         "dorgarganta"
        ],
        "febre": [
         "febre"
        ],
        "tosse": [
         "tosse"
        ]
       },
       "Fato_covid19": {
        "dcod_individuo": [
         "dcod_individuo"
        ],
        "dcod_local": [
         "dcod_local"
        ],
        "dcod_sint_cmorb": [
         "dcod_sint_cmorb"
        ],
        "dim_id_data_not": [
         "dim_id_data_not"
        ],
        "id": [
         "id"
        ]
       }
      },
      "text/html": [
       "<ul>\n",
       "<li>Dimensions\n",
       "  <ul>\n",
       "  <li>Dim_data\n",
       "    <ul>\n",
       "    <li>data\n",
       "      <ol>\n",
       "      <li>data</li>\n",
       "      </ol>    </li>\n",
       "    <li>id_data_inteiro\n",
       "      <ol>\n",
       "      <li>id_data_inteiro</li>\n",
       "      </ol>    </li>\n",
       "    <li>nome_dia_semana\n",
       "      <ol>\n",
       "      <li>nome_dia_semana</li>\n",
       "      </ol>    </li>\n",
       "    <li>nome_mes\n",
       "      <ol>\n",
       "      <li>nome_mes</li>\n",
       "      </ol>    </li>\n",
       "    </ul>\n",
       "  </li>\n",
       "  <li>Dim_individuo\n",
       "    <ul>\n",
       "    <li>Viagem\n",
       "      <ol>\n",
       "      <li>viagembrasil</li>\n",
       "      <li>viageminternacional</li>\n",
       "      </ol>    </li>\n",
       "    <li>classificacao\n",
       "      <ol>\n",
       "      <li>classificacao</li>\n",
       "      </ol>    </li>\n",
       "    <li>date_from\n",
       "      <ol>\n",
       "      <li>date_from</li>\n",
       "      </ol>    </li>\n",
       "    <li>date_to\n",
       "      <ol>\n",
       "      <li>date_to</li>\n",
       "      </ol>    </li>\n",
       "    <li>evolucao\n",
       "      <ol>\n",
       "      <li>evolucao</li>\n",
       "      </ol>    </li>\n",
       "    <li>faixaetaria\n",
       "      <ol>\n",
       "      <li>faixaetaria</li>\n",
       "      </ol>    </li>\n",
       "    <li>ficouinternado\n",
       "      <ol>\n",
       "      <li>ficouinternado</li>\n",
       "      </ol>    </li>\n",
       "    <li>idadenadatanotificacao\n",
       "      <ol>\n",
       "      <li>idadenadatanotificacao</li>\n",
       "      </ol>    </li>\n",
       "    <li>racacor\n",
       "      <ol>\n",
       "      <li>racacor</li>\n",
       "      </ol>    </li>\n",
       "    <li>sexo\n",
       "      <ol>\n",
       "      <li>sexo</li>\n",
       "      </ol>    </li>\n",
       "    <li>version\n",
       "      <ol>\n",
       "      <li>version</li>\n",
       "      </ol>    </li>\n",
       "    </ul>\n",
       "  </li>\n",
       "  <li>Dim_local\n",
       "    <ul>\n",
       "    <li>bairro\n",
       "      <ol>\n",
       "      <li>bairro</li>\n",
       "      </ol>    </li>\n",
       "    <li>municipio\n",
       "      <ol>\n",
       "      <li>municipio</li>\n",
       "      </ol>    </li>\n",
       "    </ul>\n",
       "  </li>\n",
       "  <li>Dim_sint_comorb\n",
       "    <ul>\n",
       "    <li>cefaleia\n",
       "      <ol>\n",
       "      <li>cefaleia</li>\n",
       "      </ol>    </li>\n",
       "    <li>comorbidadecardio\n",
       "      <ol>\n",
       "      <li>comorbidadecardio</li>\n",
       "      </ol>    </li>\n",
       "    <li>comorbidadediabetes\n",
       "      <ol>\n",
       "      <li>comorbidadediabetes</li>\n",
       "      </ol>    </li>\n",
       "    <li>comorbidadeobesidade\n",
       "      <ol>\n",
       "      <li>comorbidadeobesidade</li>\n",
       "      </ol>    </li>\n",
       "    <li>comorbidadepulmao\n",
       "      <ol>\n",
       "      <li>comorbidadepulmao</li>\n",
       "      </ol>    </li>\n",
       "    <li>comorbidaderenal\n",
       "      <ol>\n",
       "      <li>comorbidaderenal</li>\n",
       "      </ol>    </li>\n",
       "    <li>comorbidadetabagismo\n",
       "      <ol>\n",
       "      <li>comorbidadetabagismo</li>\n",
       "      </ol>    </li>\n",
       "    <li>coriza\n",
       "      <ol>\n",
       "      <li>coriza</li>\n",
       "      </ol>    </li>\n",
       "    <li>diarreia\n",
       "      <ol>\n",
       "      <li>diarreia</li>\n",
       "      </ol>    </li>\n",
       "    <li>dificuldaderespiratoria\n",
       "      <ol>\n",
       "      <li>dificuldaderespiratoria</li>\n",
       "      </ol>    </li>\n",
       "    <li>dorgarganta\n",
       "      <ol>\n",
       "      <li>dorgarganta</li>\n",
       "      </ol>    </li>\n",
       "    <li>febre\n",
       "      <ol>\n",
       "      <li>febre</li>\n",
       "      </ol>    </li>\n",
       "    <li>tosse\n",
       "      <ol>\n",
       "      <li>tosse</li>\n",
       "      </ol>    </li>\n",
       "    </ul>\n",
       "  </li>\n",
       "  <li>Fato_covid19\n",
       "    <ul>\n",
       "    <li>dcod_individuo\n",
       "      <ol>\n",
       "      <li>dcod_individuo</li>\n",
       "      </ol>    </li>\n",
       "    <li>dcod_local\n",
       "      <ol>\n",
       "      <li>dcod_local</li>\n",
       "      </ol>    </li>\n",
       "    <li>dcod_sint_cmorb\n",
       "      <ol>\n",
       "      <li>dcod_sint_cmorb</li>\n",
       "      </ol>    </li>\n",
       "    <li>dim_id_data_not\n",
       "      <ol>\n",
       "      <li>dim_id_data_not</li>\n",
       "      </ol>    </li>\n",
       "    <li>id\n",
       "      <ol>\n",
       "      <li>id</li>\n",
       "      </ol>    </li>\n",
       "    </ul>\n",
       "  </li>\n",
       "  </ul>\n",
       "</li>\n",
       "</ul>\n"
      ],
      "text/plain": [
       "Hierarchies()"
      ]
     },
     "execution_count": 38,
     "metadata": {
      "application/json": {
       "expanded": true,
       "root": "Dimensions"
      }
     },
     "output_type": "execute_result"
    }
   ],
   "source": [
    "h"
   ]
  },
  {
   "cell_type": "markdown",
   "metadata": {},
   "source": [
    "Nós também podemos fazer isso com **bairro**, **Municipio** para construir a hierarquia  **local**.\n",
    "Perceba que neste caso ao inves de utilizar os niveis nos vamos definir a hieraquia com campos/niveis do objeto local_store:"
   ]
  },
  {
   "cell_type": "code",
   "execution_count": 39,
   "metadata": {},
   "outputs": [],
   "source": [
    "h[\"local\"] = [\n",
    "    local_store[\"municipio\"],\n",
    "    local_store[\"bairro\"],\n",
    "]\n",
    "del h[\"municipio\"]\n",
    "del h[\"bairro\"]"
   ]
  },
  {
   "cell_type": "markdown",
   "metadata": {},
   "source": [
    "Dimensões reagrupam hierarquias."
   ]
  },
  {
   "cell_type": "code",
   "execution_count": 40,
   "metadata": {},
   "outputs": [
    {
     "data": {
      "application/json": {
       "Dim_data": {
        "data": [
         "data"
        ],
        "id_data_inteiro": [
         "id_data_inteiro"
        ],
        "nome_dia_semana": [
         "nome_dia_semana"
        ],
        "nome_mes": [
         "nome_mes"
        ]
       },
       "Dim_individuo": {
        "Viagem": [
         "viagembrasil",
         "viageminternacional"
        ],
        "classificacao": [
         "classificacao"
        ],
        "date_from": [
         "date_from"
        ],
        "date_to": [
         "date_to"
        ],
        "evolucao": [
         "evolucao"
        ],
        "faixaetaria": [
         "faixaetaria"
        ],
        "ficouinternado": [
         "ficouinternado"
        ],
        "idadenadatanotificacao": [
         "idadenadatanotificacao"
        ],
        "racacor": [
         "racacor"
        ],
        "sexo": [
         "sexo"
        ],
        "version": [
         "version"
        ]
       },
       "Dim_sint_comorb": {
        "cefaleia": [
         "cefaleia"
        ],
        "comorbidadecardio": [
         "comorbidadecardio"
        ],
        "comorbidadediabetes": [
         "comorbidadediabetes"
        ],
        "comorbidadeobesidade": [
         "comorbidadeobesidade"
        ],
        "comorbidadepulmao": [
         "comorbidadepulmao"
        ],
        "comorbidaderenal": [
         "comorbidaderenal"
        ],
        "comorbidadetabagismo": [
         "comorbidadetabagismo"
        ],
        "coriza": [
         "coriza"
        ],
        "diarreia": [
         "diarreia"
        ],
        "dificuldaderespiratoria": [
         "dificuldaderespiratoria"
        ],
        "dorgarganta": [
         "dorgarganta"
        ],
        "febre": [
         "febre"
        ],
        "tosse": [
         "tosse"
        ]
       },
       "Fato_covid19": {
        "dcod_individuo": [
         "dcod_individuo"
        ],
        "dcod_local": [
         "dcod_local"
        ],
        "dcod_sint_cmorb": [
         "dcod_sint_cmorb"
        ],
        "dim_id_data_not": [
         "dim_id_data_not"
        ],
        "id": [
         "id"
        ]
       },
       "Location": {
        "local": [
         "municipio",
         "bairro"
        ]
       }
      },
      "text/html": [
       "<ul>\n",
       "<li>Dimensions\n",
       "  <ul>\n",
       "  <li>Dim_data\n",
       "    <ul>\n",
       "    <li>data\n",
       "      <ol>\n",
       "      <li>data</li>\n",
       "      </ol>    </li>\n",
       "    <li>id_data_inteiro\n",
       "      <ol>\n",
       "      <li>id_data_inteiro</li>\n",
       "      </ol>    </li>\n",
       "    <li>nome_dia_semana\n",
       "      <ol>\n",
       "      <li>nome_dia_semana</li>\n",
       "      </ol>    </li>\n",
       "    <li>nome_mes\n",
       "      <ol>\n",
       "      <li>nome_mes</li>\n",
       "      </ol>    </li>\n",
       "    </ul>\n",
       "  </li>\n",
       "  <li>Dim_individuo\n",
       "    <ul>\n",
       "    <li>Viagem\n",
       "      <ol>\n",
       "      <li>viagembrasil</li>\n",
       "      <li>viageminternacional</li>\n",
       "      </ol>    </li>\n",
       "    <li>classificacao\n",
       "      <ol>\n",
       "      <li>classificacao</li>\n",
       "      </ol>    </li>\n",
       "    <li>date_from\n",
       "      <ol>\n",
       "      <li>date_from</li>\n",
       "      </ol>    </li>\n",
       "    <li>date_to\n",
       "      <ol>\n",
       "      <li>date_to</li>\n",
       "      </ol>    </li>\n",
       "    <li>evolucao\n",
       "      <ol>\n",
       "      <li>evolucao</li>\n",
       "      </ol>    </li>\n",
       "    <li>faixaetaria\n",
       "      <ol>\n",
       "      <li>faixaetaria</li>\n",
       "      </ol>    </li>\n",
       "    <li>ficouinternado\n",
       "      <ol>\n",
       "      <li>ficouinternado</li>\n",
       "      </ol>    </li>\n",
       "    <li>idadenadatanotificacao\n",
       "      <ol>\n",
       "      <li>idadenadatanotificacao</li>\n",
       "      </ol>    </li>\n",
       "    <li>racacor\n",
       "      <ol>\n",
       "      <li>racacor</li>\n",
       "      </ol>    </li>\n",
       "    <li>sexo\n",
       "      <ol>\n",
       "      <li>sexo</li>\n",
       "      </ol>    </li>\n",
       "    <li>version\n",
       "      <ol>\n",
       "      <li>version</li>\n",
       "      </ol>    </li>\n",
       "    </ul>\n",
       "  </li>\n",
       "  <li>Dim_sint_comorb\n",
       "    <ul>\n",
       "    <li>cefaleia\n",
       "      <ol>\n",
       "      <li>cefaleia</li>\n",
       "      </ol>    </li>\n",
       "    <li>comorbidadecardio\n",
       "      <ol>\n",
       "      <li>comorbidadecardio</li>\n",
       "      </ol>    </li>\n",
       "    <li>comorbidadediabetes\n",
       "      <ol>\n",
       "      <li>comorbidadediabetes</li>\n",
       "      </ol>    </li>\n",
       "    <li>comorbidadeobesidade\n",
       "      <ol>\n",
       "      <li>comorbidadeobesidade</li>\n",
       "      </ol>    </li>\n",
       "    <li>comorbidadepulmao\n",
       "      <ol>\n",
       "      <li>comorbidadepulmao</li>\n",
       "      </ol>    </li>\n",
       "    <li>comorbidaderenal\n",
       "      <ol>\n",
       "      <li>comorbidaderenal</li>\n",
       "      </ol>    </li>\n",
       "    <li>comorbidadetabagismo\n",
       "      <ol>\n",
       "      <li>comorbidadetabagismo</li>\n",
       "      </ol>    </li>\n",
       "    <li>coriza\n",
       "      <ol>\n",
       "      <li>coriza</li>\n",
       "      </ol>    </li>\n",
       "    <li>diarreia\n",
       "      <ol>\n",
       "      <li>diarreia</li>\n",
       "      </ol>    </li>\n",
       "    <li>dificuldaderespiratoria\n",
       "      <ol>\n",
       "      <li>dificuldaderespiratoria</li>\n",
       "      </ol>    </li>\n",
       "    <li>dorgarganta\n",
       "      <ol>\n",
       "      <li>dorgarganta</li>\n",
       "      </ol>    </li>\n",
       "    <li>febre\n",
       "      <ol>\n",
       "      <li>febre</li>\n",
       "      </ol>    </li>\n",
       "    <li>tosse\n",
       "      <ol>\n",
       "      <li>tosse</li>\n",
       "      </ol>    </li>\n",
       "    </ul>\n",
       "  </li>\n",
       "  <li>Fato_covid19\n",
       "    <ul>\n",
       "    <li>dcod_individuo\n",
       "      <ol>\n",
       "      <li>dcod_individuo</li>\n",
       "      </ol>    </li>\n",
       "    <li>dcod_local\n",
       "      <ol>\n",
       "      <li>dcod_local</li>\n",
       "      </ol>    </li>\n",
       "    <li>dcod_sint_cmorb\n",
       "      <ol>\n",
       "      <li>dcod_sint_cmorb</li>\n",
       "      </ol>    </li>\n",
       "    <li>dim_id_data_not\n",
       "      <ol>\n",
       "      <li>dim_id_data_not</li>\n",
       "      </ol>    </li>\n",
       "    <li>id\n",
       "      <ol>\n",
       "      <li>id</li>\n",
       "      </ol>    </li>\n",
       "    </ul>\n",
       "  </li>\n",
       "  <li>Location\n",
       "    <ul>\n",
       "    <li>local\n",
       "      <ol>\n",
       "      <li>municipio</li>\n",
       "      <li>bairro</li>\n",
       "      </ol>    </li>\n",
       "    </ul>\n",
       "  </li>\n",
       "  </ul>\n",
       "</li>\n",
       "</ul>\n"
      ],
      "text/plain": [
       "Hierarchies()"
      ]
     },
     "execution_count": 40,
     "metadata": {
      "application/json": {
       "expanded": true,
       "root": "Dimensions"
      }
     },
     "output_type": "execute_result"
    }
   ],
   "source": [
    "h[\"local\"].dimension = \"Location\"\n",
    "h"
   ]
  },
  {
   "cell_type": "markdown",
   "metadata": {},
   "source": [
    "Observe que agora temos a vantagem de um estrutura multinível para a localização."
   ]
  },
  {
   "cell_type": "markdown",
   "metadata": {},
   "source": [
    "# References: \n",
    "https://www.atoti.io/"
   ]
  }
 ],
 "metadata": {
  "kernelspec": {
   "display_name": "Python 3",
   "language": "python",
   "name": "python3"
  },
  "language_info": {
   "codemirror_mode": {
    "name": "ipython",
    "version": 3
   },
   "file_extension": ".py",
   "mimetype": "text/x-python",
   "name": "python",
   "nbconvert_exporter": "python",
   "pygments_lexer": "ipython3",
   "version": "3.8.7"
  }
 },
 "nbformat": 4,
 "nbformat_minor": 4
}
