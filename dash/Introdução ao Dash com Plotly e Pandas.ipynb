{
 "cells": [
  {
   "cell_type": "markdown",
   "metadata": {},
   "source": [
    "# OBS\n",
    "### Neste notebook cada célula é um código é completo que executa iniciando o servidor local em Flask. <br>(Não tente rodar/executar o notebook completo, e sim, uma célula por vez para entender o funcionamento)"
   ]
  },
  {
   "cell_type": "markdown",
   "metadata": {},
   "source": [
    "# Basic integration between Dash and Plotly"
   ]
  },
  {
   "cell_type": "code",
   "execution_count": null,
   "metadata": {},
   "outputs": [],
   "source": [
    "import plotly.graph_objects as go # or plotly.express as px\n",
    "\n",
    "\n",
    "\n",
    "fig = go.Figure() # or any Plotly Express function e.g. px.bar(...)\n",
    "# fig.add_trace( ... )\n",
    "# fig.update_layout( ... )\n",
    "\n",
    "\n",
    "\n",
    "import dash\n",
    "import dash_core_components as dcc\n",
    "import dash_html_components as html\n",
    "\n",
    "app = dash.Dash()\n",
    "app.layout = html.Div([\n",
    "    dcc.Graph(figure=fig)\n",
    "])\n",
    "\n",
    "app.run_server(debug=False, use_reloader=False)"
   ]
  },
  {
   "cell_type": "markdown",
   "metadata": {},
   "source": [
    "# Add dataframe in grafic sequence"
   ]
  },
  {
   "cell_type": "code",
   "execution_count": null,
   "metadata": {},
   "outputs": [],
   "source": [
    "import plotly.graph_objects as go # or plotly.express as px\n",
    "\n",
    "\n",
    "\n",
    "#fig = go.Figure() # or any Plotly Express function e.g. px.bar(...)\n",
    "# fig.add_trace( ... )\n",
    "# fig.update_layout( ... )\n",
    "\n",
    "import plotly.express as px\n",
    "\n",
    "df = px.data.gapminder().query(\"country=='Canada'\")\n",
    "fig = px.line(df, x=\"year\", y=\"lifeExp\", title='Life expectancy in Canada')\n",
    "\n",
    "\n",
    "import dash\n",
    "import dash_core_components as dcc\n",
    "import dash_html_components as html\n",
    "\n",
    "app = dash.Dash()\n",
    "app.layout = html.Div([\n",
    "    dcc.Graph(figure=fig)\n",
    "])\n",
    "\n",
    "app.run_server(debug=False, use_reloader=False)"
   ]
  },
  {
   "cell_type": "markdown",
   "metadata": {},
   "source": [
    "# Add dataframe and multiple lines of result"
   ]
  },
  {
   "cell_type": "code",
   "execution_count": null,
   "metadata": {},
   "outputs": [],
   "source": [
    "#import plotly.graph_objects as go # or plotly.express as px\n",
    "import plotly.express as px\n",
    "\n",
    "import pandas as pd\n",
    "data =pd.read_csv('https://raw.githubusercontent.com/datasets/covid-19/master/data/time-series-19-covid-combined.csv',sep=',')\n",
    "data.columns=['data','pais','estado','lat','long','conf','recov','death']\n",
    "data_country = data.loc[data['pais'].isin(['US','Brazil','Italy','Germany'])]\n",
    "\n",
    "df = data_country\n",
    "fig = px.line(df, x=\"data\", y=\"conf\", color='pais')\n",
    "\n",
    "\n",
    "\n",
    "\n",
    "import dash\n",
    "import dash_core_components as dcc\n",
    "import dash_html_components as html\n",
    "\n",
    "app = dash.Dash()\n",
    "app.layout = html.Div([\n",
    "    dcc.Graph(figure=fig)\n",
    "])\n",
    "\n",
    "app.run_server(debug=False, use_reloader=False)"
   ]
  },
  {
   "cell_type": "markdown",
   "metadata": {},
   "source": [
    "# Add Callback and filter result of lines"
   ]
  },
  {
   "cell_type": "markdown",
   "metadata": {},
   "source": [
    "#### Reference: <br>\n",
    "1) https://dash.plotly.com/sharing-data-between-callbacks<br>\n",
    "2) https://dash.plotly.com/basic-callbacks<br>"
   ]
  },
  {
   "cell_type": "code",
   "execution_count": null,
   "metadata": {},
   "outputs": [],
   "source": [
    "#import plotly.graph_objects as go # or plotly.express as px\n",
    "import plotly.express as px\n",
    "\n",
    "\n",
    "import pandas as pd\n",
    "data =pd.read_csv('https://raw.githubusercontent.com/datasets/covid-19/master/data/time-series-19-covid-combined.csv',sep=',')\n",
    "data.columns=['data','pais','estado','lat','long','conf','recov','death']\n",
    "data_country = data.loc[data['pais'].isin(['US','Brazil','Italy','Germany','Russia','Spain'])]\n",
    "\n",
    "df = data_country\n",
    "fig = px.line(df, x=\"data\", y=\"conf\",color='pais')\n",
    "\n",
    "\n",
    "import dash\n",
    "import dash_core_components as dcc\n",
    "import dash_html_components as html\n",
    "from dash.dependencies import Input, Output\n",
    "\n",
    "\n",
    "app = dash.Dash()\n",
    "app.layout = html.Div([\n",
    "    dcc.Dropdown(\n",
    "        id='my-dropdown',\n",
    "        options=[\n",
    "        {'label': i, 'value': i} for i in df.pais.unique()\n",
    "        ],\n",
    "        value='Brazil'\n",
    "    ),\n",
    "    \n",
    "    dcc.Graph(id='my-graph',figure=fig)\n",
    "],style={'width': '500'})\n",
    "\n",
    "@app.callback(Output('my-graph', 'figure'), [Input('my-dropdown', 'value')])\n",
    "def update_output_1(value):\n",
    "    # Safely reassign the filter to a new variable\n",
    "    filtered_df = df[df['pais'] == value]\n",
    "    fig = px.line(filtered_df, x=\"data\", y=\"conf\",color='pais')\n",
    "    return fig\n",
    "\n",
    "\n",
    "app.run_server(debug=False, use_reloader=False)"
   ]
  },
  {
   "cell_type": "markdown",
   "metadata": {},
   "source": [
    "# Include multi values in dropdown component"
   ]
  },
  {
   "cell_type": "markdown",
   "metadata": {},
   "source": [
    "Importante References:\n",
    "    https://community.plotly.com/t/callbacks-with-a-drop-down-with-multi-select/11235/5"
   ]
  },
  {
   "cell_type": "code",
   "execution_count": null,
   "metadata": {},
   "outputs": [],
   "source": [
    "#import plotly.graph_objects as go # or plotly.express as px\n",
    "import plotly.express as px\n",
    "\n",
    "\n",
    "import pandas as pd\n",
    "data =pd.read_csv('https://raw.githubusercontent.com/datasets/covid-19/master/data/time-series-19-covid-combined.csv',sep=',')\n",
    "data.columns=['data','pais','estado','lat','long','conf','recov','death']\n",
    "data_country = data.loc[data['pais'].isin(['US','Brazil','Italy','Germany','Russia','Spain'])]\n",
    "\n",
    "df = data_country\n",
    "fig = px.line(df, x=\"data\", y=\"conf\",color='pais')\n",
    "\n",
    "\n",
    "import dash\n",
    "import dash_core_components as dcc\n",
    "import dash_html_components as html\n",
    "from dash.dependencies import Input, Output\n",
    "\n",
    "\n",
    "app = dash.Dash()\n",
    "app.layout = html.Div([\n",
    "    dcc.Dropdown(\n",
    "        id='my-dropdown',\n",
    "        options=[\n",
    "        {'label': i, 'value': i} for i in df.pais.unique()\n",
    "        ],\n",
    "        multi=True,\n",
    "        placeholder ='Filtrar por país',\n",
    "        value='Brazil'\n",
    "    ),\n",
    "    \n",
    "    dcc.Graph(id='my-graph',figure=fig)\n",
    "],style={'width': '500'})\n",
    "\n",
    "@app.callback(Output('my-graph', 'figure'), [Input('my-dropdown', 'value')])\n",
    "def update_output_1(value):\n",
    "    # Safely reassign the filter to a new variable\n",
    "    filtered_df = df.loc[df['pais'].isin(value)]\n",
    "    fig = px.line(filtered_df, x=\"data\", y=\"conf\",color='pais')\n",
    "    return fig\n",
    "\n",
    "\n",
    "app.run_server(debug=False, use_reloader=False)"
   ]
  },
  {
   "cell_type": "markdown",
   "metadata": {},
   "source": [
    "# Incluindo MarkDown text in page"
   ]
  },
  {
   "cell_type": "code",
   "execution_count": null,
   "metadata": {},
   "outputs": [],
   "source": [
    "#import plotly.graph_objects as go # or plotly.express as px\n",
    "import plotly.express as px\n",
    "\n",
    "\n",
    "import pandas as pd\n",
    "data =pd.read_csv('https://raw.githubusercontent.com/datasets/covid-19/master/data/time-series-19-covid-combined.csv',sep=',')\n",
    "data.columns=['data','pais','estado','lat','long','conf','recov','death']\n",
    "data_country = data.loc[data['pais'].isin(['US','Brazil','Italy','Germany','Russia','Spain'])]\n",
    "\n",
    "df = data_country\n",
    "fig = px.line(df, x=\"data\", y=\"conf\",color='pais')\n",
    "\n",
    "\n",
    "import dash\n",
    "import dash_core_components as dcc\n",
    "import dash_html_components as html\n",
    "from dash.dependencies import Input, Output\n",
    "\n",
    "\n",
    "app = dash.Dash()\n",
    "app.layout = html.Div([\n",
    "    \n",
    "    dcc.Markdown('''\n",
    "    # Painel Dash usando Plotly e Pandas sobre Covid 19\n",
    "    '''),\n",
    "  \n",
    "    dcc.Dropdown(\n",
    "        id='my-dropdown',\n",
    "        options=[\n",
    "        {'label': i, 'value': i} for i in df.pais.unique()\n",
    "        ],\n",
    "        multi=True,\n",
    "        value='Brazil',\n",
    "        placeholder ='Filtrar por país'\n",
    "    ),\n",
    "    \n",
    "    dcc.Graph(id='my-graph',figure=fig),\n",
    "    \n",
    "    # Markdown\n",
    "    dcc.Markdown('''\n",
    "    #### Dash and Markdown - Inclua texto dinâmico junto com seu gráfico ;-)\n",
    "\n",
    "    Dash supports [Markdown](http://commonmark.org/help).\n",
    "\n",
    "    Markdown is a simple way to write and format text.\n",
    "    It includes a syntax for things like **bold text** and *italics*,\n",
    "    [links](http://commonmark.org/help), inline `code` snippets, lists,\n",
    "    quotes, and more.\n",
    "    ''')\n",
    "],style={'width': '500'})\n",
    "\n",
    "@app.callback(Output('my-graph', 'figure'), [Input('my-dropdown', 'value')])\n",
    "def update_output_1(value):\n",
    "    # Safely reassign the filter to a new variable\n",
    "    filtered_df = df.loc[df['pais'].isin(value)]\n",
    "    fig = px.line(filtered_df, x=\"data\", y=\"conf\",color='pais')\n",
    "    return fig\n",
    "\n",
    "\n",
    "app.run_server(debug=False, use_reloader=False)"
   ]
  },
  {
   "cell_type": "markdown",
   "metadata": {},
   "source": [
    "# Select top countries with base in quantity confirmed cases"
   ]
  },
  {
   "cell_type": "code",
   "execution_count": null,
   "metadata": {},
   "outputs": [],
   "source": [
    "import pandas as pd\n",
    "import numpy as np\n",
    "\n",
    "#loading data\n",
    "data =pd.read_csv('https://raw.githubusercontent.com/datasets/covid-19/master/data/time-series-19-covid-combined.csv',sep=',')\n",
    "#redefine columns\n",
    "data.columns=['data','pais','estado','lat','long','conf','recov','death']\n",
    "#define and get top countries\n",
    "top_list_countries = data.groupby(by='pais').max().sort_values('conf', ascending=False).head(6).index\n",
    "#filter by top countries\n",
    "data_country = data.loc[data['pais'].isin(top_list_countries)]\n",
    "#get data where state is null and put result in df_res\n",
    "df_res = data_country.loc[data_country['estado'].isin([np.nan,''])]\n",
    "\n",
    "\n",
    "#import plotly.graph_objects as go # or plotly.express as px\n",
    "import plotly.express as px\n",
    "#Define Graph\n",
    "fig = px.line(df_res, x=\"data\", y=\"conf\",color='pais')\n",
    "\n",
    "#import Dashs librarys and components\n",
    "import dash\n",
    "import dash_core_components as dcc\n",
    "import dash_html_components as html\n",
    "from dash.dependencies import Input, Output\n",
    "\n",
    "#instance app Dash\n",
    "app = dash.Dash()\n",
    "\n",
    "#define layout of result page\n",
    "app.layout = html.Div([\n",
    "    dcc.Dropdown(\n",
    "        id='my-dropdown',\n",
    "        options=[\n",
    "        {'label': i, 'value': i} for i in df_res.pais.unique()\n",
    "        ],\n",
    "        multi=True,\n",
    "        placeholder ='Filtrar por país',\n",
    "        value='Brazil'\n",
    "    ),\n",
    "    \n",
    "    dcc.Graph(id='my-graph',figure=fig)\n",
    "],style={'width': '500'})\n",
    "\n",
    "#callback filter\n",
    "@app.callback(Output('my-graph', 'figure'), [Input('my-dropdown', 'value')])\n",
    "def update_output_1(value):\n",
    "    # Safely reassign the filter to a new variable\n",
    "    filtered_df = df_res.loc[df_res['pais'].isin(value)]\n",
    "    fig = px.line(filtered_df, x=\"data\", y=\"conf\",color='pais')\n",
    "    return fig\n",
    "\n",
    "#execute app\n",
    "app.run_server(debug=False, use_reloader=False)"
   ]
  },
  {
   "cell_type": "markdown",
   "metadata": {},
   "source": [
    "# Dica:\n",
    "### Introdução Interessante sobre porque usar o Dash (seus recursos e visão dos criadores): <br>https://www.youtube.com/watch?time_continue=3&v=5BAthiN0htc&feature=emb_logo"
   ]
  }
 ],
 "metadata": {
  "kernelspec": {
   "display_name": "Python 3",
   "language": "python",
   "name": "python3"
  },
  "language_info": {
   "codemirror_mode": {
    "name": "ipython",
    "version": 3
   },
   "file_extension": ".py",
   "mimetype": "text/x-python",
   "name": "python",
   "nbconvert_exporter": "python",
   "pygments_lexer": "ipython3",
   "version": "3.6.7"
  }
 },
 "nbformat": 4,
 "nbformat_minor": 2
}
