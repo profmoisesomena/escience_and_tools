{
 "cells": [
  {
   "cell_type": "markdown",
   "metadata": {},
   "source": [
    "# Instalando e Importando bibliotecas"
   ]
  },
  {
   "cell_type": "markdown",
   "metadata": {},
   "source": [
    "###  Instalação de bibliotecas (caso necessário)"
   ]
  },
  {
   "cell_type": "code",
   "execution_count": 1,
   "metadata": {
    "colab": {
     "base_uri": "https://localhost:8080/"
    },
    "id": "wV35X6Gv6hK9",
    "outputId": "9a6657e6-369f-44bf-ee90-b1decce68933"
   },
   "outputs": [],
   "source": [
    "#!pip install geopandas\n",
    "#!pip install unidecode"
   ]
  },
  {
   "cell_type": "code",
   "execution_count": 2,
   "metadata": {
    "id": "g-9cEKwR6hHX"
   },
   "outputs": [],
   "source": [
    "import numpy as np\n",
    "import pandas as pd\n",
    "import geopandas\n",
    "%matplotlib inline\n",
    "%config Completer.use_jedi = False"
   ]
  },
  {
   "cell_type": "markdown",
   "metadata": {},
   "source": [
    "# PARTE 1 - DADOS COVID19 POR BAIRRO"
   ]
  },
  {
   "cell_type": "markdown",
   "metadata": {},
   "source": [
    "# Carregando dados covid"
   ]
  },
  {
   "cell_type": "code",
   "execution_count": 3,
   "metadata": {},
   "outputs": [
    {
     "data": {
      "text/html": [
       "<div>\n",
       "<style scoped>\n",
       "    .dataframe tbody tr th:only-of-type {\n",
       "        vertical-align: middle;\n",
       "    }\n",
       "\n",
       "    .dataframe tbody tr th {\n",
       "        vertical-align: top;\n",
       "    }\n",
       "\n",
       "    .dataframe thead th {\n",
       "        text-align: right;\n",
       "    }\n",
       "</style>\n",
       "<table border=\"1\" class=\"dataframe\">\n",
       "  <thead>\n",
       "    <tr style=\"text-align: right;\">\n",
       "      <th></th>\n",
       "      <th>DataNotificacao</th>\n",
       "      <th>DataCadastro</th>\n",
       "      <th>DataDiagnostico</th>\n",
       "      <th>DataColeta_RT_PCR</th>\n",
       "      <th>DataColetaTesteRapido</th>\n",
       "      <th>DataColetaSorologia</th>\n",
       "      <th>DataColetaSorologiaIGG</th>\n",
       "      <th>DataEncerramento</th>\n",
       "      <th>DataObito</th>\n",
       "      <th>Classificacao</th>\n",
       "      <th>...</th>\n",
       "      <th>ViagemBrasil</th>\n",
       "      <th>ViagemInternacional</th>\n",
       "      <th>ProfissionalSaude</th>\n",
       "      <th>PossuiDeficiencia</th>\n",
       "      <th>MoradorDeRua</th>\n",
       "      <th>ResultadoRT_PCR</th>\n",
       "      <th>ResultadoTesteRapido</th>\n",
       "      <th>ResultadoSorologia</th>\n",
       "      <th>ResultadoSorologia_IGG</th>\n",
       "      <th>TipoTesteRapido</th>\n",
       "    </tr>\n",
       "  </thead>\n",
       "  <tbody>\n",
       "    <tr>\n",
       "      <th>0</th>\n",
       "      <td>2021-05-23</td>\n",
       "      <td>2021-05-22</td>\n",
       "      <td>2021-05-19</td>\n",
       "      <td>2021-05-23</td>\n",
       "      <td>NaN</td>\n",
       "      <td>NaN</td>\n",
       "      <td>NaN</td>\n",
       "      <td>2021-05-23</td>\n",
       "      <td>NaN</td>\n",
       "      <td>Suspeito</td>\n",
       "      <td>...</td>\n",
       "      <td>Não Informado</td>\n",
       "      <td>Não Informado</td>\n",
       "      <td>Não</td>\n",
       "      <td>Não</td>\n",
       "      <td>Não</td>\n",
       "      <td>Inconclusivo</td>\n",
       "      <td>Não Informado</td>\n",
       "      <td>Não Informado</td>\n",
       "      <td>Não Informado</td>\n",
       "      <td>Não Informado</td>\n",
       "    </tr>\n",
       "    <tr>\n",
       "      <th>1</th>\n",
       "      <td>2021-05-23</td>\n",
       "      <td>2021-03-30</td>\n",
       "      <td>2021-05-20</td>\n",
       "      <td>NaN</td>\n",
       "      <td>2021-05-23</td>\n",
       "      <td>NaN</td>\n",
       "      <td>NaN</td>\n",
       "      <td>2021-04-05</td>\n",
       "      <td>NaN</td>\n",
       "      <td>Suspeito</td>\n",
       "      <td>...</td>\n",
       "      <td>Não</td>\n",
       "      <td>Não</td>\n",
       "      <td>Não</td>\n",
       "      <td>Não</td>\n",
       "      <td>Não</td>\n",
       "      <td>Não Informado</td>\n",
       "      <td>Negativo</td>\n",
       "      <td>Não Informado</td>\n",
       "      <td>Não Informado</td>\n",
       "      <td>Teste rápido Antígeno</td>\n",
       "    </tr>\n",
       "    <tr>\n",
       "      <th>2</th>\n",
       "      <td>2021-05-23</td>\n",
       "      <td>2021-05-22</td>\n",
       "      <td>2021-05-19</td>\n",
       "      <td>2021-05-23</td>\n",
       "      <td>NaN</td>\n",
       "      <td>NaN</td>\n",
       "      <td>NaN</td>\n",
       "      <td>2021-05-23</td>\n",
       "      <td>NaN</td>\n",
       "      <td>Suspeito</td>\n",
       "      <td>...</td>\n",
       "      <td>Não Informado</td>\n",
       "      <td>Não Informado</td>\n",
       "      <td>Não</td>\n",
       "      <td>Não</td>\n",
       "      <td>Não</td>\n",
       "      <td>Inconclusivo</td>\n",
       "      <td>Não Informado</td>\n",
       "      <td>Não Informado</td>\n",
       "      <td>Não Informado</td>\n",
       "      <td>Não Informado</td>\n",
       "    </tr>\n",
       "    <tr>\n",
       "      <th>3</th>\n",
       "      <td>2021-05-23</td>\n",
       "      <td>2021-01-07</td>\n",
       "      <td>2021-05-21</td>\n",
       "      <td>NaN</td>\n",
       "      <td>2021-05-23</td>\n",
       "      <td>NaN</td>\n",
       "      <td>NaN</td>\n",
       "      <td>2021-02-24</td>\n",
       "      <td>NaN</td>\n",
       "      <td>Suspeito</td>\n",
       "      <td>...</td>\n",
       "      <td>Não</td>\n",
       "      <td>Não</td>\n",
       "      <td>Sim</td>\n",
       "      <td>Não</td>\n",
       "      <td>Não</td>\n",
       "      <td>Não Informado</td>\n",
       "      <td>Negativo</td>\n",
       "      <td>Não Informado</td>\n",
       "      <td>Não Informado</td>\n",
       "      <td>Teste rápido Antígeno</td>\n",
       "    </tr>\n",
       "    <tr>\n",
       "      <th>4</th>\n",
       "      <td>2021-05-23</td>\n",
       "      <td>2021-05-23</td>\n",
       "      <td>2021-05-20</td>\n",
       "      <td>2021-05-23</td>\n",
       "      <td>2021-05-23</td>\n",
       "      <td>NaN</td>\n",
       "      <td>NaN</td>\n",
       "      <td>NaN</td>\n",
       "      <td>NaN</td>\n",
       "      <td>Suspeito</td>\n",
       "      <td>...</td>\n",
       "      <td>Não Informado</td>\n",
       "      <td>Não Informado</td>\n",
       "      <td>Não</td>\n",
       "      <td>Não</td>\n",
       "      <td>Não</td>\n",
       "      <td>Não Informado</td>\n",
       "      <td>Não Informado</td>\n",
       "      <td>Não Informado</td>\n",
       "      <td>Não Informado</td>\n",
       "      <td>Teste rápido Antígeno</td>\n",
       "    </tr>\n",
       "    <tr>\n",
       "      <th>5</th>\n",
       "      <td>2021-05-23</td>\n",
       "      <td>2021-04-28</td>\n",
       "      <td>2021-05-21</td>\n",
       "      <td>2021-04-29</td>\n",
       "      <td>2021-05-23</td>\n",
       "      <td>NaN</td>\n",
       "      <td>NaN</td>\n",
       "      <td>2021-05-03</td>\n",
       "      <td>NaN</td>\n",
       "      <td>Descartados</td>\n",
       "      <td>...</td>\n",
       "      <td>Não</td>\n",
       "      <td>Ignorado</td>\n",
       "      <td>Não</td>\n",
       "      <td>Não</td>\n",
       "      <td>Não</td>\n",
       "      <td>Negativo</td>\n",
       "      <td>Negativo</td>\n",
       "      <td>Não Informado</td>\n",
       "      <td>Não Informado</td>\n",
       "      <td>Teste rápido Antígeno</td>\n",
       "    </tr>\n",
       "    <tr>\n",
       "      <th>6</th>\n",
       "      <td>2021-05-23</td>\n",
       "      <td>2021-05-23</td>\n",
       "      <td>2021-05-16</td>\n",
       "      <td>2021-05-23</td>\n",
       "      <td>NaN</td>\n",
       "      <td>NaN</td>\n",
       "      <td>NaN</td>\n",
       "      <td>NaN</td>\n",
       "      <td>NaN</td>\n",
       "      <td>Suspeito</td>\n",
       "      <td>...</td>\n",
       "      <td>Não Informado</td>\n",
       "      <td>Não Informado</td>\n",
       "      <td>Não</td>\n",
       "      <td>Não</td>\n",
       "      <td>Não</td>\n",
       "      <td>Não Informado</td>\n",
       "      <td>Não Informado</td>\n",
       "      <td>Não Informado</td>\n",
       "      <td>Não Informado</td>\n",
       "      <td>Não Informado</td>\n",
       "    </tr>\n",
       "    <tr>\n",
       "      <th>7</th>\n",
       "      <td>2021-05-23</td>\n",
       "      <td>2021-05-22</td>\n",
       "      <td>2021-05-18</td>\n",
       "      <td>2021-05-23</td>\n",
       "      <td>NaN</td>\n",
       "      <td>NaN</td>\n",
       "      <td>NaN</td>\n",
       "      <td>2021-05-23</td>\n",
       "      <td>NaN</td>\n",
       "      <td>Suspeito</td>\n",
       "      <td>...</td>\n",
       "      <td>Não Informado</td>\n",
       "      <td>Não Informado</td>\n",
       "      <td>Não</td>\n",
       "      <td>Não</td>\n",
       "      <td>Sim</td>\n",
       "      <td>Inconclusivo</td>\n",
       "      <td>Não Informado</td>\n",
       "      <td>Não Informado</td>\n",
       "      <td>Não Informado</td>\n",
       "      <td>Não Informado</td>\n",
       "    </tr>\n",
       "    <tr>\n",
       "      <th>8</th>\n",
       "      <td>2021-05-23</td>\n",
       "      <td>2021-05-23</td>\n",
       "      <td>2021-05-20</td>\n",
       "      <td>2021-05-23</td>\n",
       "      <td>NaN</td>\n",
       "      <td>NaN</td>\n",
       "      <td>NaN</td>\n",
       "      <td>NaN</td>\n",
       "      <td>NaN</td>\n",
       "      <td>Suspeito</td>\n",
       "      <td>...</td>\n",
       "      <td>Não</td>\n",
       "      <td>Não</td>\n",
       "      <td>Não</td>\n",
       "      <td>Não</td>\n",
       "      <td>Não</td>\n",
       "      <td>Inconclusivo</td>\n",
       "      <td>Não Informado</td>\n",
       "      <td>Não Informado</td>\n",
       "      <td>Não Informado</td>\n",
       "      <td>Não Informado</td>\n",
       "    </tr>\n",
       "    <tr>\n",
       "      <th>9</th>\n",
       "      <td>2021-05-23</td>\n",
       "      <td>2021-05-23</td>\n",
       "      <td>2021-05-20</td>\n",
       "      <td>NaN</td>\n",
       "      <td>2021-05-23</td>\n",
       "      <td>NaN</td>\n",
       "      <td>NaN</td>\n",
       "      <td>NaN</td>\n",
       "      <td>NaN</td>\n",
       "      <td>Suspeito</td>\n",
       "      <td>...</td>\n",
       "      <td>Não</td>\n",
       "      <td>Não</td>\n",
       "      <td>Não</td>\n",
       "      <td>Não</td>\n",
       "      <td>Não</td>\n",
       "      <td>Não Informado</td>\n",
       "      <td>Negativo</td>\n",
       "      <td>Não Informado</td>\n",
       "      <td>Não Informado</td>\n",
       "      <td>Teste rápido Antígeno</td>\n",
       "    </tr>\n",
       "  </tbody>\n",
       "</table>\n",
       "<p>10 rows × 45 columns</p>\n",
       "</div>"
      ],
      "text/plain": [
       "  DataNotificacao DataCadastro DataDiagnostico DataColeta_RT_PCR  \\\n",
       "0      2021-05-23   2021-05-22      2021-05-19        2021-05-23   \n",
       "1      2021-05-23   2021-03-30      2021-05-20               NaN   \n",
       "2      2021-05-23   2021-05-22      2021-05-19        2021-05-23   \n",
       "3      2021-05-23   2021-01-07      2021-05-21               NaN   \n",
       "4      2021-05-23   2021-05-23      2021-05-20        2021-05-23   \n",
       "5      2021-05-23   2021-04-28      2021-05-21        2021-04-29   \n",
       "6      2021-05-23   2021-05-23      2021-05-16        2021-05-23   \n",
       "7      2021-05-23   2021-05-22      2021-05-18        2021-05-23   \n",
       "8      2021-05-23   2021-05-23      2021-05-20        2021-05-23   \n",
       "9      2021-05-23   2021-05-23      2021-05-20               NaN   \n",
       "\n",
       "  DataColetaTesteRapido DataColetaSorologia DataColetaSorologiaIGG  \\\n",
       "0                   NaN                 NaN                    NaN   \n",
       "1            2021-05-23                 NaN                    NaN   \n",
       "2                   NaN                 NaN                    NaN   \n",
       "3            2021-05-23                 NaN                    NaN   \n",
       "4            2021-05-23                 NaN                    NaN   \n",
       "5            2021-05-23                 NaN                    NaN   \n",
       "6                   NaN                 NaN                    NaN   \n",
       "7                   NaN                 NaN                    NaN   \n",
       "8                   NaN                 NaN                    NaN   \n",
       "9            2021-05-23                 NaN                    NaN   \n",
       "\n",
       "  DataEncerramento DataObito Classificacao  ...   ViagemBrasil  \\\n",
       "0       2021-05-23       NaN      Suspeito  ...  Não Informado   \n",
       "1       2021-04-05       NaN      Suspeito  ...            Não   \n",
       "2       2021-05-23       NaN      Suspeito  ...  Não Informado   \n",
       "3       2021-02-24       NaN      Suspeito  ...            Não   \n",
       "4              NaN       NaN      Suspeito  ...  Não Informado   \n",
       "5       2021-05-03       NaN   Descartados  ...            Não   \n",
       "6              NaN       NaN      Suspeito  ...  Não Informado   \n",
       "7       2021-05-23       NaN      Suspeito  ...  Não Informado   \n",
       "8              NaN       NaN      Suspeito  ...            Não   \n",
       "9              NaN       NaN      Suspeito  ...            Não   \n",
       "\n",
       "  ViagemInternacional ProfissionalSaude PossuiDeficiencia MoradorDeRua  \\\n",
       "0       Não Informado               Não               Não          Não   \n",
       "1                 Não               Não               Não          Não   \n",
       "2       Não Informado               Não               Não          Não   \n",
       "3                 Não               Sim               Não          Não   \n",
       "4       Não Informado               Não               Não          Não   \n",
       "5            Ignorado               Não               Não          Não   \n",
       "6       Não Informado               Não               Não          Não   \n",
       "7       Não Informado               Não               Não          Sim   \n",
       "8                 Não               Não               Não          Não   \n",
       "9                 Não               Não               Não          Não   \n",
       "\n",
       "  ResultadoRT_PCR ResultadoTesteRapido ResultadoSorologia  \\\n",
       "0    Inconclusivo        Não Informado      Não Informado   \n",
       "1   Não Informado             Negativo      Não Informado   \n",
       "2    Inconclusivo        Não Informado      Não Informado   \n",
       "3   Não Informado             Negativo      Não Informado   \n",
       "4   Não Informado        Não Informado      Não Informado   \n",
       "5        Negativo             Negativo      Não Informado   \n",
       "6   Não Informado        Não Informado      Não Informado   \n",
       "7    Inconclusivo        Não Informado      Não Informado   \n",
       "8    Inconclusivo        Não Informado      Não Informado   \n",
       "9   Não Informado             Negativo      Não Informado   \n",
       "\n",
       "  ResultadoSorologia_IGG        TipoTesteRapido  \n",
       "0          Não Informado          Não Informado  \n",
       "1          Não Informado  Teste rápido Antígeno  \n",
       "2          Não Informado          Não Informado  \n",
       "3          Não Informado  Teste rápido Antígeno  \n",
       "4          Não Informado  Teste rápido Antígeno  \n",
       "5          Não Informado  Teste rápido Antígeno  \n",
       "6          Não Informado          Não Informado  \n",
       "7          Não Informado          Não Informado  \n",
       "8          Não Informado          Não Informado  \n",
       "9          Não Informado  Teste rápido Antígeno  \n",
       "\n",
       "[10 rows x 45 columns]"
      ]
     },
     "execution_count": 3,
     "metadata": {},
     "output_type": "execute_result"
    }
   ],
   "source": [
    "# encoding = 'cp1252' é equivalente ao ANSI\n",
    "dados = pd.read_csv('https://bi.s3.es.gov.br/covid19/MICRODADOS.zip', sep = ';', encoding = 'cp1252')\n",
    "dados.head(10)"
   ]
  },
  {
   "cell_type": "markdown",
   "metadata": {},
   "source": [
    "# Obtendo informações sobre os dados"
   ]
  },
  {
   "cell_type": "code",
   "execution_count": 4,
   "metadata": {},
   "outputs": [
    {
     "name": "stdout",
     "output_type": "stream",
     "text": [
      "<class 'pandas.core.frame.DataFrame'>\n",
      "RangeIndex: 1435266 entries, 0 to 1435265\n",
      "Data columns (total 45 columns):\n",
      " #   Column                   Non-Null Count    Dtype \n",
      "---  ------                   --------------    ----- \n",
      " 0   DataNotificacao          1435266 non-null  object\n",
      " 1   DataCadastro             1435266 non-null  object\n",
      " 2   DataDiagnostico          1435266 non-null  object\n",
      " 3   DataColeta_RT_PCR        715928 non-null   object\n",
      " 4   DataColetaTesteRapido    475442 non-null   object\n",
      " 5   DataColetaSorologia      82154 non-null    object\n",
      " 6   DataColetaSorologiaIGG   127633 non-null   object\n",
      " 7   DataEncerramento         1227168 non-null  object\n",
      " 8   DataObito                13451 non-null    object\n",
      " 9   Classificacao            1435266 non-null  object\n",
      " 10  Evolucao                 1435266 non-null  object\n",
      " 11  CriterioConfirmacao      1435266 non-null  object\n",
      " 12  StatusNotificacao        1435266 non-null  object\n",
      " 13  Municipio                1435266 non-null  object\n",
      " 14  Bairro                   1421250 non-null  object\n",
      " 15  FaixaEtaria              1435266 non-null  object\n",
      " 16  IdadeNaDataNotificacao   1435266 non-null  object\n",
      " 17  Sexo                     1435266 non-null  object\n",
      " 18  RacaCor                  1435266 non-null  object\n",
      " 19  Escolaridade             1435266 non-null  object\n",
      " 20  Gestante                 1435266 non-null  object\n",
      " 21  Febre                    1435266 non-null  object\n",
      " 22  DificuldadeRespiratoria  1435266 non-null  object\n",
      " 23  Tosse                    1435266 non-null  object\n",
      " 24  Coriza                   1435266 non-null  object\n",
      " 25  DorGarganta              1435266 non-null  object\n",
      " 26  Diarreia                 1435266 non-null  object\n",
      " 27  Cefaleia                 1435266 non-null  object\n",
      " 28  ComorbidadePulmao        1435266 non-null  object\n",
      " 29  ComorbidadeCardio        1435266 non-null  object\n",
      " 30  ComorbidadeRenal         1435266 non-null  object\n",
      " 31  ComorbidadeDiabetes      1435266 non-null  object\n",
      " 32  ComorbidadeTabagismo     1435266 non-null  object\n",
      " 33  ComorbidadeObesidade     1435266 non-null  object\n",
      " 34  FicouInternado           1435266 non-null  object\n",
      " 35  ViagemBrasil             1435266 non-null  object\n",
      " 36  ViagemInternacional      1435266 non-null  object\n",
      " 37  ProfissionalSaude        1435266 non-null  object\n",
      " 38  PossuiDeficiencia        1435266 non-null  object\n",
      " 39  MoradorDeRua             1435266 non-null  object\n",
      " 40  ResultadoRT_PCR          1435266 non-null  object\n",
      " 41  ResultadoTesteRapido     1435266 non-null  object\n",
      " 42  ResultadoSorologia       1435266 non-null  object\n",
      " 43  ResultadoSorologia_IGG   1435266 non-null  object\n",
      " 44  TipoTesteRapido          1435266 non-null  object\n",
      "dtypes: object(45)\n",
      "memory usage: 492.8+ MB\n"
     ]
    }
   ],
   "source": [
    "dados.info()"
   ]
  },
  {
   "cell_type": "markdown",
   "metadata": {},
   "source": [
    "# Agrupando os dados por evolução"
   ]
  },
  {
   "cell_type": "markdown",
   "metadata": {},
   "source": [
    "Nosso interesse esta na classe de \"Óbito pelo COVID-19\""
   ]
  },
  {
   "cell_type": "code",
   "execution_count": 5,
   "metadata": {},
   "outputs": [
    {
     "data": {
      "text/html": [
       "<div>\n",
       "<style scoped>\n",
       "    .dataframe tbody tr th:only-of-type {\n",
       "        vertical-align: middle;\n",
       "    }\n",
       "\n",
       "    .dataframe tbody tr th {\n",
       "        vertical-align: top;\n",
       "    }\n",
       "\n",
       "    .dataframe thead th {\n",
       "        text-align: right;\n",
       "    }\n",
       "</style>\n",
       "<table border=\"1\" class=\"dataframe\">\n",
       "  <thead>\n",
       "    <tr style=\"text-align: right;\">\n",
       "      <th></th>\n",
       "      <th>DataNotificacao</th>\n",
       "      <th>DataCadastro</th>\n",
       "      <th>DataDiagnostico</th>\n",
       "      <th>DataColeta_RT_PCR</th>\n",
       "      <th>DataColetaTesteRapido</th>\n",
       "      <th>DataColetaSorologia</th>\n",
       "      <th>DataColetaSorologiaIGG</th>\n",
       "      <th>DataEncerramento</th>\n",
       "      <th>DataObito</th>\n",
       "      <th>Classificacao</th>\n",
       "      <th>...</th>\n",
       "      <th>ViagemBrasil</th>\n",
       "      <th>ViagemInternacional</th>\n",
       "      <th>ProfissionalSaude</th>\n",
       "      <th>PossuiDeficiencia</th>\n",
       "      <th>MoradorDeRua</th>\n",
       "      <th>ResultadoRT_PCR</th>\n",
       "      <th>ResultadoTesteRapido</th>\n",
       "      <th>ResultadoSorologia</th>\n",
       "      <th>ResultadoSorologia_IGG</th>\n",
       "      <th>TipoTesteRapido</th>\n",
       "    </tr>\n",
       "    <tr>\n",
       "      <th>Evolucao</th>\n",
       "      <th></th>\n",
       "      <th></th>\n",
       "      <th></th>\n",
       "      <th></th>\n",
       "      <th></th>\n",
       "      <th></th>\n",
       "      <th></th>\n",
       "      <th></th>\n",
       "      <th></th>\n",
       "      <th></th>\n",
       "      <th></th>\n",
       "      <th></th>\n",
       "      <th></th>\n",
       "      <th></th>\n",
       "      <th></th>\n",
       "      <th></th>\n",
       "      <th></th>\n",
       "      <th></th>\n",
       "      <th></th>\n",
       "      <th></th>\n",
       "      <th></th>\n",
       "    </tr>\n",
       "  </thead>\n",
       "  <tbody>\n",
       "    <tr>\n",
       "      <th>-</th>\n",
       "      <td>277457</td>\n",
       "      <td>277457</td>\n",
       "      <td>277457</td>\n",
       "      <td>121181</td>\n",
       "      <td>69358</td>\n",
       "      <td>7801</td>\n",
       "      <td>17613</td>\n",
       "      <td>91518</td>\n",
       "      <td>11</td>\n",
       "      <td>277457</td>\n",
       "      <td>...</td>\n",
       "      <td>277457</td>\n",
       "      <td>277457</td>\n",
       "      <td>277457</td>\n",
       "      <td>277457</td>\n",
       "      <td>277457</td>\n",
       "      <td>277457</td>\n",
       "      <td>277457</td>\n",
       "      <td>277457</td>\n",
       "      <td>277457</td>\n",
       "      <td>277457</td>\n",
       "    </tr>\n",
       "    <tr>\n",
       "      <th>Cura</th>\n",
       "      <td>444063</td>\n",
       "      <td>444063</td>\n",
       "      <td>444063</td>\n",
       "      <td>260721</td>\n",
       "      <td>160903</td>\n",
       "      <td>38064</td>\n",
       "      <td>45659</td>\n",
       "      <td>443008</td>\n",
       "      <td>16</td>\n",
       "      <td>444063</td>\n",
       "      <td>...</td>\n",
       "      <td>444063</td>\n",
       "      <td>444063</td>\n",
       "      <td>444063</td>\n",
       "      <td>444063</td>\n",
       "      <td>444063</td>\n",
       "      <td>444063</td>\n",
       "      <td>444063</td>\n",
       "      <td>444063</td>\n",
       "      <td>444063</td>\n",
       "      <td>444063</td>\n",
       "    </tr>\n",
       "    <tr>\n",
       "      <th>Ignorado</th>\n",
       "      <td>700106</td>\n",
       "      <td>700106</td>\n",
       "      <td>700106</td>\n",
       "      <td>323675</td>\n",
       "      <td>238685</td>\n",
       "      <td>35652</td>\n",
       "      <td>63752</td>\n",
       "      <td>679023</td>\n",
       "      <td>52</td>\n",
       "      <td>700106</td>\n",
       "      <td>...</td>\n",
       "      <td>700106</td>\n",
       "      <td>700106</td>\n",
       "      <td>700106</td>\n",
       "      <td>700106</td>\n",
       "      <td>700106</td>\n",
       "      <td>700106</td>\n",
       "      <td>700106</td>\n",
       "      <td>700106</td>\n",
       "      <td>700106</td>\n",
       "      <td>700106</td>\n",
       "    </tr>\n",
       "    <tr>\n",
       "      <th>Óbito pelo COVID-19</th>\n",
       "      <td>10512</td>\n",
       "      <td>10512</td>\n",
       "      <td>10512</td>\n",
       "      <td>7817</td>\n",
       "      <td>5252</td>\n",
       "      <td>526</td>\n",
       "      <td>500</td>\n",
       "      <td>10512</td>\n",
       "      <td>10512</td>\n",
       "      <td>10512</td>\n",
       "      <td>...</td>\n",
       "      <td>10512</td>\n",
       "      <td>10512</td>\n",
       "      <td>10512</td>\n",
       "      <td>10512</td>\n",
       "      <td>10512</td>\n",
       "      <td>10512</td>\n",
       "      <td>10512</td>\n",
       "      <td>10512</td>\n",
       "      <td>10512</td>\n",
       "      <td>10512</td>\n",
       "    </tr>\n",
       "    <tr>\n",
       "      <th>Óbito por outras causas</th>\n",
       "      <td>3128</td>\n",
       "      <td>3128</td>\n",
       "      <td>3128</td>\n",
       "      <td>2534</td>\n",
       "      <td>1244</td>\n",
       "      <td>111</td>\n",
       "      <td>109</td>\n",
       "      <td>3107</td>\n",
       "      <td>2860</td>\n",
       "      <td>3128</td>\n",
       "      <td>...</td>\n",
       "      <td>3128</td>\n",
       "      <td>3128</td>\n",
       "      <td>3128</td>\n",
       "      <td>3128</td>\n",
       "      <td>3128</td>\n",
       "      <td>3128</td>\n",
       "      <td>3128</td>\n",
       "      <td>3128</td>\n",
       "      <td>3128</td>\n",
       "      <td>3128</td>\n",
       "    </tr>\n",
       "  </tbody>\n",
       "</table>\n",
       "<p>5 rows × 44 columns</p>\n",
       "</div>"
      ],
      "text/plain": [
       "                         DataNotificacao  DataCadastro  DataDiagnostico  \\\n",
       "Evolucao                                                                  \n",
       "-                                 277457        277457           277457   \n",
       "Cura                              444063        444063           444063   \n",
       "Ignorado                          700106        700106           700106   \n",
       "Óbito pelo COVID-19                10512         10512            10512   \n",
       "Óbito por outras causas             3128          3128             3128   \n",
       "\n",
       "                         DataColeta_RT_PCR  DataColetaTesteRapido  \\\n",
       "Evolucao                                                            \n",
       "-                                   121181                  69358   \n",
       "Cura                                260721                 160903   \n",
       "Ignorado                            323675                 238685   \n",
       "Óbito pelo COVID-19                   7817                   5252   \n",
       "Óbito por outras causas               2534                   1244   \n",
       "\n",
       "                         DataColetaSorologia  DataColetaSorologiaIGG  \\\n",
       "Evolucao                                                               \n",
       "-                                       7801                   17613   \n",
       "Cura                                   38064                   45659   \n",
       "Ignorado                               35652                   63752   \n",
       "Óbito pelo COVID-19                      526                     500   \n",
       "Óbito por outras causas                  111                     109   \n",
       "\n",
       "                         DataEncerramento  DataObito  Classificacao  ...  \\\n",
       "Evolucao                                                             ...   \n",
       "-                                   91518         11         277457  ...   \n",
       "Cura                               443008         16         444063  ...   \n",
       "Ignorado                           679023         52         700106  ...   \n",
       "Óbito pelo COVID-19                 10512      10512          10512  ...   \n",
       "Óbito por outras causas              3107       2860           3128  ...   \n",
       "\n",
       "                         ViagemBrasil  ViagemInternacional  ProfissionalSaude  \\\n",
       "Evolucao                                                                        \n",
       "-                              277457               277457             277457   \n",
       "Cura                           444063               444063             444063   \n",
       "Ignorado                       700106               700106             700106   \n",
       "Óbito pelo COVID-19             10512                10512              10512   \n",
       "Óbito por outras causas          3128                 3128               3128   \n",
       "\n",
       "                         PossuiDeficiencia  MoradorDeRua  ResultadoRT_PCR  \\\n",
       "Evolucao                                                                    \n",
       "-                                   277457        277457           277457   \n",
       "Cura                                444063        444063           444063   \n",
       "Ignorado                            700106        700106           700106   \n",
       "Óbito pelo COVID-19                  10512         10512            10512   \n",
       "Óbito por outras causas               3128          3128             3128   \n",
       "\n",
       "                         ResultadoTesteRapido  ResultadoSorologia  \\\n",
       "Evolucao                                                            \n",
       "-                                      277457              277457   \n",
       "Cura                                   444063              444063   \n",
       "Ignorado                               700106              700106   \n",
       "Óbito pelo COVID-19                     10512               10512   \n",
       "Óbito por outras causas                  3128                3128   \n",
       "\n",
       "                         ResultadoSorologia_IGG  TipoTesteRapido  \n",
       "Evolucao                                                          \n",
       "-                                        277457           277457  \n",
       "Cura                                     444063           444063  \n",
       "Ignorado                                 700106           700106  \n",
       "Óbito pelo COVID-19                       10512            10512  \n",
       "Óbito por outras causas                    3128             3128  \n",
       "\n",
       "[5 rows x 44 columns]"
      ]
     },
     "execution_count": 5,
     "metadata": {},
     "output_type": "execute_result"
    }
   ],
   "source": [
    "dados.groupby(by='Evolucao').count()"
   ]
  },
  {
   "cell_type": "markdown",
   "metadata": {},
   "source": [
    "### Tratamento de nulos onde trataremos bairros, municipios e outros valores 'Nan'"
   ]
  },
  {
   "cell_type": "code",
   "execution_count": 6,
   "metadata": {},
   "outputs": [
    {
     "name": "stderr",
     "output_type": "stream",
     "text": [
      "/home/msonl2/.local/lib/python3.6/site-packages/pandas/core/series.py:4536: SettingWithCopyWarning: \n",
      "A value is trying to be set on a copy of a slice from a DataFrame\n",
      "\n",
      "See the caveats in the documentation: https://pandas.pydata.org/pandas-docs/stable/user_guide/indexing.html#returning-a-view-versus-a-copy\n",
      "  downcast=downcast,\n"
     ]
    },
    {
     "data": {
      "text/html": [
       "<div>\n",
       "<style scoped>\n",
       "    .dataframe tbody tr th:only-of-type {\n",
       "        vertical-align: middle;\n",
       "    }\n",
       "\n",
       "    .dataframe tbody tr th {\n",
       "        vertical-align: top;\n",
       "    }\n",
       "\n",
       "    .dataframe thead th {\n",
       "        text-align: right;\n",
       "    }\n",
       "</style>\n",
       "<table border=\"1\" class=\"dataframe\">\n",
       "  <thead>\n",
       "    <tr style=\"text-align: right;\">\n",
       "      <th></th>\n",
       "      <th>Municipio</th>\n",
       "      <th>Bairro</th>\n",
       "      <th>Evolucao</th>\n",
       "    </tr>\n",
       "  </thead>\n",
       "  <tbody>\n",
       "    <tr>\n",
       "      <th>1787</th>\n",
       "      <td>VILA VELHA</td>\n",
       "      <td>PRAIA DA COSTA</td>\n",
       "      <td>135</td>\n",
       "    </tr>\n",
       "    <tr>\n",
       "      <th>1854</th>\n",
       "      <td>VITORIA</td>\n",
       "      <td>JARDIM CAMBURI</td>\n",
       "      <td>107</td>\n",
       "    </tr>\n",
       "    <tr>\n",
       "      <th>1855</th>\n",
       "      <td>VITORIA</td>\n",
       "      <td>JARDIM DA PENHA</td>\n",
       "      <td>90</td>\n",
       "    </tr>\n",
       "    <tr>\n",
       "      <th>371</th>\n",
       "      <td>CARIACICA</td>\n",
       "      <td>ALTO LAGE</td>\n",
       "      <td>73</td>\n",
       "    </tr>\n",
       "    <tr>\n",
       "      <th>1762</th>\n",
       "      <td>VILA VELHA</td>\n",
       "      <td>ITAPOÃ</td>\n",
       "      <td>72</td>\n",
       "    </tr>\n",
       "  </tbody>\n",
       "</table>\n",
       "</div>"
      ],
      "text/plain": [
       "       Municipio           Bairro  Evolucao\n",
       "1787  VILA VELHA   PRAIA DA COSTA       135\n",
       "1854     VITORIA   JARDIM CAMBURI       107\n",
       "1855     VITORIA  JARDIM DA PENHA        90\n",
       "371    CARIACICA        ALTO LAGE        73\n",
       "1762  VILA VELHA           ITAPOÃ        72"
      ]
     },
     "execution_count": 6,
     "metadata": {},
     "output_type": "execute_result"
    }
   ],
   "source": [
    "covid = dados[dados['Evolucao']=='Óbito pelo COVID-19']\n",
    "#covid['Bairro'] = covid['Bairro'].fillna('Bairro nao Informado')\n",
    "covid['Bairro'].fillna('Bairro nao Informado',inplace=True)\n",
    "#covid['Municipio'] = covid['Municipio'].fillna('Municipio nao Informado')\n",
    "covid['Municipio'].fillna('Municipio nao Informado',inplace=True)\n",
    "covid = covid.fillna(0)\n",
    "covid_bairro = covid.groupby(by=['Municipio','Bairro']).count()\n",
    "covid_bairro.reset_index(inplace=True)\n",
    "covid_bairro_ordenado = covid_bairro.sort_values(by='Evolucao',ascending=False)\n",
    "covid_bairro_ordenado = covid_bairro_ordenado[['Municipio','Bairro','Evolucao']]\n",
    "covid_bairro_ordenado.head()\n"
   ]
  },
  {
   "cell_type": "markdown",
   "metadata": {},
   "source": [
    "# verificando a quantidade de registros obtidos\n",
    "### (deve coincidir com o grupo desejado)"
   ]
  },
  {
   "cell_type": "code",
   "execution_count": 7,
   "metadata": {},
   "outputs": [
    {
     "data": {
      "text/plain": [
       "10512"
      ]
     },
     "execution_count": 7,
     "metadata": {},
     "output_type": "execute_result"
    }
   ],
   "source": [
    "covid_bairro_ordenado['Evolucao'].sum()"
   ]
  },
  {
   "cell_type": "markdown",
   "metadata": {},
   "source": [
    "### Renomear atributo para qtd_obitos"
   ]
  },
  {
   "cell_type": "code",
   "execution_count": 8,
   "metadata": {},
   "outputs": [
    {
     "data": {
      "text/html": [
       "<div>\n",
       "<style scoped>\n",
       "    .dataframe tbody tr th:only-of-type {\n",
       "        vertical-align: middle;\n",
       "    }\n",
       "\n",
       "    .dataframe tbody tr th {\n",
       "        vertical-align: top;\n",
       "    }\n",
       "\n",
       "    .dataframe thead th {\n",
       "        text-align: right;\n",
       "    }\n",
       "</style>\n",
       "<table border=\"1\" class=\"dataframe\">\n",
       "  <thead>\n",
       "    <tr style=\"text-align: right;\">\n",
       "      <th></th>\n",
       "      <th>Municipio</th>\n",
       "      <th>Bairro</th>\n",
       "      <th>qtd_obitos</th>\n",
       "    </tr>\n",
       "  </thead>\n",
       "  <tbody>\n",
       "    <tr>\n",
       "      <th>1787</th>\n",
       "      <td>VILA VELHA</td>\n",
       "      <td>PRAIA DA COSTA</td>\n",
       "      <td>135</td>\n",
       "    </tr>\n",
       "    <tr>\n",
       "      <th>1854</th>\n",
       "      <td>VITORIA</td>\n",
       "      <td>JARDIM CAMBURI</td>\n",
       "      <td>107</td>\n",
       "    </tr>\n",
       "    <tr>\n",
       "      <th>1855</th>\n",
       "      <td>VITORIA</td>\n",
       "      <td>JARDIM DA PENHA</td>\n",
       "      <td>90</td>\n",
       "    </tr>\n",
       "    <tr>\n",
       "      <th>371</th>\n",
       "      <td>CARIACICA</td>\n",
       "      <td>ALTO LAGE</td>\n",
       "      <td>73</td>\n",
       "    </tr>\n",
       "    <tr>\n",
       "      <th>1762</th>\n",
       "      <td>VILA VELHA</td>\n",
       "      <td>ITAPOÃ</td>\n",
       "      <td>72</td>\n",
       "    </tr>\n",
       "  </tbody>\n",
       "</table>\n",
       "</div>"
      ],
      "text/plain": [
       "       Municipio           Bairro  qtd_obitos\n",
       "1787  VILA VELHA   PRAIA DA COSTA         135\n",
       "1854     VITORIA   JARDIM CAMBURI         107\n",
       "1855     VITORIA  JARDIM DA PENHA          90\n",
       "371    CARIACICA        ALTO LAGE          73\n",
       "1762  VILA VELHA           ITAPOÃ          72"
      ]
     },
     "execution_count": 8,
     "metadata": {},
     "output_type": "execute_result"
    }
   ],
   "source": [
    "covid_bairro_ordenado.columns=['Municipio','Bairro','qtd_obitos']\n",
    "covid_bairro_ordenado.head()"
   ]
  },
  {
   "cell_type": "markdown",
   "metadata": {},
   "source": [
    "# PARTE 2 - DADOS SHAPEFILE BAIRROS"
   ]
  },
  {
   "cell_type": "markdown",
   "metadata": {},
   "source": [
    "# Obtendo shapefile para realizar junção do conjunto de dados"
   ]
  },
  {
   "cell_type": "markdown",
   "metadata": {},
   "source": [
    "### Transformando objeto pandas dataframe para Geopandas"
   ]
  },
  {
   "cell_type": "code",
   "execution_count": 10,
   "metadata": {},
   "outputs": [],
   "source": [
    "# Definindo caminho do arquivo\n",
    "shp_path = \"shapefiles/ijsn/ijsn_bairros_2019/ijsn_bairros.shp\"\n",
    "# Lendo arquivo com geopandas\n",
    "data_shape = geopandas.read_file(shp_path,encoding = 'UTF-8')\n",
    "data_shape.head()\n",
    "df_geo = pd.DataFrame(data_shape)"
   ]
  },
  {
   "cell_type": "code",
   "execution_count": 11,
   "metadata": {},
   "outputs": [],
   "source": [
    "### Redefinindo nomes e agrupando por municipios e bairros"
   ]
  },
  {
   "cell_type": "code",
   "execution_count": 12,
   "metadata": {},
   "outputs": [
    {
     "data": {
      "text/html": [
       "<div>\n",
       "<style scoped>\n",
       "    .dataframe tbody tr th:only-of-type {\n",
       "        vertical-align: middle;\n",
       "    }\n",
       "\n",
       "    .dataframe tbody tr th {\n",
       "        vertical-align: top;\n",
       "    }\n",
       "\n",
       "    .dataframe thead th {\n",
       "        text-align: right;\n",
       "    }\n",
       "</style>\n",
       "<table border=\"1\" class=\"dataframe\">\n",
       "  <thead>\n",
       "    <tr style=\"text-align: right;\">\n",
       "      <th></th>\n",
       "      <th>fid</th>\n",
       "      <th>objectid</th>\n",
       "      <th>nome_bairro_geo</th>\n",
       "      <th>municipio_geo</th>\n",
       "      <th>geometry</th>\n",
       "    </tr>\n",
       "  </thead>\n",
       "  <tbody>\n",
       "    <tr>\n",
       "      <th>0</th>\n",
       "      <td>1.0</td>\n",
       "      <td>1084.0</td>\n",
       "      <td>CRICARÉ</td>\n",
       "      <td>SÃO MATEUS</td>\n",
       "      <td>POLYGON ((407701.263 7930733.091, 407706.274 7...</td>\n",
       "    </tr>\n",
       "    <tr>\n",
       "      <th>1</th>\n",
       "      <td>2.0</td>\n",
       "      <td>1085.0</td>\n",
       "      <td>DOM JOSÉ DALVIT</td>\n",
       "      <td>SÃO MATEUS</td>\n",
       "      <td>POLYGON ((408914.302 7929814.325, 408913.400 7...</td>\n",
       "    </tr>\n",
       "    <tr>\n",
       "      <th>2</th>\n",
       "      <td>3.0</td>\n",
       "      <td>393.0</td>\n",
       "      <td>SÃO JUDAS TADEU</td>\n",
       "      <td>COLATINA</td>\n",
       "      <td>POLYGON ((330150.525 7839435.117, 330158.180 7...</td>\n",
       "    </tr>\n",
       "    <tr>\n",
       "      <th>3</th>\n",
       "      <td>4.0</td>\n",
       "      <td>355.0</td>\n",
       "      <td>ALTO VILA NOVA</td>\n",
       "      <td>COLATINA</td>\n",
       "      <td>POLYGON ((328717.647 7838480.825, 328693.420 7...</td>\n",
       "    </tr>\n",
       "    <tr>\n",
       "      <th>4</th>\n",
       "      <td>5.0</td>\n",
       "      <td>436.0</td>\n",
       "      <td>FÁTIMA</td>\n",
       "      <td>ARACRUZ</td>\n",
       "      <td>POLYGON ((367507.672 7806237.261, 367468.990 7...</td>\n",
       "    </tr>\n",
       "    <tr>\n",
       "      <th>...</th>\n",
       "      <td>...</td>\n",
       "      <td>...</td>\n",
       "      <td>...</td>\n",
       "      <td>...</td>\n",
       "      <td>...</td>\n",
       "    </tr>\n",
       "    <tr>\n",
       "      <th>1382</th>\n",
       "      <td>1383.0</td>\n",
       "      <td>551.0</td>\n",
       "      <td>GUMERCINDO DA SILVA GLÓRIA</td>\n",
       "      <td>GUAÇUÍ</td>\n",
       "      <td>POLYGON ((221706.909 7701752.942, 221814.984 7...</td>\n",
       "    </tr>\n",
       "    <tr>\n",
       "      <th>1383</th>\n",
       "      <td>1384.0</td>\n",
       "      <td>552.0</td>\n",
       "      <td>SÃO MIGUEL</td>\n",
       "      <td>GUAÇUÍ</td>\n",
       "      <td>POLYGON ((221557.759 7701435.354, 221562.702 7...</td>\n",
       "    </tr>\n",
       "    <tr>\n",
       "      <th>1384</th>\n",
       "      <td>1385.0</td>\n",
       "      <td>553.0</td>\n",
       "      <td>TANCREDO NEVES</td>\n",
       "      <td>GUAÇUÍ</td>\n",
       "      <td>POLYGON ((222088.287 7702004.876, 222064.187 7...</td>\n",
       "    </tr>\n",
       "    <tr>\n",
       "      <th>1385</th>\n",
       "      <td>1386.0</td>\n",
       "      <td>555.0</td>\n",
       "      <td>BELA VISTA</td>\n",
       "      <td>IBATIBA</td>\n",
       "      <td>POLYGON ((237050.531 7760311.853, 237053.345 7...</td>\n",
       "    </tr>\n",
       "    <tr>\n",
       "      <th>1386</th>\n",
       "      <td>1387.0</td>\n",
       "      <td>711.0</td>\n",
       "      <td>NOVA CIDADE</td>\n",
       "      <td>MANTENÓPOLIS</td>\n",
       "      <td>POLYGON ((277071.913 7913553.102, 277063.698 7...</td>\n",
       "    </tr>\n",
       "  </tbody>\n",
       "</table>\n",
       "<p>1387 rows × 5 columns</p>\n",
       "</div>"
      ],
      "text/plain": [
       "         fid  objectid             nome_bairro_geo municipio_geo  \\\n",
       "0        1.0    1084.0                     CRICARÉ    SÃO MATEUS   \n",
       "1        2.0    1085.0             DOM JOSÉ DALVIT    SÃO MATEUS   \n",
       "2        3.0     393.0             SÃO JUDAS TADEU      COLATINA   \n",
       "3        4.0     355.0              ALTO VILA NOVA      COLATINA   \n",
       "4        5.0     436.0                      FÁTIMA       ARACRUZ   \n",
       "...      ...       ...                         ...           ...   \n",
       "1382  1383.0     551.0  GUMERCINDO DA SILVA GLÓRIA        GUAÇUÍ   \n",
       "1383  1384.0     552.0                  SÃO MIGUEL        GUAÇUÍ   \n",
       "1384  1385.0     553.0              TANCREDO NEVES        GUAÇUÍ   \n",
       "1385  1386.0     555.0                  BELA VISTA       IBATIBA   \n",
       "1386  1387.0     711.0                 NOVA CIDADE  MANTENÓPOLIS   \n",
       "\n",
       "                                               geometry  \n",
       "0     POLYGON ((407701.263 7930733.091, 407706.274 7...  \n",
       "1     POLYGON ((408914.302 7929814.325, 408913.400 7...  \n",
       "2     POLYGON ((330150.525 7839435.117, 330158.180 7...  \n",
       "3     POLYGON ((328717.647 7838480.825, 328693.420 7...  \n",
       "4     POLYGON ((367507.672 7806237.261, 367468.990 7...  \n",
       "...                                                 ...  \n",
       "1382  POLYGON ((221706.909 7701752.942, 221814.984 7...  \n",
       "1383  POLYGON ((221557.759 7701435.354, 221562.702 7...  \n",
       "1384  POLYGON ((222088.287 7702004.876, 222064.187 7...  \n",
       "1385  POLYGON ((237050.531 7760311.853, 237053.345 7...  \n",
       "1386  POLYGON ((277071.913 7913553.102, 277063.698 7...  \n",
       "\n",
       "[1387 rows x 5 columns]"
      ]
     },
     "execution_count": 12,
     "metadata": {},
     "output_type": "execute_result"
    }
   ],
   "source": [
    "df_geo.columns = ['fid', 'objectid', 'nome_bairro_geo', 'municipio_geo', 'SHAPE_AREA', 'SHAPE_LEN',\n",
    "       'geometry']\n",
    "df_geo = df_geo[['fid', 'objectid', 'nome_bairro_geo', 'municipio_geo','geometry']]\n",
    "df_geo"
   ]
  },
  {
   "cell_type": "markdown",
   "metadata": {},
   "source": [
    "# PARTE 3 - JUNCAO DOS DATAFRAMES E CRIAÇÃO DO NOVO SHAPEFILE"
   ]
  },
  {
   "cell_type": "markdown",
   "metadata": {},
   "source": [
    "### Verificando duplicados"
   ]
  },
  {
   "cell_type": "code",
   "execution_count": 13,
   "metadata": {},
   "outputs": [
    {
     "data": {
      "text/html": [
       "<div>\n",
       "<style scoped>\n",
       "    .dataframe tbody tr th:only-of-type {\n",
       "        vertical-align: middle;\n",
       "    }\n",
       "\n",
       "    .dataframe tbody tr th {\n",
       "        vertical-align: top;\n",
       "    }\n",
       "\n",
       "    .dataframe thead th {\n",
       "        text-align: right;\n",
       "    }\n",
       "</style>\n",
       "<table border=\"1\" class=\"dataframe\">\n",
       "  <thead>\n",
       "    <tr style=\"text-align: right;\">\n",
       "      <th></th>\n",
       "      <th>fid</th>\n",
       "      <th>objectid</th>\n",
       "      <th>nome_bairro_geo</th>\n",
       "      <th>municipio_geo</th>\n",
       "      <th>geometry</th>\n",
       "    </tr>\n",
       "  </thead>\n",
       "  <tbody>\n",
       "  </tbody>\n",
       "</table>\n",
       "</div>"
      ],
      "text/plain": [
       "Empty DataFrame\n",
       "Columns: [fid, objectid, nome_bairro_geo, municipio_geo, geometry]\n",
       "Index: []"
      ]
     },
     "execution_count": 13,
     "metadata": {},
     "output_type": "execute_result"
    }
   ],
   "source": [
    "df_geo[df_geo.duplicated(keep=False)]"
   ]
  },
  {
   "cell_type": "markdown",
   "metadata": {},
   "source": [
    "### Verificando duplicados"
   ]
  },
  {
   "cell_type": "code",
   "execution_count": 14,
   "metadata": {},
   "outputs": [
    {
     "data": {
      "text/html": [
       "<div>\n",
       "<style scoped>\n",
       "    .dataframe tbody tr th:only-of-type {\n",
       "        vertical-align: middle;\n",
       "    }\n",
       "\n",
       "    .dataframe tbody tr th {\n",
       "        vertical-align: top;\n",
       "    }\n",
       "\n",
       "    .dataframe thead th {\n",
       "        text-align: right;\n",
       "    }\n",
       "</style>\n",
       "<table border=\"1\" class=\"dataframe\">\n",
       "  <thead>\n",
       "    <tr style=\"text-align: right;\">\n",
       "      <th></th>\n",
       "      <th>Municipio</th>\n",
       "      <th>Bairro</th>\n",
       "      <th>qtd_obitos</th>\n",
       "    </tr>\n",
       "  </thead>\n",
       "  <tbody>\n",
       "  </tbody>\n",
       "</table>\n",
       "</div>"
      ],
      "text/plain": [
       "Empty DataFrame\n",
       "Columns: [Municipio, Bairro, qtd_obitos]\n",
       "Index: []"
      ]
     },
     "execution_count": 14,
     "metadata": {},
     "output_type": "execute_result"
    }
   ],
   "source": [
    "covid_bairro_ordenado[covid_bairro_ordenado.duplicated(keep=False)]"
   ]
  },
  {
   "cell_type": "markdown",
   "metadata": {},
   "source": [
    "### Criando unção para remover acentos\n",
    "fonte: https://wiki.python.org.br/RemovedorDeAcentos"
   ]
  },
  {
   "cell_type": "code",
   "execution_count": 15,
   "metadata": {},
   "outputs": [],
   "source": [
    "from unicodedata import normalize\n",
    "\n",
    "def remover_acentos(txt):\n",
    "    return normalize('NFKD', txt).encode('ASCII', 'ignore').decode('ASCII')"
   ]
  },
  {
   "cell_type": "markdown",
   "metadata": {},
   "source": [
    "# Tratando acentos obtidos no shapefile de bairros"
   ]
  },
  {
   "cell_type": "code",
   "execution_count": 16,
   "metadata": {},
   "outputs": [],
   "source": [
    "df_geo['nome_bairro_geo'].fillna('Bairro nao Informado',inplace=True)\n",
    "df_geo['municipio_geo']= df_geo.municipio_geo.apply(remover_acentos)\n",
    "df_geo['nome_bairro_geo']= df_geo.nome_bairro_geo.apply(remover_acentos)"
   ]
  },
  {
   "cell_type": "markdown",
   "metadata": {},
   "source": [
    "# Tratando acentos obtidos no arquivo CSV Covid19 "
   ]
  },
  {
   "cell_type": "code",
   "execution_count": 17,
   "metadata": {},
   "outputs": [],
   "source": [
    "covid_bairro_ordenado['Bairro'].fillna('Bairro nao Informado',inplace=True)\n",
    "covid_bairro_ordenado['Municipio']= covid_bairro_ordenado.Municipio.apply(remover_acentos)\n",
    "covid_bairro_ordenado['Bairro']= covid_bairro_ordenado.Bairro.apply(remover_acentos)"
   ]
  },
  {
   "cell_type": "markdown",
   "metadata": {},
   "source": [
    "## Tamanho dos conjuntos de dados"
   ]
  },
  {
   "cell_type": "code",
   "execution_count": 18,
   "metadata": {},
   "outputs": [
    {
     "name": "stdout",
     "output_type": "stream",
     "text": [
      "Bairros obtidos do shapefile: 1387\n",
      "Bairros obtidos do CSV: 1896\n"
     ]
    }
   ],
   "source": [
    "print(\"Bairros obtidos do shapefile:\",len(df_geo))\n",
    "print(\"Bairros obtidos do CSV:\",len(covid_bairro_ordenado))"
   ]
  },
  {
   "cell_type": "markdown",
   "metadata": {},
   "source": [
    "==> Sendo assim, observe que existem conjuntos de dados que nã estarão presentes nos dois conjuntos de dados ao mesmo tempo."
   ]
  },
  {
   "cell_type": "markdown",
   "metadata": {},
   "source": [
    "# Realizando junção dos dois conjuntos de dados"
   ]
  },
  {
   "cell_type": "code",
   "execution_count": 19,
   "metadata": {},
   "outputs": [],
   "source": [
    "df_covid_por_bairro = df_geo.merge(covid_bairro_ordenado, \n",
    "                      left_on=['municipio_geo','nome_bairro_geo'], right_on = ['Municipio', 'Bairro'], \n",
    "                      how='inner')"
   ]
  },
  {
   "cell_type": "code",
   "execution_count": 20,
   "metadata": {},
   "outputs": [
    {
     "data": {
      "text/html": [
       "<div>\n",
       "<style scoped>\n",
       "    .dataframe tbody tr th:only-of-type {\n",
       "        vertical-align: middle;\n",
       "    }\n",
       "\n",
       "    .dataframe tbody tr th {\n",
       "        vertical-align: top;\n",
       "    }\n",
       "\n",
       "    .dataframe thead th {\n",
       "        text-align: right;\n",
       "    }\n",
       "</style>\n",
       "<table border=\"1\" class=\"dataframe\">\n",
       "  <thead>\n",
       "    <tr style=\"text-align: right;\">\n",
       "      <th></th>\n",
       "      <th>fid</th>\n",
       "      <th>objectid</th>\n",
       "      <th>nome_bairro_geo</th>\n",
       "      <th>municipio_geo</th>\n",
       "      <th>geometry</th>\n",
       "      <th>Municipio</th>\n",
       "      <th>Bairro</th>\n",
       "      <th>qtd_obitos</th>\n",
       "    </tr>\n",
       "  </thead>\n",
       "  <tbody>\n",
       "    <tr>\n",
       "      <th>0</th>\n",
       "      <td>1.0</td>\n",
       "      <td>1084.0</td>\n",
       "      <td>CRICARE</td>\n",
       "      <td>SAO MATEUS</td>\n",
       "      <td>POLYGON ((407701.263 7930733.091, 407706.274 7...</td>\n",
       "      <td>SAO MATEUS</td>\n",
       "      <td>CRICARE</td>\n",
       "      <td>1</td>\n",
       "    </tr>\n",
       "    <tr>\n",
       "      <th>1</th>\n",
       "      <td>3.0</td>\n",
       "      <td>393.0</td>\n",
       "      <td>SAO JUDAS TADEU</td>\n",
       "      <td>COLATINA</td>\n",
       "      <td>POLYGON ((330150.525 7839435.117, 330158.180 7...</td>\n",
       "      <td>COLATINA</td>\n",
       "      <td>SAO JUDAS TADEU</td>\n",
       "      <td>4</td>\n",
       "    </tr>\n",
       "    <tr>\n",
       "      <th>2</th>\n",
       "      <td>5.0</td>\n",
       "      <td>436.0</td>\n",
       "      <td>FATIMA</td>\n",
       "      <td>ARACRUZ</td>\n",
       "      <td>POLYGON ((367507.672 7806237.261, 367468.990 7...</td>\n",
       "      <td>ARACRUZ</td>\n",
       "      <td>FATIMA</td>\n",
       "      <td>9</td>\n",
       "    </tr>\n",
       "    <tr>\n",
       "      <th>3</th>\n",
       "      <td>11.0</td>\n",
       "      <td>1064.0</td>\n",
       "      <td>SAO SEBASTIAO DO MEIO</td>\n",
       "      <td>SANTA MARIA DE JETIBA</td>\n",
       "      <td>POLYGON ((316613.161 7784750.368, 316610.428 7...</td>\n",
       "      <td>SANTA MARIA DE JETIBA</td>\n",
       "      <td>SAO SEBASTIAO DO MEIO</td>\n",
       "      <td>5</td>\n",
       "    </tr>\n",
       "    <tr>\n",
       "      <th>4</th>\n",
       "      <td>16.0</td>\n",
       "      <td>379.0</td>\n",
       "      <td>ESPLANADA</td>\n",
       "      <td>COLATINA</td>\n",
       "      <td>POLYGON ((328865.577 7838838.651, 328852.575 7...</td>\n",
       "      <td>COLATINA</td>\n",
       "      <td>ESPLANADA</td>\n",
       "      <td>1</td>\n",
       "    </tr>\n",
       "  </tbody>\n",
       "</table>\n",
       "</div>"
      ],
      "text/plain": [
       "    fid  objectid        nome_bairro_geo          municipio_geo  \\\n",
       "0   1.0    1084.0                CRICARE             SAO MATEUS   \n",
       "1   3.0     393.0        SAO JUDAS TADEU               COLATINA   \n",
       "2   5.0     436.0                 FATIMA                ARACRUZ   \n",
       "3  11.0    1064.0  SAO SEBASTIAO DO MEIO  SANTA MARIA DE JETIBA   \n",
       "4  16.0     379.0              ESPLANADA               COLATINA   \n",
       "\n",
       "                                            geometry              Municipio  \\\n",
       "0  POLYGON ((407701.263 7930733.091, 407706.274 7...             SAO MATEUS   \n",
       "1  POLYGON ((330150.525 7839435.117, 330158.180 7...               COLATINA   \n",
       "2  POLYGON ((367507.672 7806237.261, 367468.990 7...                ARACRUZ   \n",
       "3  POLYGON ((316613.161 7784750.368, 316610.428 7...  SANTA MARIA DE JETIBA   \n",
       "4  POLYGON ((328865.577 7838838.651, 328852.575 7...               COLATINA   \n",
       "\n",
       "                  Bairro  qtd_obitos  \n",
       "0                CRICARE           1  \n",
       "1        SAO JUDAS TADEU           4  \n",
       "2                 FATIMA           9  \n",
       "3  SAO SEBASTIAO DO MEIO           5  \n",
       "4              ESPLANADA           1  "
      ]
     },
     "execution_count": 20,
     "metadata": {},
     "output_type": "execute_result"
    }
   ],
   "source": [
    "df_covid_por_bairro.head()"
   ]
  },
  {
   "cell_type": "code",
   "execution_count": 21,
   "metadata": {},
   "outputs": [
    {
     "data": {
      "text/plain": [
       "geopandas.geodataframe.GeoDataFrame"
      ]
     },
     "execution_count": 21,
     "metadata": {},
     "output_type": "execute_result"
    }
   ],
   "source": [
    "gdf = geopandas.GeoDataFrame(\n",
    "    df_covid_por_bairro[['fid', 'objectid', 'geometry',\n",
    "       'Municipio', 'Bairro', 'qtd_obitos']])\n",
    "type(gdf)"
   ]
  },
  {
   "cell_type": "code",
   "execution_count": 22,
   "metadata": {},
   "outputs": [
    {
     "data": {
      "text/plain": [
       "<matplotlib.axes._subplots.AxesSubplot at 0x7f90bbbc4cf8>"
      ]
     },
     "execution_count": 22,
     "metadata": {},
     "output_type": "execute_result"
    },
    {
     "data": {
      "image/png": "[encoded data removed]",
      "text/plain": [
       "<matplotlib.figure.Figure at 0x7f90bbb9ecc0>"
      ]
     },
     "metadata": {
      "needs_background": "light"
     },
     "output_type": "display_data"
    }
   ],
   "source": [
    "gdf.plot()"
   ]
  },
  {
   "cell_type": "markdown",
   "metadata": {},
   "source": [
    "# Definindo Projeção dos dados obtidos ao shapefile a ser criado"
   ]
  },
  {
   "cell_type": "code",
   "execution_count": 23,
   "metadata": {},
   "outputs": [
    {
     "data": {
      "text/plain": [
       "<Projected CRS: EPSG:31984>\n",
       "Name: SIRGAS 2000 / UTM zone 24S\n",
       "Axis Info [cartesian]:\n",
       "- E[east]: Easting (metre)\n",
       "- N[north]: Northing (metre)\n",
       "Area of Use:\n",
       "- name: Brazil - between 42°W and 36°W, northern and southern hemispheres, onshore and offshore.\n",
       "- bounds: (-42.0, -26.35, -36.0, 0.74)\n",
       "Coordinate Operation:\n",
       "- name: UTM zone 24S\n",
       "- method: Transverse Mercator\n",
       "Datum: Sistema de Referencia Geocentrico para las AmericaS 2000\n",
       "- Ellipsoid: GRS 1980\n",
       "- Prime Meridian: Greenwich"
      ]
     },
     "execution_count": 23,
     "metadata": {},
     "output_type": "execute_result"
    }
   ],
   "source": [
    "from pyproj import CRS\n",
    "gdf.crs  = CRS(31984)\n",
    "gdf.crs"
   ]
  },
  {
   "cell_type": "markdown",
   "metadata": {},
   "source": [
    "# Reprojetando dados para o shapefile a ser criado\n",
    "#### (EPSG:32724 - WGS 84 / UTM zone 24S - Projetadom)"
   ]
  },
  {
   "cell_type": "code",
   "execution_count": 24,
   "metadata": {},
   "outputs": [
    {
     "data": {
      "text/plain": [
       "<Projected CRS: EPSG:32724>\n",
       "Name: WGS 84 / UTM zone 24S\n",
       "Axis Info [cartesian]:\n",
       "- E[east]: Easting (metre)\n",
       "- N[north]: Northing (metre)\n",
       "Area of Use:\n",
       "- name: Between 42°W and 36°W, southern hemisphere between 80°S and equator, onshore and offshore. Brazil. South Georgia and the South Sandwich Islands.\n",
       "- bounds: (-42.0, -80.0, -36.0, 0.0)\n",
       "Coordinate Operation:\n",
       "- name: UTM zone 24S\n",
       "- method: Transverse Mercator\n",
       "Datum: World Geodetic System 1984\n",
       "- Ellipsoid: WGS 84\n",
       "- Prime Meridian: Greenwich"
      ]
     },
     "execution_count": 24,
     "metadata": {},
     "output_type": "execute_result"
    }
   ],
   "source": [
    "out_new_crs = epsg=32724\n",
    "new_gdf = gdf.to_crs(out_new_crs) \n",
    "new_gdf.crs"
   ]
  },
  {
   "cell_type": "markdown",
   "metadata": {
    "id": "Y0sdePrh7wvn"
   },
   "source": [
    "# Escrevendo o Shapefile de resultado "
   ]
  },
  {
   "cell_type": "code",
   "execution_count": 25,
   "metadata": {
    "id": "srtmlHuB7HOW"
   },
   "outputs": [],
   "source": [
    "out = r\"generate_shapes_covid/obitos_bairro_covid.shp\"\n",
    "new_gdf.to_file(out)"
   ]
  },
  {
   "cell_type": "code",
   "execution_count": 26,
   "metadata": {},
   "outputs": [
    {
     "name": "stdout",
     "output_type": "stream",
     "text": [
      "obitos_bairro_covid.cpg  obitos_bairro_covid.prj  obitos_bairro_covid.shx\r\n",
      "obitos_bairro_covid.dbf  obitos_bairro_covid.shp\r\n"
     ]
    }
   ],
   "source": [
    "!ls \"generate_shapes_covid/\""
   ]
  },
  {
   "cell_type": "markdown",
   "metadata": {},
   "source": [
    " # References\n",
    "    Dados shapefile bairros ES\n",
    "    https://ide.geobases.es.gov.br/layers/geonode:ijsn_bairros/metadata_detail"
   ]
  }
 ],
 "metadata": {
  "colab": {
   "collapsed_sections": [
    "pRx0RuMux1DV",
    "mKzprhTojtbu"
   ],
   "name": "bd2_python gis Regressao_linear_ESTACOES_mso.ipynb",
   "provenance": []
  },
  "kernelspec": {
   "display_name": "Python 3",
   "language": "python",
   "name": "python3"
  },
  "language_info": {
   "codemirror_mode": {
    "name": "ipython",
    "version": 3
   },
   "file_extension": ".py",
   "mimetype": "text/x-python",
   "name": "python",
   "nbconvert_exporter": "python",
   "pygments_lexer": "ipython3",
   "version": "3.6.9"
  }
 },
 "nbformat": 4,
 "nbformat_minor": 1
}
