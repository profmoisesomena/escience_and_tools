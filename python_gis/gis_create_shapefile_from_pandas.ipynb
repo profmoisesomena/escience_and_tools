{
 "cells": [
  {
   "cell_type": "code",
   "execution_count": 1,
   "metadata": {
    "colab": {
     "base_uri": "https://localhost:8080/"
    },
    "id": "wV35X6Gv6hK9",
    "outputId": "9a6657e6-369f-44bf-ee90-b1decce68933"
   },
   "outputs": [],
   "source": [
    "#!pip install geopandas"
   ]
  },
  {
   "cell_type": "markdown",
   "metadata": {},
   "source": [
    "# Importando bibliotecas"
   ]
  },
  {
   "cell_type": "code",
   "execution_count": 2,
   "metadata": {
    "id": "g-9cEKwR6hHX"
   },
   "outputs": [],
   "source": [
    "import numpy as np\n",
    "import pandas as pd\n",
    "import geopandas"
   ]
  },
  {
   "cell_type": "markdown",
   "metadata": {},
   "source": [
    "# Carregando dados e fazendo tratamentos iniciais"
   ]
  },
  {
   "cell_type": "code",
   "execution_count": 3,
   "metadata": {
    "id": "J2BAB0Ik6hDr"
   },
   "outputs": [],
   "source": [
    "df = pd.read_csv(\"https://raw.githubusercontent.com/profmoisesomena/MapaEstacoes/master/estacoes_es_temp.csv\",header=0)\n",
    "df['Altitude'] = df['Altitude'].astype(np.str)\n",
    "df_replace = df.apply(lambda x: x.str.replace(',','.'))\n",
    "df_replace.columns = ['municipios', 'altitude', 'X_coord', 'Y_coord', 'CHUVA', 'ETP', 'ETR','DEF', 'EXC', 'ER_ETP', 'temp_m_ano']"
   ]
  },
  {
   "cell_type": "markdown",
   "metadata": {},
   "source": [
    "### Definindo como float os atributos de longitude (\"X_coord\") e Latitude (\"Y_coord\")"
   ]
  },
  {
   "cell_type": "code",
   "execution_count": 4,
   "metadata": {
    "id": "OXYq_HIR6g_0"
   },
   "outputs": [],
   "source": [
    "df_replace['X_coord'] = df_replace['X_coord'].astype('float64')\n",
    "df_replace['Y_coord'] = df_replace['Y_coord'].astype('float64')"
   ]
  },
  {
   "cell_type": "markdown",
   "metadata": {},
   "source": [
    "# Transformando objeto pandas dataframe para Geopandas"
   ]
  },
  {
   "cell_type": "code",
   "execution_count": 5,
   "metadata": {
    "id": "H0CgqaxW7HYI"
   },
   "outputs": [],
   "source": [
    "gdf = geopandas.GeoDataFrame(\n",
    "    df_replace, geometry=geopandas.points_from_xy(df_replace.X_coord, df_replace.Y_coord))"
   ]
  },
  {
   "cell_type": "code",
   "execution_count": 6,
   "metadata": {
    "colab": {
     "base_uri": "https://localhost:8080/",
     "height": 406
    },
    "id": "JpWp_jUt7HWb",
    "outputId": "ed7d9e6e-982e-4162-a63e-d49aece2d4ac"
   },
   "outputs": [
    {
     "data": {
      "text/html": [
       "<div>\n",
       "<style scoped>\n",
       "    .dataframe tbody tr th:only-of-type {\n",
       "        vertical-align: middle;\n",
       "    }\n",
       "\n",
       "    .dataframe tbody tr th {\n",
       "        vertical-align: top;\n",
       "    }\n",
       "\n",
       "    .dataframe thead th {\n",
       "        text-align: right;\n",
       "    }\n",
       "</style>\n",
       "<table border=\"1\" class=\"dataframe\">\n",
       "  <thead>\n",
       "    <tr style=\"text-align: right;\">\n",
       "      <th></th>\n",
       "      <th>municipios</th>\n",
       "      <th>altitude</th>\n",
       "      <th>X_coord</th>\n",
       "      <th>Y_coord</th>\n",
       "      <th>CHUVA</th>\n",
       "      <th>ETP</th>\n",
       "      <th>ETR</th>\n",
       "      <th>DEF</th>\n",
       "      <th>EXC</th>\n",
       "      <th>ER_ETP</th>\n",
       "      <th>temp_m_ano</th>\n",
       "      <th>geometry</th>\n",
       "    </tr>\n",
       "  </thead>\n",
       "  <tbody>\n",
       "    <tr>\n",
       "      <th>0</th>\n",
       "      <td>EstacaoMeteorologicaES1</td>\n",
       "      <td>66</td>\n",
       "      <td>-39.96</td>\n",
       "      <td>-18.30</td>\n",
       "      <td>1036.98</td>\n",
       "      <td>1382.2942366086</td>\n",
       "      <td>1036.98000001</td>\n",
       "      <td>345.314236598604</td>\n",
       "      <td>0</td>\n",
       "      <td>0.750187603005698</td>\n",
       "      <td>24.8495505</td>\n",
       "      <td>POINT (-39.96000 -18.30000)</td>\n",
       "    </tr>\n",
       "    <tr>\n",
       "      <th>1</th>\n",
       "      <td>EstacaoMeteorologicaES2</td>\n",
       "      <td>3</td>\n",
       "      <td>-39.75</td>\n",
       "      <td>-18.56</td>\n",
       "      <td>1164.71666666667</td>\n",
       "      <td>1413.22794782128</td>\n",
       "      <td>1164.71666667667</td>\n",
       "      <td>248.511281144616</td>\n",
       "      <td>0</td>\n",
       "      <td>0.824153434321946</td>\n",
       "      <td>25.0615323333333</td>\n",
       "      <td>POINT (-39.75000 -18.56000)</td>\n",
       "    </tr>\n",
       "    <tr>\n",
       "      <th>2</th>\n",
       "      <td>EstacaoMeteorologicaES3</td>\n",
       "      <td>6</td>\n",
       "      <td>-39.76</td>\n",
       "      <td>-18.95</td>\n",
       "      <td>1394.9</td>\n",
       "      <td>1397.76396748073</td>\n",
       "      <td>1298.4981621532</td>\n",
       "      <td>99.2658053275267</td>\n",
       "      <td>96.4018378467982</td>\n",
       "      <td>0.928982426477598</td>\n",
       "      <td>24.9599734166667</td>\n",
       "      <td>POINT (-39.76000 -18.95000)</td>\n",
       "    </tr>\n",
       "    <tr>\n",
       "      <th>3</th>\n",
       "      <td>EstacaoMeteorologicaES4</td>\n",
       "      <td>180</td>\n",
       "      <td>-40.75</td>\n",
       "      <td>-18.99</td>\n",
       "      <td>1250.84333333333</td>\n",
       "      <td>1341.71057911408</td>\n",
       "      <td>1151.70505396225</td>\n",
       "      <td>190.005525151833</td>\n",
       "      <td>99.1382793710854</td>\n",
       "      <td>0.858385610049157</td>\n",
       "      <td>24.5298230833333</td>\n",
       "      <td>POINT (-40.75000 -18.99000)</td>\n",
       "    </tr>\n",
       "    <tr>\n",
       "      <th>4</th>\n",
       "      <td>EstacaoMeteorologicaES5</td>\n",
       "      <td>90</td>\n",
       "      <td>-40.09</td>\n",
       "      <td>-18.49</td>\n",
       "      <td>1127.65</td>\n",
       "      <td>1367.36500656194</td>\n",
       "      <td>1127.65000001</td>\n",
       "      <td>239.715006551938</td>\n",
       "      <td>0</td>\n",
       "      <td>0.824688356509379</td>\n",
       "      <td>24.74304925</td>\n",
       "      <td>POINT (-40.09000 -18.49000)</td>\n",
       "    </tr>\n",
       "  </tbody>\n",
       "</table>\n",
       "</div>"
      ],
      "text/plain": [
       "                municipios altitude  X_coord  Y_coord             CHUVA  \\\n",
       "0  EstacaoMeteorologicaES1       66   -39.96   -18.30           1036.98   \n",
       "1  EstacaoMeteorologicaES2        3   -39.75   -18.56  1164.71666666667   \n",
       "2  EstacaoMeteorologicaES3        6   -39.76   -18.95            1394.9   \n",
       "3  EstacaoMeteorologicaES4      180   -40.75   -18.99  1250.84333333333   \n",
       "4  EstacaoMeteorologicaES5       90   -40.09   -18.49           1127.65   \n",
       "\n",
       "                ETP               ETR               DEF               EXC  \\\n",
       "0   1382.2942366086     1036.98000001  345.314236598604                 0   \n",
       "1  1413.22794782128  1164.71666667667  248.511281144616                 0   \n",
       "2  1397.76396748073   1298.4981621532  99.2658053275267  96.4018378467982   \n",
       "3  1341.71057911408  1151.70505396225  190.005525151833  99.1382793710854   \n",
       "4  1367.36500656194     1127.65000001  239.715006551938                 0   \n",
       "\n",
       "              ER_ETP        temp_m_ano                     geometry  \n",
       "0  0.750187603005698        24.8495505  POINT (-39.96000 -18.30000)  \n",
       "1  0.824153434321946  25.0615323333333  POINT (-39.75000 -18.56000)  \n",
       "2  0.928982426477598  24.9599734166667  POINT (-39.76000 -18.95000)  \n",
       "3  0.858385610049157  24.5298230833333  POINT (-40.75000 -18.99000)  \n",
       "4  0.824688356509379       24.74304925  POINT (-40.09000 -18.49000)  "
      ]
     },
     "execution_count": 6,
     "metadata": {},
     "output_type": "execute_result"
    }
   ],
   "source": [
    "gdf.head()"
   ]
  },
  {
   "cell_type": "markdown",
   "metadata": {},
   "source": [
    "### Plotando visualmente os pontos com base na latitude e longitude"
   ]
  },
  {
   "cell_type": "code",
   "execution_count": 7,
   "metadata": {
    "colab": {
     "base_uri": "https://localhost:8080/",
     "height": 282
    },
    "id": "Manr9AN77HQo",
    "outputId": "abeb1227-3485-48ba-b756-514742e74e0d"
   },
   "outputs": [
    {
     "data": {
      "text/plain": [
       "<matplotlib.axes._subplots.AxesSubplot at 0x7ffb1f16dba8>"
      ]
     },
     "execution_count": 7,
     "metadata": {},
     "output_type": "execute_result"
    }
   ],
   "source": [
    "gdf.plot()"
   ]
  },
  {
   "cell_type": "markdown",
   "metadata": {},
   "source": [
    "### Definindo um CRS padrão"
   ]
  },
  {
   "cell_type": "code",
   "execution_count": 8,
   "metadata": {},
   "outputs": [
    {
     "data": {
      "text/plain": [
       "<Geographic 2D CRS: EPSG:4326>\n",
       "Name: WGS 84\n",
       "Axis Info [ellipsoidal]:\n",
       "- Lat[north]: Geodetic latitude (degree)\n",
       "- Lon[east]: Geodetic longitude (degree)\n",
       "Area of Use:\n",
       "- name: World.\n",
       "- bounds: (-180.0, -90.0, 180.0, 90.0)\n",
       "Datum: World Geodetic System 1984\n",
       "- Ellipsoid: WGS 84\n",
       "- Prime Meridian: Greenwich"
      ]
     },
     "execution_count": 8,
     "metadata": {},
     "output_type": "execute_result"
    }
   ],
   "source": [
    "from pyproj import CRS\n",
    "gdf.crs  = CRS(4326)\n",
    "gdf.crs"
   ]
  },
  {
   "cell_type": "markdown",
   "metadata": {
    "id": "Y0sdePrh7wvn"
   },
   "source": [
    "### Escrevendo um Shapefile (na projeção default previamente definida )"
   ]
  },
  {
   "cell_type": "code",
   "execution_count": 9,
   "metadata": {
    "id": "srtmlHuB7HOW"
   },
   "outputs": [],
   "source": [
    "out_default_crs = r\"generate_shapes/estacoes.shp\"\n",
    "gdf.to_file(out_default_crs)"
   ]
  },
  {
   "cell_type": "code",
   "execution_count": 10,
   "metadata": {},
   "outputs": [
    {
     "name": "stdout",
     "output_type": "stream",
     "text": [
      "estacoes.cpg  estacoes.dbf  estacoes.prj  estacoes.shp\testacoes.shx\r\n"
     ]
    }
   ],
   "source": [
    "!ls \"generate_shapes/\""
   ]
  },
  {
   "cell_type": "markdown",
   "metadata": {},
   "source": [
    "### Reprojetando shapefile com base em um novo CRS"
   ]
  },
  {
   "cell_type": "code",
   "execution_count": 11,
   "metadata": {},
   "outputs": [],
   "source": [
    "out_new_crs = epsg=32724\n",
    "new_gdf = gdf.to_crs(out_new_crs) \n",
    "out = r\"generate_shapes/estacoes_rep.shp\"\n",
    "new_gdf.to_file(out)"
   ]
  },
  {
   "cell_type": "markdown",
   "metadata": {
    "id": "Y0sdePrh7wvn"
   },
   "source": [
    "### Escrevendo um Shapefile (na nova projeção)"
   ]
  },
  {
   "cell_type": "code",
   "execution_count": 12,
   "metadata": {
    "colab": {
     "base_uri": "https://localhost:8080/"
    },
    "id": "3IzMEf7C7HMZ",
    "outputId": "cf75290b-4968-48d0-ff3a-57723f69fb31"
   },
   "outputs": [
    {
     "name": "stdout",
     "output_type": "stream",
     "text": [
      "estacoes.cpg  estacoes_rep.cpg\testacoes_rep.shp  estacoes.shx\r\n",
      "estacoes.dbf  estacoes_rep.dbf\testacoes_rep.shx\r\n",
      "estacoes.prj  estacoes_rep.prj\testacoes.shp\r\n"
     ]
    }
   ],
   "source": [
    "!ls \"generate_shapes/\""
   ]
  },
  {
   "cell_type": "markdown",
   "metadata": {},
   "source": [
    "# Classe simplificada para obenção de Shapefile de pontos por meio de pandas dataframe com valores de longitude e latitude"
   ]
  },
  {
   "cell_type": "code",
   "execution_count": 13,
   "metadata": {},
   "outputs": [],
   "source": [
    "class pandasdf_to_shapefile_points:\n",
    "    \"\"\"\n",
    "    Obtem um dataframe com atributos longitude do tipo float e latitude do tipo \n",
    "    float para criar shapefile com base nas informações dos pontos de latitude e longitude \n",
    "    \n",
    "    df: objeto dataframe\n",
    "    \n",
    "    long_column: coluna com informacoes de longitude (deve ser do tipo float)\n",
    "    \n",
    "    lati_column: coluna com informacoes de latitude (deve ser do tipo float)\n",
    "    \n",
    "    crs_orig: possibilita aplicar um crs default (valor padrão e epsg:4326 - EPSG:4326 - WGS 84 - Geográfico)\n",
    "    \n",
    "    crs_dest: possibilita reprojetar o shapefile com base no defaul (valor padrao e 32724 / EPSG:32724 - WGS 84 / UTM zone 24S - Projetado)\n",
    "    \n",
    "    \n",
    "    \n",
    "    \"\"\"\n",
    "    import numpy as np\n",
    "    import pandas as pd\n",
    "    import geopandas\n",
    "    from pyproj import CRS\n",
    "    \n",
    "    def __init__(self,pandas_df,long_column,lati_column,\n",
    "                 crs_orig=4326,crs_change=False,crs_dest=32724,out_path=\"out_shapefile.shp\"):\n",
    "        self.gdf = geopandas.GeoDataFrame(\n",
    "    pandas_df, geometry=geopandas.points_from_xy(pandas_df[long_column], pandas_df[lati_column]))\n",
    "        self.gdf.crs  = CRS(crs_orig)\n",
    "        if crs_change:\n",
    "            self.gdf = gdf.to_crs(crs_dest) \n",
    "        self.gdf.to_file(out_path)\n",
    "\n",
    "\n",
    "    def get_geopandas(self):\n",
    "        return self.gdf"
   ]
  },
  {
   "cell_type": "code",
   "execution_count": 14,
   "metadata": {},
   "outputs": [
    {
     "name": "stdout",
     "output_type": "stream",
     "text": [
      "out_shapefile.cpg  out_shapefile.prj  out_shapefile.shx\r\n",
      "out_shapefile.dbf  out_shapefile.shp\r\n"
     ]
    }
   ],
   "source": [
    "pf = pandasdf_to_shapefile_points(df_replace,'X_coord','Y_coord')\n",
    "!ls out*"
   ]
  },
  {
   "cell_type": "markdown",
   "metadata": {
    "id": "mKzprhTojtbu"
   },
   "source": [
    "# References\n",
    "conversão de dataframe column com astype:<br>\n",
    "https://datatofish.com/convert-string-to-float-dataframe/ <br>\n",
    "https://www.ritchieng.com/pandas-changing-datatype/<br>\n",
    "https://datacarpentry.org/python-ecology-lesson/04-data-types-and-format/<br>\n",
    "https://pbpython.com/pandas_dtypes.html\n",
    "\n",
    "Convertendo pandas dataframe para geopandas:<br>\n",
    "https://geopandas.org/gallery/create_geopandas_from_pandas.html<br>\n",
    "\n",
    "Básico de geopandas com leitura e criação de shapefiles:<br>\n",
    "https://automating-gis-processes.github.io/CSC18/lessons/L2/geopandas-basics.html\n",
    "\n",
    "Reprojetando dados com geopandas: <br>\n",
    "https://gis.stackexchange.com/questions/328952/reprojecting-data-with-geopandas-using-to-crs\n",
    "\n",
    "Tipos de dados numpy:<br>\n",
    "https://numpy.org/doc/stable/reference/arrays.scalars.html#numpy.float64"
   ]
  }
 ],
 "metadata": {
  "colab": {
   "collapsed_sections": [
    "pRx0RuMux1DV",
    "mKzprhTojtbu"
   ],
   "name": "bd2_python gis Regressao_linear_ESTACOES_mso.ipynb",
   "provenance": []
  },
  "kernelspec": {
   "display_name": "Python 3",
   "language": "python",
   "name": "python3"
  },
  "language_info": {
   "codemirror_mode": {
    "name": "ipython",
    "version": 3
   },
   "file_extension": ".py",
   "mimetype": "text/x-python",
   "name": "python",
   "nbconvert_exporter": "python",
   "pygments_lexer": "ipython3",
   "version": "3.6.9"
  }
 },
 "nbformat": 4,
 "nbformat_minor": 1
}
