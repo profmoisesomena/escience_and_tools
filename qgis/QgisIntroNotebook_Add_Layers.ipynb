{
 "cells": [
  {
   "cell_type": "markdown",
   "metadata": {},
   "source": [
    "# Carregando e instalando bibliotecas"
   ]
  },
  {
   "cell_type": "code",
   "execution_count": 1,
   "metadata": {},
   "outputs": [],
   "source": [
    "#%load_ext qgisnbextension\n",
    "#pip install qgisnbextension"
   ]
  },
  {
   "cell_type": "markdown",
   "metadata": {},
   "source": [
    "# Importando bibliotecas Locais"
   ]
  },
  {
   "cell_type": "code",
   "execution_count": 2,
   "metadata": {},
   "outputs": [],
   "source": [
    "import qgis.core"
   ]
  },
  {
   "cell_type": "code",
   "execution_count": 3,
   "metadata": {},
   "outputs": [],
   "source": [
    "from qgis.core import *\n",
    "\n",
    "# Supply the path to the qgis install location\n",
    "#QgsApplication.setPrefixPath(\"/path/to/qgis/installation\", True)\n",
    "QgsApplication.setPrefixPath(\"/usr/share/qgis\", True)\n",
    "\n",
    "# Create a reference to the QgsApplication.\n",
    "# Setting the second argument to True enables the GUI.  We need\n",
    "# this since this is a custom application.\n",
    "\n",
    "qgs = QgsApplication([], True)\n",
    "\n",
    "# load providers\n",
    "qgs.initQgis()"
   ]
  },
  {
   "cell_type": "markdown",
   "metadata": {},
   "source": [
    "# Instanciando projeto com base em aquivo já existente"
   ]
  },
  {
   "cell_type": "code",
   "execution_count": 4,
   "metadata": {},
   "outputs": [
    {
     "name": "stdout",
     "output_type": "stream",
     "text": [
      "/home/dbaprof/Downloads/qgis_learning\n",
      "/home/dbaprof/Downloads/qgis_learning/qgis_files/first_qgisfile.qgz\n"
     ]
    }
   ],
   "source": [
    "from qgis.core import QgsProject\n",
    "# Get the project instance\n",
    "project = QgsProject.instance()\n",
    "# Print the current project file name (might be empty in case no projects have been loaded)\n",
    "# print(project.fileName())\n",
    "\n",
    "# Load another project\n",
    "import os\n",
    "print(os.getcwd())\n",
    "project.read('/home/dbaprof/Downloads/qgis_learning/qgis_files/first_qgisfile.qgz')\n",
    "print(project.fileName())"
   ]
  },
  {
   "cell_type": "markdown",
   "metadata": {},
   "source": [
    "# Criando um novo projeto para ser manipulado com base no existente"
   ]
  },
  {
   "cell_type": "code",
   "execution_count": 5,
   "metadata": {},
   "outputs": [
    {
     "data": {
      "text/plain": [
       "True"
      ]
     },
     "execution_count": 5,
     "metadata": {},
     "output_type": "execute_result"
    }
   ],
   "source": [
    "#project.write('/home/dbaprof/Downloads/qgis_learning/qgis_files/new.qgs')\n",
    "project.write('/home/dbaprof/Downloads/qgis_learning/qgis_files/new_test_file.qgz')"
   ]
  },
  {
   "cell_type": "markdown",
   "metadata": {},
   "source": [
    "# Trabalhando com os layers"
   ]
  },
  {
   "cell_type": "code",
   "execution_count": 26,
   "metadata": {},
   "outputs": [],
   "source": [
    "from qgis.core import (\n",
    "    QgsVectorLayer\n",
    ")"
   ]
  },
  {
   "cell_type": "markdown",
   "metadata": {},
   "source": [
    "# Adicionando o Shapefile brasil_biomas.shp no arquivo em uso (new_test_file.qgz)"
   ]
  },
  {
   "cell_type": "code",
   "execution_count": 27,
   "metadata": {},
   "outputs": [],
   "source": [
    "# get the path to the shapefile e.g. /home/project/data/ports.shp\n",
    "path_to_airports_layer = \"/home/dbaprof/Downloads/qgis_learning/BD_Layout_QGIS/Brasil_Biomas.shp\"\n",
    "\n",
    "# The format is:\n",
    "# vlayer = QgsVectorLayer(data_source, layer_name, provider_name)\n",
    "\n",
    "vlayer = QgsVectorLayer(path_to_airports_layer, \"brBiomas\", \"ogr\")\n",
    "if not vlayer.isValid():\n",
    "    print(\"Layer failed to load!\")\n",
    "else:\n",
    "    QgsProject.instance().addMapLayer(vlayer)"
   ]
  },
  {
   "cell_type": "markdown",
   "metadata": {},
   "source": [
    "# Salvando / escrevendo no arquivo em uso"
   ]
  },
  {
   "cell_type": "code",
   "execution_count": 28,
   "metadata": {},
   "outputs": [
    {
     "data": {
      "text/plain": [
       "True"
      ]
     },
     "execution_count": 28,
     "metadata": {},
     "output_type": "execute_result"
    }
   ],
   "source": [
    "project.write()"
   ]
  }
 ],
 "metadata": {
  "kernelspec": {
   "display_name": "Python 3",
   "language": "python",
   "name": "python3"
  },
  "language_info": {
   "codemirror_mode": {
    "name": "ipython",
    "version": 3
   },
   "file_extension": ".py",
   "mimetype": "text/x-python",
   "name": "python",
   "nbconvert_exporter": "python",
   "pygments_lexer": "ipython3",
   "version": "3.6.9"
  }
 },
 "nbformat": 4,
 "nbformat_minor": 4
}
